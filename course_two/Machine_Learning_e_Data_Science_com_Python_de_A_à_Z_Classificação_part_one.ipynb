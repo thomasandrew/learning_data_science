{
  "cells": [
    {
      "cell_type": "markdown",
      "metadata": {
        "id": "bdeWF9k0L2YT"
      },
      "source": [
        "# Machine Learning e Data Science com Python de A à Z (Classificacão) - IA Expert Academy"
      ]
    },
    {
      "cell_type": "markdown",
      "metadata": {
        "id": "hfYbHgghOW5g"
      },
      "source": [
        "# Importação das bibliotecas básicas"
      ]
    },
    {
      "cell_type": "code",
      "source": [
        "!pip install plotly --upgrade"
      ],
      "metadata": {
        "id": "6D4EKzFgfrrj",
        "outputId": "03e2f792-89fe-4039-d197-2cdaa0e8a341",
        "colab": {
          "base_uri": "https://localhost:8080/"
        }
      },
      "execution_count": 1,
      "outputs": [
        {
          "output_type": "stream",
          "name": "stdout",
          "text": [
            "Requirement already satisfied: plotly in /usr/local/lib/python3.11/dist-packages (5.24.1)\n",
            "Collecting plotly\n",
            "  Downloading plotly-6.2.0-py3-none-any.whl.metadata (8.5 kB)\n",
            "Requirement already satisfied: narwhals>=1.15.1 in /usr/local/lib/python3.11/dist-packages (from plotly) (2.0.1)\n",
            "Requirement already satisfied: packaging in /usr/local/lib/python3.11/dist-packages (from plotly) (25.0)\n",
            "Downloading plotly-6.2.0-py3-none-any.whl (9.6 MB)\n",
            "\u001b[2K   \u001b[90m━━━━━━━━━━━━━━━━━━━━━━━━━━━━━━━━━━━━━━━━\u001b[0m \u001b[32m9.6/9.6 MB\u001b[0m \u001b[31m16.8 MB/s\u001b[0m eta \u001b[36m0:00:00\u001b[0m\n",
            "\u001b[?25hInstalling collected packages: plotly\n",
            "  Attempting uninstall: plotly\n",
            "    Found existing installation: plotly 5.24.1\n",
            "    Uninstalling plotly-5.24.1:\n",
            "      Successfully uninstalled plotly-5.24.1\n",
            "Successfully installed plotly-6.2.0\n"
          ]
        }
      ]
    },
    {
      "cell_type": "code",
      "source": [
        "import pandas as pd\n",
        "import numpy as np\n",
        "import seaborn as sns\n",
        "import matplotlib.pyplot as plt\n",
        "import plotly.express as px"
      ],
      "metadata": {
        "id": "HgBDrkh5f5vU"
      },
      "execution_count": 2,
      "outputs": []
    },
    {
      "cell_type": "markdown",
      "metadata": {
        "id": "d4GPkpRVTfq4"
      },
      "source": [
        "# Base de dados de crédito\n",
        "\n",
        "- Fonte (adaptado): https://www.kaggle.com/laotse/credit-risk-dataset"
      ]
    },
    {
      "cell_type": "markdown",
      "metadata": {
        "id": "oCVRZFuyXPR9"
      },
      "source": [
        "### Exploração dos dados"
      ]
    },
    {
      "cell_type": "code",
      "source": [
        "base_credit = pd.read_csv('/content/credit_data.csv')"
      ],
      "metadata": {
        "id": "qxlyOeoKNRO7"
      },
      "execution_count": 3,
      "outputs": []
    },
    {
      "cell_type": "code",
      "source": [
        "base_credit"
      ],
      "metadata": {
        "colab": {
          "base_uri": "https://localhost:8080/",
          "height": 424
        },
        "id": "e_YgMVKDNm0q",
        "outputId": "d27b2395-d81d-4daf-bf4c-7093d907f58a"
      },
      "execution_count": 4,
      "outputs": [
        {
          "output_type": "execute_result",
          "data": {
            "text/plain": [
              "      clientid        income        age         loan  default\n",
              "0            1  66155.925095  59.017015  8106.532131        0\n",
              "1            2  34415.153966  48.117153  6564.745018        0\n",
              "2            3  57317.170063  63.108049  8020.953296        0\n",
              "3            4  42709.534201  45.751972  6103.642260        0\n",
              "4            5  66952.688845  18.584336  8770.099235        1\n",
              "...        ...           ...        ...          ...      ...\n",
              "1995      1996  59221.044874  48.518179  1926.729397        0\n",
              "1996      1997  69516.127573  23.162104  3503.176156        0\n",
              "1997      1998  44311.449262  28.017167  5522.786693        1\n",
              "1998      1999  43756.056605  63.971796  1622.722598        0\n",
              "1999      2000  69436.579552  56.152617  7378.833599        0\n",
              "\n",
              "[2000 rows x 5 columns]"
            ],
            "text/html": [
              "\n",
              "  <div id=\"df-6af9c601-e9f2-449f-896a-18a3bb7da779\" class=\"colab-df-container\">\n",
              "    <div>\n",
              "<style scoped>\n",
              "    .dataframe tbody tr th:only-of-type {\n",
              "        vertical-align: middle;\n",
              "    }\n",
              "\n",
              "    .dataframe tbody tr th {\n",
              "        vertical-align: top;\n",
              "    }\n",
              "\n",
              "    .dataframe thead th {\n",
              "        text-align: right;\n",
              "    }\n",
              "</style>\n",
              "<table border=\"1\" class=\"dataframe\">\n",
              "  <thead>\n",
              "    <tr style=\"text-align: right;\">\n",
              "      <th></th>\n",
              "      <th>clientid</th>\n",
              "      <th>income</th>\n",
              "      <th>age</th>\n",
              "      <th>loan</th>\n",
              "      <th>default</th>\n",
              "    </tr>\n",
              "  </thead>\n",
              "  <tbody>\n",
              "    <tr>\n",
              "      <th>0</th>\n",
              "      <td>1</td>\n",
              "      <td>66155.925095</td>\n",
              "      <td>59.017015</td>\n",
              "      <td>8106.532131</td>\n",
              "      <td>0</td>\n",
              "    </tr>\n",
              "    <tr>\n",
              "      <th>1</th>\n",
              "      <td>2</td>\n",
              "      <td>34415.153966</td>\n",
              "      <td>48.117153</td>\n",
              "      <td>6564.745018</td>\n",
              "      <td>0</td>\n",
              "    </tr>\n",
              "    <tr>\n",
              "      <th>2</th>\n",
              "      <td>3</td>\n",
              "      <td>57317.170063</td>\n",
              "      <td>63.108049</td>\n",
              "      <td>8020.953296</td>\n",
              "      <td>0</td>\n",
              "    </tr>\n",
              "    <tr>\n",
              "      <th>3</th>\n",
              "      <td>4</td>\n",
              "      <td>42709.534201</td>\n",
              "      <td>45.751972</td>\n",
              "      <td>6103.642260</td>\n",
              "      <td>0</td>\n",
              "    </tr>\n",
              "    <tr>\n",
              "      <th>4</th>\n",
              "      <td>5</td>\n",
              "      <td>66952.688845</td>\n",
              "      <td>18.584336</td>\n",
              "      <td>8770.099235</td>\n",
              "      <td>1</td>\n",
              "    </tr>\n",
              "    <tr>\n",
              "      <th>...</th>\n",
              "      <td>...</td>\n",
              "      <td>...</td>\n",
              "      <td>...</td>\n",
              "      <td>...</td>\n",
              "      <td>...</td>\n",
              "    </tr>\n",
              "    <tr>\n",
              "      <th>1995</th>\n",
              "      <td>1996</td>\n",
              "      <td>59221.044874</td>\n",
              "      <td>48.518179</td>\n",
              "      <td>1926.729397</td>\n",
              "      <td>0</td>\n",
              "    </tr>\n",
              "    <tr>\n",
              "      <th>1996</th>\n",
              "      <td>1997</td>\n",
              "      <td>69516.127573</td>\n",
              "      <td>23.162104</td>\n",
              "      <td>3503.176156</td>\n",
              "      <td>0</td>\n",
              "    </tr>\n",
              "    <tr>\n",
              "      <th>1997</th>\n",
              "      <td>1998</td>\n",
              "      <td>44311.449262</td>\n",
              "      <td>28.017167</td>\n",
              "      <td>5522.786693</td>\n",
              "      <td>1</td>\n",
              "    </tr>\n",
              "    <tr>\n",
              "      <th>1998</th>\n",
              "      <td>1999</td>\n",
              "      <td>43756.056605</td>\n",
              "      <td>63.971796</td>\n",
              "      <td>1622.722598</td>\n",
              "      <td>0</td>\n",
              "    </tr>\n",
              "    <tr>\n",
              "      <th>1999</th>\n",
              "      <td>2000</td>\n",
              "      <td>69436.579552</td>\n",
              "      <td>56.152617</td>\n",
              "      <td>7378.833599</td>\n",
              "      <td>0</td>\n",
              "    </tr>\n",
              "  </tbody>\n",
              "</table>\n",
              "<p>2000 rows × 5 columns</p>\n",
              "</div>\n",
              "    <div class=\"colab-df-buttons\">\n",
              "\n",
              "  <div class=\"colab-df-container\">\n",
              "    <button class=\"colab-df-convert\" onclick=\"convertToInteractive('df-6af9c601-e9f2-449f-896a-18a3bb7da779')\"\n",
              "            title=\"Convert this dataframe to an interactive table.\"\n",
              "            style=\"display:none;\">\n",
              "\n",
              "  <svg xmlns=\"http://www.w3.org/2000/svg\" height=\"24px\" viewBox=\"0 -960 960 960\">\n",
              "    <path d=\"M120-120v-720h720v720H120Zm60-500h600v-160H180v160Zm220 220h160v-160H400v160Zm0 220h160v-160H400v160ZM180-400h160v-160H180v160Zm440 0h160v-160H620v160ZM180-180h160v-160H180v160Zm440 0h160v-160H620v160Z\"/>\n",
              "  </svg>\n",
              "    </button>\n",
              "\n",
              "  <style>\n",
              "    .colab-df-container {\n",
              "      display:flex;\n",
              "      gap: 12px;\n",
              "    }\n",
              "\n",
              "    .colab-df-convert {\n",
              "      background-color: #E8F0FE;\n",
              "      border: none;\n",
              "      border-radius: 50%;\n",
              "      cursor: pointer;\n",
              "      display: none;\n",
              "      fill: #1967D2;\n",
              "      height: 32px;\n",
              "      padding: 0 0 0 0;\n",
              "      width: 32px;\n",
              "    }\n",
              "\n",
              "    .colab-df-convert:hover {\n",
              "      background-color: #E2EBFA;\n",
              "      box-shadow: 0px 1px 2px rgba(60, 64, 67, 0.3), 0px 1px 3px 1px rgba(60, 64, 67, 0.15);\n",
              "      fill: #174EA6;\n",
              "    }\n",
              "\n",
              "    .colab-df-buttons div {\n",
              "      margin-bottom: 4px;\n",
              "    }\n",
              "\n",
              "    [theme=dark] .colab-df-convert {\n",
              "      background-color: #3B4455;\n",
              "      fill: #D2E3FC;\n",
              "    }\n",
              "\n",
              "    [theme=dark] .colab-df-convert:hover {\n",
              "      background-color: #434B5C;\n",
              "      box-shadow: 0px 1px 3px 1px rgba(0, 0, 0, 0.15);\n",
              "      filter: drop-shadow(0px 1px 2px rgba(0, 0, 0, 0.3));\n",
              "      fill: #FFFFFF;\n",
              "    }\n",
              "  </style>\n",
              "\n",
              "    <script>\n",
              "      const buttonEl =\n",
              "        document.querySelector('#df-6af9c601-e9f2-449f-896a-18a3bb7da779 button.colab-df-convert');\n",
              "      buttonEl.style.display =\n",
              "        google.colab.kernel.accessAllowed ? 'block' : 'none';\n",
              "\n",
              "      async function convertToInteractive(key) {\n",
              "        const element = document.querySelector('#df-6af9c601-e9f2-449f-896a-18a3bb7da779');\n",
              "        const dataTable =\n",
              "          await google.colab.kernel.invokeFunction('convertToInteractive',\n",
              "                                                    [key], {});\n",
              "        if (!dataTable) return;\n",
              "\n",
              "        const docLinkHtml = 'Like what you see? Visit the ' +\n",
              "          '<a target=\"_blank\" href=https://colab.research.google.com/notebooks/data_table.ipynb>data table notebook</a>'\n",
              "          + ' to learn more about interactive tables.';\n",
              "        element.innerHTML = '';\n",
              "        dataTable['output_type'] = 'display_data';\n",
              "        await google.colab.output.renderOutput(dataTable, element);\n",
              "        const docLink = document.createElement('div');\n",
              "        docLink.innerHTML = docLinkHtml;\n",
              "        element.appendChild(docLink);\n",
              "      }\n",
              "    </script>\n",
              "  </div>\n",
              "\n",
              "\n",
              "    <div id=\"df-ede94ac6-0f57-4c8b-91fd-1a8e7076c1bf\">\n",
              "      <button class=\"colab-df-quickchart\" onclick=\"quickchart('df-ede94ac6-0f57-4c8b-91fd-1a8e7076c1bf')\"\n",
              "                title=\"Suggest charts\"\n",
              "                style=\"display:none;\">\n",
              "\n",
              "<svg xmlns=\"http://www.w3.org/2000/svg\" height=\"24px\"viewBox=\"0 0 24 24\"\n",
              "     width=\"24px\">\n",
              "    <g>\n",
              "        <path d=\"M19 3H5c-1.1 0-2 .9-2 2v14c0 1.1.9 2 2 2h14c1.1 0 2-.9 2-2V5c0-1.1-.9-2-2-2zM9 17H7v-7h2v7zm4 0h-2V7h2v10zm4 0h-2v-4h2v4z\"/>\n",
              "    </g>\n",
              "</svg>\n",
              "      </button>\n",
              "\n",
              "<style>\n",
              "  .colab-df-quickchart {\n",
              "      --bg-color: #E8F0FE;\n",
              "      --fill-color: #1967D2;\n",
              "      --hover-bg-color: #E2EBFA;\n",
              "      --hover-fill-color: #174EA6;\n",
              "      --disabled-fill-color: #AAA;\n",
              "      --disabled-bg-color: #DDD;\n",
              "  }\n",
              "\n",
              "  [theme=dark] .colab-df-quickchart {\n",
              "      --bg-color: #3B4455;\n",
              "      --fill-color: #D2E3FC;\n",
              "      --hover-bg-color: #434B5C;\n",
              "      --hover-fill-color: #FFFFFF;\n",
              "      --disabled-bg-color: #3B4455;\n",
              "      --disabled-fill-color: #666;\n",
              "  }\n",
              "\n",
              "  .colab-df-quickchart {\n",
              "    background-color: var(--bg-color);\n",
              "    border: none;\n",
              "    border-radius: 50%;\n",
              "    cursor: pointer;\n",
              "    display: none;\n",
              "    fill: var(--fill-color);\n",
              "    height: 32px;\n",
              "    padding: 0;\n",
              "    width: 32px;\n",
              "  }\n",
              "\n",
              "  .colab-df-quickchart:hover {\n",
              "    background-color: var(--hover-bg-color);\n",
              "    box-shadow: 0 1px 2px rgba(60, 64, 67, 0.3), 0 1px 3px 1px rgba(60, 64, 67, 0.15);\n",
              "    fill: var(--button-hover-fill-color);\n",
              "  }\n",
              "\n",
              "  .colab-df-quickchart-complete:disabled,\n",
              "  .colab-df-quickchart-complete:disabled:hover {\n",
              "    background-color: var(--disabled-bg-color);\n",
              "    fill: var(--disabled-fill-color);\n",
              "    box-shadow: none;\n",
              "  }\n",
              "\n",
              "  .colab-df-spinner {\n",
              "    border: 2px solid var(--fill-color);\n",
              "    border-color: transparent;\n",
              "    border-bottom-color: var(--fill-color);\n",
              "    animation:\n",
              "      spin 1s steps(1) infinite;\n",
              "  }\n",
              "\n",
              "  @keyframes spin {\n",
              "    0% {\n",
              "      border-color: transparent;\n",
              "      border-bottom-color: var(--fill-color);\n",
              "      border-left-color: var(--fill-color);\n",
              "    }\n",
              "    20% {\n",
              "      border-color: transparent;\n",
              "      border-left-color: var(--fill-color);\n",
              "      border-top-color: var(--fill-color);\n",
              "    }\n",
              "    30% {\n",
              "      border-color: transparent;\n",
              "      border-left-color: var(--fill-color);\n",
              "      border-top-color: var(--fill-color);\n",
              "      border-right-color: var(--fill-color);\n",
              "    }\n",
              "    40% {\n",
              "      border-color: transparent;\n",
              "      border-right-color: var(--fill-color);\n",
              "      border-top-color: var(--fill-color);\n",
              "    }\n",
              "    60% {\n",
              "      border-color: transparent;\n",
              "      border-right-color: var(--fill-color);\n",
              "    }\n",
              "    80% {\n",
              "      border-color: transparent;\n",
              "      border-right-color: var(--fill-color);\n",
              "      border-bottom-color: var(--fill-color);\n",
              "    }\n",
              "    90% {\n",
              "      border-color: transparent;\n",
              "      border-bottom-color: var(--fill-color);\n",
              "    }\n",
              "  }\n",
              "</style>\n",
              "\n",
              "      <script>\n",
              "        async function quickchart(key) {\n",
              "          const quickchartButtonEl =\n",
              "            document.querySelector('#' + key + ' button');\n",
              "          quickchartButtonEl.disabled = true;  // To prevent multiple clicks.\n",
              "          quickchartButtonEl.classList.add('colab-df-spinner');\n",
              "          try {\n",
              "            const charts = await google.colab.kernel.invokeFunction(\n",
              "                'suggestCharts', [key], {});\n",
              "          } catch (error) {\n",
              "            console.error('Error during call to suggestCharts:', error);\n",
              "          }\n",
              "          quickchartButtonEl.classList.remove('colab-df-spinner');\n",
              "          quickchartButtonEl.classList.add('colab-df-quickchart-complete');\n",
              "        }\n",
              "        (() => {\n",
              "          let quickchartButtonEl =\n",
              "            document.querySelector('#df-ede94ac6-0f57-4c8b-91fd-1a8e7076c1bf button');\n",
              "          quickchartButtonEl.style.display =\n",
              "            google.colab.kernel.accessAllowed ? 'block' : 'none';\n",
              "        })();\n",
              "      </script>\n",
              "    </div>\n",
              "\n",
              "  <div id=\"id_7b6f2f0f-a254-4963-a69f-b23940ad0807\">\n",
              "    <style>\n",
              "      .colab-df-generate {\n",
              "        background-color: #E8F0FE;\n",
              "        border: none;\n",
              "        border-radius: 50%;\n",
              "        cursor: pointer;\n",
              "        display: none;\n",
              "        fill: #1967D2;\n",
              "        height: 32px;\n",
              "        padding: 0 0 0 0;\n",
              "        width: 32px;\n",
              "      }\n",
              "\n",
              "      .colab-df-generate:hover {\n",
              "        background-color: #E2EBFA;\n",
              "        box-shadow: 0px 1px 2px rgba(60, 64, 67, 0.3), 0px 1px 3px 1px rgba(60, 64, 67, 0.15);\n",
              "        fill: #174EA6;\n",
              "      }\n",
              "\n",
              "      [theme=dark] .colab-df-generate {\n",
              "        background-color: #3B4455;\n",
              "        fill: #D2E3FC;\n",
              "      }\n",
              "\n",
              "      [theme=dark] .colab-df-generate:hover {\n",
              "        background-color: #434B5C;\n",
              "        box-shadow: 0px 1px 3px 1px rgba(0, 0, 0, 0.15);\n",
              "        filter: drop-shadow(0px 1px 2px rgba(0, 0, 0, 0.3));\n",
              "        fill: #FFFFFF;\n",
              "      }\n",
              "    </style>\n",
              "    <button class=\"colab-df-generate\" onclick=\"generateWithVariable('base_credit')\"\n",
              "            title=\"Generate code using this dataframe.\"\n",
              "            style=\"display:none;\">\n",
              "\n",
              "  <svg xmlns=\"http://www.w3.org/2000/svg\" height=\"24px\"viewBox=\"0 0 24 24\"\n",
              "       width=\"24px\">\n",
              "    <path d=\"M7,19H8.4L18.45,9,17,7.55,7,17.6ZM5,21V16.75L18.45,3.32a2,2,0,0,1,2.83,0l1.4,1.43a1.91,1.91,0,0,1,.58,1.4,1.91,1.91,0,0,1-.58,1.4L9.25,21ZM18.45,9,17,7.55Zm-12,3A5.31,5.31,0,0,0,4.9,8.1,5.31,5.31,0,0,0,1,6.5,5.31,5.31,0,0,0,4.9,4.9,5.31,5.31,0,0,0,6.5,1,5.31,5.31,0,0,0,8.1,4.9,5.31,5.31,0,0,0,12,6.5,5.46,5.46,0,0,0,6.5,12Z\"/>\n",
              "  </svg>\n",
              "    </button>\n",
              "    <script>\n",
              "      (() => {\n",
              "      const buttonEl =\n",
              "        document.querySelector('#id_7b6f2f0f-a254-4963-a69f-b23940ad0807 button.colab-df-generate');\n",
              "      buttonEl.style.display =\n",
              "        google.colab.kernel.accessAllowed ? 'block' : 'none';\n",
              "\n",
              "      buttonEl.onclick = () => {\n",
              "        google.colab.notebook.generateWithVariable('base_credit');\n",
              "      }\n",
              "      })();\n",
              "    </script>\n",
              "  </div>\n",
              "\n",
              "    </div>\n",
              "  </div>\n"
            ],
            "application/vnd.google.colaboratory.intrinsic+json": {
              "type": "dataframe",
              "variable_name": "base_credit",
              "summary": "{\n  \"name\": \"base_credit\",\n  \"rows\": 2000,\n  \"fields\": [\n    {\n      \"column\": \"clientid\",\n      \"properties\": {\n        \"dtype\": \"number\",\n        \"std\": 577,\n        \"min\": 1,\n        \"max\": 2000,\n        \"num_unique_values\": 2000,\n        \"samples\": [\n          1861,\n          354,\n          1334\n        ],\n        \"semantic_type\": \"\",\n        \"description\": \"\"\n      }\n    },\n    {\n      \"column\": \"income\",\n      \"properties\": {\n        \"dtype\": \"number\",\n        \"std\": 14326.32711885004,\n        \"min\": 20014.4894700497,\n        \"max\": 69995.6855783239,\n        \"num_unique_values\": 2000,\n        \"samples\": [\n          40240.7275559381,\n          46706.4588610083,\n          51211.6540386342\n        ],\n        \"semantic_type\": \"\",\n        \"description\": \"\"\n      }\n    },\n    {\n      \"column\": \"age\",\n      \"properties\": {\n        \"dtype\": \"number\",\n        \"std\": 13.624469455596008,\n        \"min\": -52.4232799196616,\n        \"max\": 63.971795841120205,\n        \"num_unique_values\": 1997,\n        \"samples\": [\n          36.6687041711994,\n          43.0130229773931,\n          32.553030352108195\n        ],\n        \"semantic_type\": \"\",\n        \"description\": \"\"\n      }\n    },\n    {\n      \"column\": \"loan\",\n      \"properties\": {\n        \"dtype\": \"number\",\n        \"std\": 3045.4100243915154,\n        \"min\": 1.37762959325451,\n        \"max\": 13766.0512393337,\n        \"num_unique_values\": 2000,\n        \"samples\": [\n          7498.630446855849,\n          7084.263509070559,\n          4093.360006036261\n        ],\n        \"semantic_type\": \"\",\n        \"description\": \"\"\n      }\n    },\n    {\n      \"column\": \"default\",\n      \"properties\": {\n        \"dtype\": \"number\",\n        \"std\": 0,\n        \"min\": 0,\n        \"max\": 1,\n        \"num_unique_values\": 2,\n        \"samples\": [\n          1,\n          0\n        ],\n        \"semantic_type\": \"\",\n        \"description\": \"\"\n      }\n    }\n  ]\n}"
            }
          },
          "metadata": {},
          "execution_count": 4
        }
      ]
    },
    {
      "cell_type": "code",
      "source": [
        "base_credit.head(10)"
      ],
      "metadata": {
        "colab": {
          "base_uri": "https://localhost:8080/",
          "height": 363
        },
        "id": "cv3CPpTPR2Aq",
        "outputId": "927fa7ba-cfbf-4432-ef83-50b683b4cc82"
      },
      "execution_count": 5,
      "outputs": [
        {
          "output_type": "execute_result",
          "data": {
            "text/plain": [
              "   clientid        income        age         loan  default\n",
              "0         1  66155.925095  59.017015  8106.532131        0\n",
              "1         2  34415.153966  48.117153  6564.745018        0\n",
              "2         3  57317.170063  63.108049  8020.953296        0\n",
              "3         4  42709.534201  45.751972  6103.642260        0\n",
              "4         5  66952.688845  18.584336  8770.099235        1\n",
              "5         6  24904.064140  57.471607    15.498598        0\n",
              "6         7  48430.359613  26.809132  5722.581981        0\n",
              "7         8  24500.141984  32.897548  2971.003310        1\n",
              "8         9  40654.892537  55.496853  4755.825280        0\n",
              "9        10  25075.872771  39.776378  1409.230371        0"
            ],
            "text/html": [
              "\n",
              "  <div id=\"df-621563ee-1e08-4f44-90b0-a427eb2fefb9\" class=\"colab-df-container\">\n",
              "    <div>\n",
              "<style scoped>\n",
              "    .dataframe tbody tr th:only-of-type {\n",
              "        vertical-align: middle;\n",
              "    }\n",
              "\n",
              "    .dataframe tbody tr th {\n",
              "        vertical-align: top;\n",
              "    }\n",
              "\n",
              "    .dataframe thead th {\n",
              "        text-align: right;\n",
              "    }\n",
              "</style>\n",
              "<table border=\"1\" class=\"dataframe\">\n",
              "  <thead>\n",
              "    <tr style=\"text-align: right;\">\n",
              "      <th></th>\n",
              "      <th>clientid</th>\n",
              "      <th>income</th>\n",
              "      <th>age</th>\n",
              "      <th>loan</th>\n",
              "      <th>default</th>\n",
              "    </tr>\n",
              "  </thead>\n",
              "  <tbody>\n",
              "    <tr>\n",
              "      <th>0</th>\n",
              "      <td>1</td>\n",
              "      <td>66155.925095</td>\n",
              "      <td>59.017015</td>\n",
              "      <td>8106.532131</td>\n",
              "      <td>0</td>\n",
              "    </tr>\n",
              "    <tr>\n",
              "      <th>1</th>\n",
              "      <td>2</td>\n",
              "      <td>34415.153966</td>\n",
              "      <td>48.117153</td>\n",
              "      <td>6564.745018</td>\n",
              "      <td>0</td>\n",
              "    </tr>\n",
              "    <tr>\n",
              "      <th>2</th>\n",
              "      <td>3</td>\n",
              "      <td>57317.170063</td>\n",
              "      <td>63.108049</td>\n",
              "      <td>8020.953296</td>\n",
              "      <td>0</td>\n",
              "    </tr>\n",
              "    <tr>\n",
              "      <th>3</th>\n",
              "      <td>4</td>\n",
              "      <td>42709.534201</td>\n",
              "      <td>45.751972</td>\n",
              "      <td>6103.642260</td>\n",
              "      <td>0</td>\n",
              "    </tr>\n",
              "    <tr>\n",
              "      <th>4</th>\n",
              "      <td>5</td>\n",
              "      <td>66952.688845</td>\n",
              "      <td>18.584336</td>\n",
              "      <td>8770.099235</td>\n",
              "      <td>1</td>\n",
              "    </tr>\n",
              "    <tr>\n",
              "      <th>5</th>\n",
              "      <td>6</td>\n",
              "      <td>24904.064140</td>\n",
              "      <td>57.471607</td>\n",
              "      <td>15.498598</td>\n",
              "      <td>0</td>\n",
              "    </tr>\n",
              "    <tr>\n",
              "      <th>6</th>\n",
              "      <td>7</td>\n",
              "      <td>48430.359613</td>\n",
              "      <td>26.809132</td>\n",
              "      <td>5722.581981</td>\n",
              "      <td>0</td>\n",
              "    </tr>\n",
              "    <tr>\n",
              "      <th>7</th>\n",
              "      <td>8</td>\n",
              "      <td>24500.141984</td>\n",
              "      <td>32.897548</td>\n",
              "      <td>2971.003310</td>\n",
              "      <td>1</td>\n",
              "    </tr>\n",
              "    <tr>\n",
              "      <th>8</th>\n",
              "      <td>9</td>\n",
              "      <td>40654.892537</td>\n",
              "      <td>55.496853</td>\n",
              "      <td>4755.825280</td>\n",
              "      <td>0</td>\n",
              "    </tr>\n",
              "    <tr>\n",
              "      <th>9</th>\n",
              "      <td>10</td>\n",
              "      <td>25075.872771</td>\n",
              "      <td>39.776378</td>\n",
              "      <td>1409.230371</td>\n",
              "      <td>0</td>\n",
              "    </tr>\n",
              "  </tbody>\n",
              "</table>\n",
              "</div>\n",
              "    <div class=\"colab-df-buttons\">\n",
              "\n",
              "  <div class=\"colab-df-container\">\n",
              "    <button class=\"colab-df-convert\" onclick=\"convertToInteractive('df-621563ee-1e08-4f44-90b0-a427eb2fefb9')\"\n",
              "            title=\"Convert this dataframe to an interactive table.\"\n",
              "            style=\"display:none;\">\n",
              "\n",
              "  <svg xmlns=\"http://www.w3.org/2000/svg\" height=\"24px\" viewBox=\"0 -960 960 960\">\n",
              "    <path d=\"M120-120v-720h720v720H120Zm60-500h600v-160H180v160Zm220 220h160v-160H400v160Zm0 220h160v-160H400v160ZM180-400h160v-160H180v160Zm440 0h160v-160H620v160ZM180-180h160v-160H180v160Zm440 0h160v-160H620v160Z\"/>\n",
              "  </svg>\n",
              "    </button>\n",
              "\n",
              "  <style>\n",
              "    .colab-df-container {\n",
              "      display:flex;\n",
              "      gap: 12px;\n",
              "    }\n",
              "\n",
              "    .colab-df-convert {\n",
              "      background-color: #E8F0FE;\n",
              "      border: none;\n",
              "      border-radius: 50%;\n",
              "      cursor: pointer;\n",
              "      display: none;\n",
              "      fill: #1967D2;\n",
              "      height: 32px;\n",
              "      padding: 0 0 0 0;\n",
              "      width: 32px;\n",
              "    }\n",
              "\n",
              "    .colab-df-convert:hover {\n",
              "      background-color: #E2EBFA;\n",
              "      box-shadow: 0px 1px 2px rgba(60, 64, 67, 0.3), 0px 1px 3px 1px rgba(60, 64, 67, 0.15);\n",
              "      fill: #174EA6;\n",
              "    }\n",
              "\n",
              "    .colab-df-buttons div {\n",
              "      margin-bottom: 4px;\n",
              "    }\n",
              "\n",
              "    [theme=dark] .colab-df-convert {\n",
              "      background-color: #3B4455;\n",
              "      fill: #D2E3FC;\n",
              "    }\n",
              "\n",
              "    [theme=dark] .colab-df-convert:hover {\n",
              "      background-color: #434B5C;\n",
              "      box-shadow: 0px 1px 3px 1px rgba(0, 0, 0, 0.15);\n",
              "      filter: drop-shadow(0px 1px 2px rgba(0, 0, 0, 0.3));\n",
              "      fill: #FFFFFF;\n",
              "    }\n",
              "  </style>\n",
              "\n",
              "    <script>\n",
              "      const buttonEl =\n",
              "        document.querySelector('#df-621563ee-1e08-4f44-90b0-a427eb2fefb9 button.colab-df-convert');\n",
              "      buttonEl.style.display =\n",
              "        google.colab.kernel.accessAllowed ? 'block' : 'none';\n",
              "\n",
              "      async function convertToInteractive(key) {\n",
              "        const element = document.querySelector('#df-621563ee-1e08-4f44-90b0-a427eb2fefb9');\n",
              "        const dataTable =\n",
              "          await google.colab.kernel.invokeFunction('convertToInteractive',\n",
              "                                                    [key], {});\n",
              "        if (!dataTable) return;\n",
              "\n",
              "        const docLinkHtml = 'Like what you see? Visit the ' +\n",
              "          '<a target=\"_blank\" href=https://colab.research.google.com/notebooks/data_table.ipynb>data table notebook</a>'\n",
              "          + ' to learn more about interactive tables.';\n",
              "        element.innerHTML = '';\n",
              "        dataTable['output_type'] = 'display_data';\n",
              "        await google.colab.output.renderOutput(dataTable, element);\n",
              "        const docLink = document.createElement('div');\n",
              "        docLink.innerHTML = docLinkHtml;\n",
              "        element.appendChild(docLink);\n",
              "      }\n",
              "    </script>\n",
              "  </div>\n",
              "\n",
              "\n",
              "    <div id=\"df-76ed0df0-fbe3-40ac-9fcd-8c466d28ee90\">\n",
              "      <button class=\"colab-df-quickchart\" onclick=\"quickchart('df-76ed0df0-fbe3-40ac-9fcd-8c466d28ee90')\"\n",
              "                title=\"Suggest charts\"\n",
              "                style=\"display:none;\">\n",
              "\n",
              "<svg xmlns=\"http://www.w3.org/2000/svg\" height=\"24px\"viewBox=\"0 0 24 24\"\n",
              "     width=\"24px\">\n",
              "    <g>\n",
              "        <path d=\"M19 3H5c-1.1 0-2 .9-2 2v14c0 1.1.9 2 2 2h14c1.1 0 2-.9 2-2V5c0-1.1-.9-2-2-2zM9 17H7v-7h2v7zm4 0h-2V7h2v10zm4 0h-2v-4h2v4z\"/>\n",
              "    </g>\n",
              "</svg>\n",
              "      </button>\n",
              "\n",
              "<style>\n",
              "  .colab-df-quickchart {\n",
              "      --bg-color: #E8F0FE;\n",
              "      --fill-color: #1967D2;\n",
              "      --hover-bg-color: #E2EBFA;\n",
              "      --hover-fill-color: #174EA6;\n",
              "      --disabled-fill-color: #AAA;\n",
              "      --disabled-bg-color: #DDD;\n",
              "  }\n",
              "\n",
              "  [theme=dark] .colab-df-quickchart {\n",
              "      --bg-color: #3B4455;\n",
              "      --fill-color: #D2E3FC;\n",
              "      --hover-bg-color: #434B5C;\n",
              "      --hover-fill-color: #FFFFFF;\n",
              "      --disabled-bg-color: #3B4455;\n",
              "      --disabled-fill-color: #666;\n",
              "  }\n",
              "\n",
              "  .colab-df-quickchart {\n",
              "    background-color: var(--bg-color);\n",
              "    border: none;\n",
              "    border-radius: 50%;\n",
              "    cursor: pointer;\n",
              "    display: none;\n",
              "    fill: var(--fill-color);\n",
              "    height: 32px;\n",
              "    padding: 0;\n",
              "    width: 32px;\n",
              "  }\n",
              "\n",
              "  .colab-df-quickchart:hover {\n",
              "    background-color: var(--hover-bg-color);\n",
              "    box-shadow: 0 1px 2px rgba(60, 64, 67, 0.3), 0 1px 3px 1px rgba(60, 64, 67, 0.15);\n",
              "    fill: var(--button-hover-fill-color);\n",
              "  }\n",
              "\n",
              "  .colab-df-quickchart-complete:disabled,\n",
              "  .colab-df-quickchart-complete:disabled:hover {\n",
              "    background-color: var(--disabled-bg-color);\n",
              "    fill: var(--disabled-fill-color);\n",
              "    box-shadow: none;\n",
              "  }\n",
              "\n",
              "  .colab-df-spinner {\n",
              "    border: 2px solid var(--fill-color);\n",
              "    border-color: transparent;\n",
              "    border-bottom-color: var(--fill-color);\n",
              "    animation:\n",
              "      spin 1s steps(1) infinite;\n",
              "  }\n",
              "\n",
              "  @keyframes spin {\n",
              "    0% {\n",
              "      border-color: transparent;\n",
              "      border-bottom-color: var(--fill-color);\n",
              "      border-left-color: var(--fill-color);\n",
              "    }\n",
              "    20% {\n",
              "      border-color: transparent;\n",
              "      border-left-color: var(--fill-color);\n",
              "      border-top-color: var(--fill-color);\n",
              "    }\n",
              "    30% {\n",
              "      border-color: transparent;\n",
              "      border-left-color: var(--fill-color);\n",
              "      border-top-color: var(--fill-color);\n",
              "      border-right-color: var(--fill-color);\n",
              "    }\n",
              "    40% {\n",
              "      border-color: transparent;\n",
              "      border-right-color: var(--fill-color);\n",
              "      border-top-color: var(--fill-color);\n",
              "    }\n",
              "    60% {\n",
              "      border-color: transparent;\n",
              "      border-right-color: var(--fill-color);\n",
              "    }\n",
              "    80% {\n",
              "      border-color: transparent;\n",
              "      border-right-color: var(--fill-color);\n",
              "      border-bottom-color: var(--fill-color);\n",
              "    }\n",
              "    90% {\n",
              "      border-color: transparent;\n",
              "      border-bottom-color: var(--fill-color);\n",
              "    }\n",
              "  }\n",
              "</style>\n",
              "\n",
              "      <script>\n",
              "        async function quickchart(key) {\n",
              "          const quickchartButtonEl =\n",
              "            document.querySelector('#' + key + ' button');\n",
              "          quickchartButtonEl.disabled = true;  // To prevent multiple clicks.\n",
              "          quickchartButtonEl.classList.add('colab-df-spinner');\n",
              "          try {\n",
              "            const charts = await google.colab.kernel.invokeFunction(\n",
              "                'suggestCharts', [key], {});\n",
              "          } catch (error) {\n",
              "            console.error('Error during call to suggestCharts:', error);\n",
              "          }\n",
              "          quickchartButtonEl.classList.remove('colab-df-spinner');\n",
              "          quickchartButtonEl.classList.add('colab-df-quickchart-complete');\n",
              "        }\n",
              "        (() => {\n",
              "          let quickchartButtonEl =\n",
              "            document.querySelector('#df-76ed0df0-fbe3-40ac-9fcd-8c466d28ee90 button');\n",
              "          quickchartButtonEl.style.display =\n",
              "            google.colab.kernel.accessAllowed ? 'block' : 'none';\n",
              "        })();\n",
              "      </script>\n",
              "    </div>\n",
              "\n",
              "    </div>\n",
              "  </div>\n"
            ],
            "application/vnd.google.colaboratory.intrinsic+json": {
              "type": "dataframe",
              "variable_name": "base_credit",
              "summary": "{\n  \"name\": \"base_credit\",\n  \"rows\": 2000,\n  \"fields\": [\n    {\n      \"column\": \"clientid\",\n      \"properties\": {\n        \"dtype\": \"number\",\n        \"std\": 577,\n        \"min\": 1,\n        \"max\": 2000,\n        \"num_unique_values\": 2000,\n        \"samples\": [\n          1861,\n          354,\n          1334\n        ],\n        \"semantic_type\": \"\",\n        \"description\": \"\"\n      }\n    },\n    {\n      \"column\": \"income\",\n      \"properties\": {\n        \"dtype\": \"number\",\n        \"std\": 14326.32711885004,\n        \"min\": 20014.4894700497,\n        \"max\": 69995.6855783239,\n        \"num_unique_values\": 2000,\n        \"samples\": [\n          40240.7275559381,\n          46706.4588610083,\n          51211.6540386342\n        ],\n        \"semantic_type\": \"\",\n        \"description\": \"\"\n      }\n    },\n    {\n      \"column\": \"age\",\n      \"properties\": {\n        \"dtype\": \"number\",\n        \"std\": 13.624469455596008,\n        \"min\": -52.4232799196616,\n        \"max\": 63.971795841120205,\n        \"num_unique_values\": 1997,\n        \"samples\": [\n          36.6687041711994,\n          43.0130229773931,\n          32.553030352108195\n        ],\n        \"semantic_type\": \"\",\n        \"description\": \"\"\n      }\n    },\n    {\n      \"column\": \"loan\",\n      \"properties\": {\n        \"dtype\": \"number\",\n        \"std\": 3045.4100243915154,\n        \"min\": 1.37762959325451,\n        \"max\": 13766.0512393337,\n        \"num_unique_values\": 2000,\n        \"samples\": [\n          7498.630446855849,\n          7084.263509070559,\n          4093.360006036261\n        ],\n        \"semantic_type\": \"\",\n        \"description\": \"\"\n      }\n    },\n    {\n      \"column\": \"default\",\n      \"properties\": {\n        \"dtype\": \"number\",\n        \"std\": 0,\n        \"min\": 0,\n        \"max\": 1,\n        \"num_unique_values\": 2,\n        \"samples\": [\n          1,\n          0\n        ],\n        \"semantic_type\": \"\",\n        \"description\": \"\"\n      }\n    }\n  ]\n}"
            }
          },
          "metadata": {},
          "execution_count": 5
        }
      ]
    },
    {
      "cell_type": "code",
      "source": [
        "base_credit.tail(8)"
      ],
      "metadata": {
        "colab": {
          "base_uri": "https://localhost:8080/",
          "height": 300
        },
        "id": "fNpgK11dR9Fd",
        "outputId": "88e76521-8afc-472e-fa0b-de41e67ca068"
      },
      "execution_count": 6,
      "outputs": [
        {
          "output_type": "execute_result",
          "data": {
            "text/plain": [
              "      clientid        income        age         loan  default\n",
              "1992      1993  30803.806165  23.250084   623.024153        0\n",
              "1993      1994  54421.410155  26.821928  3273.631823        0\n",
              "1994      1995  24254.700791  37.751622  2225.284643        0\n",
              "1995      1996  59221.044874  48.518179  1926.729397        0\n",
              "1996      1997  69516.127573  23.162104  3503.176156        0\n",
              "1997      1998  44311.449262  28.017167  5522.786693        1\n",
              "1998      1999  43756.056605  63.971796  1622.722598        0\n",
              "1999      2000  69436.579552  56.152617  7378.833599        0"
            ],
            "text/html": [
              "\n",
              "  <div id=\"df-cc185823-c7e9-436a-b5a0-0d3f37468011\" class=\"colab-df-container\">\n",
              "    <div>\n",
              "<style scoped>\n",
              "    .dataframe tbody tr th:only-of-type {\n",
              "        vertical-align: middle;\n",
              "    }\n",
              "\n",
              "    .dataframe tbody tr th {\n",
              "        vertical-align: top;\n",
              "    }\n",
              "\n",
              "    .dataframe thead th {\n",
              "        text-align: right;\n",
              "    }\n",
              "</style>\n",
              "<table border=\"1\" class=\"dataframe\">\n",
              "  <thead>\n",
              "    <tr style=\"text-align: right;\">\n",
              "      <th></th>\n",
              "      <th>clientid</th>\n",
              "      <th>income</th>\n",
              "      <th>age</th>\n",
              "      <th>loan</th>\n",
              "      <th>default</th>\n",
              "    </tr>\n",
              "  </thead>\n",
              "  <tbody>\n",
              "    <tr>\n",
              "      <th>1992</th>\n",
              "      <td>1993</td>\n",
              "      <td>30803.806165</td>\n",
              "      <td>23.250084</td>\n",
              "      <td>623.024153</td>\n",
              "      <td>0</td>\n",
              "    </tr>\n",
              "    <tr>\n",
              "      <th>1993</th>\n",
              "      <td>1994</td>\n",
              "      <td>54421.410155</td>\n",
              "      <td>26.821928</td>\n",
              "      <td>3273.631823</td>\n",
              "      <td>0</td>\n",
              "    </tr>\n",
              "    <tr>\n",
              "      <th>1994</th>\n",
              "      <td>1995</td>\n",
              "      <td>24254.700791</td>\n",
              "      <td>37.751622</td>\n",
              "      <td>2225.284643</td>\n",
              "      <td>0</td>\n",
              "    </tr>\n",
              "    <tr>\n",
              "      <th>1995</th>\n",
              "      <td>1996</td>\n",
              "      <td>59221.044874</td>\n",
              "      <td>48.518179</td>\n",
              "      <td>1926.729397</td>\n",
              "      <td>0</td>\n",
              "    </tr>\n",
              "    <tr>\n",
              "      <th>1996</th>\n",
              "      <td>1997</td>\n",
              "      <td>69516.127573</td>\n",
              "      <td>23.162104</td>\n",
              "      <td>3503.176156</td>\n",
              "      <td>0</td>\n",
              "    </tr>\n",
              "    <tr>\n",
              "      <th>1997</th>\n",
              "      <td>1998</td>\n",
              "      <td>44311.449262</td>\n",
              "      <td>28.017167</td>\n",
              "      <td>5522.786693</td>\n",
              "      <td>1</td>\n",
              "    </tr>\n",
              "    <tr>\n",
              "      <th>1998</th>\n",
              "      <td>1999</td>\n",
              "      <td>43756.056605</td>\n",
              "      <td>63.971796</td>\n",
              "      <td>1622.722598</td>\n",
              "      <td>0</td>\n",
              "    </tr>\n",
              "    <tr>\n",
              "      <th>1999</th>\n",
              "      <td>2000</td>\n",
              "      <td>69436.579552</td>\n",
              "      <td>56.152617</td>\n",
              "      <td>7378.833599</td>\n",
              "      <td>0</td>\n",
              "    </tr>\n",
              "  </tbody>\n",
              "</table>\n",
              "</div>\n",
              "    <div class=\"colab-df-buttons\">\n",
              "\n",
              "  <div class=\"colab-df-container\">\n",
              "    <button class=\"colab-df-convert\" onclick=\"convertToInteractive('df-cc185823-c7e9-436a-b5a0-0d3f37468011')\"\n",
              "            title=\"Convert this dataframe to an interactive table.\"\n",
              "            style=\"display:none;\">\n",
              "\n",
              "  <svg xmlns=\"http://www.w3.org/2000/svg\" height=\"24px\" viewBox=\"0 -960 960 960\">\n",
              "    <path d=\"M120-120v-720h720v720H120Zm60-500h600v-160H180v160Zm220 220h160v-160H400v160Zm0 220h160v-160H400v160ZM180-400h160v-160H180v160Zm440 0h160v-160H620v160ZM180-180h160v-160H180v160Zm440 0h160v-160H620v160Z\"/>\n",
              "  </svg>\n",
              "    </button>\n",
              "\n",
              "  <style>\n",
              "    .colab-df-container {\n",
              "      display:flex;\n",
              "      gap: 12px;\n",
              "    }\n",
              "\n",
              "    .colab-df-convert {\n",
              "      background-color: #E8F0FE;\n",
              "      border: none;\n",
              "      border-radius: 50%;\n",
              "      cursor: pointer;\n",
              "      display: none;\n",
              "      fill: #1967D2;\n",
              "      height: 32px;\n",
              "      padding: 0 0 0 0;\n",
              "      width: 32px;\n",
              "    }\n",
              "\n",
              "    .colab-df-convert:hover {\n",
              "      background-color: #E2EBFA;\n",
              "      box-shadow: 0px 1px 2px rgba(60, 64, 67, 0.3), 0px 1px 3px 1px rgba(60, 64, 67, 0.15);\n",
              "      fill: #174EA6;\n",
              "    }\n",
              "\n",
              "    .colab-df-buttons div {\n",
              "      margin-bottom: 4px;\n",
              "    }\n",
              "\n",
              "    [theme=dark] .colab-df-convert {\n",
              "      background-color: #3B4455;\n",
              "      fill: #D2E3FC;\n",
              "    }\n",
              "\n",
              "    [theme=dark] .colab-df-convert:hover {\n",
              "      background-color: #434B5C;\n",
              "      box-shadow: 0px 1px 3px 1px rgba(0, 0, 0, 0.15);\n",
              "      filter: drop-shadow(0px 1px 2px rgba(0, 0, 0, 0.3));\n",
              "      fill: #FFFFFF;\n",
              "    }\n",
              "  </style>\n",
              "\n",
              "    <script>\n",
              "      const buttonEl =\n",
              "        document.querySelector('#df-cc185823-c7e9-436a-b5a0-0d3f37468011 button.colab-df-convert');\n",
              "      buttonEl.style.display =\n",
              "        google.colab.kernel.accessAllowed ? 'block' : 'none';\n",
              "\n",
              "      async function convertToInteractive(key) {\n",
              "        const element = document.querySelector('#df-cc185823-c7e9-436a-b5a0-0d3f37468011');\n",
              "        const dataTable =\n",
              "          await google.colab.kernel.invokeFunction('convertToInteractive',\n",
              "                                                    [key], {});\n",
              "        if (!dataTable) return;\n",
              "\n",
              "        const docLinkHtml = 'Like what you see? Visit the ' +\n",
              "          '<a target=\"_blank\" href=https://colab.research.google.com/notebooks/data_table.ipynb>data table notebook</a>'\n",
              "          + ' to learn more about interactive tables.';\n",
              "        element.innerHTML = '';\n",
              "        dataTable['output_type'] = 'display_data';\n",
              "        await google.colab.output.renderOutput(dataTable, element);\n",
              "        const docLink = document.createElement('div');\n",
              "        docLink.innerHTML = docLinkHtml;\n",
              "        element.appendChild(docLink);\n",
              "      }\n",
              "    </script>\n",
              "  </div>\n",
              "\n",
              "\n",
              "    <div id=\"df-8869b57c-e8ae-4c61-a17c-aab7a6413c5e\">\n",
              "      <button class=\"colab-df-quickchart\" onclick=\"quickchart('df-8869b57c-e8ae-4c61-a17c-aab7a6413c5e')\"\n",
              "                title=\"Suggest charts\"\n",
              "                style=\"display:none;\">\n",
              "\n",
              "<svg xmlns=\"http://www.w3.org/2000/svg\" height=\"24px\"viewBox=\"0 0 24 24\"\n",
              "     width=\"24px\">\n",
              "    <g>\n",
              "        <path d=\"M19 3H5c-1.1 0-2 .9-2 2v14c0 1.1.9 2 2 2h14c1.1 0 2-.9 2-2V5c0-1.1-.9-2-2-2zM9 17H7v-7h2v7zm4 0h-2V7h2v10zm4 0h-2v-4h2v4z\"/>\n",
              "    </g>\n",
              "</svg>\n",
              "      </button>\n",
              "\n",
              "<style>\n",
              "  .colab-df-quickchart {\n",
              "      --bg-color: #E8F0FE;\n",
              "      --fill-color: #1967D2;\n",
              "      --hover-bg-color: #E2EBFA;\n",
              "      --hover-fill-color: #174EA6;\n",
              "      --disabled-fill-color: #AAA;\n",
              "      --disabled-bg-color: #DDD;\n",
              "  }\n",
              "\n",
              "  [theme=dark] .colab-df-quickchart {\n",
              "      --bg-color: #3B4455;\n",
              "      --fill-color: #D2E3FC;\n",
              "      --hover-bg-color: #434B5C;\n",
              "      --hover-fill-color: #FFFFFF;\n",
              "      --disabled-bg-color: #3B4455;\n",
              "      --disabled-fill-color: #666;\n",
              "  }\n",
              "\n",
              "  .colab-df-quickchart {\n",
              "    background-color: var(--bg-color);\n",
              "    border: none;\n",
              "    border-radius: 50%;\n",
              "    cursor: pointer;\n",
              "    display: none;\n",
              "    fill: var(--fill-color);\n",
              "    height: 32px;\n",
              "    padding: 0;\n",
              "    width: 32px;\n",
              "  }\n",
              "\n",
              "  .colab-df-quickchart:hover {\n",
              "    background-color: var(--hover-bg-color);\n",
              "    box-shadow: 0 1px 2px rgba(60, 64, 67, 0.3), 0 1px 3px 1px rgba(60, 64, 67, 0.15);\n",
              "    fill: var(--button-hover-fill-color);\n",
              "  }\n",
              "\n",
              "  .colab-df-quickchart-complete:disabled,\n",
              "  .colab-df-quickchart-complete:disabled:hover {\n",
              "    background-color: var(--disabled-bg-color);\n",
              "    fill: var(--disabled-fill-color);\n",
              "    box-shadow: none;\n",
              "  }\n",
              "\n",
              "  .colab-df-spinner {\n",
              "    border: 2px solid var(--fill-color);\n",
              "    border-color: transparent;\n",
              "    border-bottom-color: var(--fill-color);\n",
              "    animation:\n",
              "      spin 1s steps(1) infinite;\n",
              "  }\n",
              "\n",
              "  @keyframes spin {\n",
              "    0% {\n",
              "      border-color: transparent;\n",
              "      border-bottom-color: var(--fill-color);\n",
              "      border-left-color: var(--fill-color);\n",
              "    }\n",
              "    20% {\n",
              "      border-color: transparent;\n",
              "      border-left-color: var(--fill-color);\n",
              "      border-top-color: var(--fill-color);\n",
              "    }\n",
              "    30% {\n",
              "      border-color: transparent;\n",
              "      border-left-color: var(--fill-color);\n",
              "      border-top-color: var(--fill-color);\n",
              "      border-right-color: var(--fill-color);\n",
              "    }\n",
              "    40% {\n",
              "      border-color: transparent;\n",
              "      border-right-color: var(--fill-color);\n",
              "      border-top-color: var(--fill-color);\n",
              "    }\n",
              "    60% {\n",
              "      border-color: transparent;\n",
              "      border-right-color: var(--fill-color);\n",
              "    }\n",
              "    80% {\n",
              "      border-color: transparent;\n",
              "      border-right-color: var(--fill-color);\n",
              "      border-bottom-color: var(--fill-color);\n",
              "    }\n",
              "    90% {\n",
              "      border-color: transparent;\n",
              "      border-bottom-color: var(--fill-color);\n",
              "    }\n",
              "  }\n",
              "</style>\n",
              "\n",
              "      <script>\n",
              "        async function quickchart(key) {\n",
              "          const quickchartButtonEl =\n",
              "            document.querySelector('#' + key + ' button');\n",
              "          quickchartButtonEl.disabled = true;  // To prevent multiple clicks.\n",
              "          quickchartButtonEl.classList.add('colab-df-spinner');\n",
              "          try {\n",
              "            const charts = await google.colab.kernel.invokeFunction(\n",
              "                'suggestCharts', [key], {});\n",
              "          } catch (error) {\n",
              "            console.error('Error during call to suggestCharts:', error);\n",
              "          }\n",
              "          quickchartButtonEl.classList.remove('colab-df-spinner');\n",
              "          quickchartButtonEl.classList.add('colab-df-quickchart-complete');\n",
              "        }\n",
              "        (() => {\n",
              "          let quickchartButtonEl =\n",
              "            document.querySelector('#df-8869b57c-e8ae-4c61-a17c-aab7a6413c5e button');\n",
              "          quickchartButtonEl.style.display =\n",
              "            google.colab.kernel.accessAllowed ? 'block' : 'none';\n",
              "        })();\n",
              "      </script>\n",
              "    </div>\n",
              "\n",
              "    </div>\n",
              "  </div>\n"
            ],
            "application/vnd.google.colaboratory.intrinsic+json": {
              "type": "dataframe",
              "summary": "{\n  \"name\": \"base_credit\",\n  \"rows\": 8,\n  \"fields\": [\n    {\n      \"column\": \"clientid\",\n      \"properties\": {\n        \"dtype\": \"number\",\n        \"std\": 2,\n        \"min\": 1993,\n        \"max\": 2000,\n        \"num_unique_values\": 8,\n        \"samples\": [\n          1994,\n          1998,\n          1993\n        ],\n        \"semantic_type\": \"\",\n        \"description\": \"\"\n      }\n    },\n    {\n      \"column\": \"income\",\n      \"properties\": {\n        \"dtype\": \"number\",\n        \"std\": 16748.59730267154,\n        \"min\": 24254.7007906251,\n        \"max\": 69516.1275728606,\n        \"num_unique_values\": 8,\n        \"samples\": [\n          54421.4101554826,\n          44311.44926231349,\n          30803.8061647676\n        ],\n        \"semantic_type\": \"\",\n        \"description\": \"\"\n      }\n    },\n    {\n      \"column\": \"age\",\n      \"properties\": {\n        \"dtype\": \"number\",\n        \"std\": 15.92578174931589,\n        \"min\": 23.162104470655304,\n        \"max\": 63.971795841120205,\n        \"num_unique_values\": 8,\n        \"samples\": [\n          26.8219283991493,\n          28.0171668957919,\n          23.250084119383203\n        ],\n        \"semantic_type\": \"\",\n        \"description\": \"\"\n      }\n    },\n    {\n      \"column\": \"loan\",\n      \"properties\": {\n        \"dtype\": \"number\",\n        \"std\": 2224.117088594399,\n        \"min\": 623.024152762279,\n        \"max\": 7378.833598730591,\n        \"num_unique_values\": 8,\n        \"samples\": [\n          3273.63182294932,\n          5522.786693255141,\n          623.024152762279\n        ],\n        \"semantic_type\": \"\",\n        \"description\": \"\"\n      }\n    },\n    {\n      \"column\": \"default\",\n      \"properties\": {\n        \"dtype\": \"number\",\n        \"std\": 0,\n        \"min\": 0,\n        \"max\": 1,\n        \"num_unique_values\": 2,\n        \"samples\": [\n          1,\n          0\n        ],\n        \"semantic_type\": \"\",\n        \"description\": \"\"\n      }\n    }\n  ]\n}"
            }
          },
          "metadata": {},
          "execution_count": 6
        }
      ]
    },
    {
      "cell_type": "code",
      "source": [
        "base_credit.describe()"
      ],
      "metadata": {
        "colab": {
          "base_uri": "https://localhost:8080/",
          "height": 300
        },
        "id": "fbwf5IAPSA0L",
        "outputId": "e32c608b-08b8-4b0c-906f-2d2f13abedb5"
      },
      "execution_count": 7,
      "outputs": [
        {
          "output_type": "execute_result",
          "data": {
            "text/plain": [
              "          clientid        income          age          loan      default\n",
              "count  2000.000000   2000.000000  1997.000000   2000.000000  2000.000000\n",
              "mean   1000.500000  45331.600018    40.807559   4444.369695     0.141500\n",
              "std     577.494589  14326.327119    13.624469   3045.410024     0.348624\n",
              "min       1.000000  20014.489470   -52.423280      1.377630     0.000000\n",
              "25%     500.750000  32796.459717    28.990415   1939.708847     0.000000\n",
              "50%    1000.500000  45789.117313    41.317159   3974.719419     0.000000\n",
              "75%    1500.250000  57791.281668    52.587040   6432.410625     0.000000\n",
              "max    2000.000000  69995.685578    63.971796  13766.051239     1.000000"
            ],
            "text/html": [
              "\n",
              "  <div id=\"df-ef69bcc7-2bc7-411b-8e76-dd2c3c086dd5\" class=\"colab-df-container\">\n",
              "    <div>\n",
              "<style scoped>\n",
              "    .dataframe tbody tr th:only-of-type {\n",
              "        vertical-align: middle;\n",
              "    }\n",
              "\n",
              "    .dataframe tbody tr th {\n",
              "        vertical-align: top;\n",
              "    }\n",
              "\n",
              "    .dataframe thead th {\n",
              "        text-align: right;\n",
              "    }\n",
              "</style>\n",
              "<table border=\"1\" class=\"dataframe\">\n",
              "  <thead>\n",
              "    <tr style=\"text-align: right;\">\n",
              "      <th></th>\n",
              "      <th>clientid</th>\n",
              "      <th>income</th>\n",
              "      <th>age</th>\n",
              "      <th>loan</th>\n",
              "      <th>default</th>\n",
              "    </tr>\n",
              "  </thead>\n",
              "  <tbody>\n",
              "    <tr>\n",
              "      <th>count</th>\n",
              "      <td>2000.000000</td>\n",
              "      <td>2000.000000</td>\n",
              "      <td>1997.000000</td>\n",
              "      <td>2000.000000</td>\n",
              "      <td>2000.000000</td>\n",
              "    </tr>\n",
              "    <tr>\n",
              "      <th>mean</th>\n",
              "      <td>1000.500000</td>\n",
              "      <td>45331.600018</td>\n",
              "      <td>40.807559</td>\n",
              "      <td>4444.369695</td>\n",
              "      <td>0.141500</td>\n",
              "    </tr>\n",
              "    <tr>\n",
              "      <th>std</th>\n",
              "      <td>577.494589</td>\n",
              "      <td>14326.327119</td>\n",
              "      <td>13.624469</td>\n",
              "      <td>3045.410024</td>\n",
              "      <td>0.348624</td>\n",
              "    </tr>\n",
              "    <tr>\n",
              "      <th>min</th>\n",
              "      <td>1.000000</td>\n",
              "      <td>20014.489470</td>\n",
              "      <td>-52.423280</td>\n",
              "      <td>1.377630</td>\n",
              "      <td>0.000000</td>\n",
              "    </tr>\n",
              "    <tr>\n",
              "      <th>25%</th>\n",
              "      <td>500.750000</td>\n",
              "      <td>32796.459717</td>\n",
              "      <td>28.990415</td>\n",
              "      <td>1939.708847</td>\n",
              "      <td>0.000000</td>\n",
              "    </tr>\n",
              "    <tr>\n",
              "      <th>50%</th>\n",
              "      <td>1000.500000</td>\n",
              "      <td>45789.117313</td>\n",
              "      <td>41.317159</td>\n",
              "      <td>3974.719419</td>\n",
              "      <td>0.000000</td>\n",
              "    </tr>\n",
              "    <tr>\n",
              "      <th>75%</th>\n",
              "      <td>1500.250000</td>\n",
              "      <td>57791.281668</td>\n",
              "      <td>52.587040</td>\n",
              "      <td>6432.410625</td>\n",
              "      <td>0.000000</td>\n",
              "    </tr>\n",
              "    <tr>\n",
              "      <th>max</th>\n",
              "      <td>2000.000000</td>\n",
              "      <td>69995.685578</td>\n",
              "      <td>63.971796</td>\n",
              "      <td>13766.051239</td>\n",
              "      <td>1.000000</td>\n",
              "    </tr>\n",
              "  </tbody>\n",
              "</table>\n",
              "</div>\n",
              "    <div class=\"colab-df-buttons\">\n",
              "\n",
              "  <div class=\"colab-df-container\">\n",
              "    <button class=\"colab-df-convert\" onclick=\"convertToInteractive('df-ef69bcc7-2bc7-411b-8e76-dd2c3c086dd5')\"\n",
              "            title=\"Convert this dataframe to an interactive table.\"\n",
              "            style=\"display:none;\">\n",
              "\n",
              "  <svg xmlns=\"http://www.w3.org/2000/svg\" height=\"24px\" viewBox=\"0 -960 960 960\">\n",
              "    <path d=\"M120-120v-720h720v720H120Zm60-500h600v-160H180v160Zm220 220h160v-160H400v160Zm0 220h160v-160H400v160ZM180-400h160v-160H180v160Zm440 0h160v-160H620v160ZM180-180h160v-160H180v160Zm440 0h160v-160H620v160Z\"/>\n",
              "  </svg>\n",
              "    </button>\n",
              "\n",
              "  <style>\n",
              "    .colab-df-container {\n",
              "      display:flex;\n",
              "      gap: 12px;\n",
              "    }\n",
              "\n",
              "    .colab-df-convert {\n",
              "      background-color: #E8F0FE;\n",
              "      border: none;\n",
              "      border-radius: 50%;\n",
              "      cursor: pointer;\n",
              "      display: none;\n",
              "      fill: #1967D2;\n",
              "      height: 32px;\n",
              "      padding: 0 0 0 0;\n",
              "      width: 32px;\n",
              "    }\n",
              "\n",
              "    .colab-df-convert:hover {\n",
              "      background-color: #E2EBFA;\n",
              "      box-shadow: 0px 1px 2px rgba(60, 64, 67, 0.3), 0px 1px 3px 1px rgba(60, 64, 67, 0.15);\n",
              "      fill: #174EA6;\n",
              "    }\n",
              "\n",
              "    .colab-df-buttons div {\n",
              "      margin-bottom: 4px;\n",
              "    }\n",
              "\n",
              "    [theme=dark] .colab-df-convert {\n",
              "      background-color: #3B4455;\n",
              "      fill: #D2E3FC;\n",
              "    }\n",
              "\n",
              "    [theme=dark] .colab-df-convert:hover {\n",
              "      background-color: #434B5C;\n",
              "      box-shadow: 0px 1px 3px 1px rgba(0, 0, 0, 0.15);\n",
              "      filter: drop-shadow(0px 1px 2px rgba(0, 0, 0, 0.3));\n",
              "      fill: #FFFFFF;\n",
              "    }\n",
              "  </style>\n",
              "\n",
              "    <script>\n",
              "      const buttonEl =\n",
              "        document.querySelector('#df-ef69bcc7-2bc7-411b-8e76-dd2c3c086dd5 button.colab-df-convert');\n",
              "      buttonEl.style.display =\n",
              "        google.colab.kernel.accessAllowed ? 'block' : 'none';\n",
              "\n",
              "      async function convertToInteractive(key) {\n",
              "        const element = document.querySelector('#df-ef69bcc7-2bc7-411b-8e76-dd2c3c086dd5');\n",
              "        const dataTable =\n",
              "          await google.colab.kernel.invokeFunction('convertToInteractive',\n",
              "                                                    [key], {});\n",
              "        if (!dataTable) return;\n",
              "\n",
              "        const docLinkHtml = 'Like what you see? Visit the ' +\n",
              "          '<a target=\"_blank\" href=https://colab.research.google.com/notebooks/data_table.ipynb>data table notebook</a>'\n",
              "          + ' to learn more about interactive tables.';\n",
              "        element.innerHTML = '';\n",
              "        dataTable['output_type'] = 'display_data';\n",
              "        await google.colab.output.renderOutput(dataTable, element);\n",
              "        const docLink = document.createElement('div');\n",
              "        docLink.innerHTML = docLinkHtml;\n",
              "        element.appendChild(docLink);\n",
              "      }\n",
              "    </script>\n",
              "  </div>\n",
              "\n",
              "\n",
              "    <div id=\"df-2e9874c7-7a11-468d-a4d6-8fb1cb1b56dc\">\n",
              "      <button class=\"colab-df-quickchart\" onclick=\"quickchart('df-2e9874c7-7a11-468d-a4d6-8fb1cb1b56dc')\"\n",
              "                title=\"Suggest charts\"\n",
              "                style=\"display:none;\">\n",
              "\n",
              "<svg xmlns=\"http://www.w3.org/2000/svg\" height=\"24px\"viewBox=\"0 0 24 24\"\n",
              "     width=\"24px\">\n",
              "    <g>\n",
              "        <path d=\"M19 3H5c-1.1 0-2 .9-2 2v14c0 1.1.9 2 2 2h14c1.1 0 2-.9 2-2V5c0-1.1-.9-2-2-2zM9 17H7v-7h2v7zm4 0h-2V7h2v10zm4 0h-2v-4h2v4z\"/>\n",
              "    </g>\n",
              "</svg>\n",
              "      </button>\n",
              "\n",
              "<style>\n",
              "  .colab-df-quickchart {\n",
              "      --bg-color: #E8F0FE;\n",
              "      --fill-color: #1967D2;\n",
              "      --hover-bg-color: #E2EBFA;\n",
              "      --hover-fill-color: #174EA6;\n",
              "      --disabled-fill-color: #AAA;\n",
              "      --disabled-bg-color: #DDD;\n",
              "  }\n",
              "\n",
              "  [theme=dark] .colab-df-quickchart {\n",
              "      --bg-color: #3B4455;\n",
              "      --fill-color: #D2E3FC;\n",
              "      --hover-bg-color: #434B5C;\n",
              "      --hover-fill-color: #FFFFFF;\n",
              "      --disabled-bg-color: #3B4455;\n",
              "      --disabled-fill-color: #666;\n",
              "  }\n",
              "\n",
              "  .colab-df-quickchart {\n",
              "    background-color: var(--bg-color);\n",
              "    border: none;\n",
              "    border-radius: 50%;\n",
              "    cursor: pointer;\n",
              "    display: none;\n",
              "    fill: var(--fill-color);\n",
              "    height: 32px;\n",
              "    padding: 0;\n",
              "    width: 32px;\n",
              "  }\n",
              "\n",
              "  .colab-df-quickchart:hover {\n",
              "    background-color: var(--hover-bg-color);\n",
              "    box-shadow: 0 1px 2px rgba(60, 64, 67, 0.3), 0 1px 3px 1px rgba(60, 64, 67, 0.15);\n",
              "    fill: var(--button-hover-fill-color);\n",
              "  }\n",
              "\n",
              "  .colab-df-quickchart-complete:disabled,\n",
              "  .colab-df-quickchart-complete:disabled:hover {\n",
              "    background-color: var(--disabled-bg-color);\n",
              "    fill: var(--disabled-fill-color);\n",
              "    box-shadow: none;\n",
              "  }\n",
              "\n",
              "  .colab-df-spinner {\n",
              "    border: 2px solid var(--fill-color);\n",
              "    border-color: transparent;\n",
              "    border-bottom-color: var(--fill-color);\n",
              "    animation:\n",
              "      spin 1s steps(1) infinite;\n",
              "  }\n",
              "\n",
              "  @keyframes spin {\n",
              "    0% {\n",
              "      border-color: transparent;\n",
              "      border-bottom-color: var(--fill-color);\n",
              "      border-left-color: var(--fill-color);\n",
              "    }\n",
              "    20% {\n",
              "      border-color: transparent;\n",
              "      border-left-color: var(--fill-color);\n",
              "      border-top-color: var(--fill-color);\n",
              "    }\n",
              "    30% {\n",
              "      border-color: transparent;\n",
              "      border-left-color: var(--fill-color);\n",
              "      border-top-color: var(--fill-color);\n",
              "      border-right-color: var(--fill-color);\n",
              "    }\n",
              "    40% {\n",
              "      border-color: transparent;\n",
              "      border-right-color: var(--fill-color);\n",
              "      border-top-color: var(--fill-color);\n",
              "    }\n",
              "    60% {\n",
              "      border-color: transparent;\n",
              "      border-right-color: var(--fill-color);\n",
              "    }\n",
              "    80% {\n",
              "      border-color: transparent;\n",
              "      border-right-color: var(--fill-color);\n",
              "      border-bottom-color: var(--fill-color);\n",
              "    }\n",
              "    90% {\n",
              "      border-color: transparent;\n",
              "      border-bottom-color: var(--fill-color);\n",
              "    }\n",
              "  }\n",
              "</style>\n",
              "\n",
              "      <script>\n",
              "        async function quickchart(key) {\n",
              "          const quickchartButtonEl =\n",
              "            document.querySelector('#' + key + ' button');\n",
              "          quickchartButtonEl.disabled = true;  // To prevent multiple clicks.\n",
              "          quickchartButtonEl.classList.add('colab-df-spinner');\n",
              "          try {\n",
              "            const charts = await google.colab.kernel.invokeFunction(\n",
              "                'suggestCharts', [key], {});\n",
              "          } catch (error) {\n",
              "            console.error('Error during call to suggestCharts:', error);\n",
              "          }\n",
              "          quickchartButtonEl.classList.remove('colab-df-spinner');\n",
              "          quickchartButtonEl.classList.add('colab-df-quickchart-complete');\n",
              "        }\n",
              "        (() => {\n",
              "          let quickchartButtonEl =\n",
              "            document.querySelector('#df-2e9874c7-7a11-468d-a4d6-8fb1cb1b56dc button');\n",
              "          quickchartButtonEl.style.display =\n",
              "            google.colab.kernel.accessAllowed ? 'block' : 'none';\n",
              "        })();\n",
              "      </script>\n",
              "    </div>\n",
              "\n",
              "    </div>\n",
              "  </div>\n"
            ],
            "application/vnd.google.colaboratory.intrinsic+json": {
              "type": "dataframe",
              "summary": "{\n  \"name\": \"base_credit\",\n  \"rows\": 8,\n  \"fields\": [\n    {\n      \"column\": \"clientid\",\n      \"properties\": {\n        \"dtype\": \"number\",\n        \"std\": 720.5049024934813,\n        \"min\": 1.0,\n        \"max\": 2000.0,\n        \"num_unique_values\": 6,\n        \"samples\": [\n          2000.0,\n          1000.5,\n          1500.25\n        ],\n        \"semantic_type\": \"\",\n        \"description\": \"\"\n      }\n    },\n    {\n      \"column\": \"income\",\n      \"properties\": {\n        \"dtype\": \"number\",\n        \"std\": 23006.270052327105,\n        \"min\": 2000.0,\n        \"max\": 69995.6855783239,\n        \"num_unique_values\": 8,\n        \"samples\": [\n          45331.600017793244,\n          45789.11731252445,\n          2000.0\n        ],\n        \"semantic_type\": \"\",\n        \"description\": \"\"\n      }\n    },\n    {\n      \"column\": \"age\",\n      \"properties\": {\n        \"dtype\": \"number\",\n        \"std\": 697.4194419741473,\n        \"min\": -52.4232799196616,\n        \"max\": 1997.0,\n        \"num_unique_values\": 8,\n        \"samples\": [\n          40.80755937840458,\n          41.3171591130085,\n          1997.0\n        ],\n        \"semantic_type\": \"\",\n        \"description\": \"\"\n      }\n    },\n    {\n      \"column\": \"loan\",\n      \"properties\": {\n        \"dtype\": \"number\",\n        \"std\": 4225.971731499403,\n        \"min\": 1.37762959325451,\n        \"max\": 13766.0512393337,\n        \"num_unique_values\": 8,\n        \"samples\": [\n          4444.369694688258,\n          3974.7194188426347,\n          2000.0\n        ],\n        \"semantic_type\": \"\",\n        \"description\": \"\"\n      }\n    },\n    {\n      \"column\": \"default\",\n      \"properties\": {\n        \"dtype\": \"number\",\n        \"std\": 707.0316018525249,\n        \"min\": 0.0,\n        \"max\": 2000.0,\n        \"num_unique_values\": 5,\n        \"samples\": [\n          0.1415,\n          1.0,\n          0.34862375028048936\n        ],\n        \"semantic_type\": \"\",\n        \"description\": \"\"\n      }\n    }\n  ]\n}"
            }
          },
          "metadata": {},
          "execution_count": 7
        }
      ]
    },
    {
      "cell_type": "code",
      "source": [
        "base_credit[base_credit['income'] >= 69995.685578]"
      ],
      "metadata": {
        "colab": {
          "base_uri": "https://localhost:8080/",
          "height": 81
        },
        "id": "d4KvYAhOSmUb",
        "outputId": "d94e8d97-43ad-46ba-f0a9-4c8fec7dd44e"
      },
      "execution_count": 8,
      "outputs": [
        {
          "output_type": "execute_result",
          "data": {
            "text/plain": [
              "     clientid        income        age         loan  default\n",
              "422       423  69995.685578  52.719673  2084.370861        0"
            ],
            "text/html": [
              "\n",
              "  <div id=\"df-94ffd498-8d4d-4b45-aa3a-77cb664005d8\" class=\"colab-df-container\">\n",
              "    <div>\n",
              "<style scoped>\n",
              "    .dataframe tbody tr th:only-of-type {\n",
              "        vertical-align: middle;\n",
              "    }\n",
              "\n",
              "    .dataframe tbody tr th {\n",
              "        vertical-align: top;\n",
              "    }\n",
              "\n",
              "    .dataframe thead th {\n",
              "        text-align: right;\n",
              "    }\n",
              "</style>\n",
              "<table border=\"1\" class=\"dataframe\">\n",
              "  <thead>\n",
              "    <tr style=\"text-align: right;\">\n",
              "      <th></th>\n",
              "      <th>clientid</th>\n",
              "      <th>income</th>\n",
              "      <th>age</th>\n",
              "      <th>loan</th>\n",
              "      <th>default</th>\n",
              "    </tr>\n",
              "  </thead>\n",
              "  <tbody>\n",
              "    <tr>\n",
              "      <th>422</th>\n",
              "      <td>423</td>\n",
              "      <td>69995.685578</td>\n",
              "      <td>52.719673</td>\n",
              "      <td>2084.370861</td>\n",
              "      <td>0</td>\n",
              "    </tr>\n",
              "  </tbody>\n",
              "</table>\n",
              "</div>\n",
              "    <div class=\"colab-df-buttons\">\n",
              "\n",
              "  <div class=\"colab-df-container\">\n",
              "    <button class=\"colab-df-convert\" onclick=\"convertToInteractive('df-94ffd498-8d4d-4b45-aa3a-77cb664005d8')\"\n",
              "            title=\"Convert this dataframe to an interactive table.\"\n",
              "            style=\"display:none;\">\n",
              "\n",
              "  <svg xmlns=\"http://www.w3.org/2000/svg\" height=\"24px\" viewBox=\"0 -960 960 960\">\n",
              "    <path d=\"M120-120v-720h720v720H120Zm60-500h600v-160H180v160Zm220 220h160v-160H400v160Zm0 220h160v-160H400v160ZM180-400h160v-160H180v160Zm440 0h160v-160H620v160ZM180-180h160v-160H180v160Zm440 0h160v-160H620v160Z\"/>\n",
              "  </svg>\n",
              "    </button>\n",
              "\n",
              "  <style>\n",
              "    .colab-df-container {\n",
              "      display:flex;\n",
              "      gap: 12px;\n",
              "    }\n",
              "\n",
              "    .colab-df-convert {\n",
              "      background-color: #E8F0FE;\n",
              "      border: none;\n",
              "      border-radius: 50%;\n",
              "      cursor: pointer;\n",
              "      display: none;\n",
              "      fill: #1967D2;\n",
              "      height: 32px;\n",
              "      padding: 0 0 0 0;\n",
              "      width: 32px;\n",
              "    }\n",
              "\n",
              "    .colab-df-convert:hover {\n",
              "      background-color: #E2EBFA;\n",
              "      box-shadow: 0px 1px 2px rgba(60, 64, 67, 0.3), 0px 1px 3px 1px rgba(60, 64, 67, 0.15);\n",
              "      fill: #174EA6;\n",
              "    }\n",
              "\n",
              "    .colab-df-buttons div {\n",
              "      margin-bottom: 4px;\n",
              "    }\n",
              "\n",
              "    [theme=dark] .colab-df-convert {\n",
              "      background-color: #3B4455;\n",
              "      fill: #D2E3FC;\n",
              "    }\n",
              "\n",
              "    [theme=dark] .colab-df-convert:hover {\n",
              "      background-color: #434B5C;\n",
              "      box-shadow: 0px 1px 3px 1px rgba(0, 0, 0, 0.15);\n",
              "      filter: drop-shadow(0px 1px 2px rgba(0, 0, 0, 0.3));\n",
              "      fill: #FFFFFF;\n",
              "    }\n",
              "  </style>\n",
              "\n",
              "    <script>\n",
              "      const buttonEl =\n",
              "        document.querySelector('#df-94ffd498-8d4d-4b45-aa3a-77cb664005d8 button.colab-df-convert');\n",
              "      buttonEl.style.display =\n",
              "        google.colab.kernel.accessAllowed ? 'block' : 'none';\n",
              "\n",
              "      async function convertToInteractive(key) {\n",
              "        const element = document.querySelector('#df-94ffd498-8d4d-4b45-aa3a-77cb664005d8');\n",
              "        const dataTable =\n",
              "          await google.colab.kernel.invokeFunction('convertToInteractive',\n",
              "                                                    [key], {});\n",
              "        if (!dataTable) return;\n",
              "\n",
              "        const docLinkHtml = 'Like what you see? Visit the ' +\n",
              "          '<a target=\"_blank\" href=https://colab.research.google.com/notebooks/data_table.ipynb>data table notebook</a>'\n",
              "          + ' to learn more about interactive tables.';\n",
              "        element.innerHTML = '';\n",
              "        dataTable['output_type'] = 'display_data';\n",
              "        await google.colab.output.renderOutput(dataTable, element);\n",
              "        const docLink = document.createElement('div');\n",
              "        docLink.innerHTML = docLinkHtml;\n",
              "        element.appendChild(docLink);\n",
              "      }\n",
              "    </script>\n",
              "  </div>\n",
              "\n",
              "\n",
              "    </div>\n",
              "  </div>\n"
            ],
            "application/vnd.google.colaboratory.intrinsic+json": {
              "type": "dataframe",
              "summary": "{\n  \"name\": \"base_credit[base_credit['income'] >= 69995\",\n  \"rows\": 1,\n  \"fields\": [\n    {\n      \"column\": \"clientid\",\n      \"properties\": {\n        \"dtype\": \"number\",\n        \"std\": null,\n        \"min\": 423,\n        \"max\": 423,\n        \"num_unique_values\": 1,\n        \"samples\": [\n          423\n        ],\n        \"semantic_type\": \"\",\n        \"description\": \"\"\n      }\n    },\n    {\n      \"column\": \"income\",\n      \"properties\": {\n        \"dtype\": \"number\",\n        \"std\": null,\n        \"min\": 69995.6855783239,\n        \"max\": 69995.6855783239,\n        \"num_unique_values\": 1,\n        \"samples\": [\n          69995.6855783239\n        ],\n        \"semantic_type\": \"\",\n        \"description\": \"\"\n      }\n    },\n    {\n      \"column\": \"age\",\n      \"properties\": {\n        \"dtype\": \"number\",\n        \"std\": null,\n        \"min\": 52.719673210755,\n        \"max\": 52.719673210755,\n        \"num_unique_values\": 1,\n        \"samples\": [\n          52.719673210755\n        ],\n        \"semantic_type\": \"\",\n        \"description\": \"\"\n      }\n    },\n    {\n      \"column\": \"loan\",\n      \"properties\": {\n        \"dtype\": \"number\",\n        \"std\": null,\n        \"min\": 2084.37086090284,\n        \"max\": 2084.37086090284,\n        \"num_unique_values\": 1,\n        \"samples\": [\n          2084.37086090284\n        ],\n        \"semantic_type\": \"\",\n        \"description\": \"\"\n      }\n    },\n    {\n      \"column\": \"default\",\n      \"properties\": {\n        \"dtype\": \"number\",\n        \"std\": null,\n        \"min\": 0,\n        \"max\": 0,\n        \"num_unique_values\": 1,\n        \"samples\": [\n          0\n        ],\n        \"semantic_type\": \"\",\n        \"description\": \"\"\n      }\n    }\n  ]\n}"
            }
          },
          "metadata": {},
          "execution_count": 8
        }
      ]
    },
    {
      "cell_type": "code",
      "source": [
        "base_credit[base_credit['loan'] <= 1.377630]"
      ],
      "metadata": {
        "colab": {
          "base_uri": "https://localhost:8080/",
          "height": 81
        },
        "id": "5FhGycrPS2r7",
        "outputId": "b318d2ac-d20e-4fb4-eef7-a83f954640f6"
      },
      "execution_count": 9,
      "outputs": [
        {
          "output_type": "execute_result",
          "data": {
            "text/plain": [
              "     clientid        income        age     loan  default\n",
              "865       866  28072.604355  54.142548  1.37763        0"
            ],
            "text/html": [
              "\n",
              "  <div id=\"df-0bc41d06-65fe-48b6-927d-dbc2e1fb1c6d\" class=\"colab-df-container\">\n",
              "    <div>\n",
              "<style scoped>\n",
              "    .dataframe tbody tr th:only-of-type {\n",
              "        vertical-align: middle;\n",
              "    }\n",
              "\n",
              "    .dataframe tbody tr th {\n",
              "        vertical-align: top;\n",
              "    }\n",
              "\n",
              "    .dataframe thead th {\n",
              "        text-align: right;\n",
              "    }\n",
              "</style>\n",
              "<table border=\"1\" class=\"dataframe\">\n",
              "  <thead>\n",
              "    <tr style=\"text-align: right;\">\n",
              "      <th></th>\n",
              "      <th>clientid</th>\n",
              "      <th>income</th>\n",
              "      <th>age</th>\n",
              "      <th>loan</th>\n",
              "      <th>default</th>\n",
              "    </tr>\n",
              "  </thead>\n",
              "  <tbody>\n",
              "    <tr>\n",
              "      <th>865</th>\n",
              "      <td>866</td>\n",
              "      <td>28072.604355</td>\n",
              "      <td>54.142548</td>\n",
              "      <td>1.37763</td>\n",
              "      <td>0</td>\n",
              "    </tr>\n",
              "  </tbody>\n",
              "</table>\n",
              "</div>\n",
              "    <div class=\"colab-df-buttons\">\n",
              "\n",
              "  <div class=\"colab-df-container\">\n",
              "    <button class=\"colab-df-convert\" onclick=\"convertToInteractive('df-0bc41d06-65fe-48b6-927d-dbc2e1fb1c6d')\"\n",
              "            title=\"Convert this dataframe to an interactive table.\"\n",
              "            style=\"display:none;\">\n",
              "\n",
              "  <svg xmlns=\"http://www.w3.org/2000/svg\" height=\"24px\" viewBox=\"0 -960 960 960\">\n",
              "    <path d=\"M120-120v-720h720v720H120Zm60-500h600v-160H180v160Zm220 220h160v-160H400v160Zm0 220h160v-160H400v160ZM180-400h160v-160H180v160Zm440 0h160v-160H620v160ZM180-180h160v-160H180v160Zm440 0h160v-160H620v160Z\"/>\n",
              "  </svg>\n",
              "    </button>\n",
              "\n",
              "  <style>\n",
              "    .colab-df-container {\n",
              "      display:flex;\n",
              "      gap: 12px;\n",
              "    }\n",
              "\n",
              "    .colab-df-convert {\n",
              "      background-color: #E8F0FE;\n",
              "      border: none;\n",
              "      border-radius: 50%;\n",
              "      cursor: pointer;\n",
              "      display: none;\n",
              "      fill: #1967D2;\n",
              "      height: 32px;\n",
              "      padding: 0 0 0 0;\n",
              "      width: 32px;\n",
              "    }\n",
              "\n",
              "    .colab-df-convert:hover {\n",
              "      background-color: #E2EBFA;\n",
              "      box-shadow: 0px 1px 2px rgba(60, 64, 67, 0.3), 0px 1px 3px 1px rgba(60, 64, 67, 0.15);\n",
              "      fill: #174EA6;\n",
              "    }\n",
              "\n",
              "    .colab-df-buttons div {\n",
              "      margin-bottom: 4px;\n",
              "    }\n",
              "\n",
              "    [theme=dark] .colab-df-convert {\n",
              "      background-color: #3B4455;\n",
              "      fill: #D2E3FC;\n",
              "    }\n",
              "\n",
              "    [theme=dark] .colab-df-convert:hover {\n",
              "      background-color: #434B5C;\n",
              "      box-shadow: 0px 1px 3px 1px rgba(0, 0, 0, 0.15);\n",
              "      filter: drop-shadow(0px 1px 2px rgba(0, 0, 0, 0.3));\n",
              "      fill: #FFFFFF;\n",
              "    }\n",
              "  </style>\n",
              "\n",
              "    <script>\n",
              "      const buttonEl =\n",
              "        document.querySelector('#df-0bc41d06-65fe-48b6-927d-dbc2e1fb1c6d button.colab-df-convert');\n",
              "      buttonEl.style.display =\n",
              "        google.colab.kernel.accessAllowed ? 'block' : 'none';\n",
              "\n",
              "      async function convertToInteractive(key) {\n",
              "        const element = document.querySelector('#df-0bc41d06-65fe-48b6-927d-dbc2e1fb1c6d');\n",
              "        const dataTable =\n",
              "          await google.colab.kernel.invokeFunction('convertToInteractive',\n",
              "                                                    [key], {});\n",
              "        if (!dataTable) return;\n",
              "\n",
              "        const docLinkHtml = 'Like what you see? Visit the ' +\n",
              "          '<a target=\"_blank\" href=https://colab.research.google.com/notebooks/data_table.ipynb>data table notebook</a>'\n",
              "          + ' to learn more about interactive tables.';\n",
              "        element.innerHTML = '';\n",
              "        dataTable['output_type'] = 'display_data';\n",
              "        await google.colab.output.renderOutput(dataTable, element);\n",
              "        const docLink = document.createElement('div');\n",
              "        docLink.innerHTML = docLinkHtml;\n",
              "        element.appendChild(docLink);\n",
              "      }\n",
              "    </script>\n",
              "  </div>\n",
              "\n",
              "\n",
              "    </div>\n",
              "  </div>\n"
            ],
            "application/vnd.google.colaboratory.intrinsic+json": {
              "type": "dataframe",
              "summary": "{\n  \"name\": \"base_credit[base_credit['loan'] <= 1\",\n  \"rows\": 1,\n  \"fields\": [\n    {\n      \"column\": \"clientid\",\n      \"properties\": {\n        \"dtype\": \"number\",\n        \"std\": null,\n        \"min\": 866,\n        \"max\": 866,\n        \"num_unique_values\": 1,\n        \"samples\": [\n          866\n        ],\n        \"semantic_type\": \"\",\n        \"description\": \"\"\n      }\n    },\n    {\n      \"column\": \"income\",\n      \"properties\": {\n        \"dtype\": \"number\",\n        \"std\": null,\n        \"min\": 28072.604355402294,\n        \"max\": 28072.604355402294,\n        \"num_unique_values\": 1,\n        \"samples\": [\n          28072.604355402294\n        ],\n        \"semantic_type\": \"\",\n        \"description\": \"\"\n      }\n    },\n    {\n      \"column\": \"age\",\n      \"properties\": {\n        \"dtype\": \"number\",\n        \"std\": null,\n        \"min\": 54.142548226751394,\n        \"max\": 54.142548226751394,\n        \"num_unique_values\": 1,\n        \"samples\": [\n          54.142548226751394\n        ],\n        \"semantic_type\": \"\",\n        \"description\": \"\"\n      }\n    },\n    {\n      \"column\": \"loan\",\n      \"properties\": {\n        \"dtype\": \"number\",\n        \"std\": null,\n        \"min\": 1.37762959325451,\n        \"max\": 1.37762959325451,\n        \"num_unique_values\": 1,\n        \"samples\": [\n          1.37762959325451\n        ],\n        \"semantic_type\": \"\",\n        \"description\": \"\"\n      }\n    },\n    {\n      \"column\": \"default\",\n      \"properties\": {\n        \"dtype\": \"number\",\n        \"std\": null,\n        \"min\": 0,\n        \"max\": 0,\n        \"num_unique_values\": 1,\n        \"samples\": [\n          0\n        ],\n        \"semantic_type\": \"\",\n        \"description\": \"\"\n      }\n    }\n  ]\n}"
            }
          },
          "metadata": {},
          "execution_count": 9
        }
      ]
    },
    {
      "cell_type": "markdown",
      "metadata": {
        "id": "x23iAAKsQ-iU"
      },
      "source": [
        "### Visualização dos dados"
      ]
    },
    {
      "cell_type": "code",
      "source": [
        "np.unique(base_credit['default'], return_counts=True)"
      ],
      "metadata": {
        "colab": {
          "base_uri": "https://localhost:8080/"
        },
        "id": "qUUHMhoYqlCX",
        "outputId": "c98a8c04-da8d-43f8-f49e-8ab238ae80d2"
      },
      "execution_count": 10,
      "outputs": [
        {
          "output_type": "execute_result",
          "data": {
            "text/plain": [
              "(array([0, 1]), array([1717,  283]))"
            ]
          },
          "metadata": {},
          "execution_count": 10
        }
      ]
    },
    {
      "cell_type": "code",
      "source": [
        "sns.countplot(x = base_credit['default']);"
      ],
      "metadata": {
        "colab": {
          "base_uri": "https://localhost:8080/",
          "height": 449
        },
        "id": "SdDkQfhOrr6Q",
        "outputId": "2a9e3eb3-bc26-41dd-f1dc-422c87ebdbca"
      },
      "execution_count": 11,
      "outputs": [
        {
          "output_type": "display_data",
          "data": {
            "text/plain": [
              "<Figure size 640x480 with 1 Axes>"
            ],
            "image/png": "[encoded data removed]"
          },
          "metadata": {}
        }
      ]
    },
    {
      "cell_type": "code",
      "source": [
        "plt.hist(x = base_credit['age']);"
      ],
      "metadata": {
        "colab": {
          "base_uri": "https://localhost:8080/",
          "height": 430
        },
        "id": "dl0Db-iusg1N",
        "outputId": "cabf823a-4e27-42f2-839b-db7e2a6d00a0"
      },
      "execution_count": 12,
      "outputs": [
        {
          "output_type": "display_data",
          "data": {
            "text/plain": [
              "<Figure size 640x480 with 1 Axes>"
            ],
            "image/png": "[encoded data removed]"
          },
          "metadata": {}
        }
      ]
    },
    {
      "cell_type": "code",
      "source": [
        "plt.hist(x = base_credit['income']);"
      ],
      "metadata": {
        "colab": {
          "base_uri": "https://localhost:8080/",
          "height": 430
        },
        "id": "rXx9KfhxsogE",
        "outputId": "9386b2d4-60b6-43ab-9656-97ef0b23083a"
      },
      "execution_count": 13,
      "outputs": [
        {
          "output_type": "display_data",
          "data": {
            "text/plain": [
              "<Figure size 640x480 with 1 Axes>"
            ],
            "image/png": "[encoded data removed]"
          },
          "metadata": {}
        }
      ]
    },
    {
      "cell_type": "code",
      "source": [
        "plt.hist(x = base_credit['loan']);"
      ],
      "metadata": {
        "colab": {
          "base_uri": "https://localhost:8080/",
          "height": 430
        },
        "id": "7NNCbCVutSCw",
        "outputId": "0684ec1f-68a7-441d-a8c7-4b92e7280319"
      },
      "execution_count": 14,
      "outputs": [
        {
          "output_type": "display_data",
          "data": {
            "text/plain": [
              "<Figure size 640x480 with 1 Axes>"
            ],
            "image/png": "[encoded data removed]"
          },
          "metadata": {}
        }
      ]
    },
    {
      "cell_type": "code",
      "source": [
        "grafico = px.scatter_matrix(base_credit, dimensions=['age', 'income', 'loan'], color = 'default')\n",
        "grafico.show()"
      ],
      "metadata": {
        "colab": {
          "base_uri": "https://localhost:8080/",
          "height": 542
        },
        "id": "D8Yni-tDuxLN",
        "outputId": "d90170df-4506-486c-fe58-59136a170fbe"
      },
      "execution_count": 15,
      "outputs": [
        {
          "output_type": "display_data",
          "data": {
            "text/html": [
              "<html>\n",
              "<head><meta charset=\"utf-8\" /></head>\n",
              "<body>\n",
              "    <div>            <script src=\"https://cdnjs.cloudflare.com/ajax/libs/mathjax/2.7.5/MathJax.js?config=TeX-AMS-MML_SVG\"></script><script type=\"text/javascript\">if (window.MathJax && window.MathJax.Hub && window.MathJax.Hub.Config) {window.MathJax.Hub.Config({SVG: {font: \"STIX-Web\"}});}</script>                <script type=\"text/javascript\">window.PlotlyConfig = {MathJaxConfig: 'local'};</script>\n",
              "        <script charset=\"utf-8\" src=\"https://cdn.plot.ly/plotly-3.0.1.min.js\" integrity=\"sha256-oy6Be7Eh6eiQFs5M7oXuPxxm9qbJXEtTpfSI93dW16Q=\" crossorigin=\"anonymous\"></script>                <div id=\"3a679ef4-87da-439d-aaa7-22bd651689f1\" class=\"plotly-graph-div\" style=\"height:525px; width:100%;\"></div>            <script type=\"text/javascript\">                window.PLOTLYENV=window.PLOTLYENV || {};                                if (document.getElementById(\"3a679ef4-87da-439d-aaa7-22bd651689f1\")) {                    Plotly.newPlot(                        \"3a679ef4-87da-439d-aaa7-22bd651689f1\",                        [{\"dimensions\":[{\"axis\":{\"matches\":true},\"label\":\"age\",\"values\":{\"dtype\":\"f8\",\"bdata\":\"BQC6jC2CTUD6\\u002f3jf\\u002fg5IQPj\\u002f1JDUjU9ABwBKoUDgRkAHABAKl5UyQPr\\u002fHJ9dvExA+v9dTSPPOkD\\u002f\\u002fwXd4nJAQPv\\u002fL92Yv0tAAgArW2DjQ0AMAICm+K05QAUA42RoPE5A+P9vJ+RaOkD6\\u002f0jK08lOQAQAMnzMmUNA8\\u002f8Nh+Y3PMAEAOQ1islDQPn\\u002fpq6VbE5AAgD3nmTYTkALAADVehM6QA0AYBvowj9AAwBSCS42SsD5\\u002fzBN2klIQP\\u002f\\u002fHGk9\\u002fElABgAWU6NrSEACAMwyIAg7QAEAxeScP0LABQAcj4LrS0AAAAAAAAD4fwUA0rpmQUtAAAAAAAAA+H8AAAAAAAD4fwcAAljiEENAAQC+K6xUQ0ABABDIBFZCQAMA2gKyqjRA+\\u002f+fpa4XTUD5\\u002f27+zBxJQA8AMrIs1zJABQA7nohWQEAFAKTWxnJAQAYAPDYWUk9A+v+Q6iyFSED8\\u002f82+mEA5QP3\\u002fB\\u002f0zqUdAAQC2MUohMkD8\\u002f1z0F6BHQAAAr5RZC0lA\\u002fv8iRuD2TEACACdqdCdHQP7\\u002f4Rm12kFAAwDIkP0+PUD+\\u002fyzsyXpLQPn\\u002fEzWH20dA+\\u002f9aQOWuSED7\\u002f+95kAxJQP\\u002f\\u002fj1qRcTdABwCsWPH3P0AJADgtb9Y0QAQAlbuEbEJA\\u002ff9BJF7fSkAAANn62PhHQP7\\u002fmvULA09ABAC6ksg8QUANAC6yhhs5QPn\\u002fEux6w0RA+v98BkJFTkAHACQe+j02QP7\\u002ff9pCmTVAAgCE8XHISED+\\u002f8vDIjFKQA4AhP9rNzVA+f9mBnCXQEAEAAkKsWlGQPj\\u002faXQ7mzxA+\\u002f\\u002f+7KeBSUD6\\u002f9L79SROQAQArmn4bExABwCVOVmdTkD+\\u002f10elwlJQP3\\u002fIbBb6kVA\\u002f\\u002f83ZHXrSkADAG6mk4NFQAoA9sHLCThA\\u002ff8zRAbUQEAIAEDCAsczQPj\\u002ft\\u002fvElTlAAwAcAWM2M0D3\\u002f1dizI87QAwA2tg4EDlA+v9U1m+4TkADAF4su6pNQPz\\u002fFNdIP0xABgAFbpCwT0D7\\u002f\\u002fk\\u002f365LQAIAVkHs1jxACAB4vb+VT0D9\\u002f8\\u002fAK95PQAgADluZPTRABgBgxPEtOEAFAOVFZlNCQP\\u002f\\u002fc6r3\\u002fEdAAwDq4Bf2SEAKAAoZX7U5QP3\\u002f4sHd00ZABAD\\u002fV74lRkADAGb09+g9QAYApVKgXkFA\\u002fv95KlMoRkD9\\u002fzBSy8FBQPX\\u002f7\\u002f4FhDNAAwAmjRmGSkALAOYfwv00QAkACqosPD1ABABLJo9UQ0D9\\u002f3C0\\u002f7tHQAYA7ypq1k1ACgAolPWVOkAEAHV8PEtDQAoAdruO5z1ABADK+sSrQUDz\\u002fyNtadI3QPT\\u002fZ0duUz1A\\u002f\\u002f\\u002f7LgJgNUD\\u002f\\u002f6mGOHoyQAIA1LQviTZA9\\u002f\\u002fVMLLTNkD7\\u002f7Y68cJNQP\\u002f\\u002fcySXtEpA\\u002fv9hqX9gR0AEALYg2olGQPb\\u002f4YKLYDhA\\u002fv+L8UpsPUD6\\u002f9XenqdKQAQAnybhPEBAAwCvuigsSED+\\u002f4gliMpKQAYAmsB5yDhA\\u002f\\u002f95otkOQ0AMAFIlKzU1QP\\u002f\\u002fWzvPkTZA+f\\u002f7+6WnQkAOAASnNDE6QAEACL1vHklAAAB2SzKGQ0D7\\u002f3fu+xk6QAYAxMyvbU1AAwDnl7CTSED6\\u002f1VpM0NOQPr\\u002fkBCdakRAAAB2k8zgTED7\\u002fwHKNQZGQP\\u002f\\u002f\\u002fKp3lUlA\\u002fP+F9bccPUD\\u002f\\u002fxDRZjxAQAYAO4y8E0dA+\\u002f804gaeS0ANAHzz3ug7QAYA0sOJjUdA\\u002fP9+fUq1REAEAOEtmixNQAwAEGL2FD9A\\u002fP+vqMxDTkAAAL+5zY5AQP7\\u002fdcqc3ztA\\u002f\\u002f8m2HPrRUAGAP5SIkw9QA4AnJXYGzVABQDlEBBqRUD7\\u002f8f9Yfg8QAIAzUr08kpA+v9tOXgzTkAGAEWz+LFIQP\\u002f\\u002frUHdQElA+v9EedvcRUD+\\u002f0BnKLBPQPz\\u002fYNtfykxA+\\u002f8adfSBQEAIAGYGbpw3QPP\\u002fSyhKoTNADACKLCG5OkD8\\u002fyQeK3hGQAUA5fj9uklAAQCRDipCTkDy\\u002f6neaJU0QPj\\u002fF5bGCjpAAwD1SVUBS0D9\\u002f0mIwFxMQAQAu7tbzEtAAQDbJOrGRkD+\\u002fz3udBI9QAAAzh8kS0pAAwC9qFocRkAGAGH1L+9KQPr\\u002fMOceY0ZABgB23AXHN0ACAAyZCtlKQP\\u002f\\u002f\\u002fZg9pzxA\\u002f\\u002f\\u002fHvTG3QED\\u002f\\u002f5+Nv9VKQAIAP3dTNkpA9\\u002f\\u002flG\\u002fY0OkD9\\u002fxIXZKNCQAYA15+WOE9AAwBM6xdyPED7\\u002f65+BflCQAMAFT8uw05AAAAyeehWR0ABAKF10k9IQAIAftZQBkVAAQC4lTtjRUD8\\u002f3itYRNMQAEAwnqb7T9A9v+NqJF2OUAAALZnjYNCQAUAk8XZs0pA\\u002f\\u002f+D0XApNEABADpJVH1JQP7\\u002ftGdMoU5A+f+6VYsbQkD9\\u002f1qsAnhOQPr\\u002faxinmEtA\\u002fv80dIehREAAAM7a1nZJQPv\\u002fMrU0rURACwCkx0JNO0D3\\u002fwV\\u002f4eg\\u002fQPv\\u002fGvIMCkhA8\\u002f+z1mQ6NEAEAHj1D+s2QAQAEOt2JkpABQAqdtGlR0D9\\u002f0p\\u002fSntIQPP\\u002fPwqvgzlA+\\u002f+a2bRRTUAKAFRpc3w2QP\\u002f\\u002f+veAe0tA+v+4K2a2RkAEAH8NIfdMQAMA5kDytU9A\\u002ff\\u002fid1bESkANALQ+kc07QAAA8QccOURA9v+L0J9lMkD5\\u002f+uFz+U1QAYA17gUs0JAAQAC99o0SUAHAC6WhFxGQPj\\u002fOeVoTzpA+v\\u002f6EFVVTkD2\\u002f7Mqj8c4QPn\\u002f0IBzPk1AAAChP6ilSUD9\\u002fzOpsN5DQPz\\u002ffLCIgkZA+v97Or7OSkABAFO11MFFQP\\u002f\\u002fK6tsnEtADgAKLLbrPUAHACkZmFVCQAMAhrRqDU5AAQA5YJiwTEADAHGw3ENLQAIAxLHhaz1ABgBFXayAR0ADAJ5r1QJPQP\\u002f\\u002fxwCGikpA\\u002fv9br3ArSkAHAMseLYFDQP\\u002f\\u002fIroYxktABgCU1BhsREANACRD3Cg5QAEAM+TiDUlABADUrvg8N0D8\\u002fwxk30xMQPP\\u002fZfwnmjlABwBPqcePRkAKAHJZ09EzQPb\\u002fsRL+aT5ABADJlJCDSEABAAIPZdJMQPv\\u002fEnhxn0BABwC7uSnLS0D9\\u002fxJf+v1OQP\\u002f\\u002f5PTlM0RAAgCd9ZkASUAAAA8mK\\u002fxEQPz\\u002faH04OUdAAwC2WHYPSEADAKm0fI9GQAMArwAeZ0RA\\u002fv9aVXHMRUD\\u002f\\u002f+wrYa5KQAEAiEWr40JAAwDqUFe3M0D6\\u002f6kKCaU2QAEAOSIm2kdABgAAcNl+NUD7\\u002f+8LtthJQPL\\u002fr5GhBTVAAwBf++OVS0ACANayyUZAQAEAHF1q80xA\\u002fP92kfauS0AEABaeHyhJQAsA5nqUFDtA\\u002fv9F0BQlNUD7\\u002f7Jj0IBAQAwAXCsFTTRA\\u002ff+H4jYAT0D\\u002f\\u002f7Qx2clKQAQAMo9U90lA+f+YSJGkQkD7\\u002f2hRHvxHQAYA1hbnN0pABAB4IMZPS0AFAHQhPEpHQAkAZCjV3TlADQBSKMwCNEAFAEv3ckJNQAQARlOqJUFA9\\u002f+Zg2RINUABAHkT05hFQPr\\u002fqyYI+k5A+P\\u002fQ4F8GT0D8\\u002f6GZOIk+QPv\\u002fN52OwkZABACaTqLyQEABAJUlLrVDQAIAzSSIC0VABQCoV\\u002f8aNEAAAN+uznRIQP7\\u002f8TAT4EhABgA9OiEaSUADAA66T5A6QP\\u002f\\u002f1Zyxb0ZA\\u002fv+AANg2T0D\\u002f\\u002fzBA37dNQAcA8KOaa01ABADoiDc+SkAFANmY4lBLQAMALiCAmEdAAACQBWniO0ADAES3nao6QP\\u002f\\u002frHeeekxAAQCSWY9EPkAGAKyHyXtKQP7\\u002f0vHUrUlABwCEKhSCSUAEAEbqWfIzQAEAanhyXU5AAwAsrgAxSkACAJXlkjNAQPj\\u002fR+uQ1DJA\\u002f\\u002f8VFcMnPED9\\u002f6a8qoFFQAQA0VosYEVAAQBR7210T0AAAID7oyRAQP7\\u002fpM4GBURAAAAZSt6kSkALAKaQQjQ4QAUACENvEDtABgDJFFp5S0AAAGVrGXNKQPv\\u002f1kLC505ABwDgQTB+NkD6\\u002f9AMYkNJQAYAbLy8oTxAAwDTBPSESkD\\u002f\\u002fwwEct5CQAAA5iCe3ktA\\u002fv99h1hrSkABABTh7bZLQAAAtm98n01ABwCutT\\u002fGPUAAAF66y5g\\u002fQAQAmVaga0xABQDg15d+Q0D7\\u002f82Mw8tBQAUAMeL1vUBA\\u002f\\u002f88w+QnTED7\\u002fwSInt1GQP\\u002f\\u002fOhs3QkxA\\u002fv9E8WzGSkDz\\u002f\\u002fd6kx09QP7\\u002fP99pJ0VA+f9uJ1oIT0ADAN2nk65IQPz\\u002f1npViEhA+f\\u002fI9oiCSUAGAAVFg2xEQPL\\u002fY6jBgjdABwBAwVaDN0D5\\u002fzFcpiM\\u002fQAEAXcUu0UxACgAM9683PED\\u002f\\u002f4SiRtRIQAcAaR0Ra0tA\\u002fP+9VcNPN0ACAK4biGdGQAEAYmFYmkpABwC4H7ypMkAGADNAgAZHQAcAkJll9k9A9f\\u002fbRgH8NkAAAF9ML8VHQA0AlGgJlzxA\\u002fv8csoDhR0D6\\u002f6vENodJQP7\\u002fVLV0GkZA\\u002fP8Q55QzSUD0\\u002fwE2SRMyQAUAiooKgk9ACAC6kvc\\u002fPkAIANKljAU7QP\\u002f\\u002f9PyV40JABQASq1LgSkAEAO3rLEBCQAIAFQp0+EVABgAl26t0REAHADaJQzA8QAEAdEAeXEpA+\\u002f9eICanRkD\\u002f\\u002f8IyBw5IQP7\\u002fjPxkMkFA+f8xwfiBQUD9\\u002f+1hztcyQPv\\u002fn4ji1jlA9v\\u002fhzIZCOUD6\\u002f5nxCWJHQP3\\u002fpuWbBUlA9v+LdhlrOEAOADaamGo5QAgAGACX2ThA+v9pT0s6QEADAJXMQ\\u002fpDQAEAOQ96NEZAAwAxPol7RkACAALxP1BMQPP\\u002fyWN60TxA\\u002fP\\u002fcBoYHTkABALX7WYBHQPz\\u002f2KSauExA9\\u002f+jeesjNEAFAPjWWJNHQPL\\u002fZYm7tTRA\\u002fv8RncL3SkD\\u002f\\u002f6UQTJNLQAkAokBP2DhAAwBDR2H7Q0AAAJ7fRuNBQAcA\\u002fDbvgztA9\\u002f\\u002fXvXxTMkANAFp5juM+QPn\\u002fH6Jn60dA\\u002fv8BAfwqSkAFACcy6KNAQPT\\u002f7U75YTpA\\u002ff9gYnzmT0ACAJSMS3dFQAMAiThrqkdA+v+0eDTaQ0D\\u002f\\u002f7LPHB1DQAQAtkvk7jtA\\u002f\\u002f930upQTED\\u002f\\u002f23M8DRAQAEAgqQGXkVAAgDSvvRLNUD8\\u002f03mch5GQP\\u002f\\u002fUu7QSE1A\\u002fv+h1jkuREAEAMQS5hRAQAwA5qgD6DVAAgAuLt60SED2\\u002f0X4G18zQP3\\u002fUIqICUJA+P8XlK1fTUACAC80HpBLQP7\\u002fFWjeq0pA\\u002ff\\u002fVIdZQPUD8\\u002f3GCWC9PQAsA1DLSoD5ADQAEKlSHMkD9\\u002fzMGrGBOQAYAzqKtGDRA+v+r00DCPED5\\u002f8OA56FLQPz\\u002fx7tBREBA8\\u002f8TP0W8PED0\\u002f3uvNaA8QPz\\u002fbEiIdUdACwAgqzJGNUAFAALHmYBIQAQA1teAl0dA9v8X196mOkD9\\u002f+\\u002fpiidLQAkA3LN1uz9AAgDqh6K9TkACAE7lhF81QPb\\u002ftTOO8zdA\\u002ff9RTeTGRED+\\u002f5lpe31EQAUA7HOMVUFA\\u002ff+LJ4IyRUD8\\u002f3BnE0hCQPz\\u002fjut1p0dAAQB0+O\\u002foRED8\\u002f79hk9JOQAIA1XKFSk5A+v\\u002fNcUB8QkADAEQZ2007QAsAIPiOoTtAAACWhRTjSEAGAF1ClvNLQAIAXmzilkdAAgDN7WiJQED\\u002f\\u002f3OXm4Q5QP\\u002f\\u002fq3GSwkxA+f\\u002fp+CzEOkAHAJSWriVPQPf\\u002fS+eBfjpAAwD8TlIgQ0D7\\u002f5fkTPk3QAwAZARFnjlABQCkD8vbS0AEAFJNHu1NQP\\u002f\\u002fyZvmJktA\\u002ff\\u002fDpGGWNEAGAFWeeMlGQPr\\u002fdrE0F0tAAQBqyfTxRkAGAORH1fhJQPj\\u002fVfowiDxABwAMH0J\\u002fM0AMAHgoexA5QPv\\u002fpqh6Q01A\\u002fv9jMGzCS0AGACP\\u002fd7JCQPr\\u002f6DvLkklA+\\u002f+K9dsoSUD6\\u002f4wQI7pEQAYAUi+14kFAAgBQ\\u002f2oLSkD1\\u002fyd1jmoyQAUAYQcwBUNAAQD42O5xRUD0\\u002fz0lw4c7QAcAx6a8xUpA9\\u002f\\u002fJ0kdNOUD7\\u002fxdS0RZAQAMAdGpbf01A+f8hYe\\u002ffNUD7\\u002f81HPmtMQAMAwAQyWTZAAwBYcjMjRUD6\\u002f2Nj2ihPQPv\\u002fCM9mrk1AAACIG36ER0AGANsLXt1IQAkA4jtA8DtA\\u002f\\u002f\\u002faUJE6Q0AFAHtrjsVKQPz\\u002f7pRtDUtABgAnSx7RTUAEAI+pw+dFQAYAx4ro9kZABADvEzFBQED9\\u002f+NDKmpPQAEA9bhQ10BAAwDmmbMnPEAFALKut4hHQAUAqk8jdE1ABwARshc4R0ADALGsgQdBQAAANyRsxUtA+\\u002f\\u002f3iuduO0D7\\u002f9KBRrNPQAEAYs\\u002fOdE5A+f\\u002fwtqOzSkD5\\u002fx\\u002fpFeMzQAYAXi6PqTVA+f9ViEgBQUD6\\u002f5VIAE4zQPv\\u002f1hzKJklAAgBwbPJBNEACAIS7omhLQPn\\u002f06I+MjtAAwC2PnvTQUD8\\u002f\\u002f8sgAdIQPz\\u002fjcQL+UBAAAD3WpQtRkAEANkY1RhMQPv\\u002ft6YcdztA\\u002ff8yamiMTEALAKaq2aUyQAIAAhJCNEJA9f9H+r9kOED7\\u002f\\u002fIPAPBEQAAAX1GZnEdABACIAAakQ0D\\u002f\\u002fylAePhEQAYAFQ8FqE5A\\u002ff9GDxWSSUAEAM9rXB9AQPz\\u002fTJi8EE9ABgB9TVx5T0D9\\u002f1XOUNZKQPj\\u002f+cPPwz9ACAAidI\\u002f8N0ALAO47WkM2QAMAzw15xUJA+\\u002f\\u002fFnjauS0ACAApbZcVMQAYAp97Cp0hABwAN2f1hRUAEAGRN3opEQPz\\u002ffBecTEdABwAxzoRXQ0AAAK66O\\u002f9EQP3\\u002fRjXJJkRAAAD4Su\\u002fBT0AAADiv7MFIQPn\\u002fgq3tPkNA\\u002ff\\u002fjnPeKNkD+\\u002f4pBZ3VIQAUAfftlOUtA+\\u002f8VVbM4QUAAAGoHdxM3QAMAqOrd7EBABACx3D02SUD\\u002f\\u002f2X5qrg1QAIAJkXPLEJABwCl4iD3SkACAAwMr+xLQPr\\u002fHbqCq0hACwAUZcr7PkAAAHb8ZExAQAwALmpAVDNA\\u002ff\\u002frprDRSkD\\u002f\\u002f4MnoXJJQAQAXxE9WE9ABgCk9NLSSUADAExzkZ9HQAgAWIuUhzlA\\u002fv98s+lVRUD4\\u002fy\\u002fF1xQ3QPr\\u002f6ROQoDpA9v+t9qshO0ANAHxyFPk3QAcALU2o20FA\\u002fP8wPt+2SkD8\\u002f3Aa9w1GQPz\\u002fJetKsj9A+f+hXjSbS0ACAAaej2s1QAMAFMR0Ck1A+\\u002f\\u002f9ygc6RkD8\\u002f4WWG5xMQPv\\u002f\\u002faZIlEtA\\u002ff878s8ZT0ABAL9jtUVOQAQAsxXVM0VAAgDyFnMuN0ABAAiUEq9KQP3\\u002faAQdfUhA\\u002f\\u002f+znhWLQUAKAEyviFk6QAAA1jtQREpAAgBvCWNTSED8\\u002f9onsbFJQAEAlczsdUNACQDKQNXOO0ACAPCG39tEQPL\\u002fgf3Paz1A+\\u002f\\u002ffHDhwQ0ACAJjYWUxBQAEAgL3NrzhAAAAfjXdQRkAEAJZf9\\u002fZAQP7\\u002fg0PtKEhA+\\u002f8LqIrRPED+\\u002fzj8kmJPQPz\\u002fjQIK0E9A\\u002ff+BbgS8REAAAM5Xk\\u002fFFQPv\\u002fJBnl80VA\\u002fv+D0Ki+SUD\\u002f\\u002f69sIu1EQAAA2dBnvE1A+v9UxE\\u002faTED7\\u002f2Jrg7BKQAYAbc7JsU5A+\\u002f+jC9B1QkAJABhvOT01QAkADo\\u002fP+zZA+f\\u002fJes7sOUD3\\u002f2l9S08yQAYApxZCHEFA\\u002f\\u002f90I+xPRUD8\\u002f7Xamq9OQAcAxOXdpj5A+v\\u002ftrieNOkD5\\u002f8gVBsNFQP3\\u002f1tNq5kBAAQBTm0kwRUD\\u002f\\u002f76i+KdPQAQAko\\u002fNQzhABQDTMXrxRkD9\\u002f1eGyW9EQAQA9njOXjtAAABf0mP6RUD5\\u002f8fkS7U9QP7\\u002fjOsxpkFADQBsnwJaOED7\\u002f3uWlERHQPv\\u002fpLtnT0tAAgCXy1LqQUACAFbPyxdIQAgA1Xp7gE1A\\u002f\\u002f+CoOq4SkD9\\u002f4mOan9MQP\\u002f\\u002fgwafo0xA\\u002fP8fFtybQkD6\\u002fz7\\u002f+iVEQP\\u002f\\u002fxKmo1k1A\\u002f\\u002f+YNE8uQEAIAGaock05QPn\\u002fo8Il6ERA\\u002fv8YLSoqR0AFAKEMiZJNQAcA7m1YjDlAAACK2HzSRkADAJAaQUZEQP3\\u002fatF6DEVA9f+TgJ6POkD7\\u002fyVo1DRGQAEAmZULBExABADx6CEyQED5\\u002f8jjZMpLQPj\\u002fLUl0mDlAAQB1x4TbQ0D6\\u002fyGMzR5IQPr\\u002fCd66I0RA\\u002ff+hOE\\u002fbOUD8\\u002fyWBuj9GQAEAwD730ERABwDgNZ8IPUD+\\u002f6Lhb4lHQAYAEvs7Qz1AAgAoRxMrNkAHAM7v3VNOQPr\\u002frD\\u002fMQ0ZAAwBYBNVMNkD8\\u002f37OAJdJQPz\\u002fBN3ZM0FABABP6qsKS0D+\\u002f1vEiTZNQPT\\u002ftV0AHDZAAABuNpFITEACADu6HetOQAAAB3YE1UJA+v+aaionQ0AIAH4WAqg5QAEAFsKXwD5ABQAg\\u002foaaRUAEADvNOONHQAMAASwztUZACwDuyBUgP0ACABqh50FBQP7\\u002fCZvFMURA\\u002ff\\u002fzzlV4S0D9\\u002f5D4vY1KQPv\\u002f6nJBMkZAAACvjaLZSkABAPw3YdtIQPz\\u002f1LlgI05A\\u002fv9bfI8mRUAGAGWThLVHQP\\u002f\\u002ftjooSk5AAACu+PnmQED\\u002f\\u002fzrUTNZIQAcAAI0NjEFAAAAj+\\u002f9RSkAEADbqTFg2QAAA0zrzhENA\\u002fP9tBrpZQUAIAF7UaJo\\u002fQPr\\u002fKALWnkRA+P+dqp71M0AEAE5jQVQ5QPz\\u002fk\\u002fimSERADgBUGemiPUAGAPIKUb5NQAMAQt7qRz5A\\u002ff\\u002fypSrqRkD+\\u002fwhCithNQAQAQgB1G0BAAgCDd3A0TEAFADoLSfhJQPv\\u002f+8oM6DlA\\u002fv8EchxjREACAJLWmzxAQAIAN28znUpABADD5FQ9R0D+\\u002f9yoTZBHQPr\\u002fjDnk7EFABwAVGX0HQkD9\\u002fzKvLdpNQP\\u002f\\u002fVjRhmUpAAQCSwNb4REAEAAKeVMdIQAQAnlVPR0ZABQDxmkRKTkD4\\u002f90nmmVNQP3\\u002f84u98jxABgDuB0atPkAFAIo5xMlMQAIA3mSt7UtAAwA4VjIAP0ABAOwQ8IRGQPb\\u002f2aFsHjRA\\u002fP+sRqIVR0D5\\u002f84okx9KQAQAeBbutUdAAwDsdLmeRED9\\u002f+Mzm7NAQAMA5bJ0EU9A+\\u002f\\u002fHWGDgR0D9\\u002f04a\\u002fmFMQP7\\u002fERAn9jZAAwC5i1S+TED6\\u002f1ntpGVNQAUAnLOjMD1AAQD6uwkRRUADACyeOVVLQPv\\u002fkwRkDEhA\\u002fP9FDZdcQUAJAKYkdo80QAUAMqysjD1ABgDEeKglOUAGADyPNwlAQPr\\u002fTB\\u002fyGERABQCwovtUS0D5\\u002fyAHQBVOQPv\\u002f35gc70xAAQDAMPn5OUAHAPC2mnRLQAAA5SzdLEFADgDUfTkgN0ADAMk0UP1BQAIAHw09MktA+f8bFeaCTUAOAHZlvbs8QPr\\u002ffNIbdUVA+\\u002f8hUSSTR0AEAFcNexFNQAEA5h3APEBAAgBTJN\\u002f6TkAEADYL18k4QPj\\u002fi90fsjJA9f+J4RdfOED5\\u002f9sNOHw+QPP\\u002fr4zTnTxA\\u002f\\u002f8zqIPcR0ABADIFPxJLQAYAO3tlvEFA+f8DDlaiQUD6\\u002f5n2T5NEQPv\\u002fG4IfszVAAABy1rLaNUD6\\u002fyDyyvJKQPj\\u002f0Q0VvTZA\\u002f\\u002f\\u002fdxIbMSkD8\\u002fy2p8y9CQAUAAV1LvEZABABfW\\u002fAkSEABANWFAWZFQPn\\u002fVXdxJTZAAQAMU31qR0AEAFAKm006QP\\u002f\\u002f6\\u002fX0TkRAAQBM6Ud8TkD9\\u002f1OcNGRFQP3\\u002f+N57JEhA9\\u002f99vtGVNEAEAIaDBU09QAgAzJrqezZA+v+VHWY9QUAOAEyhJco2QAAA+760RkJA+v8ImmB0RkAEAONB2vhDQPv\\u002fE1\\u002fQMkBABACVpHK+T0AGAHDAWFZCQAQA7nWUAUdA\\u002fv+rkMPuNED\\u002f\\u002f01W3a9PQPv\\u002f1\\u002f76w0RA\\u002fv\\u002fQo5wKSkABAEhrmCIzQPX\\u002fZ\\u002fsNnzJA\\u002fv8U4W94TUAFALIaCc07QP\\u002f\\u002fL0nF3kJAAQB7rKbHQED+\\u002fwJdKNpBQA0AkiMdljlA\\u002f\\u002f\\u002fLW5baOUAEAApAJTUzQAEAFEZQz0JA9v\\u002f1lQIOOUAHAA4aCzlGQAQAsIw+gUtA+\\u002f++KAaUS0AEAHqCCnNIQAwA2sSIXD1A\\u002ff\\u002fJ8OakS0AAAEG0HIRGQPr\\u002fgipOME5ABgBNIDunSUD6\\u002f1tifWU9QAEAEyPMr0lA+f\\u002fPjQNQT0AAAJNe83lDQPv\\u002f16IEPUdABgCLeBhxRUD8\\u002fwd7UZhPQPn\\u002fE4atZzRACQASQNQbPEAGADP4yQhLQAEADUHjIUtAAAAs3tXfMkABAAYdSfFPQPr\\u002fenXBa0VAAwAf1\\u002f0KSkAEAOZI5RQzQAMABF9FrkFA\\u002fv9riyYmQkAAAMoT6R5JQAUA3lpMZ05A\\u002fv9uUCL3T0D9\\u002f8tBmNFIQA0A6DHE9TxA+\\u002f\\u002fQaa0tQkAAAOCe2asyQA4Awqa+SjtABAAHkFq0S0D+\\u002f8dA4cJBQAEAQg9Q\\u002fjtA+f\\u002fAUtN0QUD+\\u002f53d9g0\\u002fQAMAPZoilENABQCEeo5OPED0\\u002f6fjCmQ\\u002fQPv\\u002frR0PKk9A\\u002fP\\u002fvi0PYQED3\\u002f1V9cEg3QAMADmC9oUxABgDGyV1TSUAGABKuTzozQAAAUE8dlU5ACABU6+bNNED4\\u002f6zfJ9lLQPr\\u002fg\\u002fuv\\u002fTRAAAB4fdp8N0AIAGjTR4c7QP\\u002f\\u002fc1SbKEtABQCFdLGLQED9\\u002f6elnvJFQP7\\u002fzRZpv0pABQBq5LLwRUD6\\u002f1Fj3q5LQPv\\u002f1XZaU0BA\\u002fv9Ng6xZPUAEAOyDy0wyQAgAbMR7IDRABQAJeSNJTUABAPXgORlPQPn\\u002fItf210ZAAwAOl6DaOkAEAMyKNAo0QAgA6ugVojpA9\\u002f8PL19mPkAEAFFJH81BQP3\\u002fS4QmtThA+v8L7DvpNkAGAKxgbZo1QAoArJFoPjhA\\u002f\\u002f+8AIEDRkD7\\u002f9RRTQ9NQAQAM0jwLEhA\\u002fP9t51TdRkD2\\u002f3PgzDU7QAUADhpDxklA\\u002ff\\u002fSIu7EQUAEADoiK+ZDQAcAnNsDZzVABgC2Q0CaM0AFAHidCs1EQP3\\u002fc52WEkBA\\u002fv8N\\u002fUhBTEAGAM\\u002fQsqlIQPP\\u002fBcRjYTVA8\\u002f9RA+ghM0D9\\u002fyq3PFBKQPv\\u002fN70HczpA+v\\u002f1VUKRQUD8\\u002f1brjmlEQP3\\u002fWnb7g0BA+v9zEJx4TkAOAMzti\\u002fA2QPv\\u002fbMb1Z0BACgAsNPtwN0D3\\u002f3W\\u002fQd02QAgA3kJNLjdAAwCQQ\\u002fItT0D6\\u002f8F1Z5U2QPv\\u002fVeJRhkZACgBaEqCMP0D9\\u002f4FkJPo9QAcAFKzhLUhA\\u002fv\\u002fl7fyFSUD9\\u002f5n6vINJQAYAjssfOjhA\\u002fP9NB0GxT0D\\u002f\\u002f\\u002fZGyM9KQP3\\u002fu2UeL0RABAAiQ1u6SEACAOW2xlBMQP7\\u002fsd5FS0VACACS1+b\\u002fPkAGABwImZE5QPn\\u002foahrt0lA+f8iXafhSkACAAyx3NdMQAUAmd1A+ElA+v8Bo1VcS0D9\\u002f1MzZE4yQA0AAOo2bDVABgB32xpKQ0D8\\u002f6Sya3NEQP3\\u002f970MlzdA\\u002fv98Tn8WSkAEAPaVWtFHQPz\\u002fI0i7VD5A+\\u002f98NRFUS0D6\\u002f\\u002fyaplVBQP7\\u002fzjLmJ0JABQDV8toGSED5\\u002f\\u002fQj0NBDQAIAh+xPMUxAAQDIt\\u002f6\\u002fSED4\\u002f7TxOx9DQPv\\u002fxDAPUEtABgAduMD+TUAGAGJJfbJJQPv\\u002fLkpxdExACADYUuelSED9\\u002f\\u002fEnZGtAQP7\\u002f9cM3CE5AAAACW2WdQ0D0\\u002f6VhBT88QP\\u002f\\u002fIPrgI0NA+v8T4B6hOkAGAMQkJUpNQAAARlUU9DdA\\u002fP9zA9JkMkABACJJy2c5QPz\\u002fWCbvTUVA\\u002ff8Ck29TSEADAKz1nAxNQAYAl06hmEhABgA2GKRgOUAEAGZxtIFOQAQANP3RDjNADAC2ApMDP0D\\u002f\\u002f0LmSE5JQP7\\u002f4YIRjDxA+v+9+TBSQ0ANAAbFHKozQPz\\u002fIyRo1TJAAADgnu3qQ0D9\\u002f3Or1N1FQPf\\u002fw1amyDNACgDGNWp4OED9\\u002f\\u002f8TTV02QAMAPjTRrUBA\\u002fv9enP0BSUD5\\u002f31uby81QAMAY5iYdENABQDxSyNKQUABAPjfZao0QAQAmnfXmENAAgBkihwzSEAFAChhwSdHQAUAqbACrkBA\\u002f\\u002f+74H12QUD9\\u002f\\u002fbqdcdJQP7\\u002fZKqsjk1A\\u002ff83UIXyMkD5\\u002fwbAHUNAQP7\\u002fU\\u002fycUkFABwAE5JARRkD7\\u002f+T09lFKQPz\\u002fs00YHUJA+P\\u002fVUvj\\u002fN0D\\u002f\\u002f6YHKphOQP\\u002f\\u002fTquK2EJAAADukAFpQ0D+\\u002f0ySUSFBQAcA9k9kfEdAAQBxgMDbQUD9\\u002f4kGbWo4QPr\\u002fuvFkIktA+\\u002f\\u002f4BxZ0T0D8\\u002f5FacT9EQAMASIKBBzxA\\u002fP893+6oSkD9\\u002f7+1mvVBQP3\\u002fFtucWkRA+v8fm4wlQUADACdCK2RPQAEAMGK3HU9A\\u002ff8uqz1CR0ALAGyBZqE1QAEAEnaRyz9A+\\u002f9O2vMvSkALACzCmmY\\u002fQAMAqdP9qExA+\\u002f\\u002fphB+oRUABAEEeOSlIQAQACOXb\\u002fkxA+f+1tKsBM0D\\u002f\\u002f0\\u002fGOxlFQAEA0RwvYEFA+v\\u002fBePAhPkD4\\u002f4xHWhpKQAcAEPlf7j5A\\u002f\\u002f8UcSgORUAGAEbHRgVEQP3\\u002fQyMt5kpA\\u002ff+x+il9SkAKAIpBmgE2QP3\\u002fOV0tR0tAAwDssqvqTEAEALx1H09CQAMA3Z2\\u002fAkhACgCqnUqnOED6\\u002f2kGqK1GQPv\\u002f58WTE0tA\\u002fP8JnqvHTUD8\\u002f1wtCA9JQAcAhrJo90dA8\\u002f\\u002f\\u002fWs7oOkD+\\u002f12\\u002fKuRMQAgANt52XDNAAwCkXfTvQkD8\\u002f8\\u002fhEdE3QAAAEr+8p0JAAAAkCvDMREAFAPDthWE9QAUAnvGgDkBABAA9F4PtSkAHAKcPxx1KQAUA+UxMUkVAAQC5a9vATED8\\u002f+D0D\\u002fZEQAUA3X2t2EhAAwCJvxdpSkAFAEp3q1dDQPv\\u002fY+it5kJABgCdv2UzSkD+\\u002f5G3T6A0QPr\\u002foDCbWEZA\\u002f\\u002f\\u002faPaWzSED9\\u002f141rhhCQAEAvamXwkxAAACsZllJQkADADVmXPJHQAIAH308VkxAAAAyV5b4OUAAACerLCBDQAIAFEI66jhABgBvE5ILQED+\\u002f+3Xi\\u002f08QPv\\u002fhkJqKkRA\\u002f\\u002f8IreIpT0ALAOgT4Aw7QP\\u002f\\u002fl3pHE0tA\\u002fP8s7UruRkAHAPWYFZJMQP\\u002f\\u002f8wDiBkxAAAA\\u002fa7pxSkDy\\u002f33Ja80\\u002fQPn\\u002fXf9GtUZAAwD913UrQkAGAF0XRAVPQAQAb5WJP0FA\\u002fv+HGuqHQED0\\u002f+ucatoyQAsAhsZrbTNABwDdhZgiQEAFAEsF5bZIQAcAPjf1EjhA\\u002f\\u002f9fnj9dS0D+\\u002f1k3ExtGQPv\\u002fVFXl+UdA\\u002fv+7MJjtSkD9\\u002fxeuT7xAQP7\\u002fGzOpWDtA\\u002f\\u002f\\u002fTp5JlR0D+\\u002fzDNOuZNQP7\\u002fjYOnT0BA+\\u002f8GNE7gTUABAJSIyvdIQAQA5jon0DJABgCfkI3lR0AFAFuM9jBBQAIAzTA1pUtABACZ2ktuTUD\\u002f\\u002f3RQP2FOQAYA7yEaQkBABABX8zMQRkDz\\u002fxe7j84\\u002fQAQAqmRQHjRA+v\\u002fWXh7aRED7\\u002f0ebhqlIQP7\\u002fmoDGsUdA\\u002f\\u002f8BMYxJNEADAKwLampBQPr\\u002fH95UEkBA+v+ktjl\\u002fQkADAOXH5SBMQPX\\u002fd3+2JzxA+f8niz7nO0AOAMpIj\\u002fw0QAQA94P4L05A\\u002f\\u002f93X5ZIQUAHABZw645GQAAAoIlx30FADAB8mnGqPUAOAGQyZBM7QAwA7lYNcTtAAAD875roRUAGAFUriMpJQAUAGlkIbUFA+\\u002f8c2XWhQED6\\u002f1mUQ+tCQPn\\u002fVQ4F4kFA\\u002f\\u002f9Hk6UlO0AKAFDbLUE0QPr\\u002fBL6F6kVA\\u002fP9ElzOHSkAEALeUONBAQAYAZvEt8k1A\\u002fP9thcubT0D9\\u002f7DaQjpOQAIAZvquVz1ABABIbTA5TkD0\\u002f7nnYOw6QAQAd27x1k5ACwAGDA+oNkADACg3dFtKQAcAJE3aWTdABQAGcyQlQ0D6\\u002f7llJFlBQPT\\u002fgVkG+D5ABQDI\\u002fZqGRED5\\u002f+cmuYtLQPf\\u002fy2XxnDNA+\\u002f8fN5KPTUD7\\u002fyv7o95OQP3\\u002fAuzglEJA\\u002fv\\u002f5\\u002fB3SS0ADAMGe3F9LQAcA7ukgkklA\\u002fP+zvYd\\u002fN0D6\\u002f\\u002fBh3+pMQAUAUJ3ghjZABQAaZSG5N0AMAGSAGZw0QAsAHLoWQTdA\\u002fP8huWffR0ADAEZcioNBQAMAYImthk5A+f9DiFzBPUD6\\u002f9H0IUc\\u002fQP\\u002f\\u002fnfeU4UpACwAGoO3dO0D6\\u002f55WSJ5DQPb\\u002fo33ttjpA9\\u002f9zlPSIM0D8\\u002fwk8RlFFQPz\\u002f2stxj0xA8v9Jnzl2PED7\\u002fwcVq+FKQPj\\u002fEfPQKDpA\\u002f\\u002f9eze2VT0ABAKXGDvZEQAoAhPxfhz1A8\\u002f8XmenZNkADAF0o3LpHQPP\\u002fn344fj9ABQDk+qBVNkD7\\u002f\\u002fw52c5IQAYAeym6rkVAAwA+lHF4TEALADJmYf01QPr\\u002fy+QB+jNA+f+Ff5\\u002ftOkD6\\u002fyUqBolCQAIAohq1OUhAAABu2UmCREAIAMZtCo09QPP\\u002f\\u002fTdIFj9ADQD0a\\u002fsVNUAGAG5x4HhOQPv\\u002fO4FE1UxA\\u002f\\u002f\\u002fzvUmRTkD8\\u002f8VNMNpAQAcAUEuh0zRA\\u002fv9knp\\u002fOTkANAAIedLg3QPP\\u002fl5YucjJAAgCXbQtTT0D3\\u002f48lOVA7QAMAgGZwPjNAAQBufPaGT0Dz\\u002f93\\u002f0kc1QP3\\u002fF6hwmEZA9P+\\u002fGyxGPUD8\\u002f7TsdNBGQPv\\u002f+jXAxUZABgBoVdv3RED7\\u002fyUrdhVMQAIAFSuKuUdA+\\u002f\\u002fjyqOLP0D8\\u002f+nDNbVBQP7\\u002foHHxjkVABQAgExQGRUAFACkAttlFQAAAZx7omEtA\\u002ff9qn7mDTUAFACntccdPQAEAnihpCT5ABAB5TKbERkD7\\u002f96jU45KQAUA3IegXkpA\\u002ff+eQ4ueT0D8\\u002f2Ui4RM\\u002fQAIACkYYNUhABQDkatgISUD3\\u002f50Ju0k2QPj\\u002fZRycLDxABQASnw3tQUD5\\u002f4DFSIJMQPz\\u002f6PxX7URA\\u002fP+dYAaeP0D8\\u002f13wE9AyQP7\\u002ftH15QUFA+v\\u002fN6wM0QUD7\\u002fxEPuHBGQP\\u002f\\u002fLaZBzUVABgDeEKG7PUAHAFAOSOdJQAMAcd53TUFA\\u002fP+vSJQjTkAEACx\\u002ftNgzQAMAmjrGrElA+f89ec0KNUAEAPbap0dBQAUAVkGTf0FAAwB0Py3FSkAEAJITqXs5QP7\\u002fAv3L7UNABACzkp3RS0ACAH5hl0VGQAEAquEFqDZAAQAQWk7\\u002fO0AFANIPeltJQPz\\u002fBmlcUUxABAAAGCVKM0D1\\u002f\\u002fG7zG44QAEAkQk4JElAAgBuKaMDNUAEAJV7Ic5EQAIAP12goEJAAAB7q2bYSkAGAO1XPotMQPv\\u002fsrd7o0pA+f\\u002f\\u002fyEYlTkAEACbnZlBLQPv\\u002fzNOf0EFABwDQlkuqT0AGAES+k1c3QPn\\u002f\\u002ftG4qE1A9f\\u002f5Jv41NUD5\\u002f0U2QUc4QP7\\u002fqLpE7ktAAQCwlivkR0AAABCed7RIQP\\u002f\\u002fykYE\\u002fkdABQB9W\\u002fLVTkABAA9KkjVJQAQAQHMa5EtAAwBUg6ggTkAEAHm\\u002fohdNQAMA6arDkUFABAAyBL5KNkAHACajzdEzQPz\\u002fia90b09AAgDrU87ATkAFAJv8mDhBQPf\\u002fPR336jpA\\u002f\\u002f9mJ9S8RkAGAByyrNRLQAcAqAkWEkZAAADXwuZKT0D5\\u002fxZMLYpPQAEAnctgj0VAAgCOTkjLQUAGAL6tYZpNQPr\\u002f7cs3XU9ABQDthMFiTED8\\u002f0RloglKQAYAhMz0pU9A\\u002f\\u002f9Wu02xTED9\\u002f6vNMVZAQAYA3o0RQkhA\\u002ff8COOEpS0D7\\u002fz2K+1dOQAUApVpQvkRABAAJMDEUQkACADQCpYs9QPz\\u002feAP2cU1A\\u002ff8jYRFAMkD8\\u002f+SmRQBLQPL\\u002fU5n6mDhA\\u002ff8Bkl2VNUAHAFhTpfVBQP\\u002f\\u002fM2PaQ0pA+P9nq2vqN0D\\u002f\\u002f\\u002fsb\\u002fhBJQAYA1DhicU9ABAC\\u002fqNlzSkACADk6ADtCQAMAJ9EbZUxA\\u002f\\u002f+PNE09Q0D6\\u002f\\u002f8OLGY2QPr\\u002fmdvMd0NABADuzeGZRUD8\\u002fz22oUo7QAEA2SLqCkhA\\u002fv91HDPPRUD8\\u002f\\u002fRXdfFHQAUANHnSpEVA\\u002f\\u002f+6DSN6RUAHADbpe\\u002fE8QAIA1A\\u002fS10VAAAAXjMo+TEAFAEh1LxpCQAEAapC44EBA9f+P5lokPkD0\\u002f\\u002fHjIdc1QAAAO5AkvUJA\\u002f\\u002f8MBq+lT0D6\\u002fxItZsJAQPv\\u002frvGVhklAAgB41NqLOUAMACIoytg7QP\\u002f\\u002fRGC300FABQCjSlpeQkD5\\u002f9rhi2hAQPv\\u002fXQLkoU1ACABOGK0sOEAAAP+GA7dNQAIA\\u002fcFYpUJAAABu14g1PUD3\\u002fwOoIyY3QAAAcY0maktABgBP1uqjREADAH7GGRJGQAYAjDfeVEVA+\\u002f\\u002f03zaLTkAGAHsBxepEQPT\\u002fzV9ueTVA+\\u002f86qHt8SED5\\u002fz8VymA9QAUACgyHjk9AAAA\\u002fmBHSRUD7\\u002f4wsftBAQPr\\u002f5dXXwEJA\\u002fv9phORgRUANABgsxKk4QA0AdLH2GT5AAwD49kZLO0AGAI6BwJBIQAAAH0\\u002f9Sk9AAACamG7QRUADANFgE+RHQAAA9hk\\u002f+EVA\\u002f\\u002f\\u002f3OOSPSED+\\u002f20rmWxOQAQAJ6JnWUtA+f9302gIOkABAGG9WZZDQA0AEs1a0zVABABCquAGRUD5\\u002f5dQG1s1QPz\\u002fHfej60hABwCffonuQED8\\u002f1xWoQxAQAsAkqUoaTxA\\u002f\\u002f8bMQweT0ADAHBO6ZoyQP7\\u002fsPyor0VA+v8qAlGyQ0AFAFgMsLVFQAYAneeyDEdABgBLEpagSkD0\\u002f3f2nLYyQAYAXSpYGUJA\\u002fP+b2GUzQED9\\u002f7934KM4QAQAAvbJkkZA\\u002ff\\u002fpLcK0RED4\\u002f5\\u002fGeQIzQAwA5lmKBTNAAQBWQ5EuRkAGAL5orBdKQPP\\u002fwfR24DdA\\u002fP\\u002fpkTwnQED+\\u002f8XS\\u002f1M\\u002fQAIARovaXkFABgB6LcIEQ0AHADQUm09EQAMAD8Ms1EhA\\u002fv862FKhQUD6\\u002f8MlFCM9QPr\\u002fJtKy9EhABwCxafBBS0D7\\u002fwoZNSZMQPz\\u002fUj0b+0NABACCWGE1QkD\\u002f\\u002f8MA4A01QPf\\u002fN0KZBTxA\\u002f\\u002f9vBxl6PEAFAB9c\\u002fZVEQPv\\u002fV5Mjh0hA8\\u002f+tMt6DPkD9\\u002f+exFik2QAgAED00bDxA\\u002f\\u002f8bV2TVPkAGAJNI7FlLQAoA7po+bjpAAAD\\u002fnoEDR0D+\\u002f13hoCRCQAIA7UvO4UFA9f8N2B97O0AIADBSAmY7QP\\u002f\\u002fpaYHmUZAAwBMFv70MkACAEP9KXVCQPv\\u002f\\u002faak30lA9\\u002f9VpW2KNkAAAACBgpZDQAYAAvUoWkBA\\u002f\\u002f8FyIWjRUD9\\u002fz\\u002fLrSlMQPL\\u002fyy4\\u002fzjlA\\u002fP8vZBlhPED3\\u002f4Mr0UczQPv\\u002f6yJpKD5A\\u002fP+0r5+mQ0D6\\u002f5xl81NPQPT\\u002foReE0j9A+\\u002f\\u002fObuD2Q0ACAPvo6TxDQAoAEOjzCDVAAgDc7DtGS0AEAI7uXk5NQAMATk2ssDlACQC06ja6OkAAABBXxfI\\u002fQAUAxBkw5EZA8\\u002f9bWBujN0D6\\u002fwFGanVOQPP\\u002ft1c9nzhA\\u002ff\\u002fndYGQOEABAOLX7N1JQAAASzSmYEdADQD6kei3N0D9\\u002f7tkPtlGQAUAkZlrL0JAAgAnhDMyTUADAFDaYntJQAUAkkT18EFABwAgmsCETUD6\\u002f3oYmsNJQAUAQl4cFT5A\\u002ff+f0RBHQUD+\\u002f1HnZHNBQPf\\u002f3f3IOjJA\\u002f\\u002f8LFuy3TUADAC3kpDVMQAUAgjLJ\\u002fTpA\\u002ff9dru8sNED8\\u002fzkrncU6QPn\\u002f5\\u002fGqbDpA\\u002fv8Jvf\\u002f0O0Dy\\u002fyElBM84QP3\\u002f1j88YEVA\\u002fv+5GwhOQkALAETSxuk5QPz\\u002fIPbPKkFABQBcEfTBRED+\\u002fw0cCghNQP3\\u002fF0HtK0VAAwDvBKeSSUD\\u002f\\u002f50MsrE4QAEA8J\\u002fqaTJA8\\u002f8R2xvaOkD\\u002f\\u002f2LIyZdCQAQAcySIxkBAAQDIyypOSED+\\u002fy3J2NI9QAEAs1nmJUFABwCeDxGdQ0D1\\u002f\\u002fEuES0yQPz\\u002fx\\u002ffa9ElAAAAmLk6rNkAEAMpGaXMyQAcAbnemGzRA\\u002f\\u002f+lEl2GPUD8\\u002fxF1CpxMQPf\\u002fW0XKbTJA9\\u002f+jG1j5N0D\\u002f\\u002f9QYrJNEQAAAFvB2Ez5A\\u002fP9Fy7r0RUD5\\u002f5AVBzhPQAMA2G\\u002fkaUBA+\\u002f9EkTW1SkD7\\u002f\\u002f0gQEwzQPz\\u002fhN4IE0hA9f\\u002f\\u002fvnN7O0ADAFz1\\u002fKVEQPr\\u002fAbsjhjNAAQBLSNrTSUD+\\u002f9XCAf85QP3\\u002fexRlckBAAgBDeWJ9Q0D+\\u002f\\u002fi\\u002f0lpNQAAAzmCDhk5AAgD3aSJ7SkAGAJdMnNJOQAQASODU9EVA+v\\u002fhJyRoTEABAIPIlhVKQPr\\u002flIpiOE1A\\u002ff9+zxS1QUD\\u002f\\u002f9R8Lo5KQAEA3MHpE0ZA\\u002fP\\u002f5dh70NUACAKA+WbdHQA0AkEz\\u002fyTZA\\u002f\\u002f8smT54TkADAAydXy5IQAcAkVl0uEJACQBQoKTgM0AGAOOv34lDQP3\\u002fV+\\u002flYTNA+v9jqzAjT0Dz\\u002fxvj6jE2QAIANFoOLjNA+\\u002f8bfU3sR0ADAObS48BLQAAAmxpzI0ZAAQBZVW1aRED8\\u002fzy8FphGQP7\\u002f+dOE+UBA9\\u002f9dyk0OMkD\\u002f\\u002f3X0jRdKQAYAgqaxpExA9f+B1sZ+NEAAANgYYWtMQAQAyPUPN0xA+\\u002f8DldrCSUANAMIBIS07QAQAIHPNf0dABQD1F1wUSkD8\\u002f+DwXndNQPn\\u002fd+klDUBABgDU8DMHR0AAADJH21o8QAkAktWBqzlABAArSURUS0AGAGabeahGQAAAQd9SWEJAAgA1hgIUTkD7\\u002f8dVS6FKQAgAyBxrxzpA+v846GPUQEAHAFaKWawzQAkAPs9QZzZABABS1b8pRkAFALL2VW83QAIAQlcGN0pA\\u002ff\\u002f42jIWSUADAGGTawhJQP\\u002f\\u002fR2KNlkhA\\u002f\\u002f8X1l\\u002f3TEAGAKtIkS5NQAYAcn\\u002fEHURACgD22llfM0D\\u002f\\u002f\\u002fZXM\\u002fNCQPz\\u002fw7DGukJA\\u002fv9hECf7RED8\\u002f0Wm\\u002fwU5QP\\u002f\\u002fyx38mEdA9P\\u002fBGud0N0AGAEpb16xKQPz\\u002fksUfU0lA9f8vI1BeO0ABAJHjp\\u002fJAQAkA7D7xOj5ABAAGnLV4O0D6\\u002f9LWqpBJQP7\\u002f6ucF10dACwDA7grMPEACANJJ22g1QAIA8Dc26T1A+\\u002f+z1356N0AEAFN2PW9IQAQAXpXnM0NABgBrPNVPTUAMAED++hg2QAYA6y1tJkBA+\\u002f9Y3oQwQUD2\\u002f4FrAZ4zQPz\\u002fBxkA3U5ACwAQwL7WO0AAAIr3gfhBQPz\\u002fMr9YkEtABgDu3ZsVM0AGABpLLtBMQPv\\u002fAgftIU9AAgD8tJXvQkD9\\u002f7nm1SxMQPv\\u002foiknPUJA8f+P1SAOMkD\\u002f\\u002f5YVp1NMQPv\\u002f38od1DtABQBCwd2\\u002fPkD7\\u002f032ZQRHQAQASzuwWUJA+v86s9D3RED9\\u002fyqpikdEQAUA2o8opzpABAC8EX0aQUAGAPK9JDdBQPn\\u002f1+zj\\u002fkhA\\u002ff\\u002fswRHhREAAAP7liZZLQAQAKinhgDNA\\u002fv\\u002ft6J7hTUAHAGAzfMxBQAAAcjZP0ExA+\\u002f9d2OmYOEABAOAlNqBPQAMAPDePXkxAAwANWhVEQED4\\u002f8Ebro4+QAEA3DG5UktABQA4vMQfTkD+\\u002f\\u002fKt4SlCQAAA\\u002fcU+bEVABQAJeZO3T0Dy\\u002f5lha9M2QPz\\u002foEYI6EtADQAqTGngPED7\\u002f2FAxGNPQAUAtRilQEdA+v+MU3uIRUD\\u002f\\u002f7S+OAxJQP\\u002f\\u002fNTBAHE9A9f9hOj\\u002fmM0AFAIEQmcxOQAwAfA3evjJA+v+z83KVTkAJABjp+N89QAQAjqRzAE1ABACy9+7KP0D7\\u002f4LXYl9LQAoA3N\\u002ffhj9ABwBmlK60SkD6\\u002f+p0khlBQP\\u002f\\u002fLVz+pkRABAA3ySRfRkD\\u002f\\u002f7PC3IRIQPz\\u002f1LtRqUVABQCUDsqGS0D9\\u002fyf8QOZJQAQAwUVb7E5A\\u002fv8vwlRuN0AEAF4sy2VBQAEAi94A0k9ACwCUwYMgNUAFAAmOkPxMQAIAYlaH6UFABADjQDXyTkD+\\u002f9W7HmZIQAkADF1XUjRA\\u002f\\u002f90Dd9pQkAAAJpogkw5QPz\\u002f9PGNPEdACADAaAMJSUD7\\u002fyJVI8lEQPr\\u002fkSqV9UVAAACNbajKRkD9\\u002fyeL+Y1BQAMA3UKd2k1A+v\\u002fbxoXrO0AGANjmAYpDQAUAsGT5V0RABgC2yVT8QUAGABkdhQ9PQPT\\u002fmZfZXDtA+v9AyKZ1RkD+\\u002fzK3sMVGQAAAXjZozEJA+\\u002f9eTrVZS0ANAGj953wzQP7\\u002fGVJ3kjxA\\u002f\\u002f8eOw1nTkAGAGoLl+5PQPv\\u002fdbOjmz9A+f\\u002f2yJCmTkADAJ46JOU5QAUA8N5jXUJA+\\u002f8a0utbQEAMAIIaZYs+QPr\\u002fdYJDhktA\\u002f\\u002f9alBdCRUD3\\u002fy1DSu02QAEAlGf08ExACwDunmvDPkAAAP7q35U+QPz\\u002f20D1OUdAAwCz1I3xT0D7\\u002f+v3HgJNQAQAr02e8EZABABOpNDATUANAGqMNwU9QP\\u002f\\u002fPUbOyTdA\\u002ff91vRe\\u002fMkD9\\u002f3cDKIdFQPz\\u002fPhsCY0RABQBkX4H1OkACAJZLx4tAQAEAq9gj8UZA\\u002ff\\u002f6qVj3QED1\\u002fymmajY5QAYAl0xQHElABwAyC4xnO0D8\\u002fy3jLzk2QP7\\u002f94CuL0VABgDMELkYT0D\\u002f\\u002f2LZ4GRJQAYAzQ9a+k1A9v\\u002fXaxKCMkD7\\u002fwXwv8lEQAkAkLDOaj1AAwC18aBrT0AGAPZHATE4QAUAIuwWGE5ABgCMT4gDSkACAC1+vhxLQAYAVINvDzxABAACeuHzQkAJADRwKa85QPT\\u002fg9jS8DpA8\\u002f\\u002ffr3RQOEAFANTQDu5GQAAAwEy1aEhABQAQa9zVQ0AHAF5Q8dZOQAYA3Z\\u002f7m09A+\\u002f8vB+MTSkADAJVpejZCQAIALtiFXTdACwCY0lCfNED9\\u002fwNfV4VFQPz\\u002feQ7Mt0NAAwBM0zH4SkD6\\u002fykiCdhAQAIATfPQcUxAAQAMnSBGR0ACAA64VtJDQAYAHC2hBkpAAQCqZeUZT0D3\\u002fxGpnV01QAIAFe3H1UVAAQAQbUaUTkD+\\u002f\\u002fNrb4BEQPz\\u002fuZnh6UtABgBy2O39OED+\\u002fzmYKppNQPn\\u002faD12MUZA+P\\u002f9t+x5O0D9\\u002f4tjj3VCQPr\\u002fJLa34kRABwAZKfYVQEAJAB5b5j08QP7\\u002fNdd+4UFABACg7sZuS0D8\\u002fyTUG1JMQPv\\u002fd1ARDU1A\\u002f\\u002f8rMeHtTUAFAHPFBzJKQAcAUu\\u002fpHkpAAwBwKao3O0D7\\u002f6t2QadAQPz\\u002fnocclEZABAD0OHQhTkD\\u002f\\u002f1GIJARMQPT\\u002fKavY7ThABgAG7qsjQkD2\\u002fymqh\\u002fszQP3\\u002fWKh5nERAAQCoHcApQEABAK6mxgxDQP3\\u002ffrNo8klAAwAQWHX1TUD3\\u002f4O5kNg8QAoAlLxFcjxABQA1bzcAQkD5\\u002f3moOcRLQAMAHJ+1qDJA+\\u002f8KyM5iRkAEAPf\\u002feMVGQAMAfvH\\u002fLzhAAgDB7FWJREAFALJwFSE7QAUArcXliUlABgA\\u002fyfx9QkD\\u002f\\u002fxvpuYxAQP3\\u002f8b4D3EVAAgC6OPdcTkD\\u002f\\u002fyOBcg1EQPz\\u002feKuYqERA8\\u002f+T0aSzMkAAABdcin1FQPn\\u002fyLEDp05A\\u002f\\u002f+PkSBCSEAFALOqQyhKQAUAeuKyjDxA+\\u002f96nn4tTEACAJN937NMQAYAz9wjlUJABwC7JihfRED9\\u002f9Oh0LE3QPb\\u002fe\\u002fLAMjxABQD0S4CdQ0AHAEGjL3VBQPv\\u002fV\\u002fXkVUNA\\u002fv9wKvHgSUD+\\u002f0CvfppFQAYA1wbm2EdABQA0IeVOPkAGADRxEnxLQAQAp8i1u0dADAB2hRNYP0ACAF15Mh5LQAEAoA1dzUdA9v9t\\u002fU8xP0AAAHNdbUJEQAIAi+P+EkhA+\\u002f+7w1ZKSkAFAHFX7v9FQAEApCUh\\u002f0ZABgDs2t+pQED8\\u002fxEaiHFOQAIAfXA0kkNA\\u002ff8MMqZPQ0AIAMZK24o0QPz\\u002f5ctGRThA\\u002f\\u002f8dAKtAOUD+\\u002f\\u002fT+Ag1BQPr\\u002fKpMKxUZA9P9JgwVAN0D4\\u002f0nmadI6QAIATig14EJA\\u002fP\\u002f5s1NCSED7\\u002f7etfyk3QAMAuAxlBDxAAwBezmP8T0D8\\u002f2z0iBNMQA==\"}},{\"axis\":{\"matches\":true},\"label\":\"income\",\"values\":{\"dtype\":\"f8\",\"bdata\":\"\\u002fn8wzb4m8ED8uUnt5M3gQAAIKHGl\\u002fOtAAVwsGLHa5EACsYIFi1jwQAjY3xoEUthAAHbygcul50ANZEUWCe3XQAFWqo\\u002fc2eNABsx62\\u002fd82ED7vbpKbVDvQAZioRubBe1ABdwUE0vP7UAJ4JW1\\u002f6DaQPpRv7m+yu5A+ucIQbeo6ED9MWXzlEPlQP47MZtFLuVA+SNaXZcP1ED6Mwpx68DsQP3LFS0ydtZAAeCQuWdx30AKYEZxVMjWQABE2EFzMdtAASIrfb\\u002fi70D+n\\u002fcpdCvnQAS6uz7h5u5ABOZAt+5T5kAFXOPFOQPtQPlhmIVcu+xAAz4aShuy50D+GxBdk\\u002fnWQAJT42hOa\\u002fBA\\u002ft3LPdvA7EABGkopHx7sQPbbRTp+rNlA\\u002fBsEahhY2UABsF3hBbTfQAYO8wQiv+1AAqwrWaL02UACqObxQS3wQAMOU5FutOxABTzDrTaK7kD8C0kFfc\\u002fXQP4uo7HBkPBABCyDnLNf5EADNFcXH3XkQAC2U1l3q+VA9ctcjznA20ADVBqcsrTwQAQWEHD5kOFA+3PFVIsf7ED7U5qEePzcQP\\u002fbnwkeOelA\\u002fuOA7jVU2EABKsReOlLnQAd8DXgLutVA89sfhR4H3UD\\u002fcYpb+nXpQANSrSE3oOtAAOK1qZhj4kD7SeFzeUPiQAVoJWYs6d5ACMDN2Oz130AAJE+tad3wQACuZTzG1eNAAQ6ujCBS4kD5P3O+8wPeQPVD8HhsRthAA9B0c4Yz4ED9rlIpRETwQADmAdSd1OJAAFiaRRB14ED6872DT9frQAV+nePcyeNA+71yYH\\u002fR6EAD3pb4+ejjQPuHX9hkFetABYbB8KDw4kD9BVTiWlvsQANaH2fDOuxA+O91VdcQ5kD9EZ8HPfjhQAGZfHi8zPBA\\u002fSPx6dLE3UD9+RCdTPDlQP0NGJzuUuVA9OcbjDr32kD8+St26izqQPwZH9yVIeBAAHpot3pi70D576eZdfTdQPn1aqgztexADRxIZl+P1EADTq6C7Y3kQPvzq7gVl+hABEzrLld+5EABYDAg7TnpQARMev85LOpA\\u002fkemo\\u002f815UD7SYuzoSDpQATOioOlKORAAuAd\\u002fve17kD7t3UlBfrrQPqrt\\u002fWCte1AAH7mlVFC50AHmGK3lG\\u002fXQAX8ALbz8+5ACWgsR6MH1UAMbMXC6ZfbQPqNLEkE0uFA\\u002flNMUvVT5ED+5KiqpsnwQP+bhvTQXt1AAPTXktUq5ED7NTtN+GLjQPxl8\\u002fEi1+5ABeANjMTK7kD8G5rkcNngQPinBUytTNtA\\u002fSvWOSw\\u002f4kAGMvgBAnHlQPlfb5GxO9ZA+KuZkNMY1UAD+JcDHUDuQAEo1a6LouFA+r\\u002fTvnGL2UD\\u002fw22GmNbZQP69QdxE4vBA\\u002foGCOy5C40D7jx0b4lrtQAO+5IivJ+tA\\u002fVsLXCwX4kAJTLwnhJTWQAB65TzE0udA\\u002fW3M7JXf7EAHWvxkMgHrQPknVqxdbdlAA\\u002fjNwnmw70Dyd9D0R3TaQALAOjCvI+ZAAiCoE3NI2ED6b9\\u002fD4pPbQAMueJNCv+lA+N+1uINN3EAEOCGDqK\\u002fhQPwf2vrjYeBABA4cZGtu5UAHVNJXnAvmQAQ2oGMgjuxA\\u002fokM3r788EAB8sPf6cDpQADUn5U6BvBAAi5vBv3f4EAFIEQCUWftQAWooY0xPelAAuqiqLM250ABUnVgObfuQP19W6wJBvBADCRUo\\u002fYZ30AGaJYt3ErbQAHsoEXXZO5ABpK6CFab40AFfpvBcaDsQP0FVKIhVOBAAoxtLXkm60ADYPxAmFHeQAJ0KDKD1OVABTAWUxHL1kAMgGqliz\\u002fYQArUKNWvr95ABRCqe6eH7UDyLxhgwW3ZQPqLaiNbq+FA\\u002fROazINr40D6\\u002fRFARfXgQP8Doe6ek9ZA+vG\\u002fHxtz6ED9WIj\\u002fkHjwQPvlbDk03OJABHRQc28V5kD\\u002fqz66vLDvQPv\\u002fvjv9y+NA9if5EVEk20AF1FLL+N3tQAR8kER1je9A\\u002fBFxQDhb4kD+34PJFBvhQAAgFeGOf+xA\\u002fDHo7jnO60ADqKlONpHaQAWApLQQJNVA9uNG13ZZ3kAFdlyEXcPkQPQzn9pPBt9AB34I9Zhc4UACYidgmtXpQP39eDSkHOFAAgB1QwW55UAFVN78\\u002fVnkQPrnb09+q+pA\\u002f7Ol8LOU4kAGckUt1ZnvQAZOErjiEuVA+XcQrGDB3ED8J9zzWDbZQACNNrVNM\\u002fBAAJZUDoWs60AEGmheAcntQAUozw1Iw+xA+0VJ66Q26EAEZDZQs5njQAC8BZvu6t5A\\u002f6+UF0eY7kABqNF4DyzjQANUIgxkxuZADPzF0NfM3UD\\u002f6wxOqsbvQP0r4s77uO1A\\u002fjs7psZs2ED+qNf3crPwQAIAGw\\u002fuWeVA\\u002fZc+6Jdb5kAAM1UskArwQATw3PWsrN9ABRj4ZDVh7ED9xVs7UITuQAI0xHSuetlA+XN+CJ6h70ADr2R0RgPwQADlOEL7DPBA\\u002f5nOsJAl4kABRvTzENPvQAL6fFnx5uBA\\u002feW34e7Y7ED+Mw1+ZXnrQPq9+UfaBeFA\\u002fZ+1piuN7UD8GZUNmaTkQAYq069lxuJAAQIXeiN05kD5zaSEDefoQAwwoOXGyN5AAzDkTyv620D\\u002fq79jm97aQAHISwZAzNpAAXOO3dOH8EAHUkahFtniQPND7ueSOd5A9svfqfRy2kD7Y3WyLwLVQAIIKR2A\\u002feBABwBOJFl02kD431C02arYQPo34wjq8+ZA93vCj6rh00ADsNmfw5PwQAY0YxJPkupAArYNwBEL6UD00yOB5onbQAfYfV7nrdVA+tstB0+q6ED8Gdqwx83gQP0xP8wiYOJAAepcIXD46kD\\u002fdbKocULmQATmInC5wulA+u8q3Nka5EAEHL1AYhXZQAYgWWRTfNtA\\u002fgvo\\u002fMZv6UAAfupZDGLgQPrBa+EdQ+JACezhZ24Z1UAERhqJXBvsQAAockQRau5AA3Sy6NA71kAHZODFwnPUQACc1wu3I9RA+nepRJWm50D3B3mWqO3aQAWurJYrte5AAlhtamZm4kD9\\u002fWuTztfqQABiBcbCgOtAAPOQIm4I8ED7I\\u002fJ3V8XoQAV8KU4dV+9AAwiNLzUo8EACWCi3YWLYQP9lo5Ww0epAAxjj93OS8EACHJ5tuIzwQAaUo6Jn6t5A\\u002fIcoUuTZ4UAAfOAZcjfsQPpBczs3w+RAArC5x+Vb6UABWD0JvE3mQAOM5RBzFOlADEzs56OU2kAClpMitFPlQPh7yxxmB9VA\\u002fOdGOIxa20AFPEIMqTDpQACObXwepuhA+nn4N6t25UD6ifMWyzbuQAC8b8gqX+1ABvC\\u002fqpJN4ED6+1zbzCvkQAeMOQ09+thAANaHJuMf6UAEzIoFxYDnQP9lrd+QEulADAgDuDQN1EABfkPZJkLgQAASV5NRRutAA5JilzBg5UD7fzk4YSPbQAUeY5CNpOFA9qMsRX+s00D9D+qiltDuQAWsalRn9dlAAprWdxxL7kD\\u002flOVJaxTxQAPG359QmOJAAKTPu+EP5kABkLJVTrLhQP1570joveVAApqzLwjG40D27+TVqh7YQP593sYJku1A\\u002fFtBxEZy50ANFBcgEILdQP0Rra3HJe5AA3REpw0X50D\\u002fD2eOuRTYQAQipyOLkO9AAdgmLLcV7ED8i3uHMdrpQAbOcrHfweFAA4CbWDdU7kAF1sGf8GjuQAQk+7fiLO5AAgoornd76EAC6Rfz6vvwQPtLuaAv7OVAAmR\\u002fYBML1kABAmSMYiDiQALuTp6MyPBABBR4bUyW1EACwARZibnsQAJI\\u002fa5OzuZADFDTnTaO30AG7hN7WK3tQPwftagCOd5A\\u002f4XLXkBb7UD+E73LNSflQATyc+sKZOdA\\u002f8WLQ6yc7EACAp1+viLwQPzBrnGWGudAATACeRT140AGXJ7KTyrhQAhEXme0d99AABLniPW\\u002f40D8a7WL5qnnQPpjESxj6+RA+xudhM2Q6EAChBRmphvsQAIS49pF4+pA\\u002fuu7Vz5+5kD6r7O9srTiQAFW16EEmepAA35MBeOo7ED7JagxnbvqQACOWYAFn+ZA+8Wfeio86ED+SMGKPDLwQPwDeQdXl+5AAgRm7LH\\u002f2kALxIVoZ+\\u002fUQAYQqFkGu+hA+Kd9\\u002f6r53EAHGHJ5osjTQP43pPlm1eBACrh6rZs\\u002f3ED2iyPQKi3UQPgPKsj7ZthA+QtS5CP63EALGItkZrLWQAgg\\u002faNOptdAA31UfmEC8ED\\u002fHW2uTlfrQALOX1CVcvBAA7QjYHHC1kAAuEzsbi\\u002fhQAsMx6XEf9pABGSskUp510D7mfsFKjXpQADcOoU4wuhA\\u002fbVVBeVb7ED9NzvyDl7uQPttn2M1i+5AAq0sUT+j8EDzW35U6vjaQAZutStG5u9AC1hiVQkO2kD+Z0gqE4PmQP3P5R8T7eVAAvCZBdPY6UAFDIo\\u002fuD7lQAAke96WmdVA\\u002f6PpHm1660D+NVdY377nQAOoY2YWYu9ABoReMEDH10D\\u002fg5MWisPgQPp9\\u002f7aHte9AAUB53+\\u002fg3UABXoPrxhXqQAD6IPi6FvFAAsTUetmR50AFwCX1CWXaQAa8C27399ZA+7Uzq8I24kABzAKzKCbrQP8JiafUmu5AAxIm401Q5EALbMcVQOPaQA0kv0yL4N1A+eXXRN5c50AD3s3MKP3qQA00oFiQi9ZABPycl1Ht3ED\\u002fz2Z4vTXnQPuryuTlhu5A+x9vsN7X6ED5XVG0nprsQP55IWRa9PBA+kvmgyXA7UD+G71LFVXhQAQCS42NZOBA\\u002fQlYQl0B60AALDKvvavgQAWMpoK8wONAATBLcAze8EAHwAdNbCneQP5VBD5np+xAAG4v\\u002fXmg7UD+EGLhyrbwQALmhuC6FO9ABuyabFLD5ED7R3a7jW\\u002fqQP3Dj5qLN+dA\\u002fWfSyICM10AIVEFNjzPUQAooTMAT6dRA\\u002fg53WPLw8ED+izrI0I\\u002ffQP5\\u002f8E7ez+lABvAv1uif50D9m5o60cnhQPsjw5ucneVABdw9icon70ABQpneeI7mQPQ3F0rKL9dABrRYmXWS1UAAfIE7abbqQAfYhmvpqNZA+ascC5C\\u002f2EAGaByAaOfeQAgg17yzjN9AA1JSH9rp7UAIIAWMLsXZQP5bKJ0t4ulA\\u002fUs2TXFm7ED6a\\u002fAVIeHiQPLTswVDsthAAnHL8R4g8EACHtpwX3vrQAYw\\u002fK9TeOFAAghAYY993ED6QYrXzU\\u002frQPxPOCM3gN9A\\u002flsk6Uyd8EAN9JxyQ1PaQAVONVihxedAAcBLRgKy4kAGkpmqgLzkQAQOoLw4CutA\\u002fvU3ffZ66kD\\u002feVNHaATqQASwnSLZpulA+rMHgPBc50D9s80ayEvtQPsBmWqQp+xA+y++Nln750D\\u002fYzvdbOvrQP3IFt0x8fBA\\u002fqHKnXd35UD+Qz2PZzHwQAEIPULXheFAABrdfUdf4UAD6IQDIMbnQP23Orval+tA\\u002fieAzHyM6ED\\u002fz5HPL6vrQAMGs+UC9ORABxSTq26m1UADuJHV+YnhQADise11RO5A9P+5vitX3UAAjKi3CAvuQANgOnkfd95A\\u002fwwgXD8d8EADOCKQFdDrQAWU1nNjLORA+U2+ACuy70D+r47xnATgQPWLUm1NL9lADHj5rBYp30D+J8CuSV7rQACVNmmcPPBA\\u002f3+2SwIU7EAGfFCRY8nlQPtLuNu7qdRA81v2N0w71kD3+xB\\u002fNHfYQAJoBW\\u002fDye1ABOZXwidu7kD+jy1qkTjoQAQan\\u002fMrpudA+o2oEMke7ED7D6JxdpzuQAVKEgU19uhA9ecVlSL91UAEJoqFJ7ftQPsTeXCLt+5A\\u002f\\u002fVmSDRA6ED+RVmiWeXvQP8fzky7HdRA\\u002fKv6BZUW60AGgJSrn5rZQPqF5thb6+NA+6Xk1fQ66kAMnNZH4jrUQAWy20Z76etAB5zskeZ64EAAjjASEuTlQP17Q0V06+hAA8Joja8e6kD\\u002f44TCtWvsQAO+qxr+KedA\\u002fBFuSUc850D0gxV7Nn3ZQP074+rMIeZA8y8mZvDR10D80WPfqz3qQP3Dzxy3juNA\\u002f4P0pjvl6UD5s\\u002fcgIJbYQApIiDW2et5ACQDxrhH71kACOkeqGCTvQALq6nrYhulA\\u002fsvcBfpZ60AAOvMT3mXrQAKED90ZQOxABUAc4cV63UALXKTNtxDeQP0LWy\\u002fTwdVA\\u002fdc+f4i95EAEoG2YeWTsQAYAnsdGteFA\\u002fNHB6K8Q40D9nci3eXrvQP\\u002fVRtBZ3uFA\\u002f3Fdabi17ED+ubtV1EXwQP4duvLvkedA\\u002fcOkpNtD3kADSjWW0DDmQAdk\\u002fqTXIuJABr5y4hl67ED2T3qaYj7YQPtX33vbB9RA+7HARMqY50ADfj97KxLrQAKMqw0diu1ACmDb3gm02EAGjA1Ayp3oQP6OYqUAmfBAAjjxysyZ6EAGVKWNqSDoQP33tkIaA+5A\\u002f8kdlgFD6kADuLE2KZPhQAK8XyZA9e5A\\u002f\\u002fsXFZ\\u002fE40D\\u002frxrJAI7ZQP1bLAKJUe1AAcCwQiNs10AEhh1w9rTjQAGWvoP8ZeBA\\u002f3AZrGyc8ED\\u002fOY\\u002flgUrmQATMh7bmy+BA+52cC44j7EACwDRSq7nXQAR8iD1cf+lA\\u002f+NRkbhx6ED90W7GCBnoQP8HO8HWl9RA+q\\u002f3KxBB10D+JepTZR7oQPtnKjVeR+BA\\u002fYethhT53ED7VUYcE27mQAVgvSqCUetABmTYBfD+6UAEoisawVXlQPc\\u002fxaOEg9dABFpZslGK6ED8z8MEFWvkQAGEQ+uWA+JAAsDNU6RT10AEMEx7uM7nQPoLXtg15eBA\\u002f0U9JUDf6UAA1MtunsboQAEaiLkf7elAAH5KBYDM4kACjDpliAXkQAZ8uaorDO9AASRolusT30AN1EWNqKDZQP+bL99nBe9AALp1sOSd70D0T\\u002fqu0VzeQP5cH0d0U\\u002fBA\\u002fSvvx6mC2ED9z+zaEnfgQAyMqX2hhdtADeQvdqSx2kAAR6x9bcXwQAI2ruRzjuZA\\u002f3sftwbX4EAELB44dTzsQP4z9QSe3tNABJa2OR+I7UD7c8nAdVnpQP6zNDkwrOpAATq4qi2W50ALJJW6fejbQP051XYaE+pABU7QnM8y5UD\\u002fPfR9xzTnQPrNJ09CgOZAC8Tt6+Vw30D\\u002fk+LrYvXnQP5LN4ley9RABJY8W51w6UD\\u002fKalozJnnQP4XIvRzkexA9df1lELg2kABaD42RzXvQPYPFEq17dtA+58p353A1kD\\u002fqX+7MW7hQP8HDzwFt+NA+i1g8N6a60D7RRQJHp\\u002fhQAHyd0nUreBA\\u002fx8LsAMJ3UAARgJzBmHkQAUkUZiOn+RA9GMadDYf3EAGRG9uLOfqQP4New2S+uNA9etIchVr1ED9OWG3+FHsQARiW5xSMuxAAlAlgYfp6kABbFitsDTsQPwrA8UfEuZA+qVSEGa45EACYEJasqPmQAW2t2127OtA\\u002fgtz174+8EAD1D2CLqfYQPxNQg+Lv+pABp4G46Pu7EAAlu7tirPnQP6HnrnGs91A+j80YBbQ50D6zYf6ZonpQAD+3aZPoORAAgQEx72O20AFgjE4BKLjQAVy44d1\\u002fe1A+p3wKlAK6UAEOk7jPJbhQAGYNVDgHOxAB\\u002fBgjFgK6kADGoqiUHPjQAFGP7WtgO5AAFJJvNOx40ACar6v2TbnQPoxeu5zSetABew5BMF63ED7tZeDRFXnQAPATd8TCt1AAP5cru3R6EAFiMt4wUnuQAbIZ2ggZOpA\\u002f\\u002fsWkADE4EADEJHH7SXfQAWSf0jRVulA+ydavxZe4kAKXBasPI\\u002fVQPkdwoSed+tA\\u002fusrizCz2UADRH5LOJTWQAAS\\u002fgshD+NAB9yXXDSp30AAS8bos83wQPvBfI6GXexABbBLZVtC5UAEimV+D0XvQP87vFVny+BA\\u002fHNHerAH7ED63wKTSA3WQPiH+Io8TNtAAib2Nd1g6kD+q7FFRQfvQP05BsUtpe1A\\u002fdcHi+q85UACdlORuQTkQAYMPUSsFe9ABm4UsqTP4EAKPKMhd3\\u002fcQP5nBgbOo+lA+ludHAtU4kABuqbWd2zhQPoBgE3JRuZABP9oc5Zz8ED+LjOuPPLwQAWaOHNQmOdA\\u002f3uI15Lw40D\\u002fe0RxfpLiQABedRUf2eRAA+xhd2yd10ABgnfiTDXgQPQXpoldx99A\\u002fxXLN6294kAHBOhmelDZQAdsZhhft+xAByR8zzfG7kANRPNJgEDdQP1Lj7ww2ONAB8R3JJ105UABHsch39HvQPodzjmMuOxAAD4da\\u002fjD6ED+A8YR09XmQP4iTycMfPBA+ys6OpC420ADcv99QKvwQPTvXHvuAt5A\\u002f6\\u002fkERBP3UD892UzapfiQP3durCMT+tABJAgpY9P20D+mfAsMUjqQP0reuNv9e9A\\u002fR0a3j9G40ADUvbgGa3kQP7BMfsbouFA\\u002fCegTiD030D+t1zmdFHbQPsrrx6CztRA\\u002flmEpqmX4UD+5WLVPqnnQAZESVfQeuZA+TmwFuW44EAB\\u002fhOu817vQPxjA4y4U+5ADuA6cXP61EALCKtdnkbUQPrdDN+Qe+BABfov1bmG6kAGNInZuTXgQP\\u002fn6CzPwetAAwT5lrvr2UAFRGuKEfrpQAHmTAUtl+JABf5nAid05UAEiqI4mhDoQAnAe7NUVdZA\\u002fRUa9ipa7UD4byVdUA\\u002fXQAE1v4IxyfBA8wfBAlXU2UD+NdBQ7ezkQAysFtqxFdlAAUZMY1pj8ED6a0aG8sjaQPwle1YyI+JA\\u002f02EOdNc5EAKOFGpsTnUQP0DdUKFGuNA+h8WslQI4EAEHGsrzqbZQPz3X03HJORAAyqSSpav4kD+g62Z6BviQAUe3EFEx+JAAFZL0jif40D7K\\u002fRBPvnvQP5hecZVCuxABC5UDupj50AGigUCxrXgQP\\u002f\\u002fqf9Q0NtAAaxi3rQH5UD+5YfHvijgQP0H0WR79u1AACAZxUug8ED8s+9e767oQPz5arqhkupACAxibB1m30AFwgg536TjQP\\u002fb0\\u002fdrHepA\\u002fRMnAj7O70AAYC4GJs7cQP5d++C9D+ZACRD0zbFo2ED+9xwrn8TqQP6\\u002fI3dzve5ABgzd34fb6UD+ieyAxrXjQAO4A1OgTO1A+o+cUsxb4kADQmUHYPHtQPyb0Kr7vtRAAUC65u1T7kADQEAfnJnrQAIeAmLEQOlA+iFMN7QY5UABFPCijE3aQAGGOClt1vBACVSWONbJ3kABann04d7mQP7Pr\\u002f\\u002fSZd9ABLZNqfnv40AGNC2CMyXeQPxPGHKawe5A+Q8yjxj770AC9GsKFMfuQAg0VMXEpdpAA85R5Wuh5UAB0t8sa4flQPO\\u002frvBB\\u002ftlA\\u002fdci8g5Y1UABSMKtJmrbQP7hYqHPjeFA\\u002f3P2MIdN3EAC4Ao\\u002f10npQP9NTjoave9A\\u002fO\\u002ff8UIQ3UAHHOrYXIrWQP9RM7YXTu1A+jO8+GSr6kD+pGNUIy7wQPzVfhOVHOhAAQCsKGKZ5kD7R560rPTYQP3hT9IF6eFAAgT+SOur3UD+fWEZJ4nwQPvrIyzXy+FA+m\\u002fRpRdu4EACxNOVmUvqQAQeTv9G7u1A\\u002fZCI85v18EAEWrlVwRfjQAIA9kSlrdxA\\u002fnQfz9uW8EAByMX8NsfcQP01VtzswOtA+jvZ+r2w4kAA+LupCEDoQP8rs1iAZuhAAPjTQjO32kAFpidRE\\u002f3hQAXC2QzaHelAA2j+GtfU40AGSPJkVLTrQAIHvfpKmvBABYqmZFS15UD9lfsoE0\\u002fwQAHIVVH76+dA\\u002fdNm\\u002fG7z8EACiEQcR1XbQP8VV+C8hfBA\\u002fsVyHjdu50D\\u002fbwG0hi\\u002flQP+Z0pTO2e5ACSwkCzkW1EACGAjnbTrZQAk8J0rTi9ZA\\u002fu18+Jaj4UD6SzLSU\\u002f7rQPlblhkIEedAA+CiIlQ260AEUJnXjBvuQPxr4mVcSuhADMR\\u002fAWxp10D007+xXm3bQAWUDTEvZuBA\\u002fDHBUmyS5UAGRmZuLVvrQAYQXYg2G+hA+ePnV1dC2kAFnMDtTSbeQPqjAF485N1A\\u002fr9s3sLL6kD252Gj86nfQPqFB88LwuZAA8MECZMJ8EAEMlWH2\\u002fPnQAt0sfak1dNAA+6pY3Y38ED8qbvz5FrmQAT6wmf4tO5AAvi5vgby6ED\\u002fXxYenyrwQAXGAAX4qe5A\\u002f8vNma9b5kD+i+f97CntQAKukt0yV+FACRzMkL5+3EADPnAT23rwQADG8njwLPBABoyXptsI70D6MZ7LNvruQAOmke\\u002fkuu9A\\u002ft+Fq1TO60AEcjPru4\\u002fpQPhDuFxdvN5AAqqy2mrw7EAC+Z7Fkk\\u002fwQP6hLfhpeudABvQUOlYl1EAK+BUw1cTYQPqLlCVrMtxA+elBXts65ED+LxIzhC3qQAQQLbB3LOlABgjsH4y85kD7t+atDeLtQPjXaofUntxA\\u002fibh7XKG8ED6BY0aoqrpQAYMiLwE1+lAAZRNxasU4UD9hXzJWtfvQPuZL4wCTu1ACpBSvb2G1kD7o9odfK\\u002fpQPRrnT\\u002fXo9NA+A9a0ez930D2Y1NKgdzdQPi\\u002firjlttRA\\u002fYdNc0o+6kD+E7x+wxPmQAI0JJchjOxABG7KJt+S6kD7gXwPQq\\u002fuQPs3vzuk4elABWLW5qDl40AGKIkljVHoQAXiNuCnM+JAB1T5m2bk5kD1X\\u002fSg1wTfQPs\\u002fhc+lyu1AAWYXfKso5ED81yWKvBvjQAYgjq55W+5A\\u002fbGlq9Qw6kABQnO3Eg7oQP7dVOdP0e5A\\u002fTH0MrBm7EAGolW0uQLlQPifotlnFtVAA85slRj650D\\u002fMve3Aw\\u002fwQAVmUMgErOFAADDVjrta7kD9LQ5iK83oQPx7cYXGeu5AA7Cs1t\\u002fX7kD5y7RXZCnXQP45gKLaTvBACJAWCA2Q3UAFiBNDpjfrQAlcDBqlBd5ACNjmHeQC1ED9FWNljWThQAZaZ0fEg+hAAX4PQ\\u002feV8ED\\u002fyfmw7OrsQPoDGjJR5N9AAcRL8nRP60D+P\\u002fXYsSPXQAaq7SmJpOVABTZnvO\\u002f14EABMQqEhV\\u002fwQAWy\\u002f8Mv4eRA\\u002fQlPHbct6ED8j1HYhYzqQAtQv\\u002fl9Pd1AAWyz7uGz8EADfPamz1TXQAHyG0pyCudA\\u002fNFYeH1x40AFto7vCLnoQP4HicJGhONABnCjdwTx6kACfmdNsqzoQAYEk\\u002fv73ulA9rMQ4Op03kAG2mduvwvhQAP+ByBbRupA++2x9N4W60D67yMJQ33tQAKMQKO3\\u002feFAAqrFGR5t7UACwG5GsN7pQAcoxGXYhehA\\u002fb9ryhHv7EAH2lNBbRjlQPvRijQYmuZAAzQq9QRo7ED2v6LS2wfZQAPGtew\\u002fzOxABuAHBgF22ED8Ce6lj1PgQAoArn3XOtdA\\u002fVKXFQn18ED\\u002f9VCS8\\u002fTvQP27nqZ1yPBA+9eue5Ka4UD0n9S3Mj3YQAsEK5aYb9lAAASZrVm27UADRwotkBLxQAIWbOBPBupA+\\u002f\\u002f8O0zW50D6F2exQpPiQP5VrFP6kORA\\u002fUfQJvxk7kACSjzSgmXuQASW+L2iDeJABp69kyd56kD9g7SFWJflQPk30ptBP+BA\\u002fguzkRGw6kACL\\u002fNFmIDwQAIgyaEWRuNAAFhYmRzb3UD8zV5j9qHoQAdikeLUBehAAzh8TQdB6kD8Oy97McnpQAZ0tEB3j+JABNI3VsnD7EADkPVkV0fsQPy1lIrYSONAAFYNAtxr5kD8xcrJISzrQAeoQj4ogNpA\\u002fRkPW5Sg7kD90Y4nOxPgQAWAOZKp0NtABWx5GEeR5UD\\u002fTS3kC5\\u002ftQAVYEsa9fu9A+2\\u002f0HGGT20AABPOGyXXwQPvt3clfK+tA+13l28Fi60ADyF2nlynsQP3\\u002fS0D0iO5A\\u002f+8lmNih7UDyK49CE3LYQAZcQBkWtdVA\\u002fYWJ62Q75ED\\u002fNdUZbXblQAGQ1S32U+1A+hH81Hfp4EAFmvdbCjnvQABiuqxtSeFABqIoisIy6kD0o0XEDvXWQADUt+muNe5A\\u002fifPabkw1EACtJMk+5vVQPTPAbIuxNpABpyeeRmm7UD6UTyeAPngQPizeEpXhNZA+ZGP15+x5EAEWqGU8X\\u002fiQANOHLSXhuNA+5t0XKBw2EACrAqbgkjlQA0Y805baNRA9juR+idS2EACRRspSiHwQAMWHGXHo+FA\\u002fLu1g64S10D0v4WRD37dQP7hWZAcAvBABkRitFAi1EAGXIkYXTbZQATU2P008tRA\\u002fzqa16Lv8ED\\u002fSe2VOazgQADQODhotelA+\\u002f8E1KqQ40AAirZv0SnjQPr78EM5detAB6gflggO6EAKeNu26LzdQP1HYMO\\u002fDdxA8xM8OVCk00ABOk3QWDXlQP2DKeoW6exA\\u002fR\\u002f4UO\\u002fr8EAG2gGV7ZLtQPffX0g5iNVAAHMwXdtK8ED0382bQLDVQABGbjIV8edA\\u002fsOJG5fv2UAHgKun7gzoQPdbuK2Jgt1A\\u002fxd3pqJ\\u002f60D8w0jHLUjqQPxFp8v\\u002fDeFA\\u002fxkfUuwE6kAM6K6hI0jfQAI6\\u002fkG3oudA+7\\u002foP52G5kANSEKTRF7cQADHdwFrvPBAA\\u002forOlou50AFnhr5tGzoQAQ6lTgkS+9AAvD8J+3I20D\\u002f55oUj2LsQANIDKJKPN5A+9ekyVRU70D+PlPf4XjwQP0fiUJ8qvBA\\u002fglzsSrx5EAGWA+28q7TQAAolqpTaOxA\\u002f+0Jle5U5kD4\\u002fyEATVXdQPtdEGQQce9A88cTDdis2UAGiiMxDJXhQPqbXVk\\u002f1epA\\u002fHfJ1FQU3EAHPoZ\\u002fP4HkQPsV0qwOr+tA+Z8jekFY6UACQB4t2TbeQAVuwyoXz+JA\\u002fvGGRiFa4EADnq00gMzpQPkpSDOpQulAB0oesDgn5ED9C+7y+qfwQPU\\u002fEkC4j9tA+u\\u002fsG1do1UADhkrbnfjiQPyBu8OrHO1ABZjt2zc05EADusP\\u002fs5DqQP0VwV7gWO1AArmjd4p88EAGCgT\\u002fndztQAD2Ijp2+eRAA7gqf2Hp5kAFkL160F3YQP53EuLhptlA++HXd32L70D+\\u002fR6nYO3gQAFbZFqGHfBA\\u002f9HSpAZi5kD4qw8KAW\\u002ffQATcnUU1juhABAa7\\u002fLD84UD3x+ApAi3cQAFuQavyofBA+Xek66Mw5ED\\u002firlmx+DwQAYmR2uqyeJAA5BWdTKs8EAD3MdoU1vsQP5vwO3GPNpA9WtBzxyX30D\\u002fb4sSGVHeQPpjgvzvl9xABnC8NCMp4UAHTDL7qK7lQACCfWF0ieRABej5\\u002fgzx20D\\u002fIaiLVrrmQP\\u002fjQ7sUTNZADZCA+noP1UAAHFGrjXfZQP+3Aojxiu1ACgRSslOA3kAHmDmhOdngQPvt4MijU+FAA9APT0t05kD9CTW6hSXlQPlLatSDBOpAAm6CmeSy8EADvkig9pzvQANA7cHJs\\u002fBA+te7beMl7UAHDOCGpKXfQPrdc0UGNOBAAFy0BAhJ50AB3CoM88vkQPy3uOVwoOBA\\u002fAGsGQEt7kAHeLfrFibmQP3fteYHx9NACFgjaq1t3UD\\u002fSahyKnPrQPlz4seu+t5ABhA1R05i7UD7rQzHB\\u002fnoQAuo+fNE7NVAAEDqAJzw5UD8cXJ8L\\u002fzjQAUYVyIRXd5AAfL5pvHY5UAA\\u002fCVUR6ztQP6Rfn8PQeVA\\u002fD8HxTxs2EAEmiBLLSnnQAX6fRULcuhABizpO4137UACUJoI8njwQA9kAAs4x91ADOxrDAUK2UD+VeVCGODqQARap5qW1eBAALD+c3fM1kAJ7GrpgdrXQAOxFDyeE\\u002fBAAuIj0tCE7UD9fyhhFCbWQAZunPX7tuVA+\\u002fd6PYq95kAH9ALXdczXQASCS7vIv+tAATR549\\u002fr5kD+nYBNOcPkQAXIToOK2u5ABdh+XIu43ED\\u002fS2kclMnmQACYY6ConO5A\\u002fs9PFGTj70AAkKcOohjtQP3xuY9xB+RABU5d4lt350AEZO71EIToQPxJ52nch+5ABYCF8AWI50AMyHOhAyneQAR8Y8K3DOJAATjCPgFC5UD9Pf2f2uPwQPufZU0hXe9AANphezCu6UAAQLgckIbfQAWAI\\u002fy6Z+pA\\u002f6uCcGsx6UANOE4YWI7WQPP70pjDw9pA+sPGiWlx70ACUtzuBoLtQPsdVHPf\\u002feRAAEg9erxN5EAFZuIWIgXqQAwgy1Ug2dVAASCIq\\u002ffj60AFcInNA2LeQP+bQySF1PBAC7DGMxX100AAANst5xnUQAA2I8mJzexAAqZsnvof5kD7c26XGrftQAF4YxBJX+ZABBD4jCNq1ED\\u002fcfpWiV7oQPwJ53KJVutA\\u002fxtnQqhV7kADTBgS19bnQAQ49w81Rt1AAvj9lAh75EAAzL2ISw3iQAEG+gIXh+NA\\u002fh2dYFG65ED7PwMBXpTkQPvhp4YwzelA\\u002ftQHTS838EAHuGtU9YHlQABQP7RNPdhA\\u002f98cy\\u002fNf4UAByADdZrLYQAYqBB5Ea+NABM49cOQO7UAHbuLtdAHpQAfsq+lPmutA\\u002ffm+0I7N5EAC\\u002frwfIEXwQPxjHrT6WOFAAAK3PgxV8ED7lV+Bi2HpQAMuNHUtkuNAAKbzfvV+6ED5L\\u002fK0Pk\\u002fjQPu9MbmMLeVAA8Bob4Un4EACoEJZf\\u002fjpQPsVuixclOdAAGRCT+wh8ED+G05VZSvpQPzNnX8kPONA\\u002fjBaLID98ED6AcoJkKfqQADc01aA9OVAAxJSqDSA5kD8u8d9gD\\u002fmQAVCCUgzmO5AAG4jHRqV8EAD5GdlQA\\u002ftQPxhyifRpOdAARAdUVR81UD+JUtcNqbpQASkbaRdf9dAAxwD0bfm1kAAFvCAUgzgQPrnDxy6O95ACCQkTLnn2kD9\\u002fS0DHpfhQACu88Yo2uZABoDSA65y2kAFYtUhYfPvQAAw6Lb38+xA\\u002fJ01jWgv5kAH+K+B0yXuQPkfv2w3qd5ABjhtiJaJ4UD+5T9VM3jlQAL4eBcamu1AAidcRjUT8UADumIftQfxQP9mVmFm9vBA\\u002fUP+IgWy4EAHGkh0Ow7sQP6TfrXKNO9AC6yOxvME2kAEcK3TRGzXQADGB8OUFe9AA9wbkMqI5UDzb9uTc7jcQAIkGRnVEehA\\u002fB9PtzRQ40AADSSocL7wQPVb7MwmVd5A9gekxpSB3EABNp1ntvnuQAU69AViNeFAAXgdUGvP4UD7NX978+TuQAb6rmqKPOZA\\u002fnQEK1a98EAN5JVfxpfTQAEA+WPIl+VAAMBJ6fOP8ED8cy0nNl\\u002fqQATSRmlCgelAAHAHasjB20D+dcUA7rHpQPWLM1kVCdlAAE75HV617UABkDjf9+7hQAZwAOvXKu9A\\u002fn8URI0M5UACiFa2ULHYQAWE48XHJexA\\u002f93XKXLq6EAB2lK3uEHiQPx35v0yv+9AC4w60Psc1ED9vU4qr4\\u002frQAXMy0sKuO1A+49oVeAD6UAEBJ9h5BHkQP0PVKBheetA+wPkIbZJ1EAFcE4UB6vmQPZrvnRjNd1A\\u002fpmAKRCr7kAEvKvDeSPkQAL+erskgeZAA4Tou3Pk8EAE9rlH1bXtQP+MLPPuP\\u002fBA+0crChLJ2kD6SwqRGb7tQPwn4prgd9tA\\u002fwMuZLFD70ADai6KlzHuQP2RkkyiEeJAA8xOWXJY60AB6M2j3VbsQAOIpGVQjdxABc4mTDk+4EAB6KDVzivwQPvnzsxWf+RABfLhI6f77kAFVG3NZWbYQANeTp8jK+pAAFCGGXd06kAKcC17mqfTQAOQ396a\\u002fehA\\u002fTe8cvbM4UABWsk\\u002fniLjQAZOMqmdXedA9S96U5+L00D+b8abgPXbQAIXJ5wOSPBA+7WVOEb96UD+d5pOL2PhQP2F+Nk1SO9ABdhvEfXS6kACmyJNiY3wQP0pVMaq5eZA\\u002fZ928R6v6kAJ9Hh3oKzeQP6RhN2yD+JA\\u002fu3nGsQ14ED9P7gvDEvnQAY4Mqdk2t1AA+Jz\\u002fNX67UD\\u002fL0U3bYrwQAXWv5W7QudABtiNj7C64kAF8s7EiRLlQAIq0V+xEeRAAhjv6G8K7UAC0M1rneDjQPvfnkrerd1AAWhAoAR55kD9QXHDFz7wQAHTcq8\\u002fofBABqR4suLC4kD710H3aDngQAPkqaFOHe5A+2MrXsRM2kD6YY3NH1HtQPSfpYNPkdlABnTg9QYO7kD0O0zIRALdQP\\u002fTH\\u002f7ZVepADHAP09h31kAGIjX9GrXnQP\\u002fNWTguNPBA\\u002fLmzooj+50D\\u002fMeZqn2DjQPLzkeJZRt9AAoYevgUi60AFmMluUGnmQP2nDh49JuNAA4DwU9Oi4ED+7YfHBU3wQA1IgfA2qt5A+pmAO\\u002fgW6EAFcC2uwUfpQAV6EbcUB+VABCJCT0Qh5ED9956RkATlQAJEZ1hJYeBAAaM\\u002fS5Xl8EAI5N7Z4ojfQAMvlyohLvBA\\u002fleJUdmm4EAH6BQGJKbUQAF62S8\\u002fC+RAAuwq4+i\\u002f4UD6A9SxDtXuQP7rYne6Vd9A9KNdtUoy3EADdhd66envQAR6IDsJ9edACrRC4MM010D\\u002f53ApvlDpQALrCDm1XfBA+ZFnZhgL6EADaJp7iqThQAGnXufsW\\u002fBA\\u002faPeqLRD40AGEv9ss33pQP0falbtneZAAIgTjq613EADnMbk5mfeQP86cRE9BPBABHCMRFAy5EAC6lPj0XHtQAO2Ru+ImOpAAhyo53ZI50ACylm6A6LiQP1\\u002fIPlzY9ZA\\u002fC1ke\\u002ftK70D\\u002fGSFACBLwQALWK899GepAAyK1gu\\u002fM4UD+jQ\\u002ftqlLjQAK+grSLC+RABRzC0OWA4kD5+w57Z+PlQP9HrY1FrdtAASpOfebG60D9O7Efpo7YQPubvUNluupAArSdFk3I3UD5T953ucPYQPlLIQ1kSt1ACPiE8XiU70AAenY+AXjrQPOXJmWV9d5A\\u002ff8FoCOo4EAG1D1pQM\\u002flQPzHHL2rP+NAC+D7Zcws1UAA40R8GQrwQAGv+6Acw\\u002fBAAbOkm1Za8EAEyJZFZHLmQAS4pMS\\u002f+uRAAThR7vnZ6EAEDqUF4YvmQPxXkMUc9+VAAqB61t1X8ED2syxFiUveQAQUHWPmvuZABSgA7Tpx60ADxL0mxNjeQAN2uxuG4eNAAE63GcK470D\\u002foFNLc7nwQAZsixJwieBA\\u002fQFKfGB26kD6f3TJqrDoQP61hjsD8OtA+suv5X0m3UD90\\u002fS2CWTcQAI8IxrJE91AAtIT0hbK5kAA3+NgmzXwQAj0qGmQptxA\\u002fSr1Xplt8EAF1vOyinPmQAZ+TgV0ruBA\\u002fWEMGxp\\u002f6UAEsFTiKG3uQPnnHWO0BuhAAjg8tIsJ8EAFqLKCOjzlQAT4uZXVAORABrrITq4x4kAGUKzs7LLsQAAEvZJ6PONABTCbYAqm1EAEZjs\\u002fxCzgQP7Tn2LgNN5ABwznSTww30AGohrzoKHiQAVobmU0itRA\\u002fYkECtGH6ED\\u002f\\u002fHGZKnHwQPqVM6y0PeBA\\u002fAuxJyHv6UD+T6+wv9\\u002fkQPt5yGWGj+RABDTYBxH07UD85VXVVbrqQAOjPWjyA\\u002fFABAhSWmuF7kADeuDJWDzuQAa6GCn3VOxA\\u002fAeoj7hg2kDzb2Zvp7LUQAI+944hr\\u002fBAATrrssyL8ED+OtDXvGPwQP4B8fPmMOBAAV9ganEi8ED+gUwES3ntQADcyuIuqupA+zXCBKkS70AGNN0\\u002f0vrjQPzfkyvEI+lA\\u002fAciNQjs5UD670rNa0vYQPt1SmDrhOlA+y\\u002fz0PDi5EACowI4gF\\u002fwQPrfzDp+kOhABEhqyhVH4kAJYFYqCmHdQASiwURt\\u002fu1A\\u002fUMUStu36kAEkJJqcmbnQPlzEpEuWNZAARRsmtGE5kAERJpXTCHhQANiHFBqvuJABpDLT7II7EAKLMM6honbQP4X2Wy7eOhAAahTp4oH4UD8Uda7z0\\u002fvQAascCqWd+RABrSsX4lw6ED5nUZc3R7jQAeshTNhYe5AA3QIGfVk8EAD5Fk4xYrmQA3II1ZyUtdABOi2nqOn50D\\u002fx5C6aa7fQAMc6\\u002feFg+BA\\u002fmHc15wu7kD+J4Km5MDYQPyPOMKwleBA83ep+GwW10ABKJTvnLzoQPrfuM6ngOVA\\u002fRN+9yM56UD7xfDRp73mQP9TCpWdStpABFybDMij50D9n53l2njlQAGS5U+dF\\u002fBA\\u002fa+X93+Z70D0H\\u002fQ5f+LYQAWqJQtRc+pAAzI4jbY46UABwoYZaCDwQAWi7k5uTu1AAUSk+\\u002fzI3kADRjwtzwfwQP7t+nmvOO5AACJ\\u002fJMMJ6EADEgOLOrjiQPtbVt4NQu9A\\u002f50fpZSc5kADNOpOEirwQPrt+sNWU+dA\\u002fv\\u002ffHx8o3UAEcKLT3\\u002fLUQPv\\u002fTXQlI+1ABtabvy0v50D5N6+7eK\\u002fhQPtr\\u002fIlWCO1A\\u002f2ajdC1c8EAFmO1rrajsQAYKGFMhBOVA\\u002fJ8Nahos30ADhlIDZADgQAcmSbXkF+tA\\u002f1kr6myz8EAF1BXwozPiQP+Nv9lQauNA\\u002fqHMx0dZ5EAIxFZ9by\\u002fZQPkvONXD\\u002f9dAAkD4hUtc7EADqIIWnpLwQAJst8FheOhABhgbhGa\\u002f40AAnuplDRLwQAaYudX7\\u002f+hAAg6koYRd8ED8kVXatZvkQAR4Y5ZLbOJAAbwS9Mkk50D8N861puTnQPvf\\u002f2Lb6ulA+sWmxp\\u002f+6UD9gdCMPmHsQPzxONik9etABrqv6NJw6UD\\u002fPWyhvQ3mQAAm71spt+xAAewn5cre4UAIfCcLCVLuQP42vyIhofBAAt07eKeY8EAAiBOO4f3ZQAUyH9fLBulABSDcH5\\u002fP4EAC7uHJ0sXtQAUYbYFX7O5AB6KLKw9n7EAANqh+cxftQAYi7qd8f+lA+39v2DcH3EDzqy+Ob47aQP+10CKZdfBAAc5I2a3\\u002f60D\\u002fB+AnEUfvQAN6mRgrNPBA+zET0K3+5UABkh01JJ7sQAWi0SwiBepAATLHhapy7UAD7ImQbwrmQPaLzf\\u002foR9ZAB3JReOAT5kD+4eRnAs\\u002fjQPy11g4oWeVA\\u002f5HkJzie4kD7l3OL\\u002fQTWQP7l8+aBD+xA9XvnGqvv2ED2r5M3YLXZQALeIEudF\\u002fBAAPvgLPJi8ED8D\\u002fX6jkjuQAAexi27ieJA+gONZFtU7kD7M+z54QDiQPutXBndwO9A\\u002fSe3sWam1kAE6Gz6ExbtQPoZjLHyq+hAAjjShgOt7UAELPcLCRjuQAHEGnxObeZA9TN6\\u002f3BA2UD+9ax6vebqQAQCELSqp+RABvKcGPFX6UD\\u002fvVKtxHHvQPxztlgwEORA+0n1oPHu4UAGVhqgbKLiQPxRYa+8jeFAAEKCq3n25UACjmSecornQPq7q8HFmttAASiaJQeD4EAGIBLf3ybgQP7NeiZ6luFABEYo+NC34EADwmypEE7uQP\\u002f3ErBz6OVA\\u002f49HbFwl4kAD9BcrDwnwQARaenCbsuxAAqwI4c+s30AGYH\\u002fShlXsQAXMec9olu1A\\u002faV8ubna4UD7\\u002fyqbrEHUQPlNlWpUyeZA\\u002fee8SORy30D++bYX6tbhQAscauLSgNtA\\u002fNuicmsN40AC\\u002fPRTRSHYQAL6df6eBeVABlSRofpq2EAAtLWQHM3mQPslV8oOeOhA+odyzzwg5UD9Fn4cq43wQAL6JJcWDutAAdu6SY5e8ED+998f06jjQASsS\\u002flvq+ZAAjKpTubn5kAAbIut8QHsQAFOmr8p4eBA+6lM1azH6UAEdAGmzKbrQPpHDay3F+ZA9RuOVOdQ1ED6mdRqsy7sQAokMM\\u002f4KdRAAeQAoc7U7ED6qVZIyJjuQACc19PPaeBA+y2uH6TP50D6ReE4GPPrQAVQqlO1ZuhAAMjpEf4k5EABwhgkN9ntQALigatS5edAAyTB3IPC8EACIGqDWiTkQPivnefp49VA9T8Q9h+M10AHCJxdk1vkQAfUmJIu99ZAAY5ZP4dG6kADSAjekg3dQA5kslJrGtZACDg3J3UK3ED+G7YYPevuQPvHytCSOeFA\\u002flNwf1OJ4UAFrJ08CdTeQP\\u002fV4ijCf+NAA2aRMNu850D9d9b8hyPdQP1l6nsrMuxA++8A8PCz5UD8f8ErAEfpQAXwgH5kCeFA+6dL2tko5kAFpKyw7+HjQP9PyB457epAABwOkg3O50AF9matbTrrQP+TSSrlyeFA\\u002fdtMgVrJ40AEKpNuNbzkQABokjU+1OJAAAy6Y67V6kACpDZ4hD3YQAxEEjcfqdhACKh1hu8R2UAE9qOoBKDtQAXWKmA+p+1ABWQjSBem40ABVqcoOhXsQAOaZLnsY+9A\\u002fS+hE4Gl50AGyMWhOgLrQABsl5JZadpAA\\u002f6vTQJt7ED6meXfXvTgQAX6F6z4kOxA\\u002fC0RMXkA60AA3E39vCvoQAdgarC2KO5A\\u002fF8izN+l50ADj5tR7zPwQAeY0fUYA+tA+weVOMnQ50ABJD+A\\u002fh3uQAAqSL+lBe5AAxy8K5zU10AGRBPHucLUQAKqBMd1z+dAC8A3NLnV10AECgvDsh\\u002fuQAVUYh0CN9ZA9osDl\\u002fz51ED\\u002f2T8B1QrpQP\\u002fvun1qhNpABZKozk\\u002fC4UACRJrgIqTfQPvx+UJFgu1A+38zWu\\u002f660AGqOfUVf7kQAAsU+08r\\u002fBA\\u002fl9Ns4kR6ED9CRDATTnsQPw7di9sy+hAA04crD+T4UD1zyJHyELVQPvH9KPZ\\u002fO1AAqJGOxV54UD6r\\u002fLyyzXYQAe6SjwY8+dA\\u002fqiG8MAN8UD2V1PWb7jUQAcIOijic+dAAlbrBQpJ70ACxkDYLq7rQAVkBk4oWeZA+kkHpI8Z4UAFGFO2\\u002fbXrQAa8Xm\\u002fouNpA\\u002fdkA9fao50AIqGTYBezUQAEdylKFFvFAA8DY1uOg8ED+J3TA8XHnQP5rQvCNj9ZA+hcVVduG5kD8o6LDfrTnQAT057jBe9lAAXSCCDtH70AFBCUzjOHXQASyTTVex+NABuy3dqEz5UAAjmdWMUnrQP8d2Diza+ZAAILzGr3U6UABJJRj+hvkQPdjQZf6yNhAAuSJqYXe2kAH9FYOKZrlQAYUHJ0VZdxABYI3Nh2P7UADRoSXPmHnQAXOsd8L\\u002f+dA\\u002fGUWonl14ED7d5YMSa3mQPnblUO9ANlA\\u002fO2mrIzm7UAChNIha4fnQAGEe+xMO91A+78QCX0I5ED8JZsf1WjoQPzXVEYQMu1AA0LKo\\u002fCE4UAD8KAwjmvcQPjbKnH0V91A+jEENWX07EABljh5gHzvQAJOaIMNwOFA\\u002f2OdESwf8ED8OROvSDjpQPgH+zuKJt9ABEjOeIez7ED\\u002fo7isoYrwQP1ZuJSIrudAADCDihkz60D6TZipXqPoQAUoEBzgkOdABorhNGXs4kACBfSgOqLwQALcxCHbT9xABkzB2pEk4UAGdPFTpi7cQAs8W\\u002f4yRNZABMAVdT7h3EAJcKYcgXfVQAKc3NMaQeZAAzjvZ5Xj6kD+pxGFII\\u002frQAOREs7+nPBAA5owjHe24UD\\u002f3Te9q5TpQPS3NBKYH9dAAz4Hk3Rp4kADQPA0MjPsQPSrgqZ90N1AAsh9mch+5UACFFJPvJTsQAQEyQTRdOBABIT455ul40D8xdn9ZJPuQPsFFZdLxuhABQ4MU1h670D\\u002fL7XejI\\u002fvQA3EkWvh2NVA\\u002fsjF0K+Z8EAEmoUmAD3oQAOI4+JniuRABOJM98JR5UAHoNVpsrfgQP+XV5Qcr9lAAhw0mPMU3kABZP4frZLqQAnswNmsr9dA\\u002fjGcb6Hq7EAC14kKwvjwQPhbW2DuouVA\\u002fhe1z4Fd5UAD2NdFyfPwQA==\"}},{\"axis\":{\"matches\":true},\"label\":\"loan\",\"values\":{\"dtype\":\"f8\",\"bdata\":\"24LBOYiqv0BJf3q5vqS5QEhjOwv0VL9A1Bspa6TXt0C8Or2zDCHBQOibYEtI\\u002fy5AeoO4\\u002fJRatkCRgM+xATanQOx9iUXTk7JAZstn5usElkDnFKBqB\\u002f+wQHqwBU0fE8JAyua2wEMFt0BfUemeyZeyQPjp+D166ZxA52VZKpMSr0Aup5bCFr+uQAs5kKB5m6lArb7Uc+KqqEBEL+schGWzQFnk+eN48JFAbRV5oA6UsEDdKPXe6dNrQJrWddXrX7NAqX0nlERZtUABLRhgSPG0QIubHaWkvcJAOl\\u002fGrNLouED9MvZ6QEWgQFNGuuiXO8VAQl0m4MgLuEDY3ecwBVymQEDmtJtNfbBAeP\\u002f\\u002fUY1nvEBehsHssQGbQDGTAflZUnVAopeNy2Z6oEAWd7F\\u002ftOawQP5SZumwRo5ACJuSr69Dq0BYIr3Plnu7QDQgvWbJR7BAUUBL4+cKsUC1RkrcBIOwQCmLpJeWYrZAXsdG2tuEkkBUuxqxNRyzQNF1oR9XWZxAW1wHG+Xzm0C4GDfrR+iZQGQf5r1d0rlAxrJD0MQgqkC\\u002fmSiYfEebQEaDdJkj9rtA46wACiS7cEC3+6STzK21QM80\\u002fav5DLFAM2ZAA7EGqEBMbBIJM7KiQLdS7fVrO7dAzA2WvzGjoEBtXqcsMPCfQCOItQgSH7RAiPSwba3\\u002fkECLIsz2KtmvQCwaU\\u002f\\u002fmVbNA6QKd2y4GIECIsQqC0jq3QHQZ17BTCKVAcyAMbP8NskCFCGuV4mi3QMYMf4Qr5LVA+HCIOgAKt0CbUukbgWarQLE\\u002fUUb4j6BAqvfv7+6Xm0B5ZbGpcAqeQF5+E3ZzBcJAsrLVu6fivUD9ubJBBty8QDCKlLgeVLxAkWjaVI\\u002fVvkBiWRpNWB61QFxo5XdNc7BA1xDzgAKisUBsTMzMUBy+QKLfS6eygr9A2MQyLn+ml0A6DNVHiJWiQKgq+6zW941AA5ShNAhgvUA9KqSauPF3QLAEVSb7J7FASruVp9CUh0BIYVd60X6SQFzC6rQqebBAX3F+AkVZmUBFX0x64zOwQI6+zA+wwMJAAEF6Vk7fukAjSRihQ3y8QMFfB2emE6JAQrguRSBFn0C87KCYirTEQP9crbwglMdA9MU2rYW2YUDlteWZm7CuQEH5dfB03GdAY9xzfbuKbEBxAPpPfHqgQByb5+MxsGRAzeBBzc6FWkCaBOAtgdmlQO65gOUniaRABasLCqePlUDW3a\\u002fY9MaiQJT99FG9IIlAT6bo30QVTEAmSvVCAAecQGlrF2YqbJlAdgoQyjOPrUDIjZUEI02+QM\\u002fdk2ebVZZAWUE1Eq9KZkBce2eAM2esQATGrTLwW5dAAhpukZ\\u002fvoUBvTd5xL0OBQGkJ0U68xLxASn7qDAkrkEDH+ryC10ucQMJHEIxAn7BAb\\u002f3rNNGot0BOtEM3fqewQOedDJYYj7VAaYkdE4ffsUBrD8wItfC\\u002fQKmfLHOAuqlAc9ewzD8uskDGk8kgfaWzQC8gi+o3fblA9DxIvB1XsUAR7C0j1V2wQMlzVkhTSrZAcHPHDYalpkATiqSKq+azQNTxemFc7bBA0AF1BeigtkD8xidLZDe5QAlxOYOPBLVA6QKO6B46xUBhvE2+ZvmkQHo2qz7NzshASCWoSw\\u002frqUDGwuYS7KuoQCx5xe38TMNAoqWny90smUA+p4bY90\\u002fGQJfnmy0FachAWXdwNIrDpkBJnlQPHoq1QFRFZUWIa3lAQi7AIid9t0DbMKM4nP6SQKep7YK6orRAPWnSM4UMlkDFt8yQrCuzQH9QZYGzraJAlrDKmYUnpUDwa9Z9vfqfQGbhpvZXW5pAI\\u002f7xttnrxEBXIkA4gRGgQAt7Y+nwqpFAXsPTyOR0tUBt\\u002fPpJEZSJQGNGVAm\\u002fS5tAeTWqaZGYv0ArOknNdyqcQMhuxDmQzLZAbSZN5YGRtUBBFvOw6rrCQNZBJqbZa7lAKGHggvvjd0BORXcfT07EQHwr\\u002fiVk9MJA+QpfXFNqvEClYQBc0P1gQGa15CTmsbZAIprurF70uEARFS2vyeetQBcVOvUNzatA2Tpkp1RksUDKBdyq2Ya6QDR+GcDi8JFAwEo9M\\u002fnZuECvGo1PijjDQIfjwvzunKJAmBbSfC1+pUC12LwsA7B4QMj8CM0iDsVACW6GopLet0AipZbaUTSXQEbw8xcF\\u002frBASrWHB4d7m0CN9ZAWfBOwQEtbjwu+8sRA+nKS0xvNoUD203bfkeGgQPoH56RJJcJAWKUtnM+GpEB9BBBU7mqKQIhgl1IX1IpArsuE\\u002fLseqkBCgezMyYe0QFcT9IbcKLlAbd9X0tjzeUCLyyns55rFQNEv2RYs7LJAjf6O5xX0rUC3Pjpyja+CQGpInq85SpJAwau7kwoGt0BijIMxLceeQCKvs4jhZKVA+gRs6xlrvUBKOJxXweGpQBXdNlugn7BAewHqMTVpwEBZUXv2vMe+QL9RLEiSLL5AIycScTWXlkC2EvExk3qiQLhgM8fCTLlAczWxfQsrxECZ+fs\\u002fPqG8QMUd2KXFmLdAgX+cF+Jjv0DFPv4ZTne\\u002fQESHWNiF4qpAS3\\u002fxcQ7WvEDlsnyP3FWIQIgvyhCSNrRACvN7dbM7nUDMxwVN0pGqQMmzlr4wvJZAgREjvtEQtECzL78OKXqlQMyvCw0ms7NAu8jP\\u002fmysqUBPQP+SwCqjQIhc3iOquntAJlReCj\\u002ftnECZfqgRAvWwQOpnoifOyq9AmAdnZ7+ikEBiCfgyvt6+QIKOqMC9\\u002frVAu96PY\\u002feIuUD5GcG3YD+uQBq38UyQaZdAEAuNQZ1On0BZ309dT0yDQKnAyb5MIYtA44NUM4wus0Dz9VKgTlfAQOrUBKJpIqJAeDgGseOQpkAy0EUB46t+QEjWcLf4xbJA1qns1FbwfkBgpRB\\u002fPqa3QH6606yMdJpABkk2A54YpkATx1vuap7AQC89c5WN0MRA+O+F4CTXkkDISWKkHQKwQPt6DL\\u002fnfKtAax3o52jbtkACmLBVK8uPQBoy4NsmfblASv3Jh432vEAYD1KQGW3BQMUjy6zG0LJA4jk0h73drkCKKiIYPVydQGlXKF31+JxALqwoL+B9rEC9noH+ABesQJXsUiHoU4FApJtZt7xgxEBAuzTav8PCQKeWELZJoJZAOAPK04isp0CpvPHQ2cO4QGsisZs5y6RA\\u002fpX51HMRtkBldB8EfiynQMP6cRVhy4dAStsU6wAxsEDtXhzN21O6QNxBcIU3zp5A7hTrmk8Gr0DghQI92H5MQJp4SZmXP8FAc6enmFsotUAVguGlWb2BQOyAd9VYSLlAL5TFe+DHsUCxoMKGKYGxQLEtiGKgCp5AKLUD\\u002f45zwkDUuKU1MTegQDp+p7uQj5dAybWBjx+nnUDXbu+Qe7WsQENJtelx\\u002frVA6pRZcJkirEDsi+eUf1pnQJ5BAhvG3FhAu3zFZrY+ikBO87xX2X22QCAQ3Yxk4rNAkdg8jKHbvUDPfrGS2BnBQE\\u002frPht3dbBA5zkhGnRBt0D+jm6u\\u002fji2QFc2uud47LFAMdh7kpriskA80A40TfeiQEH9hgp8Kp9AsQCfCxfot0DxklAaE4mgQDfiFthRhL9ApIvfSvpJr0AWC8veyHSCQOPyCfIVPMNA3U0Tctu4sUCr9LMIAna4QFgdh4GnMHdAuiD4QkFMx0BIM5LoZ5G6QFJm37Q387VAaIIvwcxOvkBGPGbChEnDQB+F+iZmZLZAMcJmpouhhkAB5ghgghu2QElL8RPiV7RAoTC0qFS2okCi2mg9pTu3QECYVHVDrLtAnR978ZWKbECoTPRMhpLDQNvLw1WdN69ADHTGyVkVvECvpKDn7z6HQJm0GJ+DJ7hASs4hBPs4pEB1w+M9wRPBQF0VkjiyUp5AJ9h14H3AtEBfBudvcIuvQIx3LCvRM41A92lVSMXAkEDiNC4SQri\\u002fQBTq3MLzPopAy196C9xUwEC16ozIj+m0QOxt+PBZOsJAxI\\u002fFCE9Ts0B6OF2scrOrQBVSCAkxKsVAgXSMsRCKnECxqkj8Fz61QMvm\\u002fhutx75A5RrSPVDrvkBWh79zyF2iQKwMeohdGblAo0ZVIUx4qEAhXov36wekQK3FSn7BxrtAjLVV2vfhpkDfrY+yrJ+lQGFNVIZEtKhArN5kb4lwh0BWvCiHJnCbQJim2ebL1a5A4GGln0b\\u002fgkBlABZYJZN8QLrl98XEcKBAMxhzHn6up0DDujYj9USFQNPPlhrW9qFAGS2PGgGpsUBd1Iby+SmmQEddtMX+rJVAM84LlrpKo0AC9GTcPvCxQFFqAUneI5FAxfon3QWKxkCW4wNjkB+dQE8qwmy0IbJAWkEv+scJyEA0zUhiqq2lQJenh32bfa9A9xeyXL0cmkARi68i8kyiQHM1nArGWbNAYvhOZEFhqUC6lK2iCcO8QAJhqWI+sK5AMiebsMRhoUC6GGZB1ea2QKmwP\\u002frgQbNAQcFrLfFkrkDPXTiC4SaTQIWXAyJ3AsBALcpxxyNOq0Dhez52whG9QCDyeuG9SKBAug00yEdYuEAj1lo11LV0QMzrqTDDgKJAaYEANll8okB0AsJCupLEQGmLgPcP13RAAIh6TBRdu0CeU\\u002fxfrj2YQAEbKajllV1AT28Uf4YCrUDSRE2sfxXEQDP\\u002fjsmaoZNA2Mng8UDHtUCG4MVXxe25QOQL2mwYKaJA4QZWdwZyqUD8w5Qpt92wQMarI7yzycRABYbnhwnFxUCs4hDNwAFlQK\\u002fLKgnBUqpAcz2t9oiYtEDs1HwgVFeqQBp+DyuE14tAWubaez73xUDwD7ilWmC0QBknB2LA+3BAlOtC3N+wxkCRXtkqp6+NQJjQznpDUcFAjKUPWkGss0DFJbxIOdi+QOq8pcLvCbhABD1xwah5rkD4Av5DJ9mnQPI3rZVrn6RA02BpwYfso0Cq8nZT11qlQD3DkHwTDcNArucWJYeWpUCH5RiDL9+2QB7WnaIkm7dAbbFKd\\u002f+fXEBCFqVuiviMQEybanZ\\u002fbalA7iWJSAswpEBsZpNVmAfEQMS66bYpaYdAnmdroD08i0CVCg6U1km0QLgJc2i6JqxAwi7l4Sm8tUBrDPIbVJ2SQOLKk8uBCqxA5yLqA9t7oUA1Rb48AQi4QCpxiEAT66xAq\\u002fXGNFe6yUA2fCB5xwvAQJiIVpmnqLVAqVQ9sp3MhEB\\u002f5uENLgu2QPJgafWk8qVADXY7gN8elkCjLCz9\\u002fEywQOachIRK8cJAMI019ZjtmkAJLSn8D7mdQPspL5jf4rpAFg9JNxLWw0BHMPAFcMKvQAs8xoBDxK1AS65mGgKXwEBxw7Y1iTOyQHoiOULRJ7VANt00sdn0uEDgw5dI71+nQJuQSpjXk8VAuBoc1m+BsUAWCjD3KOK1QK8Q9SP+XYpAhs0gobJxrEAyJ8iS8SauQJOIaka4E8JAqRPIPdKltUBi9G+G5cvFQPUvTnMfxrFAQdwB3JiZjUCWtYcccCyTQOxVWG98dKRAkOoRLcJRlkCUzcLm80jFQPVnhaAX2o5ARqOwY7\\u002fjxUAgfKLDe\\u002fiyQHGI3t+ii5VA1wEE0qkaw0Bclz50QWGzQOJoPAmO1KJAGUnqp9gFnUBXL17J1ta6QN6n8W8yq7lAEjJghESrv0Cu7jRO9FWjQPJM99id1KtA3TCiGfHkgEBjQYNiZ0+qQOHCBkzF2rZAeP7wOInMxEAcbNZQ64W7QCnNwB8RrYhAwCCVh0\\u002f8vUC21PDbXxrAQOtX39GgR7lAQwbfr3OrsEArEbtGX3vEQGYPu9nLG6lAASSAKMUzpUAqmniicGelQJoDURDOQK5APyIOfoF9skAQ6KL5oR+qQEGcJ+Nvd7lAYLUdmvMamkDQjtWecRh3QP\\u002fr1go\\u002fDIJAhzqfMC9euUCf1oOfA6GTQGjD4KjCk6ZAi0w6LNSms0DeucovzZnDQFRakmBb2L5AKRwv0BweqkAKcz0XGQGOQG890l8cFrRAOgnjLkosoUCJSI9uJnG5QBA318x8Q0ZA1N1xObxdxEAUOJ\\u002fdb\\u002fGnQOYVyBMtGq5AZo3lkVzXkEALZa65+Cm6QFoNLdMirbBA+7Or34bHoUBDx+fIgEPCQKmVcRYVPMFAZtIDwdJusUC4WFi7o9arQErAoVStiqhAwhgITBdHwEBgzn4mYd6uQO4G9fbaDalAo5kn+Pc1kkCT91EJm0yAQC5C7ASrSKtAUOt\\u002fTXtewUCY63c8tjy0QEAtRyeuvbdAfwmBa0TtsUCSV17BfY3AQJmszwSaJ2RAUmFi776Yw0CzAzWIZISsQJM0ghJSHo1AMVYN\\u002frQAvEB9Fyy5XwjFQJhzCEyebJFAsFGMitmhlEAO5zwQWEijQOsB4rzgq5lACwhP0OvvwUBE1j+1FvSjQOiYwGMW67NA0vci6LOTpUCI+pDzay+MQE0VoIPEar1AY63vgLcWkUDfKIZz9sGnQGGrnzdvp7pA8Wpnc0YOskDSOdwPyt6bQIWA5C54j5NAUO5f3mW+w0AJohlONiC1QGyIvJzVg7dA9wVMwqOds0B7DweSDQixQB9MTLcLIMNAtjzAviEBuEBocl+JjEWqQLSVuRtjM6pAMA6Rx085pUAhMPodkye3QAnV0e2z46ZArmcb8L7pn0ASuDGvnabAQFs9uTucvMBAUzNkJCj+sUBC7rWwormzQG24QqdHmKlALneUEvz4kEDu5fhyk7axQDfY+9KlP7lA0Y\\u002f9a2tYsUAU4Pv+UqacQCOvVgc0\\u002fKJAZb+RZptAs0ChrtJVnoSIQP99n+8azqRAbz5krK6TvUBr6YrIIMGPQDq7vAbk65hA32fDVdzkoUAIL+Cr6SScQKtVzyiCBbtA94cd17PjoUBVj32DKs6vQHfPm0+JPKxARxQWObJnpEDQDsUPz1eVQKF2S7\\u002fp26FApMLRv5Ynp0DVeXqD8t3IQMvR8HdEkaZAFzne+aDYoEA4RTgnYSDFQLbMAvhDgIRAZLWzZzAgqUBy\\u002fW1x0tWhQHJz+WHf1cBAz8t3O3rhskC6Z94N55yZQHrFcrMYWcRAaBODXPICvEARiUNPqn7BQNjFnYN40qZAmLlOegN0s0AJXhHv91q8QJmqRIfEYpVAeUUM9kafskAe7M7i4nShQN5o29IUsYVAktKa47MXpUA87zD5EGphQIBSLNabYYBAvx9JVbw0m0Bzl6qi6remQIqLYz\\u002fge65A6BV94SrioEBczExPak64QG76Ku7QvqZAmPWvOgk6q0CXeC3xnLK9QGh0tJQRjbJArmrs+tQRhkAKDd1dPT\\u002fCQNzcw9TNY7RAE8mPtz97qEAxuOLfttyKQHGWf6yOuYZAqJQtq00WxEBav0AAOUW1QM4P4mr2p7xAgqMC1I+cpUAnmxa8RkO1QJtfpQxWV8JAMVxhhoqwx0Dyzwl+\\u002f\\u002fuTQF0ipmw4xr9Ah\\u002fd9mEifvEBZh4\\u002fdeqePQARdeUkVCrFAqHrN75VJf0BtOQ6Rr8i+QPwTLD7CLKBAUIxWaVRklEAZ0NYVjrB8QN5IyBDWYMNAkpXpUrF+wECd3zTlkdmXQPfx\\u002fG6dQMNAnlakv\\u002f5OokA1cxlupd+FQKFXauaMdrxABaletd6YukAGFyTYGnTCQNWwfSmBdI5AWKEr0YT0lkBX\\u002fWuCeg28QAMvNyRjiIRARkkEH0uywkAhMIdNkZS9QKPOfN2l2bFADEUU\\u002f0njqkBGfHc9sb6qQLYmqbSIs7lAseWxdz1ktkDdMWRkSdiuQDUAAv4Rn7xAZudxPzrYjEDm4anWYieWQEfvcvbjfbZAFmbtFdpYl0C9GVCws2SQQJpmJYy9nbRArhjEV\\u002fOlwEAvYPNOuiC1QKerPQp3U6BAvL3oZMACu0Aqh\\u002fBYfiRBQEOJywKB+q5ABuXlyLnIxEBKXLw2PRq4QOy8uCS9w3hA97pyVt+ZlkDBD6rzVOS+QLeQLApPz7dASkjhB46AoUAuIhTXOcOjQLmSJ6M7CZ1AId9umLeUpEB7ic1X0\\u002fGwQMd2QzNzgYBASqwyfTtbukABdO4mZMjHQDSX\\u002fEayNL5AH6CD4HxSu0BBobF8tMqwQOxIrzlJxmtAV5hCUhPkl0CCVqFKY9e5QJfezLCpZohAKtEiJJYrdEDdwogtv\\u002fCzQFHjGrfcxcFA2rIUm\\u002fQZp0CZ3GEDE462QDeS24xTsrNAt4rbJMJOpkDhRi0yi03BQKsJSzlDlYBAycUCC\\u002fCiskD2A3fF0J6iQKkRFMXjeMlARZG5bsbbmkDOmDT1E+qyQFFm8Og\\u002fppFAEN\\u002f7hE0Ir0A1EiiR8RC7QLXgvO1dDLNA9zR7AzRdsUCVPtQGzpi0QGLDxYYMwb9AYu7rOSeSt0DNRqwuP5C6QH3tzKNsMq1Al7jG00MPsUCTdH8lbzZ5QKCu6QsMnq1Av9axbDPgpkCmzPo0LKy\\u002fQJkIyuD81LpAxKPJY8o6uUCCI00lNKGxQNiopz3cAKZA7zAPrqHGkUCQAtMdc6KiQJy1ovxXR5JAviQqaoZCu0CLXwUySzKvQP8nyzs6lLRAynkV7xaJsEBCQbE88iSoQFhZDOgC2KFAxO0mfBUbqUAEZragcNl+QOhFsZxpfIBALPWMObEewECbznsbeEqjQLvXBFJEd8VABqm7DT8Qp0ArZbuZ0DuzQOVInEfLIK1A2rAUPxE6vUBaNeLEkn+GQD61rCjxmpdAwUqQWbrZt0C9jJH3a\\u002fGuQNtDzUw6FXlAHvwfBZRYsEB8VskVeMCRQFBrMqgMUbtAYchORx20o0DFPLw3J\\u002fe4QCxROLWceKxAiZ+8frlSj0BS4JzOH7vEQPepUOXyO6NAO3fyGjq7sECd0ZN\\u002fTfyrQPTFxRAutrRA11CfYR\\u002f3r0Bl2JIh\\u002fBmuQGEAaQFn0sJA2Fe\\u002fVpm8v0CZaPG3nY60QD8jWAXWVbhAfNqKdiu9q0B5OJ7YjkmHQGTdL6WszpZADhU0RBc4xEDVyABf81GhQD0\\u002fEdhOhqFATcMqDPTRSUDBV6J6eavDQBDEgvRm8WlALCSPGMf4jUAEQRvCyvK8QBdgn4HV2sRA2a4G6J1zrEAR2OIs+f3AQKf91GP13apA3cYYVlYzf0DWHLS18LC0QGvNXJt3MpBA9F\\u002flT0bjskCy3zOWTBGwQC+xfaWiIrpAdeVvNXAdoEDDlqMfzWiXQGfWganw+bFAsk\\u002fx+5cduUAjKTFmZAqyQIRPPM3mDLtAHm9uI8cOx0BQyqSvX2V4QJ8L2aThnbFA0ixz6+gitEAg8txxawCaQAw0kL17TqVAAytnb51yl0B7ehBUxQr2P2C7DfLZ0aRAuwTLJf+BlkAEqzCWJASUQGs2sseoa5FAXabYKIRIrUCd+QNIlBpwQFtlYUqWypdAbEgN4zgqjEC+8OCN9QjEQOMJBOxHMbVAm1fmBj\\u002fsoECStwoT6oWwQIBW6nJV8bJAEfy9JzfToEC1vJW0yljBQMqa2dNZ36ZAnr8dIKVol0DoBDSl0VOgQPLuzZbAW8JAbUhXk7Qvv0DPqbKPsmiwQB1xn\\u002fqBoq9AAD67+2T5m0BhadT15++sQCNmk55mlsFAY34ln83tvEB2ZE3UdMO1QLl5gQei34dAyuwzqSpPp0A+JYa58J25QN630aHI8rpAA6O1BWSzpECdUmQ1nRWpQNqaznYYFKVA5S1KlfDAlkDRZbcqWQpyQBRbC6dDHb1AYJEY33CwpEDebOvqRaubQHmrPK4TLLFAWlaiGM4wwUC0ZBp9J1+7QFn1f\\u002fpySqtAzcgiKyGioUDpnhlmggitQBvercOxdnpA\\u002fw8Itw5VuUDtoJwkKIiQQHynL3pYvrBANlQIxC0jwkDAFpczG1KaQDGtaighurxAJFSzeXzdV0CuN\\u002fnMR0+xQEVaJBrEu65AgX0zM2AAt0DDjFRvoPWwQAZ0Or1LWFtApo9ZPbIdhUBxO2TlwNmvQI3b94YakaRARjEq0+SBl0Aris6c5yOnQE03Lj95x5dAGXiWMlPib0C5hkwh9jiRQOf2289z\\u002fJNAPcZkwNuokEDKcvjp6ES9QKNQDPZ7wbpA8aEyV47EwUDIBHPXm0iHQI7zxAiWYLpATfI6TyjBsUDchxc\\u002fU1O0QOpUhllcR7tA0jnQU4sBmkBGnbqOwqW9QMeyIlg2M71AdCYIwHYhwkAJN41K016oQOQkox3jysFA1OQtqOvTxUAv0lc32T20QKwpAI3E6ohABO3m2U\\u002fds0Bxcmiev5CUQEtZmDGM9MFA1VLz+tHcqUAgJ6y9ANSuQCbkEIXwYKFAN8ybMkdXtkCZXn+F5Vi3QMK8TybYAMJArkTigKS+gkDf5yk5oW15QG6l+a97HX5AxKD9\\u002fCmFxEAikKyKlk93QHOado3imMJAnO+EbLx+tUCqIiHQ+Z\\u002fIQFNhtcsDUqZAtVmnDWo1nkD2VMGzW+yfQATDJNl8RZtAiFV5XFNbtECByrJSs4SnQI7CS5g\\u002fHo1AxDmjgVSfwkB7jHIz6c6bQFZvA7GHTMZAmALBB9LJe0DPOJ8KOeZaQKkvW2qs1qNAPtqCqC8\\u002fuED2dffYMUO8QGkzMI5BkbhACAeAYpHGuECcdgfpzkKrQBRcSf4r\\u002fptATL3qUs2ggEDxIAmuVRd7QFTxq5jZLZBAsxKWiaVeW0CF5EkGJtenQLprn+tgOcdA48DMSLk7sED0CnBWKu66QHSGH+V\\u002foXxApNCy5Rt2wkBXY788uuulQMBxsYYsRLxA2TWn7vKDskC\\u002fsKv+Plp6QCYl\\u002fU9EM6ZAilnGPZS1r0Cik4JoXOiXQNdUbYqZSMdAMS9BSkqAlkDNIzugj9uoQNZKDFWnNbZAT5ZfSaysmEA+YqWAlzasQA42gIB2wrZARkUXvKklwEAN0yDezXquQMVcn\\u002f4UEZxA\\u002fi1DNQqrr0D6BSelYOKHQKMqPFFi4aRAy1UdFd\\u002folUB1vuDPfw6RQJGUV0VDFYNAGEZzT\\u002fOpvEAr75AqADmKQCBA6l8XxKhAUNTKbQ0KuEDaKKOTzyerQF640C14\\u002fb5APi2UN+Xyq0Cx8JicbLmTQOad8Oidu75AqtGno++OvkB4KEkGm21dQGGhG+vwv7VAVcuQjP+IgkCIq+hbvkimQGbm1g494cFAree4sYpTuECMotzSyTLAQFQ6TOQN+JtAYQLCusaCoUAuPivd31+tQF77jMxeD8FAi7ScRn0qw0AEd19CujK+QCCpFaXKpbdA5+TmDxI+w0B7rcZWs6qyQEN6bnwBccJA\\u002fxPfV7xKokDRTgtN\\u002fGG1QCAmxxYbw6dAnKhb1S7DyUDFuUiTEYupQB56jJho5KFAwO3uFlwcpkA744\\u002fJgPlJQFI3DxV1PbJA8r+EQ9omvEBE1FT46kXIQIsDrWlrdaBAmdUb89cQokDBTMJttk+rQKt6ACFEKp5AmjhfQNw6nUCLg65QuY6aQCE2irlyMLBAaQXKSWNCwUAnGV5DrneaQJDo5ibEiaFAHgR3RpFbw0Dnx8r8CUTDQMPcqHTZo4JAVvD\\u002fgmDcnEBVUzKviRejQMbz\\u002fDTsOX5AMa+eD+jhrEBuHCmr1IS4QKI5MoExEbJAloTVn9ivrECGoNaf2zu6QJBoZeRPsKtADoOIcFHZnUAngaGeWOy9QIWPz2hhmqFAbpL3oZETwkBSNDvxbPKjQKKgel8zl3RAcQZo44DxoEC1mPI1afG2QC0oWDioucdA25BmQGFQpUBiTEhU\\u002famsQEAO8V1lM6ZArD7IlrMtr0DWQoKGVYTEQOfL\\u002fdAhicJA9I71whC7xEDNBHH+PEeFQKm+hjptFqFAe+ZhxVfsrEBOb5JOepm+QJ\\u002fQbk9LbrpAyKq+Ozz7skA1RPiD+drHQPPUICu44qZAtufTisa7uUBkFRBQ1w6yQDdkeYX5QZBA5mykwzO9ckCh7b9vUMebQLTmFtIOPqRAauw2BVycqUBdXfXG7eE8QIpRwJJUbqNA4wkjUK+wukD78uwfx8WzQF++7PRoUXZAQGyt03sLrkAcCbXXDjW5QBMEkBLZ+KZAmgBJn9BhqkCbJA+N3vq1QKR8Tf6au61AU12tDon7oECyF6J1rQezQJUikjUiZ8hAAa174iJgoUAz9hJPucWsQFzjJV67FJ9Afou1NOv9sUAqoAW659WvQOMla\\u002f8EgblAWq+pbRp8rEBhkGPI6riMQPh2S9gL1cJARXQUojwOiUCyWWa+urZ9QMupT7Wqt6xAhUbBpkyXo0CIZGc7OLCsQMuoAgq4a8ZAcn50n03ZmECmrpamdt+BQJj2NDwGZ7BAQ1AFC6T2tEBv24GhyACwQCM9pwHQx5tAAx3CbfNTNkAvWvlv6lezQBOY+0OEGrdAu3pP4nBtv0DhWDvcM\\u002fd6QH1p2FE7lJ5AmwCRWqpQsUBZHMEy8OaxQI9xMpc6ba1A2+O6hfsgqUAvDqMfZAWkQMuL0mVYT65A3yEEcLrbs0Cr7cyEEnmQQD\\u002fp1NfJgLhArDzcyGZLkEA0wzEdCXO1QFNECIZ1WWRAsnN9NAMau0CTumi5pdXIQDqfXpVUHLBAIK6Bd7XEuECkCD8P6kOrQE4fRu8\\u002fYsVAy8UVIBMBp0C7uBYZDXyTQJ4t62M+obFAn7lDyrUYkUAeV1fem\\u002fqsQI6iQcZW2nZAq5C8fF5+s0BVdGoeWPS5QDWI461Q68JAYgnk5KL9w0BqPGmE0uO3QLW9RDDzULBAlLRLYk\\u002f7q0DMa6zypCe2QGwdTCQk4r5A+PErKMXHqUA3\\u002fnJ\\u002fAMS8QNC6O8rsKYNAecUyYJO0nUBI0zLQLlm9QKHBw2mfZrtAPKzXVQzMtECRU8LoNG24QORqbv6HkKRAAVsMRmrFvkBZfmMdA2SpQBvYz36mJadAbwwhf8RHqEBhJwhGtuCjQBu1b4sNvE1AfzXsd1gAxkBuxn0slBamQN1mGkbO8sFAeYo+Xj2ztEDpVR4N9DOyQHV8TLZh77dA5ZGA+bv4mEBPwi11\\u002fEm2QAlrpzL8ocdAqQiBcTuTv0DZ+BsEacW9QO1HCK45GXJAqSciQvq0wkBhhy5EobPAQHtOZY2bCJtAsJM\\u002f36M7qUDOEMht33GxQAk0rer556FAMGGi6dbrf0B+m\\u002fGPwJuuQKDM5oJFvrRA6GEl8nxUs0D1hZ2Y\\u002ftpvQPjZZcnQ7KlALNcq2cIosEBuaTEFw6OsQP3WB3SIbrpA6zTXgND5mUCIQ7qnZM+gQHaF2aEVZKNAnVCiGO3Iu0BF3UPAMnm6QGq2k4lcjIpAn+ue+tuqv0BNqhTa7dCwQJvKS6G+PoFAS4YT1vZcwUDUYd0EUYWqQJrkbwsZ5LFAa7pH2RKElUDNqGzvPvqxQH7ejiMnULhARs94TM7bwUBwYXG3\\u002ftmxQL3pcmseQKpAgdtfEvz3jUA3gQ37K2WmQPa\\u002fDCCDe6ZAvHG6GjsHqUCvDNkWUKeqQP68dTK1jZJAOuOcb013g0D27+IAk2CiQIXUfj3+8bVATev2XmodpED5QQ\\u002fKpoWhQNQdGEdzsaFA35pSag76pkDDyhplktnBQIxOlzMhGnpA6k3\\u002fsO+7p0Bdw\\u002fuNaWCxQFfRwhe94rJAXF2z0+JCqEDr3VLgB1DAQCYwtT0SEYxAxFfgOxzEsUBu32dprr6JQHYsT2lNu7NAWtQzKBLDvkDWtvlGGT+bQPVqUhqp+7ZAzLB0m7uKhkBSob7jJFqVQLgjDcdeb8RAudIuhyEWoUCGKklV0Vm6QO4hahe28a5Ao4gnmZZiiUBQZ5SC8aWcQBgOMWq2ybRAM0Z3ny7LnUDd8lFCt1+wQNXbwlqne6dAl1Eyf\\u002f1\\u002fuUACzYzf1cyGQFFtJdqKy7ZACSKVfHmis0BlnXHs5gOwQMeRIj9kvbhAU2Q04bkbuUCgEZu59laSQO9n7WBEpMdAvpVmTUNfiUBZplFI4iOqQCDVICAR7btAFLw\\u002fLHQWeEAEa9JtlKWxQDBdTwTdC6dADo3YO1Gjw0CxZcRy3py4QFUQxb2UObJAh2675BzXvkBDXXUIJG+\\u002fQIs7KEq0e5FAT7xKaNzxw0Cvpr1UooV6QLdN40mUoMVA0wkwK11ookDSmGek1ZdKQAc9XnFCeLJAFVxP3J8\\u002fqECFY6uGP\\u002f\\u002fDQAvgURYqyb9ANNVfLAxcpEAcMmx\\u002fEq6mQOkhKTvBQb5AM7i+CnVEtkDKSf54yLqCQJfaWsMQqK1A3qmKV83OkkB\\u002fHSmJBtKTQHyMP7czh7NAR+KL1EdCuEBtF3kcQse8QAtqGeZiRbdASj3wsEU+wkCRE7\\u002fC1WGgQOFjRROYUotA0eMyraJAO0DK\\u002fy5KlqWgQLVovIcOjnFAFjVEZgexo0A1ELZSuPqvQCgHB0r+RbdAGUWGCysGv0ATVrxZEV6zQHCBz9jpUXRA4f+ni082eEC13BGHC2O4QNd+6Gs4FohAd43X3KbYtUDGAp51qJu2QKJV77xnqH1AYr0rT3iCtkBFUJac2A+zQDzgEaj5JrNAvDDkLj6hrECugUpdaaO5QL2QrP4NJ7VAjCO1PYdwyUAl9Jpqoz+mQHlu2ru3qYVA4BAK6CQ\\u002fl0BhzKddsV6GQFkozJcWi7ZAD62ve4DflUBMDwb\\u002fcZGjQA\\u002fDxL0hgatAChEj1Z\\u002fXoEDBpLRwGCjDQNA1Q1YoGa9ANnD12jgvlkAZysL6AZW3QJACaRq5W5hAbeFoSnDQrkAtLK4EczuwQCBIS0z5w7RAesKfn45+s0BB4MKv\\u002f9vIQB2xGE5u235A1LgkIca+oEC7htxE1W90QPvKPNR1Dq1Aq+0qgjABuUD\\u002fQmKP6x+9QL9ds1S3VLpAb9oH9nJioUBBrwKPBuPKQLzYTzW0+sNAIvRPyalxtEDmdGJDnDGsQDZsfgZcjcFAuDeKBSIXlkA7l\\u002fsSa9ihQCKejImSmL5A+FZieI1UikCE31UxH3mqQNqk49La3rFARLKs5eWXu0D0MI3Ok9SmQOQ5UQXzI61AOigKQ5h3tECrB6Cerl3HQPY0GpeGZ4dAq5EihvrUeUCIq1sKFhHGQLEoj4nhSZdA38DdQyY+k0AGFHIXRH6jQGuP05h8E71Ataw3nFPptUAssEVQ4qWLQBj3QOXrE8JANDP6Y9mitEB6JlBgRxGSQPVf1MbAXpNAhMn2AvjQuUB6+olvine8QDgA4oGgl7RADKKo9wg\\u002fhEAf8rqoTw6QQCOTBzj5sZZAFORjz5niqUAOdMVc8MW8QN1+UBVVyY9AvmvfQkXIlEC7LBpmlNu6QMTz2nIQ8KxAJS0hUjloiUCZ4heTmnisQN91AbkOF8BA5hUEklMNlUBadaKFXO6vQFPLYFxHj7FAOKmjJsBBuUBhIdy5kkGwQItAG5nfSJlAN07385J+uEBb9ov6PofBQIFdByP8JahAu98tQIcelEDOmxT0qjyuQISFIJsdn6lAoBgyUVuxmUDmUd7A\\u002fG3FQO7XB7KMs5BA2KjW0cxvrEBY90Yc2NGAQGGzRASb6jdAdNRoKXFQt0B7oVjR8YmlQLEH6Q6zD5lAU9yShy7WxEDg+KFOj4SfQILiWcHBUJZAwiufBwKWw0AxChBnbGGWQKsaKfXjdqZAt4zQXifaqkCeyz4SU7KrQGM7B9+jvqlAWvY4yZz0okDFlf+7\\u002fjaxQLOasoYn7cJAULE8o6Q2tkBR+V3WLxykQECon229HYhA8T9JnNTxvkAK3kSuI6uzQBnDRqXu1cFAPDgVlmLZxED3F5raSqW2QBrUCZFyZIFAf\\u002f6lDGO9sEBa1jiyKDqlQJo6Bb2OkLJAiXtaxxOYwUCQcuV+\\u002fMe6QG+jd3CsNLpAGufJ7NPoo0AaGKYYBtqiQA2JlEcdeLRA4YweNYaIpED8bhsGWJy1QANPTaREMaBAKB5gsmDesEBDd8bIrMG4QKtfNjqPIr1ASv9U\\u002fyK5rECK+rUOaUa5QBiXvIEara9AXGzSJUuprEA3u9KaY8ekQDRFQ27ydaRA2jT7VxSVr0BuAWMD0uCdQI92lqGiS6BAnkYiNZfxoUDNWZHC4xK2QMBoC3VcOLRAsfYha1NAwUBvWMk52z2kQCVLZwWiL2tArF13F97it0CNjLO7LfG1QHa7eA\\u002f+BItAIxSqgL3mlUAW5F0dXp+wQLTSHH5ncLFAM060rj3ro0A3QuwODJOXQBCCBKVgmIhAkaIx81HXoEBhpy+V2vaZQAkTV6ZL47RAn8YCZdWMuED7pAF7M1ZxQFZDAmhFnMZAJjk+rwTVk0Bc9nRQ6fqFQNoivxcdArdAHBO3KtXbuUAA8N+UlGSJQBAwP+5j2rhAJ0twKp8Ej0DV8oyVPRu+QP\\u002f3DntaBLZApiC9NaEMp0DnHNyBahfBQD7ZaK9PBsZADXN9HlxEv0BY5B5wy4KnQHEFt51W2KxATrd2xfZOe0C4rQPhm7yRQCB7pslJzJdAJCGFJcRBskAcoSHP0zOjQGUb1mKt\\u002f8ZAMirCkrn\\u002fgkCKZvnXsm25QCwhunkHKFFAQ4lLskmQskDWGbmbzcuqQO\\u002f2UjqP5qNAeVdmHiiUhkBOMEN+NqakQCAKPpvckMRAWEXEG1NAo0ADS9Zf4pm2QBS\\u002fw6XzLLJAEe2nF1e3t0AJKMZs1Z+kQJUTK198kKFAYr03YMxsxUBY29Q6TpWmQPYniN33MrxAvEhEFpjdsUAjx9CBc1ihQC+NdOAre6VA5fdhXpoUskB196GZPky1QPHk+txxB6xA1kpbpyfYuECxWGzCcXy9QAdWNwX237dA3W\\u002f77nk5dUC9KGY1pwy2QHSCn1fm96JApWGvE5AWukAlUICQfaiyQDYrJCkNrb9Aopa5Ade0tUAQuCbXU6CQQHGb95+c6LFAnWRk9k8uyECKyN9+8AC4QEz8CEBFYbhA1\\u002fD2EylNwEC0lejDpuukQC618Mlmq6JAEsi\\u002flN1zxkDY4Bln7firQIXsbMAGUrZAWNVpLM35uUD3FwJDkqmFQPbl3FrHxKtAD\\u002fVVosy9rEAOTF\\u002f0wNWYQFCYxfN4\\u002fqlAjBKMqf0BlkD\\u002fQP9TNaLCQP8c3CNoALRAfnc7G2YgykDYvXsYGSm3QMZZq3Fm2blA8ek5WVWTukC42mhfXe6MQCo+2JK2g6pAn4YFp72zrEB218ONCmW5QBSdOV0Ms6JA7ZsYJgo3oED6hvCNmSm2QHrlEZPfhb1Ai+EgaVrejkDho+Ms\\u002fkmwQDYQUtAmy5BAJTvkdv3vr0AShrMSA\\u002fy1QFyBe8EtcK9Ab5iD9ToPpEC6lG9ZH2C6QFO353E1VYJAf6sCH0Oww0CDjiPkiRKyQKRFvkfT549A8zdTgqcEvEBfDYZwukK4QNWVi2cgccBAOiGH+Ma+uUA8CxTpVDSeQGeL0iKPw6VAsAQQu1mKokAc2tRyZDuRQBOMyC1ZFMlA2PWLEe+ts0AhAHIfz76hQI9nTXQQr6BA6MS89KSPxUCu5GJJWiHEQOAdsV408rVAvPmm2Jxxw0DCMHMGZsutQEq5FQk65q5AO8B\\u002fPUeXrUAomeYIsSmYQLNuoyz52MNA8FCi3fwBuEAZzE8NpXjBQEphvPDwJ7xAX2NUnIBdsUA3MKigBwqHQGLbVv6f5qBAt9JydpGGpkD73E1otxO7QBl0e03c1J1AdJgPe59QpUCB9sqX9MymQOXtwgGCNblAlAZiMqZmwkAjsaUqyxKxQETEfTwjHqxAAJC7sbE8qEBXhl8K8VyzQG6Q1A0c2rdAwpSVCVTVtUAY8CYJvee6QAhhV3yFx7ZAoLmEuGXLrkBefYxiBi6MQKLlWDqFmpJAZsF+mrgOwUCi2vGxtkWKQEAwrpgt9rBAxoIa9J9oqECS33GUARmhQHlsYSfMZ6hAfqRH6YBrsEDi5APlAFe9QF5FDbaElbRAglQ5nc4Kg0DSReHMSp21QMyGimcA3K5AzX40RGtzoEBfIxQev1nAQPVQ6Yw1VslA6KVae+fSxUAynCfeoUuvQI9Imr+6Y5BAiUkaN631nECX4jmijCjEQFryYd1YQrtAr1oBfwVBtkA78XDixElXQEIDN6QplrdA\\u002fs1IbN1bwEBNCO\\u002fuFzu2QMPyeHUyoMNA2yE7MnyfukAVaWL3p967QLN7M2ne9rRAUpP5HdF7skAhkvv0JtyaQFZi6Qmubb1AjPOgJHBdwkAZCJ1Qy7iwQE8LE4BPpZdA1Pi7jnS\\u002fxkAIHxGaToKvQMgV0LMCi6FAlHkLyQMma0C0eXFWuvacQD+4H7ooVmZAHBYF9ut2o0CfFXoBpJKwQCXbUb6xwq1AX4axyGgGqUAcfobvVFqxQB+V0rz+DppArxmratXrwUDNPdUeyYPEQErnIRoB7qpA7Hr6YQIFnUBqqgJ9Ql5jQGP\\u002fHd2iwa9Aiq\\u002fw\\u002fNFvtUAC6rNxeRmjQH3KtTGPmbRAGCauffCowUCTeEQ0X8+zQJEylksto8RA6QEbTdH8hUAaeSF\\u002fGym0QG6wRwiDv6NAK3aU8OgvwUCIhhMBjZ61QJLyEX2WXrVAnyCweEvBukCMbh9uv2K\\u002fQHkun2kZ5bBApi80p4DWvEBRpmshYwSrQDJHXLSaFcFAEgiXdp2At0DsM2eoqBW4QJUWrFzmMrRA7kB\\u002fPbzupkBxM1TIuR6iQE8m6DN4oLlAJydUfE\\u002fis0DSmuK826axQPD0XQxnTrlAhvWxqiiHiEBjfwkXzl63QOsJdMgIErdAZVFU97OUwEDGkmZyiK6wQLNMQG+D47xA4Sl7zSVOokAXWiAPxD6bQAoLQ+EoeqVAEPcNSZr9d0BkcUqQUWa3QIqgjXhkI7dAq6boY3X5rkCF6pdnlxqnQHop4lF6gsBAc7slJt7zkEA7rUFQQxCqQGsv1TV17cZA\\u002fM1UCntKpUDcn37Obo1cQOlfPxPgsHJA7Yk+N\\u002fKpx0BNLk89sMWIQIUTF8zzb6FA\\u002fCWZ2MQkgUBj0XelUwW+QMTzdOU+B7ZA\\u002f4VnRzhHxEAGYZXCLqmnQK6xSrlAVb5Atpg96u1InEApHAU1TVW5QJ3hxaV1IpdAV3WsGe8zwUCXJj1enyuaQFX3Wi15KY9AJbseXXTUiEBwBII+7GR8QMZceaNawKxAaXSe6Badt0BXmmnYP1ykQBhMjV78Ko5AILPKRb6RtECUHan3UIa4QNcRbJvsV6dAgMFlY+9yt0A62WoVwzinQJNdpx+e4XZAwXWM8g9NqEDPLWObHUPBQMZAL14BiLtAKYIHvWc1tkBDLIAg5Xm2QHsyKn99trFAQIYMxVaBnUAJ8Sbdou+hQEz9MujS\\u002fb1AzrNS6SswikDw33BemvtwQD8OKM1NkqBAH5AGmh75qEBwgAbZiu2dQMmSdhL\\u002fjn5AsMk1Rm0PoUBB51uGf3yyQDaUx20Iy7NAK4bmcRIyuEC1nwuRvEHKQFCf7P8jHsRAyFcW9vQrxUDovGUZ2oe5QMCH41dzJ7ZA8Oq8hNqnsECPNj2RtI3DQCPm5xGHbrhATjVip7HhkEADF38Ycn3AQGVtRiQK2J5Ahwooknqzh0BGn5YWcqKoQHPsuKqnq4ZA3c96\\u002foUWwEAUOiB4r7eeQISqTJrJ5bJA0uG079s\\u002ftEDGGrwMDJpzQKMUVg9mvnZAEVnSY+iwtEBAN5BDYhPGQK27NlOrqadA2lMcidpowkBewRDIk+O9QMU3JSe3E7FA1uEj+f+qqUDhUX2a2bKaQCaA7Rk+f4FAFb1tVRVaqUB5czVi+VesQNEt77cqTIFA3EJnxkBDnkAvcHeX+5y\\u002fQOJVTL5QpLpADrBo4PdHgEB1r5\\u002f2aMuzQJj1KVPRF2dAjCOOZvNgt0AsaEhJphm3QL\\u002fbzst2pLVAr+ccZM40pUCGy5JECei5QF6ghIJQCLhAnZCJ8uhspUDQjx0UFg+5QGphc+VWhMFAqUTPk2RzwUAeOLp11um+QHUQQ4Jcf7pAnpohzscovkAOKzjw+ZK8QKjqq3Uc37JAuUAsmXZAu0BpVRpnVXKiQOFp8RThLXtAd2volEvAoUDspLXfr4e4QBHgVJ\\u002fZjrNAvRP3ZKFKvUByqwu0fQm7QAK9YkOYnbhAN3Xb03omvkBZsPh8jgLDQJdVGqmTj6NAPwnEqeq2wkDxK77k0tKvQM+rCbpuirtAgLLFm2F0v0C5nwmgo2WhQJk\\u002fzkRJg6xAdfICK6a1t0DFC5NfLxB9QLwLjou3ZrdAoz6QePcgrUDOeSRyD+inQKFbDS9XF6lAb0Zlh\\u002fxNWUBxzI059RSGQHN15HAN7L9AqLMCyZwVm0Ai3O5qdIOYQHwRrHdQKFtAniQfIEsokUAft1MC8LiRQCZPDOUI06hAB+OapG5OpkBs\\u002fZ5SmA+sQHdJkwh\\u002fVKNAvP5W6tB9xEAvXhka02WxQDuxrZ68k6NAeiT2ohM5jkBpqn9Hl4y6QNoRISvWy7pAPNEB3lR5V0AlnVr3IOd1QE6SM\\u002fzNB8NAi3ajKPyMW0BgweFUruyyQCm5Wxkd27hAv3pn7SEPwkBeYdtIiQWlQBdTzG5Tkr5AbyskagT0okBjSH15l2y2QHT3kf48FsBAzjknlM2wukCPfpl9VMW+QDUiH7SGHqlAdACjggfSm0Av3DBV5QycQKPsW+6jb0pAAOyCd9WKxUAwxhAWDgFLQCqdLlFMzptAC5i\\u002fPU4GwUBX2piYe1OeQNXt34t9F7RAWXFoLkiOtkBsa6n5vweLQCYKGCWISbdAMRQu0MFhskCYzzt+iV\\u002fAQDDAxw2jHsBA14RQ3gTLhkDd2uFE\\u002fra9QE38LZgcVbJAkZo4pqAEaECavSTzlg7BQK0+Wh875HFAL4ONiRp5qECNL9q5ose1QFLdaqMkhJlAsYhRTUMZdECwoY4GPzKXQLDc+FDYTaFA703hYeeiuUBKG+u7pU2fQMppW5mFQbdAg99ACDgRsUD2pRkdBaOdQJ08sH7uoYRAFMO3S2fXtEAz6Zg3yomdQG9e4SO+iLZAj91SZw5Qs0CAmqk+aL6VQB941V0\\u002fX7hApH+McpCTrkAz7nnCAT6tQE3CT1y7fJ9A0uqgJ7Wls0BKTwbp5lunQG2zmiybjrtAOYKWPVXatUDwQsDYcT7DQL\\u002fWYyDLdr5AyrkYf3+UsEDoInhlPYW+QBG3y+djhZNAYt6MiPtFr0AZV4NeoWmtQLBEcUfNOa1ACWSR+kCOs0CU\\u002fd53LKmwQKKNq0GnWLNApNq+P8T0skDoehDG4KnBQEW36ighbq9AFI641BIjhEDEWCcJaU\\u002fEQMU7nSVCz5tAabz20KfEcEAnttQwc8uzQP\\u002femUHXnrdA\\u002f8e9BLGumkAkBHd9cZi+QDmiju9K0IxA3RhNfVACsUAWwCk6Oe+uQBeexQnI+8JAoCw2Ua+swEDPTlp9Ni6kQGpSrH2256FAhECnnAN5vEAxCvnV24C2QFltyS6b+bFA6n9DzphlvEC4BURnLsSkQBO2I5DJGqJAxeAAdzF4g0BiMEx+Q5OpQGqcyryRYqFA+p0F5+oankCLeCkxWl6rQNCqumTJkrVAQ3vQ8ONamUDg9blm1dK8QA==\"}}],\"hovertemplate\":\"%{xaxis.title.text}=%{x}\\u003cbr\\u003e%{yaxis.title.text}=%{y}\\u003cbr\\u003edefault=%{marker.color}\\u003cextra\\u003e\\u003c\\u002fextra\\u003e\",\"legendgroup\":\"\",\"marker\":{\"color\":{\"dtype\":\"i1\",\"bdata\":\"AAAAAAEAAAEAAAAAAAAAAAAAAAAAAAAAAAAAAAAAAAAAAAAAAAAAAQAAAAEAAAAAAAAAAAAAAAABAAAAAAAAAAAAAAEAAAABAQAAAAAAAAAAAAAAAQEBAAAAAAAAAAAAAAABAQAAAAEAAAEAAAAAAAAAAAAAAAAAAAEAAAAAAAAAAAAAAQAAAAABAAEBAAEAAAEAAAAAAAAAAAAAAAEAAAAAAAABAAEAAAAAAAAAAAAAAQABAQAAAAEBAAAAAAEAAAAAAQAAAAAAAQAAAAAAAAAAAAAAAAAAAAAAAAAAAAAAAQAAAQEAAAABAAEAAAAAAAAAAAEAAAABAAAAAAAAAAAAAQAAAAAAAAAAAAAAAAEAAQABAAEBAAAAAAAAAAAAAAAAAAAAAAAAAAAAAAEAAAABAQAAAAAAAAAAAAAAAAAAAAAAAAEAAQAAAAAAAAAAAAAAAAAAAQAAAQAAAAEAAAABAAAAAAAAAAEAAAAAAAAAAAAAAAAAAAAAAAAAAAAAAAEAAAAAAAAAAAAAAQAAAAAAAQAAAQAAAAAAAAEAAAEAAAAAAAEAAAAAAAEAAQAAAAEAAQAAAAABAAAAAAAAAAAAAAABAAEAAAEBAAAAAAABAAAAAAAAAAEAAAAAAAAAAQABAAAAAAABAAAAAQAAAQAAAAABAAAAAAAAAAAAAAAAAAAAAQAAAQAAAAEAAAAAAAAAAAAAAQEAAAAAAAAAAAEAAAAAAQAAAAABAAAAAAAAAAAAAAAAAAABAQAAAAAAAAAAAAABAQEAAQAAAAAAAAAAAAAAAAAAAAAAAAAAAAABAAEAAAAAAAAAAAAAAAAAAAAAAQAAAAAAAAAAAAAAAAAAAAAAAAEAAAEAAAABAAAAAAAAAAAAAAAAAAAAAAAAAAAAAAEAAAEAAQAAAAAAAAAAAAAAAAABAAEAAAABAQABAAAAAAAAAAEAAQAAAAAAAAAAAAAAAAAAAAAAAAAAAQAAAAAAAAAAAAAAAAABAQAAAAAAAAABAAAAAAEAAAAAAAAAAAAAAAAAAAAAAQAAAAEAAQAAAAAAAQAAAAAAAAAAAAAAAAAAAAAAAAAAAAABAAAAAAAAAAAAAAAAAAAAAAAAAAAAAAEAAAEAAAAAAAAAAAAAAAAAAAAAAAABAAAAAAAAAAAAAQAAAAAAAAABAAEAAAAAAAABAAEAAAAAAAAAAAAAAAABAAAAAQAAAAEAAQAAAAABAAAAAAAAAAAAAAAAAAAAAAAAAAAAAAAAAAAAAAABAAAAAAAAAQEAAQAAAAAAAQABAQEAAAAAAAAAAQABAAAAAQEBAQAAAAAAAAAAAAEAAAABAAAAAAABAAABAAAAAAAAAAAAAAAAAQAAAAABAAAAAAAAAAAAAAAAAAABAAABAAABAAEAAAAAAAAAAAAAAAAAAAAAAQAAAQEAAAAAAAABAAAAAAEAAAAAAAABAAAAAAEAAAAAAAAAAQEAAAAAAAAAAAAAAAEAAAABAAAAAAAAAAEAAAAAAAAAAAABAQABAAAAAAEAAAAAAQAAAAAAAAAAAAAAAAAAAAAAAAAAAAAAAAAAAAAAAAAAAAABAAAAAAEAAAAAAAAAAAAAAQABAAABAAAAAAAAAAAAAAAAAAAAAAABAAEAAAAAAQEAAAAAAQAAAAAAAQABAAAAAAAAAAAAAAAAAAAAAAAAAQAAAAAAAAABAAAAAAAAAAAAAAAAAAAAAAEAAQABAAAAAAAAAAAAAQAAAQAAAAAAAAAAAAABAAAAAAABAAEAAAAAAAAAAAAAAAAAAAAAAAAAAAAAAAAAAAAAAAAAAAAAAAEBAAAAAQAAAAEAAAAAAAEAAAABAQAAAAAAAAAAAAAAAAAAAAEAAAEAAAAAAAAAAAAAAAAAAAEAAAAAAAAAAAAAAAAAAAEAAAAAAAEAAAAAAQAAAQAAAAAAAAAAAAEAAAAAAAAAAAAAAQAAAAAAAAAAAAEAAAAAAAEAAAAAAAAAAAAAAAAAAAEAAAAAAAAAAAAAAAABAAAAAQABAAAAAAAAAAAAAAAAAAABAAAAAAAAAAAAAAEAAAAAAAABAQAAAAAAAQABAAAAAAAAAAAAAQABAAAAAQABAAAAAAAAAAABAQEAAQAAAAAAAAAAAAAAAAABAAAAAAAAAAABAAAAAAABAAAAAAEAAQAAAAABAAEAAAAAAAAAAAABAAAAAAAAAAAAAAAAAAAAAAAAAAAAAAAAAAABAAAAAAAAAAAAAAAAAAAAAQAAAQAAAAAAAAAAAAAAAAAAAAAAAAAAAAAAAAAAAAAAAQAAAAEAAAAAAQAAAAAAAQEAAAAAAAABAAAAAAAAAAAAAAAAAAAAAQAAAAAAAQAAAAAAAAAAAAAAAQAAAAAAAAAAAAAAAAAAAAABAAAAAAAAAAAAAAAAAAAAAAEAAAAAAAAAAAAAAAAAAAAAAQAAAAAAAAAAAAEBAAAAAAEAAAEAAAEAAQEAAAAAAAAAAAAAAQEAAQEAAQAAAAAAAQAAAAAAAAABAAAAAAAAAAAAAAAAAAAAAAAAAAAAAAEAAAAAAQAAAAAAAQAAAAAAAAAAAAEAAAABAAEAAAAAAAAAAAABAAAAAAAAAAAAAAAAAAAAAAABAAAAAAEBAAEAAAAAAAAAAAAAAAAAAAAAAQAAAAAAAQAAAAAAAAABAAA=\"},\"coloraxis\":\"coloraxis\",\"symbol\":\"circle\"},\"name\":\"\",\"showlegend\":false,\"type\":\"splom\"}],                        {\"template\":{\"data\":{\"histogram2dcontour\":[{\"type\":\"histogram2dcontour\",\"colorbar\":{\"outlinewidth\":0,\"ticks\":\"\"},\"colorscale\":[[0.0,\"#0d0887\"],[0.1111111111111111,\"#46039f\"],[0.2222222222222222,\"#7201a8\"],[0.3333333333333333,\"#9c179e\"],[0.4444444444444444,\"#bd3786\"],[0.5555555555555556,\"#d8576b\"],[0.6666666666666666,\"#ed7953\"],[0.7777777777777778,\"#fb9f3a\"],[0.8888888888888888,\"#fdca26\"],[1.0,\"#f0f921\"]]}],\"choropleth\":[{\"type\":\"choropleth\",\"colorbar\":{\"outlinewidth\":0,\"ticks\":\"\"}}],\"histogram2d\":[{\"type\":\"histogram2d\",\"colorbar\":{\"outlinewidth\":0,\"ticks\":\"\"},\"colorscale\":[[0.0,\"#0d0887\"],[0.1111111111111111,\"#46039f\"],[0.2222222222222222,\"#7201a8\"],[0.3333333333333333,\"#9c179e\"],[0.4444444444444444,\"#bd3786\"],[0.5555555555555556,\"#d8576b\"],[0.6666666666666666,\"#ed7953\"],[0.7777777777777778,\"#fb9f3a\"],[0.8888888888888888,\"#fdca26\"],[1.0,\"#f0f921\"]]}],\"heatmap\":[{\"type\":\"heatmap\",\"colorbar\":{\"outlinewidth\":0,\"ticks\":\"\"},\"colorscale\":[[0.0,\"#0d0887\"],[0.1111111111111111,\"#46039f\"],[0.2222222222222222,\"#7201a8\"],[0.3333333333333333,\"#9c179e\"],[0.4444444444444444,\"#bd3786\"],[0.5555555555555556,\"#d8576b\"],[0.6666666666666666,\"#ed7953\"],[0.7777777777777778,\"#fb9f3a\"],[0.8888888888888888,\"#fdca26\"],[1.0,\"#f0f921\"]]}],\"contourcarpet\":[{\"type\":\"contourcarpet\",\"colorbar\":{\"outlinewidth\":0,\"ticks\":\"\"}}],\"contour\":[{\"type\":\"contour\",\"colorbar\":{\"outlinewidth\":0,\"ticks\":\"\"},\"colorscale\":[[0.0,\"#0d0887\"],[0.1111111111111111,\"#46039f\"],[0.2222222222222222,\"#7201a8\"],[0.3333333333333333,\"#9c179e\"],[0.4444444444444444,\"#bd3786\"],[0.5555555555555556,\"#d8576b\"],[0.6666666666666666,\"#ed7953\"],[0.7777777777777778,\"#fb9f3a\"],[0.8888888888888888,\"#fdca26\"],[1.0,\"#f0f921\"]]}],\"surface\":[{\"type\":\"surface\",\"colorbar\":{\"outlinewidth\":0,\"ticks\":\"\"},\"colorscale\":[[0.0,\"#0d0887\"],[0.1111111111111111,\"#46039f\"],[0.2222222222222222,\"#7201a8\"],[0.3333333333333333,\"#9c179e\"],[0.4444444444444444,\"#bd3786\"],[0.5555555555555556,\"#d8576b\"],[0.6666666666666666,\"#ed7953\"],[0.7777777777777778,\"#fb9f3a\"],[0.8888888888888888,\"#fdca26\"],[1.0,\"#f0f921\"]]}],\"mesh3d\":[{\"type\":\"mesh3d\",\"colorbar\":{\"outlinewidth\":0,\"ticks\":\"\"}}],\"scatter\":[{\"fillpattern\":{\"fillmode\":\"overlay\",\"size\":10,\"solidity\":0.2},\"type\":\"scatter\"}],\"parcoords\":[{\"type\":\"parcoords\",\"line\":{\"colorbar\":{\"outlinewidth\":0,\"ticks\":\"\"}}}],\"scatterpolargl\":[{\"type\":\"scatterpolargl\",\"marker\":{\"colorbar\":{\"outlinewidth\":0,\"ticks\":\"\"}}}],\"bar\":[{\"error_x\":{\"color\":\"#2a3f5f\"},\"error_y\":{\"color\":\"#2a3f5f\"},\"marker\":{\"line\":{\"color\":\"#E5ECF6\",\"width\":0.5},\"pattern\":{\"fillmode\":\"overlay\",\"size\":10,\"solidity\":0.2}},\"type\":\"bar\"}],\"scattergeo\":[{\"type\":\"scattergeo\",\"marker\":{\"colorbar\":{\"outlinewidth\":0,\"ticks\":\"\"}}}],\"scatterpolar\":[{\"type\":\"scatterpolar\",\"marker\":{\"colorbar\":{\"outlinewidth\":0,\"ticks\":\"\"}}}],\"histogram\":[{\"marker\":{\"pattern\":{\"fillmode\":\"overlay\",\"size\":10,\"solidity\":0.2}},\"type\":\"histogram\"}],\"scattergl\":[{\"type\":\"scattergl\",\"marker\":{\"colorbar\":{\"outlinewidth\":0,\"ticks\":\"\"}}}],\"scatter3d\":[{\"type\":\"scatter3d\",\"line\":{\"colorbar\":{\"outlinewidth\":0,\"ticks\":\"\"}},\"marker\":{\"colorbar\":{\"outlinewidth\":0,\"ticks\":\"\"}}}],\"scattermap\":[{\"type\":\"scattermap\",\"marker\":{\"colorbar\":{\"outlinewidth\":0,\"ticks\":\"\"}}}],\"scattermapbox\":[{\"type\":\"scattermapbox\",\"marker\":{\"colorbar\":{\"outlinewidth\":0,\"ticks\":\"\"}}}],\"scatterternary\":[{\"type\":\"scatterternary\",\"marker\":{\"colorbar\":{\"outlinewidth\":0,\"ticks\":\"\"}}}],\"scattercarpet\":[{\"type\":\"scattercarpet\",\"marker\":{\"colorbar\":{\"outlinewidth\":0,\"ticks\":\"\"}}}],\"carpet\":[{\"aaxis\":{\"endlinecolor\":\"#2a3f5f\",\"gridcolor\":\"white\",\"linecolor\":\"white\",\"minorgridcolor\":\"white\",\"startlinecolor\":\"#2a3f5f\"},\"baxis\":{\"endlinecolor\":\"#2a3f5f\",\"gridcolor\":\"white\",\"linecolor\":\"white\",\"minorgridcolor\":\"white\",\"startlinecolor\":\"#2a3f5f\"},\"type\":\"carpet\"}],\"table\":[{\"cells\":{\"fill\":{\"color\":\"#EBF0F8\"},\"line\":{\"color\":\"white\"}},\"header\":{\"fill\":{\"color\":\"#C8D4E3\"},\"line\":{\"color\":\"white\"}},\"type\":\"table\"}],\"barpolar\":[{\"marker\":{\"line\":{\"color\":\"#E5ECF6\",\"width\":0.5},\"pattern\":{\"fillmode\":\"overlay\",\"size\":10,\"solidity\":0.2}},\"type\":\"barpolar\"}],\"pie\":[{\"automargin\":true,\"type\":\"pie\"}]},\"layout\":{\"autotypenumbers\":\"strict\",\"colorway\":[\"#636efa\",\"#EF553B\",\"#00cc96\",\"#ab63fa\",\"#FFA15A\",\"#19d3f3\",\"#FF6692\",\"#B6E880\",\"#FF97FF\",\"#FECB52\"],\"font\":{\"color\":\"#2a3f5f\"},\"hovermode\":\"closest\",\"hoverlabel\":{\"align\":\"left\"},\"paper_bgcolor\":\"white\",\"plot_bgcolor\":\"#E5ECF6\",\"polar\":{\"bgcolor\":\"#E5ECF6\",\"angularaxis\":{\"gridcolor\":\"white\",\"linecolor\":\"white\",\"ticks\":\"\"},\"radialaxis\":{\"gridcolor\":\"white\",\"linecolor\":\"white\",\"ticks\":\"\"}},\"ternary\":{\"bgcolor\":\"#E5ECF6\",\"aaxis\":{\"gridcolor\":\"white\",\"linecolor\":\"white\",\"ticks\":\"\"},\"baxis\":{\"gridcolor\":\"white\",\"linecolor\":\"white\",\"ticks\":\"\"},\"caxis\":{\"gridcolor\":\"white\",\"linecolor\":\"white\",\"ticks\":\"\"}},\"coloraxis\":{\"colorbar\":{\"outlinewidth\":0,\"ticks\":\"\"}},\"colorscale\":{\"sequential\":[[0.0,\"#0d0887\"],[0.1111111111111111,\"#46039f\"],[0.2222222222222222,\"#7201a8\"],[0.3333333333333333,\"#9c179e\"],[0.4444444444444444,\"#bd3786\"],[0.5555555555555556,\"#d8576b\"],[0.6666666666666666,\"#ed7953\"],[0.7777777777777778,\"#fb9f3a\"],[0.8888888888888888,\"#fdca26\"],[1.0,\"#f0f921\"]],\"sequentialminus\":[[0.0,\"#0d0887\"],[0.1111111111111111,\"#46039f\"],[0.2222222222222222,\"#7201a8\"],[0.3333333333333333,\"#9c179e\"],[0.4444444444444444,\"#bd3786\"],[0.5555555555555556,\"#d8576b\"],[0.6666666666666666,\"#ed7953\"],[0.7777777777777778,\"#fb9f3a\"],[0.8888888888888888,\"#fdca26\"],[1.0,\"#f0f921\"]],\"diverging\":[[0,\"#8e0152\"],[0.1,\"#c51b7d\"],[0.2,\"#de77ae\"],[0.3,\"#f1b6da\"],[0.4,\"#fde0ef\"],[0.5,\"#f7f7f7\"],[0.6,\"#e6f5d0\"],[0.7,\"#b8e186\"],[0.8,\"#7fbc41\"],[0.9,\"#4d9221\"],[1,\"#276419\"]]},\"xaxis\":{\"gridcolor\":\"white\",\"linecolor\":\"white\",\"ticks\":\"\",\"title\":{\"standoff\":15},\"zerolinecolor\":\"white\",\"automargin\":true,\"zerolinewidth\":2},\"yaxis\":{\"gridcolor\":\"white\",\"linecolor\":\"white\",\"ticks\":\"\",\"title\":{\"standoff\":15},\"zerolinecolor\":\"white\",\"automargin\":true,\"zerolinewidth\":2},\"scene\":{\"xaxis\":{\"backgroundcolor\":\"#E5ECF6\",\"gridcolor\":\"white\",\"linecolor\":\"white\",\"showbackground\":true,\"ticks\":\"\",\"zerolinecolor\":\"white\",\"gridwidth\":2},\"yaxis\":{\"backgroundcolor\":\"#E5ECF6\",\"gridcolor\":\"white\",\"linecolor\":\"white\",\"showbackground\":true,\"ticks\":\"\",\"zerolinecolor\":\"white\",\"gridwidth\":2},\"zaxis\":{\"backgroundcolor\":\"#E5ECF6\",\"gridcolor\":\"white\",\"linecolor\":\"white\",\"showbackground\":true,\"ticks\":\"\",\"zerolinecolor\":\"white\",\"gridwidth\":2}},\"shapedefaults\":{\"line\":{\"color\":\"#2a3f5f\"}},\"annotationdefaults\":{\"arrowcolor\":\"#2a3f5f\",\"arrowhead\":0,\"arrowwidth\":1},\"geo\":{\"bgcolor\":\"white\",\"landcolor\":\"#E5ECF6\",\"subunitcolor\":\"white\",\"showland\":true,\"showlakes\":true,\"lakecolor\":\"white\"},\"title\":{\"x\":0.05},\"mapbox\":{\"style\":\"light\"}}},\"coloraxis\":{\"colorbar\":{\"title\":{\"text\":\"default\"}},\"colorscale\":[[0.0,\"#0d0887\"],[0.1111111111111111,\"#46039f\"],[0.2222222222222222,\"#7201a8\"],[0.3333333333333333,\"#9c179e\"],[0.4444444444444444,\"#bd3786\"],[0.5555555555555556,\"#d8576b\"],[0.6666666666666666,\"#ed7953\"],[0.7777777777777778,\"#fb9f3a\"],[0.8888888888888888,\"#fdca26\"],[1.0,\"#f0f921\"]]},\"legend\":{\"tracegroupgap\":0},\"margin\":{\"t\":60},\"dragmode\":\"select\"},                        {\"responsive\": true}                    ).then(function(){\n",
              "                            \n",
              "var gd = document.getElementById('3a679ef4-87da-439d-aaa7-22bd651689f1');\n",
              "var x = new MutationObserver(function (mutations, observer) {{\n",
              "        var display = window.getComputedStyle(gd).display;\n",
              "        if (!display || display === 'none') {{\n",
              "            console.log([gd, 'removed!']);\n",
              "            Plotly.purge(gd);\n",
              "            observer.disconnect();\n",
              "        }}\n",
              "}});\n",
              "\n",
              "// Listen for the removal of the full notebook cells\n",
              "var notebookContainer = gd.closest('#notebook-container');\n",
              "if (notebookContainer) {{\n",
              "    x.observe(notebookContainer, {childList: true});\n",
              "}}\n",
              "\n",
              "// Listen for the clearing of the current output cell\n",
              "var outputEl = gd.closest('.output');\n",
              "if (outputEl) {{\n",
              "    x.observe(outputEl, {childList: true});\n",
              "}}\n",
              "\n",
              "                        })                };            </script>        </div>\n",
              "</body>\n",
              "</html>"
            ]
          },
          "metadata": {}
        }
      ]
    },
    {
      "cell_type": "markdown",
      "metadata": {
        "id": "9JL8G9jQXTLF"
      },
      "source": [
        "### Tratamento de valores inconsistentes"
      ]
    },
    {
      "cell_type": "code",
      "source": [
        "base_credit.loc[base_credit['age'] < 0]"
      ],
      "metadata": {
        "colab": {
          "base_uri": "https://localhost:8080/",
          "height": 143
        },
        "id": "zRJK5_ryw4-2",
        "outputId": "bf62fcae-ba73-48e8-820d-4f8c32eed37e"
      },
      "execution_count": 16,
      "outputs": [
        {
          "output_type": "execute_result",
          "data": {
            "text/plain": [
              "    clientid        income        age         loan  default\n",
              "15        16  50501.726689 -28.218361  3977.287432        0\n",
              "21        22  32197.620701 -52.423280  4244.057136        0\n",
              "26        27  63287.038908 -36.496976  9595.286289        0"
            ],
            "text/html": [
              "\n",
              "  <div id=\"df-9ac78853-5c8d-43b7-a64a-0e533e1ba262\" class=\"colab-df-container\">\n",
              "    <div>\n",
              "<style scoped>\n",
              "    .dataframe tbody tr th:only-of-type {\n",
              "        vertical-align: middle;\n",
              "    }\n",
              "\n",
              "    .dataframe tbody tr th {\n",
              "        vertical-align: top;\n",
              "    }\n",
              "\n",
              "    .dataframe thead th {\n",
              "        text-align: right;\n",
              "    }\n",
              "</style>\n",
              "<table border=\"1\" class=\"dataframe\">\n",
              "  <thead>\n",
              "    <tr style=\"text-align: right;\">\n",
              "      <th></th>\n",
              "      <th>clientid</th>\n",
              "      <th>income</th>\n",
              "      <th>age</th>\n",
              "      <th>loan</th>\n",
              "      <th>default</th>\n",
              "    </tr>\n",
              "  </thead>\n",
              "  <tbody>\n",
              "    <tr>\n",
              "      <th>15</th>\n",
              "      <td>16</td>\n",
              "      <td>50501.726689</td>\n",
              "      <td>-28.218361</td>\n",
              "      <td>3977.287432</td>\n",
              "      <td>0</td>\n",
              "    </tr>\n",
              "    <tr>\n",
              "      <th>21</th>\n",
              "      <td>22</td>\n",
              "      <td>32197.620701</td>\n",
              "      <td>-52.423280</td>\n",
              "      <td>4244.057136</td>\n",
              "      <td>0</td>\n",
              "    </tr>\n",
              "    <tr>\n",
              "      <th>26</th>\n",
              "      <td>27</td>\n",
              "      <td>63287.038908</td>\n",
              "      <td>-36.496976</td>\n",
              "      <td>9595.286289</td>\n",
              "      <td>0</td>\n",
              "    </tr>\n",
              "  </tbody>\n",
              "</table>\n",
              "</div>\n",
              "    <div class=\"colab-df-buttons\">\n",
              "\n",
              "  <div class=\"colab-df-container\">\n",
              "    <button class=\"colab-df-convert\" onclick=\"convertToInteractive('df-9ac78853-5c8d-43b7-a64a-0e533e1ba262')\"\n",
              "            title=\"Convert this dataframe to an interactive table.\"\n",
              "            style=\"display:none;\">\n",
              "\n",
              "  <svg xmlns=\"http://www.w3.org/2000/svg\" height=\"24px\" viewBox=\"0 -960 960 960\">\n",
              "    <path d=\"M120-120v-720h720v720H120Zm60-500h600v-160H180v160Zm220 220h160v-160H400v160Zm0 220h160v-160H400v160ZM180-400h160v-160H180v160Zm440 0h160v-160H620v160ZM180-180h160v-160H180v160Zm440 0h160v-160H620v160Z\"/>\n",
              "  </svg>\n",
              "    </button>\n",
              "\n",
              "  <style>\n",
              "    .colab-df-container {\n",
              "      display:flex;\n",
              "      gap: 12px;\n",
              "    }\n",
              "\n",
              "    .colab-df-convert {\n",
              "      background-color: #E8F0FE;\n",
              "      border: none;\n",
              "      border-radius: 50%;\n",
              "      cursor: pointer;\n",
              "      display: none;\n",
              "      fill: #1967D2;\n",
              "      height: 32px;\n",
              "      padding: 0 0 0 0;\n",
              "      width: 32px;\n",
              "    }\n",
              "\n",
              "    .colab-df-convert:hover {\n",
              "      background-color: #E2EBFA;\n",
              "      box-shadow: 0px 1px 2px rgba(60, 64, 67, 0.3), 0px 1px 3px 1px rgba(60, 64, 67, 0.15);\n",
              "      fill: #174EA6;\n",
              "    }\n",
              "\n",
              "    .colab-df-buttons div {\n",
              "      margin-bottom: 4px;\n",
              "    }\n",
              "\n",
              "    [theme=dark] .colab-df-convert {\n",
              "      background-color: #3B4455;\n",
              "      fill: #D2E3FC;\n",
              "    }\n",
              "\n",
              "    [theme=dark] .colab-df-convert:hover {\n",
              "      background-color: #434B5C;\n",
              "      box-shadow: 0px 1px 3px 1px rgba(0, 0, 0, 0.15);\n",
              "      filter: drop-shadow(0px 1px 2px rgba(0, 0, 0, 0.3));\n",
              "      fill: #FFFFFF;\n",
              "    }\n",
              "  </style>\n",
              "\n",
              "    <script>\n",
              "      const buttonEl =\n",
              "        document.querySelector('#df-9ac78853-5c8d-43b7-a64a-0e533e1ba262 button.colab-df-convert');\n",
              "      buttonEl.style.display =\n",
              "        google.colab.kernel.accessAllowed ? 'block' : 'none';\n",
              "\n",
              "      async function convertToInteractive(key) {\n",
              "        const element = document.querySelector('#df-9ac78853-5c8d-43b7-a64a-0e533e1ba262');\n",
              "        const dataTable =\n",
              "          await google.colab.kernel.invokeFunction('convertToInteractive',\n",
              "                                                    [key], {});\n",
              "        if (!dataTable) return;\n",
              "\n",
              "        const docLinkHtml = 'Like what you see? Visit the ' +\n",
              "          '<a target=\"_blank\" href=https://colab.research.google.com/notebooks/data_table.ipynb>data table notebook</a>'\n",
              "          + ' to learn more about interactive tables.';\n",
              "        element.innerHTML = '';\n",
              "        dataTable['output_type'] = 'display_data';\n",
              "        await google.colab.output.renderOutput(dataTable, element);\n",
              "        const docLink = document.createElement('div');\n",
              "        docLink.innerHTML = docLinkHtml;\n",
              "        element.appendChild(docLink);\n",
              "      }\n",
              "    </script>\n",
              "  </div>\n",
              "\n",
              "\n",
              "    <div id=\"df-72c6c1e8-0606-4769-8ce9-77ae61f835bb\">\n",
              "      <button class=\"colab-df-quickchart\" onclick=\"quickchart('df-72c6c1e8-0606-4769-8ce9-77ae61f835bb')\"\n",
              "                title=\"Suggest charts\"\n",
              "                style=\"display:none;\">\n",
              "\n",
              "<svg xmlns=\"http://www.w3.org/2000/svg\" height=\"24px\"viewBox=\"0 0 24 24\"\n",
              "     width=\"24px\">\n",
              "    <g>\n",
              "        <path d=\"M19 3H5c-1.1 0-2 .9-2 2v14c0 1.1.9 2 2 2h14c1.1 0 2-.9 2-2V5c0-1.1-.9-2-2-2zM9 17H7v-7h2v7zm4 0h-2V7h2v10zm4 0h-2v-4h2v4z\"/>\n",
              "    </g>\n",
              "</svg>\n",
              "      </button>\n",
              "\n",
              "<style>\n",
              "  .colab-df-quickchart {\n",
              "      --bg-color: #E8F0FE;\n",
              "      --fill-color: #1967D2;\n",
              "      --hover-bg-color: #E2EBFA;\n",
              "      --hover-fill-color: #174EA6;\n",
              "      --disabled-fill-color: #AAA;\n",
              "      --disabled-bg-color: #DDD;\n",
              "  }\n",
              "\n",
              "  [theme=dark] .colab-df-quickchart {\n",
              "      --bg-color: #3B4455;\n",
              "      --fill-color: #D2E3FC;\n",
              "      --hover-bg-color: #434B5C;\n",
              "      --hover-fill-color: #FFFFFF;\n",
              "      --disabled-bg-color: #3B4455;\n",
              "      --disabled-fill-color: #666;\n",
              "  }\n",
              "\n",
              "  .colab-df-quickchart {\n",
              "    background-color: var(--bg-color);\n",
              "    border: none;\n",
              "    border-radius: 50%;\n",
              "    cursor: pointer;\n",
              "    display: none;\n",
              "    fill: var(--fill-color);\n",
              "    height: 32px;\n",
              "    padding: 0;\n",
              "    width: 32px;\n",
              "  }\n",
              "\n",
              "  .colab-df-quickchart:hover {\n",
              "    background-color: var(--hover-bg-color);\n",
              "    box-shadow: 0 1px 2px rgba(60, 64, 67, 0.3), 0 1px 3px 1px rgba(60, 64, 67, 0.15);\n",
              "    fill: var(--button-hover-fill-color);\n",
              "  }\n",
              "\n",
              "  .colab-df-quickchart-complete:disabled,\n",
              "  .colab-df-quickchart-complete:disabled:hover {\n",
              "    background-color: var(--disabled-bg-color);\n",
              "    fill: var(--disabled-fill-color);\n",
              "    box-shadow: none;\n",
              "  }\n",
              "\n",
              "  .colab-df-spinner {\n",
              "    border: 2px solid var(--fill-color);\n",
              "    border-color: transparent;\n",
              "    border-bottom-color: var(--fill-color);\n",
              "    animation:\n",
              "      spin 1s steps(1) infinite;\n",
              "  }\n",
              "\n",
              "  @keyframes spin {\n",
              "    0% {\n",
              "      border-color: transparent;\n",
              "      border-bottom-color: var(--fill-color);\n",
              "      border-left-color: var(--fill-color);\n",
              "    }\n",
              "    20% {\n",
              "      border-color: transparent;\n",
              "      border-left-color: var(--fill-color);\n",
              "      border-top-color: var(--fill-color);\n",
              "    }\n",
              "    30% {\n",
              "      border-color: transparent;\n",
              "      border-left-color: var(--fill-color);\n",
              "      border-top-color: var(--fill-color);\n",
              "      border-right-color: var(--fill-color);\n",
              "    }\n",
              "    40% {\n",
              "      border-color: transparent;\n",
              "      border-right-color: var(--fill-color);\n",
              "      border-top-color: var(--fill-color);\n",
              "    }\n",
              "    60% {\n",
              "      border-color: transparent;\n",
              "      border-right-color: var(--fill-color);\n",
              "    }\n",
              "    80% {\n",
              "      border-color: transparent;\n",
              "      border-right-color: var(--fill-color);\n",
              "      border-bottom-color: var(--fill-color);\n",
              "    }\n",
              "    90% {\n",
              "      border-color: transparent;\n",
              "      border-bottom-color: var(--fill-color);\n",
              "    }\n",
              "  }\n",
              "</style>\n",
              "\n",
              "      <script>\n",
              "        async function quickchart(key) {\n",
              "          const quickchartButtonEl =\n",
              "            document.querySelector('#' + key + ' button');\n",
              "          quickchartButtonEl.disabled = true;  // To prevent multiple clicks.\n",
              "          quickchartButtonEl.classList.add('colab-df-spinner');\n",
              "          try {\n",
              "            const charts = await google.colab.kernel.invokeFunction(\n",
              "                'suggestCharts', [key], {});\n",
              "          } catch (error) {\n",
              "            console.error('Error during call to suggestCharts:', error);\n",
              "          }\n",
              "          quickchartButtonEl.classList.remove('colab-df-spinner');\n",
              "          quickchartButtonEl.classList.add('colab-df-quickchart-complete');\n",
              "        }\n",
              "        (() => {\n",
              "          let quickchartButtonEl =\n",
              "            document.querySelector('#df-72c6c1e8-0606-4769-8ce9-77ae61f835bb button');\n",
              "          quickchartButtonEl.style.display =\n",
              "            google.colab.kernel.accessAllowed ? 'block' : 'none';\n",
              "        })();\n",
              "      </script>\n",
              "    </div>\n",
              "\n",
              "    </div>\n",
              "  </div>\n"
            ],
            "application/vnd.google.colaboratory.intrinsic+json": {
              "type": "dataframe",
              "summary": "{\n  \"name\": \"base_credit\",\n  \"rows\": 3,\n  \"fields\": [\n    {\n      \"column\": \"clientid\",\n      \"properties\": {\n        \"dtype\": \"number\",\n        \"std\": 5,\n        \"min\": 16,\n        \"max\": 27,\n        \"num_unique_values\": 3,\n        \"samples\": [\n          16,\n          22,\n          27\n        ],\n        \"semantic_type\": \"\",\n        \"description\": \"\"\n      }\n    },\n    {\n      \"column\": \"income\",\n      \"properties\": {\n        \"dtype\": \"number\",\n        \"std\": 15626.134246775633,\n        \"min\": 32197.6207010448,\n        \"max\": 63287.038907874405,\n        \"num_unique_values\": 3,\n        \"samples\": [\n          50501.7266888171,\n          32197.6207010448,\n          63287.038907874405\n        ],\n        \"semantic_type\": \"\",\n        \"description\": \"\"\n      }\n    },\n    {\n      \"column\": \"age\",\n      \"properties\": {\n        \"dtype\": \"number\",\n        \"std\": 12.302172635538561,\n        \"min\": -52.4232799196616,\n        \"max\": -28.218361321371003,\n        \"num_unique_values\": 3,\n        \"samples\": [\n          -28.218361321371003,\n          -52.4232799196616,\n          -36.4969755136408\n        ],\n        \"semantic_type\": \"\",\n        \"description\": \"\"\n      }\n    },\n    {\n      \"column\": \"loan\",\n      \"properties\": {\n        \"dtype\": \"number\",\n        \"std\": 3169.351423445414,\n        \"min\": 3977.28743247384,\n        \"max\": 9595.28628892989,\n        \"num_unique_values\": 3,\n        \"samples\": [\n          3977.28743247384,\n          4244.057136123401,\n          9595.28628892989\n        ],\n        \"semantic_type\": \"\",\n        \"description\": \"\"\n      }\n    },\n    {\n      \"column\": \"default\",\n      \"properties\": {\n        \"dtype\": \"number\",\n        \"std\": 0,\n        \"min\": 0,\n        \"max\": 0,\n        \"num_unique_values\": 1,\n        \"samples\": [\n          0\n        ],\n        \"semantic_type\": \"\",\n        \"description\": \"\"\n      }\n    }\n  ]\n}"
            }
          },
          "metadata": {},
          "execution_count": 16
        }
      ]
    },
    {
      "cell_type": "code",
      "source": [
        "base_credit[base_credit['age'] < 0]"
      ],
      "metadata": {
        "colab": {
          "base_uri": "https://localhost:8080/",
          "height": 143
        },
        "id": "F34rRA3hxDCq",
        "outputId": "a08bf174-260e-487a-ca71-8a4664050d6d"
      },
      "execution_count": 17,
      "outputs": [
        {
          "output_type": "execute_result",
          "data": {
            "text/plain": [
              "    clientid        income        age         loan  default\n",
              "15        16  50501.726689 -28.218361  3977.287432        0\n",
              "21        22  32197.620701 -52.423280  4244.057136        0\n",
              "26        27  63287.038908 -36.496976  9595.286289        0"
            ],
            "text/html": [
              "\n",
              "  <div id=\"df-788499e4-e7f8-4d6a-ad37-1b3ccaef2d96\" class=\"colab-df-container\">\n",
              "    <div>\n",
              "<style scoped>\n",
              "    .dataframe tbody tr th:only-of-type {\n",
              "        vertical-align: middle;\n",
              "    }\n",
              "\n",
              "    .dataframe tbody tr th {\n",
              "        vertical-align: top;\n",
              "    }\n",
              "\n",
              "    .dataframe thead th {\n",
              "        text-align: right;\n",
              "    }\n",
              "</style>\n",
              "<table border=\"1\" class=\"dataframe\">\n",
              "  <thead>\n",
              "    <tr style=\"text-align: right;\">\n",
              "      <th></th>\n",
              "      <th>clientid</th>\n",
              "      <th>income</th>\n",
              "      <th>age</th>\n",
              "      <th>loan</th>\n",
              "      <th>default</th>\n",
              "    </tr>\n",
              "  </thead>\n",
              "  <tbody>\n",
              "    <tr>\n",
              "      <th>15</th>\n",
              "      <td>16</td>\n",
              "      <td>50501.726689</td>\n",
              "      <td>-28.218361</td>\n",
              "      <td>3977.287432</td>\n",
              "      <td>0</td>\n",
              "    </tr>\n",
              "    <tr>\n",
              "      <th>21</th>\n",
              "      <td>22</td>\n",
              "      <td>32197.620701</td>\n",
              "      <td>-52.423280</td>\n",
              "      <td>4244.057136</td>\n",
              "      <td>0</td>\n",
              "    </tr>\n",
              "    <tr>\n",
              "      <th>26</th>\n",
              "      <td>27</td>\n",
              "      <td>63287.038908</td>\n",
              "      <td>-36.496976</td>\n",
              "      <td>9595.286289</td>\n",
              "      <td>0</td>\n",
              "    </tr>\n",
              "  </tbody>\n",
              "</table>\n",
              "</div>\n",
              "    <div class=\"colab-df-buttons\">\n",
              "\n",
              "  <div class=\"colab-df-container\">\n",
              "    <button class=\"colab-df-convert\" onclick=\"convertToInteractive('df-788499e4-e7f8-4d6a-ad37-1b3ccaef2d96')\"\n",
              "            title=\"Convert this dataframe to an interactive table.\"\n",
              "            style=\"display:none;\">\n",
              "\n",
              "  <svg xmlns=\"http://www.w3.org/2000/svg\" height=\"24px\" viewBox=\"0 -960 960 960\">\n",
              "    <path d=\"M120-120v-720h720v720H120Zm60-500h600v-160H180v160Zm220 220h160v-160H400v160Zm0 220h160v-160H400v160ZM180-400h160v-160H180v160Zm440 0h160v-160H620v160ZM180-180h160v-160H180v160Zm440 0h160v-160H620v160Z\"/>\n",
              "  </svg>\n",
              "    </button>\n",
              "\n",
              "  <style>\n",
              "    .colab-df-container {\n",
              "      display:flex;\n",
              "      gap: 12px;\n",
              "    }\n",
              "\n",
              "    .colab-df-convert {\n",
              "      background-color: #E8F0FE;\n",
              "      border: none;\n",
              "      border-radius: 50%;\n",
              "      cursor: pointer;\n",
              "      display: none;\n",
              "      fill: #1967D2;\n",
              "      height: 32px;\n",
              "      padding: 0 0 0 0;\n",
              "      width: 32px;\n",
              "    }\n",
              "\n",
              "    .colab-df-convert:hover {\n",
              "      background-color: #E2EBFA;\n",
              "      box-shadow: 0px 1px 2px rgba(60, 64, 67, 0.3), 0px 1px 3px 1px rgba(60, 64, 67, 0.15);\n",
              "      fill: #174EA6;\n",
              "    }\n",
              "\n",
              "    .colab-df-buttons div {\n",
              "      margin-bottom: 4px;\n",
              "    }\n",
              "\n",
              "    [theme=dark] .colab-df-convert {\n",
              "      background-color: #3B4455;\n",
              "      fill: #D2E3FC;\n",
              "    }\n",
              "\n",
              "    [theme=dark] .colab-df-convert:hover {\n",
              "      background-color: #434B5C;\n",
              "      box-shadow: 0px 1px 3px 1px rgba(0, 0, 0, 0.15);\n",
              "      filter: drop-shadow(0px 1px 2px rgba(0, 0, 0, 0.3));\n",
              "      fill: #FFFFFF;\n",
              "    }\n",
              "  </style>\n",
              "\n",
              "    <script>\n",
              "      const buttonEl =\n",
              "        document.querySelector('#df-788499e4-e7f8-4d6a-ad37-1b3ccaef2d96 button.colab-df-convert');\n",
              "      buttonEl.style.display =\n",
              "        google.colab.kernel.accessAllowed ? 'block' : 'none';\n",
              "\n",
              "      async function convertToInteractive(key) {\n",
              "        const element = document.querySelector('#df-788499e4-e7f8-4d6a-ad37-1b3ccaef2d96');\n",
              "        const dataTable =\n",
              "          await google.colab.kernel.invokeFunction('convertToInteractive',\n",
              "                                                    [key], {});\n",
              "        if (!dataTable) return;\n",
              "\n",
              "        const docLinkHtml = 'Like what you see? Visit the ' +\n",
              "          '<a target=\"_blank\" href=https://colab.research.google.com/notebooks/data_table.ipynb>data table notebook</a>'\n",
              "          + ' to learn more about interactive tables.';\n",
              "        element.innerHTML = '';\n",
              "        dataTable['output_type'] = 'display_data';\n",
              "        await google.colab.output.renderOutput(dataTable, element);\n",
              "        const docLink = document.createElement('div');\n",
              "        docLink.innerHTML = docLinkHtml;\n",
              "        element.appendChild(docLink);\n",
              "      }\n",
              "    </script>\n",
              "  </div>\n",
              "\n",
              "\n",
              "    <div id=\"df-d319136e-917c-4e1d-82f0-aeb72dde3738\">\n",
              "      <button class=\"colab-df-quickchart\" onclick=\"quickchart('df-d319136e-917c-4e1d-82f0-aeb72dde3738')\"\n",
              "                title=\"Suggest charts\"\n",
              "                style=\"display:none;\">\n",
              "\n",
              "<svg xmlns=\"http://www.w3.org/2000/svg\" height=\"24px\"viewBox=\"0 0 24 24\"\n",
              "     width=\"24px\">\n",
              "    <g>\n",
              "        <path d=\"M19 3H5c-1.1 0-2 .9-2 2v14c0 1.1.9 2 2 2h14c1.1 0 2-.9 2-2V5c0-1.1-.9-2-2-2zM9 17H7v-7h2v7zm4 0h-2V7h2v10zm4 0h-2v-4h2v4z\"/>\n",
              "    </g>\n",
              "</svg>\n",
              "      </button>\n",
              "\n",
              "<style>\n",
              "  .colab-df-quickchart {\n",
              "      --bg-color: #E8F0FE;\n",
              "      --fill-color: #1967D2;\n",
              "      --hover-bg-color: #E2EBFA;\n",
              "      --hover-fill-color: #174EA6;\n",
              "      --disabled-fill-color: #AAA;\n",
              "      --disabled-bg-color: #DDD;\n",
              "  }\n",
              "\n",
              "  [theme=dark] .colab-df-quickchart {\n",
              "      --bg-color: #3B4455;\n",
              "      --fill-color: #D2E3FC;\n",
              "      --hover-bg-color: #434B5C;\n",
              "      --hover-fill-color: #FFFFFF;\n",
              "      --disabled-bg-color: #3B4455;\n",
              "      --disabled-fill-color: #666;\n",
              "  }\n",
              "\n",
              "  .colab-df-quickchart {\n",
              "    background-color: var(--bg-color);\n",
              "    border: none;\n",
              "    border-radius: 50%;\n",
              "    cursor: pointer;\n",
              "    display: none;\n",
              "    fill: var(--fill-color);\n",
              "    height: 32px;\n",
              "    padding: 0;\n",
              "    width: 32px;\n",
              "  }\n",
              "\n",
              "  .colab-df-quickchart:hover {\n",
              "    background-color: var(--hover-bg-color);\n",
              "    box-shadow: 0 1px 2px rgba(60, 64, 67, 0.3), 0 1px 3px 1px rgba(60, 64, 67, 0.15);\n",
              "    fill: var(--button-hover-fill-color);\n",
              "  }\n",
              "\n",
              "  .colab-df-quickchart-complete:disabled,\n",
              "  .colab-df-quickchart-complete:disabled:hover {\n",
              "    background-color: var(--disabled-bg-color);\n",
              "    fill: var(--disabled-fill-color);\n",
              "    box-shadow: none;\n",
              "  }\n",
              "\n",
              "  .colab-df-spinner {\n",
              "    border: 2px solid var(--fill-color);\n",
              "    border-color: transparent;\n",
              "    border-bottom-color: var(--fill-color);\n",
              "    animation:\n",
              "      spin 1s steps(1) infinite;\n",
              "  }\n",
              "\n",
              "  @keyframes spin {\n",
              "    0% {\n",
              "      border-color: transparent;\n",
              "      border-bottom-color: var(--fill-color);\n",
              "      border-left-color: var(--fill-color);\n",
              "    }\n",
              "    20% {\n",
              "      border-color: transparent;\n",
              "      border-left-color: var(--fill-color);\n",
              "      border-top-color: var(--fill-color);\n",
              "    }\n",
              "    30% {\n",
              "      border-color: transparent;\n",
              "      border-left-color: var(--fill-color);\n",
              "      border-top-color: var(--fill-color);\n",
              "      border-right-color: var(--fill-color);\n",
              "    }\n",
              "    40% {\n",
              "      border-color: transparent;\n",
              "      border-right-color: var(--fill-color);\n",
              "      border-top-color: var(--fill-color);\n",
              "    }\n",
              "    60% {\n",
              "      border-color: transparent;\n",
              "      border-right-color: var(--fill-color);\n",
              "    }\n",
              "    80% {\n",
              "      border-color: transparent;\n",
              "      border-right-color: var(--fill-color);\n",
              "      border-bottom-color: var(--fill-color);\n",
              "    }\n",
              "    90% {\n",
              "      border-color: transparent;\n",
              "      border-bottom-color: var(--fill-color);\n",
              "    }\n",
              "  }\n",
              "</style>\n",
              "\n",
              "      <script>\n",
              "        async function quickchart(key) {\n",
              "          const quickchartButtonEl =\n",
              "            document.querySelector('#' + key + ' button');\n",
              "          quickchartButtonEl.disabled = true;  // To prevent multiple clicks.\n",
              "          quickchartButtonEl.classList.add('colab-df-spinner');\n",
              "          try {\n",
              "            const charts = await google.colab.kernel.invokeFunction(\n",
              "                'suggestCharts', [key], {});\n",
              "          } catch (error) {\n",
              "            console.error('Error during call to suggestCharts:', error);\n",
              "          }\n",
              "          quickchartButtonEl.classList.remove('colab-df-spinner');\n",
              "          quickchartButtonEl.classList.add('colab-df-quickchart-complete');\n",
              "        }\n",
              "        (() => {\n",
              "          let quickchartButtonEl =\n",
              "            document.querySelector('#df-d319136e-917c-4e1d-82f0-aeb72dde3738 button');\n",
              "          quickchartButtonEl.style.display =\n",
              "            google.colab.kernel.accessAllowed ? 'block' : 'none';\n",
              "        })();\n",
              "      </script>\n",
              "    </div>\n",
              "\n",
              "    </div>\n",
              "  </div>\n"
            ],
            "application/vnd.google.colaboratory.intrinsic+json": {
              "type": "dataframe",
              "summary": "{\n  \"name\": \"base_credit[base_credit['age'] < 0]\",\n  \"rows\": 3,\n  \"fields\": [\n    {\n      \"column\": \"clientid\",\n      \"properties\": {\n        \"dtype\": \"number\",\n        \"std\": 5,\n        \"min\": 16,\n        \"max\": 27,\n        \"num_unique_values\": 3,\n        \"samples\": [\n          16,\n          22,\n          27\n        ],\n        \"semantic_type\": \"\",\n        \"description\": \"\"\n      }\n    },\n    {\n      \"column\": \"income\",\n      \"properties\": {\n        \"dtype\": \"number\",\n        \"std\": 15626.134246775633,\n        \"min\": 32197.6207010448,\n        \"max\": 63287.038907874405,\n        \"num_unique_values\": 3,\n        \"samples\": [\n          50501.7266888171,\n          32197.6207010448,\n          63287.038907874405\n        ],\n        \"semantic_type\": \"\",\n        \"description\": \"\"\n      }\n    },\n    {\n      \"column\": \"age\",\n      \"properties\": {\n        \"dtype\": \"number\",\n        \"std\": 12.302172635538561,\n        \"min\": -52.4232799196616,\n        \"max\": -28.218361321371003,\n        \"num_unique_values\": 3,\n        \"samples\": [\n          -28.218361321371003,\n          -52.4232799196616,\n          -36.4969755136408\n        ],\n        \"semantic_type\": \"\",\n        \"description\": \"\"\n      }\n    },\n    {\n      \"column\": \"loan\",\n      \"properties\": {\n        \"dtype\": \"number\",\n        \"std\": 3169.351423445414,\n        \"min\": 3977.28743247384,\n        \"max\": 9595.28628892989,\n        \"num_unique_values\": 3,\n        \"samples\": [\n          3977.28743247384,\n          4244.057136123401,\n          9595.28628892989\n        ],\n        \"semantic_type\": \"\",\n        \"description\": \"\"\n      }\n    },\n    {\n      \"column\": \"default\",\n      \"properties\": {\n        \"dtype\": \"number\",\n        \"std\": 0,\n        \"min\": 0,\n        \"max\": 0,\n        \"num_unique_values\": 1,\n        \"samples\": [\n          0\n        ],\n        \"semantic_type\": \"\",\n        \"description\": \"\"\n      }\n    }\n  ]\n}"
            }
          },
          "metadata": {},
          "execution_count": 17
        }
      ]
    },
    {
      "cell_type": "code",
      "source": [
        "base_credit2 = base_credit.drop('age', axis = 1)\n",
        "base_credit2"
      ],
      "metadata": {
        "colab": {
          "base_uri": "https://localhost:8080/",
          "height": 424
        },
        "id": "hPt4ov_uzJI3",
        "outputId": "8dc70625-b942-43ec-b8a5-8bbf9ceb50f5"
      },
      "execution_count": 18,
      "outputs": [
        {
          "output_type": "execute_result",
          "data": {
            "text/plain": [
              "      clientid        income         loan  default\n",
              "0            1  66155.925095  8106.532131        0\n",
              "1            2  34415.153966  6564.745018        0\n",
              "2            3  57317.170063  8020.953296        0\n",
              "3            4  42709.534201  6103.642260        0\n",
              "4            5  66952.688845  8770.099235        1\n",
              "...        ...           ...          ...      ...\n",
              "1995      1996  59221.044874  1926.729397        0\n",
              "1996      1997  69516.127573  3503.176156        0\n",
              "1997      1998  44311.449262  5522.786693        1\n",
              "1998      1999  43756.056605  1622.722598        0\n",
              "1999      2000  69436.579552  7378.833599        0\n",
              "\n",
              "[2000 rows x 4 columns]"
            ],
            "text/html": [
              "\n",
              "  <div id=\"df-eeae81fb-9bbd-4db5-8bdf-11d3fc1bcfac\" class=\"colab-df-container\">\n",
              "    <div>\n",
              "<style scoped>\n",
              "    .dataframe tbody tr th:only-of-type {\n",
              "        vertical-align: middle;\n",
              "    }\n",
              "\n",
              "    .dataframe tbody tr th {\n",
              "        vertical-align: top;\n",
              "    }\n",
              "\n",
              "    .dataframe thead th {\n",
              "        text-align: right;\n",
              "    }\n",
              "</style>\n",
              "<table border=\"1\" class=\"dataframe\">\n",
              "  <thead>\n",
              "    <tr style=\"text-align: right;\">\n",
              "      <th></th>\n",
              "      <th>clientid</th>\n",
              "      <th>income</th>\n",
              "      <th>loan</th>\n",
              "      <th>default</th>\n",
              "    </tr>\n",
              "  </thead>\n",
              "  <tbody>\n",
              "    <tr>\n",
              "      <th>0</th>\n",
              "      <td>1</td>\n",
              "      <td>66155.925095</td>\n",
              "      <td>8106.532131</td>\n",
              "      <td>0</td>\n",
              "    </tr>\n",
              "    <tr>\n",
              "      <th>1</th>\n",
              "      <td>2</td>\n",
              "      <td>34415.153966</td>\n",
              "      <td>6564.745018</td>\n",
              "      <td>0</td>\n",
              "    </tr>\n",
              "    <tr>\n",
              "      <th>2</th>\n",
              "      <td>3</td>\n",
              "      <td>57317.170063</td>\n",
              "      <td>8020.953296</td>\n",
              "      <td>0</td>\n",
              "    </tr>\n",
              "    <tr>\n",
              "      <th>3</th>\n",
              "      <td>4</td>\n",
              "      <td>42709.534201</td>\n",
              "      <td>6103.642260</td>\n",
              "      <td>0</td>\n",
              "    </tr>\n",
              "    <tr>\n",
              "      <th>4</th>\n",
              "      <td>5</td>\n",
              "      <td>66952.688845</td>\n",
              "      <td>8770.099235</td>\n",
              "      <td>1</td>\n",
              "    </tr>\n",
              "    <tr>\n",
              "      <th>...</th>\n",
              "      <td>...</td>\n",
              "      <td>...</td>\n",
              "      <td>...</td>\n",
              "      <td>...</td>\n",
              "    </tr>\n",
              "    <tr>\n",
              "      <th>1995</th>\n",
              "      <td>1996</td>\n",
              "      <td>59221.044874</td>\n",
              "      <td>1926.729397</td>\n",
              "      <td>0</td>\n",
              "    </tr>\n",
              "    <tr>\n",
              "      <th>1996</th>\n",
              "      <td>1997</td>\n",
              "      <td>69516.127573</td>\n",
              "      <td>3503.176156</td>\n",
              "      <td>0</td>\n",
              "    </tr>\n",
              "    <tr>\n",
              "      <th>1997</th>\n",
              "      <td>1998</td>\n",
              "      <td>44311.449262</td>\n",
              "      <td>5522.786693</td>\n",
              "      <td>1</td>\n",
              "    </tr>\n",
              "    <tr>\n",
              "      <th>1998</th>\n",
              "      <td>1999</td>\n",
              "      <td>43756.056605</td>\n",
              "      <td>1622.722598</td>\n",
              "      <td>0</td>\n",
              "    </tr>\n",
              "    <tr>\n",
              "      <th>1999</th>\n",
              "      <td>2000</td>\n",
              "      <td>69436.579552</td>\n",
              "      <td>7378.833599</td>\n",
              "      <td>0</td>\n",
              "    </tr>\n",
              "  </tbody>\n",
              "</table>\n",
              "<p>2000 rows × 4 columns</p>\n",
              "</div>\n",
              "    <div class=\"colab-df-buttons\">\n",
              "\n",
              "  <div class=\"colab-df-container\">\n",
              "    <button class=\"colab-df-convert\" onclick=\"convertToInteractive('df-eeae81fb-9bbd-4db5-8bdf-11d3fc1bcfac')\"\n",
              "            title=\"Convert this dataframe to an interactive table.\"\n",
              "            style=\"display:none;\">\n",
              "\n",
              "  <svg xmlns=\"http://www.w3.org/2000/svg\" height=\"24px\" viewBox=\"0 -960 960 960\">\n",
              "    <path d=\"M120-120v-720h720v720H120Zm60-500h600v-160H180v160Zm220 220h160v-160H400v160Zm0 220h160v-160H400v160ZM180-400h160v-160H180v160Zm440 0h160v-160H620v160ZM180-180h160v-160H180v160Zm440 0h160v-160H620v160Z\"/>\n",
              "  </svg>\n",
              "    </button>\n",
              "\n",
              "  <style>\n",
              "    .colab-df-container {\n",
              "      display:flex;\n",
              "      gap: 12px;\n",
              "    }\n",
              "\n",
              "    .colab-df-convert {\n",
              "      background-color: #E8F0FE;\n",
              "      border: none;\n",
              "      border-radius: 50%;\n",
              "      cursor: pointer;\n",
              "      display: none;\n",
              "      fill: #1967D2;\n",
              "      height: 32px;\n",
              "      padding: 0 0 0 0;\n",
              "      width: 32px;\n",
              "    }\n",
              "\n",
              "    .colab-df-convert:hover {\n",
              "      background-color: #E2EBFA;\n",
              "      box-shadow: 0px 1px 2px rgba(60, 64, 67, 0.3), 0px 1px 3px 1px rgba(60, 64, 67, 0.15);\n",
              "      fill: #174EA6;\n",
              "    }\n",
              "\n",
              "    .colab-df-buttons div {\n",
              "      margin-bottom: 4px;\n",
              "    }\n",
              "\n",
              "    [theme=dark] .colab-df-convert {\n",
              "      background-color: #3B4455;\n",
              "      fill: #D2E3FC;\n",
              "    }\n",
              "\n",
              "    [theme=dark] .colab-df-convert:hover {\n",
              "      background-color: #434B5C;\n",
              "      box-shadow: 0px 1px 3px 1px rgba(0, 0, 0, 0.15);\n",
              "      filter: drop-shadow(0px 1px 2px rgba(0, 0, 0, 0.3));\n",
              "      fill: #FFFFFF;\n",
              "    }\n",
              "  </style>\n",
              "\n",
              "    <script>\n",
              "      const buttonEl =\n",
              "        document.querySelector('#df-eeae81fb-9bbd-4db5-8bdf-11d3fc1bcfac button.colab-df-convert');\n",
              "      buttonEl.style.display =\n",
              "        google.colab.kernel.accessAllowed ? 'block' : 'none';\n",
              "\n",
              "      async function convertToInteractive(key) {\n",
              "        const element = document.querySelector('#df-eeae81fb-9bbd-4db5-8bdf-11d3fc1bcfac');\n",
              "        const dataTable =\n",
              "          await google.colab.kernel.invokeFunction('convertToInteractive',\n",
              "                                                    [key], {});\n",
              "        if (!dataTable) return;\n",
              "\n",
              "        const docLinkHtml = 'Like what you see? Visit the ' +\n",
              "          '<a target=\"_blank\" href=https://colab.research.google.com/notebooks/data_table.ipynb>data table notebook</a>'\n",
              "          + ' to learn more about interactive tables.';\n",
              "        element.innerHTML = '';\n",
              "        dataTable['output_type'] = 'display_data';\n",
              "        await google.colab.output.renderOutput(dataTable, element);\n",
              "        const docLink = document.createElement('div');\n",
              "        docLink.innerHTML = docLinkHtml;\n",
              "        element.appendChild(docLink);\n",
              "      }\n",
              "    </script>\n",
              "  </div>\n",
              "\n",
              "\n",
              "    <div id=\"df-40dce016-1647-406e-a026-b573be40ece5\">\n",
              "      <button class=\"colab-df-quickchart\" onclick=\"quickchart('df-40dce016-1647-406e-a026-b573be40ece5')\"\n",
              "                title=\"Suggest charts\"\n",
              "                style=\"display:none;\">\n",
              "\n",
              "<svg xmlns=\"http://www.w3.org/2000/svg\" height=\"24px\"viewBox=\"0 0 24 24\"\n",
              "     width=\"24px\">\n",
              "    <g>\n",
              "        <path d=\"M19 3H5c-1.1 0-2 .9-2 2v14c0 1.1.9 2 2 2h14c1.1 0 2-.9 2-2V5c0-1.1-.9-2-2-2zM9 17H7v-7h2v7zm4 0h-2V7h2v10zm4 0h-2v-4h2v4z\"/>\n",
              "    </g>\n",
              "</svg>\n",
              "      </button>\n",
              "\n",
              "<style>\n",
              "  .colab-df-quickchart {\n",
              "      --bg-color: #E8F0FE;\n",
              "      --fill-color: #1967D2;\n",
              "      --hover-bg-color: #E2EBFA;\n",
              "      --hover-fill-color: #174EA6;\n",
              "      --disabled-fill-color: #AAA;\n",
              "      --disabled-bg-color: #DDD;\n",
              "  }\n",
              "\n",
              "  [theme=dark] .colab-df-quickchart {\n",
              "      --bg-color: #3B4455;\n",
              "      --fill-color: #D2E3FC;\n",
              "      --hover-bg-color: #434B5C;\n",
              "      --hover-fill-color: #FFFFFF;\n",
              "      --disabled-bg-color: #3B4455;\n",
              "      --disabled-fill-color: #666;\n",
              "  }\n",
              "\n",
              "  .colab-df-quickchart {\n",
              "    background-color: var(--bg-color);\n",
              "    border: none;\n",
              "    border-radius: 50%;\n",
              "    cursor: pointer;\n",
              "    display: none;\n",
              "    fill: var(--fill-color);\n",
              "    height: 32px;\n",
              "    padding: 0;\n",
              "    width: 32px;\n",
              "  }\n",
              "\n",
              "  .colab-df-quickchart:hover {\n",
              "    background-color: var(--hover-bg-color);\n",
              "    box-shadow: 0 1px 2px rgba(60, 64, 67, 0.3), 0 1px 3px 1px rgba(60, 64, 67, 0.15);\n",
              "    fill: var(--button-hover-fill-color);\n",
              "  }\n",
              "\n",
              "  .colab-df-quickchart-complete:disabled,\n",
              "  .colab-df-quickchart-complete:disabled:hover {\n",
              "    background-color: var(--disabled-bg-color);\n",
              "    fill: var(--disabled-fill-color);\n",
              "    box-shadow: none;\n",
              "  }\n",
              "\n",
              "  .colab-df-spinner {\n",
              "    border: 2px solid var(--fill-color);\n",
              "    border-color: transparent;\n",
              "    border-bottom-color: var(--fill-color);\n",
              "    animation:\n",
              "      spin 1s steps(1) infinite;\n",
              "  }\n",
              "\n",
              "  @keyframes spin {\n",
              "    0% {\n",
              "      border-color: transparent;\n",
              "      border-bottom-color: var(--fill-color);\n",
              "      border-left-color: var(--fill-color);\n",
              "    }\n",
              "    20% {\n",
              "      border-color: transparent;\n",
              "      border-left-color: var(--fill-color);\n",
              "      border-top-color: var(--fill-color);\n",
              "    }\n",
              "    30% {\n",
              "      border-color: transparent;\n",
              "      border-left-color: var(--fill-color);\n",
              "      border-top-color: var(--fill-color);\n",
              "      border-right-color: var(--fill-color);\n",
              "    }\n",
              "    40% {\n",
              "      border-color: transparent;\n",
              "      border-right-color: var(--fill-color);\n",
              "      border-top-color: var(--fill-color);\n",
              "    }\n",
              "    60% {\n",
              "      border-color: transparent;\n",
              "      border-right-color: var(--fill-color);\n",
              "    }\n",
              "    80% {\n",
              "      border-color: transparent;\n",
              "      border-right-color: var(--fill-color);\n",
              "      border-bottom-color: var(--fill-color);\n",
              "    }\n",
              "    90% {\n",
              "      border-color: transparent;\n",
              "      border-bottom-color: var(--fill-color);\n",
              "    }\n",
              "  }\n",
              "</style>\n",
              "\n",
              "      <script>\n",
              "        async function quickchart(key) {\n",
              "          const quickchartButtonEl =\n",
              "            document.querySelector('#' + key + ' button');\n",
              "          quickchartButtonEl.disabled = true;  // To prevent multiple clicks.\n",
              "          quickchartButtonEl.classList.add('colab-df-spinner');\n",
              "          try {\n",
              "            const charts = await google.colab.kernel.invokeFunction(\n",
              "                'suggestCharts', [key], {});\n",
              "          } catch (error) {\n",
              "            console.error('Error during call to suggestCharts:', error);\n",
              "          }\n",
              "          quickchartButtonEl.classList.remove('colab-df-spinner');\n",
              "          quickchartButtonEl.classList.add('colab-df-quickchart-complete');\n",
              "        }\n",
              "        (() => {\n",
              "          let quickchartButtonEl =\n",
              "            document.querySelector('#df-40dce016-1647-406e-a026-b573be40ece5 button');\n",
              "          quickchartButtonEl.style.display =\n",
              "            google.colab.kernel.accessAllowed ? 'block' : 'none';\n",
              "        })();\n",
              "      </script>\n",
              "    </div>\n",
              "\n",
              "  <div id=\"id_caf98d20-4630-44c1-a5eb-c3792c0c3f15\">\n",
              "    <style>\n",
              "      .colab-df-generate {\n",
              "        background-color: #E8F0FE;\n",
              "        border: none;\n",
              "        border-radius: 50%;\n",
              "        cursor: pointer;\n",
              "        display: none;\n",
              "        fill: #1967D2;\n",
              "        height: 32px;\n",
              "        padding: 0 0 0 0;\n",
              "        width: 32px;\n",
              "      }\n",
              "\n",
              "      .colab-df-generate:hover {\n",
              "        background-color: #E2EBFA;\n",
              "        box-shadow: 0px 1px 2px rgba(60, 64, 67, 0.3), 0px 1px 3px 1px rgba(60, 64, 67, 0.15);\n",
              "        fill: #174EA6;\n",
              "      }\n",
              "\n",
              "      [theme=dark] .colab-df-generate {\n",
              "        background-color: #3B4455;\n",
              "        fill: #D2E3FC;\n",
              "      }\n",
              "\n",
              "      [theme=dark] .colab-df-generate:hover {\n",
              "        background-color: #434B5C;\n",
              "        box-shadow: 0px 1px 3px 1px rgba(0, 0, 0, 0.15);\n",
              "        filter: drop-shadow(0px 1px 2px rgba(0, 0, 0, 0.3));\n",
              "        fill: #FFFFFF;\n",
              "      }\n",
              "    </style>\n",
              "    <button class=\"colab-df-generate\" onclick=\"generateWithVariable('base_credit2')\"\n",
              "            title=\"Generate code using this dataframe.\"\n",
              "            style=\"display:none;\">\n",
              "\n",
              "  <svg xmlns=\"http://www.w3.org/2000/svg\" height=\"24px\"viewBox=\"0 0 24 24\"\n",
              "       width=\"24px\">\n",
              "    <path d=\"M7,19H8.4L18.45,9,17,7.55,7,17.6ZM5,21V16.75L18.45,3.32a2,2,0,0,1,2.83,0l1.4,1.43a1.91,1.91,0,0,1,.58,1.4,1.91,1.91,0,0,1-.58,1.4L9.25,21ZM18.45,9,17,7.55Zm-12,3A5.31,5.31,0,0,0,4.9,8.1,5.31,5.31,0,0,0,1,6.5,5.31,5.31,0,0,0,4.9,4.9,5.31,5.31,0,0,0,6.5,1,5.31,5.31,0,0,0,8.1,4.9,5.31,5.31,0,0,0,12,6.5,5.46,5.46,0,0,0,6.5,12Z\"/>\n",
              "  </svg>\n",
              "    </button>\n",
              "    <script>\n",
              "      (() => {\n",
              "      const buttonEl =\n",
              "        document.querySelector('#id_caf98d20-4630-44c1-a5eb-c3792c0c3f15 button.colab-df-generate');\n",
              "      buttonEl.style.display =\n",
              "        google.colab.kernel.accessAllowed ? 'block' : 'none';\n",
              "\n",
              "      buttonEl.onclick = () => {\n",
              "        google.colab.notebook.generateWithVariable('base_credit2');\n",
              "      }\n",
              "      })();\n",
              "    </script>\n",
              "  </div>\n",
              "\n",
              "    </div>\n",
              "  </div>\n"
            ],
            "application/vnd.google.colaboratory.intrinsic+json": {
              "type": "dataframe",
              "variable_name": "base_credit2",
              "summary": "{\n  \"name\": \"base_credit2\",\n  \"rows\": 2000,\n  \"fields\": [\n    {\n      \"column\": \"clientid\",\n      \"properties\": {\n        \"dtype\": \"number\",\n        \"std\": 577,\n        \"min\": 1,\n        \"max\": 2000,\n        \"num_unique_values\": 2000,\n        \"samples\": [\n          1861,\n          354,\n          1334\n        ],\n        \"semantic_type\": \"\",\n        \"description\": \"\"\n      }\n    },\n    {\n      \"column\": \"income\",\n      \"properties\": {\n        \"dtype\": \"number\",\n        \"std\": 14326.32711885004,\n        \"min\": 20014.4894700497,\n        \"max\": 69995.6855783239,\n        \"num_unique_values\": 2000,\n        \"samples\": [\n          40240.7275559381,\n          46706.4588610083,\n          51211.6540386342\n        ],\n        \"semantic_type\": \"\",\n        \"description\": \"\"\n      }\n    },\n    {\n      \"column\": \"loan\",\n      \"properties\": {\n        \"dtype\": \"number\",\n        \"std\": 3045.4100243915154,\n        \"min\": 1.37762959325451,\n        \"max\": 13766.0512393337,\n        \"num_unique_values\": 2000,\n        \"samples\": [\n          7498.630446855849,\n          7084.263509070559,\n          4093.360006036261\n        ],\n        \"semantic_type\": \"\",\n        \"description\": \"\"\n      }\n    },\n    {\n      \"column\": \"default\",\n      \"properties\": {\n        \"dtype\": \"number\",\n        \"std\": 0,\n        \"min\": 0,\n        \"max\": 1,\n        \"num_unique_values\": 2,\n        \"samples\": [\n          1,\n          0\n        ],\n        \"semantic_type\": \"\",\n        \"description\": \"\"\n      }\n    }\n  ]\n}"
            }
          },
          "metadata": {},
          "execution_count": 18
        }
      ]
    },
    {
      "cell_type": "code",
      "source": [
        "base_credit.index"
      ],
      "metadata": {
        "colab": {
          "base_uri": "https://localhost:8080/"
        },
        "id": "IG-lK3ahzyCj",
        "outputId": "9c97db59-c555-4e22-e71a-d6848daa4f9d"
      },
      "execution_count": 19,
      "outputs": [
        {
          "output_type": "execute_result",
          "data": {
            "text/plain": [
              "RangeIndex(start=0, stop=2000, step=1)"
            ]
          },
          "metadata": {},
          "execution_count": 19
        }
      ]
    },
    {
      "cell_type": "code",
      "source": [
        "base_credit[base_credit['age'] < 0].index"
      ],
      "metadata": {
        "colab": {
          "base_uri": "https://localhost:8080/"
        },
        "id": "-IuHRe1Cz4HR",
        "outputId": "6283e4fb-4c2a-4af5-bd34-ea24a1c4d174"
      },
      "execution_count": 20,
      "outputs": [
        {
          "output_type": "execute_result",
          "data": {
            "text/plain": [
              "Index([15, 21, 26], dtype='int64')"
            ]
          },
          "metadata": {},
          "execution_count": 20
        }
      ]
    },
    {
      "cell_type": "code",
      "source": [
        "base_credit3 = base_credit.drop(base_credit[base_credit['age'] < 0].index)\n",
        "base_credit3"
      ],
      "metadata": {
        "colab": {
          "base_uri": "https://localhost:8080/",
          "height": 424
        },
        "id": "gug1Tba1zYpp",
        "outputId": "0847b466-51a2-4103-931c-6b94df8e2ddf"
      },
      "execution_count": 21,
      "outputs": [
        {
          "output_type": "execute_result",
          "data": {
            "text/plain": [
              "      clientid        income        age         loan  default\n",
              "0            1  66155.925095  59.017015  8106.532131        0\n",
              "1            2  34415.153966  48.117153  6564.745018        0\n",
              "2            3  57317.170063  63.108049  8020.953296        0\n",
              "3            4  42709.534201  45.751972  6103.642260        0\n",
              "4            5  66952.688845  18.584336  8770.099235        1\n",
              "...        ...           ...        ...          ...      ...\n",
              "1995      1996  59221.044874  48.518179  1926.729397        0\n",
              "1996      1997  69516.127573  23.162104  3503.176156        0\n",
              "1997      1998  44311.449262  28.017167  5522.786693        1\n",
              "1998      1999  43756.056605  63.971796  1622.722598        0\n",
              "1999      2000  69436.579552  56.152617  7378.833599        0\n",
              "\n",
              "[1997 rows x 5 columns]"
            ],
            "text/html": [
              "\n",
              "  <div id=\"df-873160a4-affa-448f-93df-8bed46448574\" class=\"colab-df-container\">\n",
              "    <div>\n",
              "<style scoped>\n",
              "    .dataframe tbody tr th:only-of-type {\n",
              "        vertical-align: middle;\n",
              "    }\n",
              "\n",
              "    .dataframe tbody tr th {\n",
              "        vertical-align: top;\n",
              "    }\n",
              "\n",
              "    .dataframe thead th {\n",
              "        text-align: right;\n",
              "    }\n",
              "</style>\n",
              "<table border=\"1\" class=\"dataframe\">\n",
              "  <thead>\n",
              "    <tr style=\"text-align: right;\">\n",
              "      <th></th>\n",
              "      <th>clientid</th>\n",
              "      <th>income</th>\n",
              "      <th>age</th>\n",
              "      <th>loan</th>\n",
              "      <th>default</th>\n",
              "    </tr>\n",
              "  </thead>\n",
              "  <tbody>\n",
              "    <tr>\n",
              "      <th>0</th>\n",
              "      <td>1</td>\n",
              "      <td>66155.925095</td>\n",
              "      <td>59.017015</td>\n",
              "      <td>8106.532131</td>\n",
              "      <td>0</td>\n",
              "    </tr>\n",
              "    <tr>\n",
              "      <th>1</th>\n",
              "      <td>2</td>\n",
              "      <td>34415.153966</td>\n",
              "      <td>48.117153</td>\n",
              "      <td>6564.745018</td>\n",
              "      <td>0</td>\n",
              "    </tr>\n",
              "    <tr>\n",
              "      <th>2</th>\n",
              "      <td>3</td>\n",
              "      <td>57317.170063</td>\n",
              "      <td>63.108049</td>\n",
              "      <td>8020.953296</td>\n",
              "      <td>0</td>\n",
              "    </tr>\n",
              "    <tr>\n",
              "      <th>3</th>\n",
              "      <td>4</td>\n",
              "      <td>42709.534201</td>\n",
              "      <td>45.751972</td>\n",
              "      <td>6103.642260</td>\n",
              "      <td>0</td>\n",
              "    </tr>\n",
              "    <tr>\n",
              "      <th>4</th>\n",
              "      <td>5</td>\n",
              "      <td>66952.688845</td>\n",
              "      <td>18.584336</td>\n",
              "      <td>8770.099235</td>\n",
              "      <td>1</td>\n",
              "    </tr>\n",
              "    <tr>\n",
              "      <th>...</th>\n",
              "      <td>...</td>\n",
              "      <td>...</td>\n",
              "      <td>...</td>\n",
              "      <td>...</td>\n",
              "      <td>...</td>\n",
              "    </tr>\n",
              "    <tr>\n",
              "      <th>1995</th>\n",
              "      <td>1996</td>\n",
              "      <td>59221.044874</td>\n",
              "      <td>48.518179</td>\n",
              "      <td>1926.729397</td>\n",
              "      <td>0</td>\n",
              "    </tr>\n",
              "    <tr>\n",
              "      <th>1996</th>\n",
              "      <td>1997</td>\n",
              "      <td>69516.127573</td>\n",
              "      <td>23.162104</td>\n",
              "      <td>3503.176156</td>\n",
              "      <td>0</td>\n",
              "    </tr>\n",
              "    <tr>\n",
              "      <th>1997</th>\n",
              "      <td>1998</td>\n",
              "      <td>44311.449262</td>\n",
              "      <td>28.017167</td>\n",
              "      <td>5522.786693</td>\n",
              "      <td>1</td>\n",
              "    </tr>\n",
              "    <tr>\n",
              "      <th>1998</th>\n",
              "      <td>1999</td>\n",
              "      <td>43756.056605</td>\n",
              "      <td>63.971796</td>\n",
              "      <td>1622.722598</td>\n",
              "      <td>0</td>\n",
              "    </tr>\n",
              "    <tr>\n",
              "      <th>1999</th>\n",
              "      <td>2000</td>\n",
              "      <td>69436.579552</td>\n",
              "      <td>56.152617</td>\n",
              "      <td>7378.833599</td>\n",
              "      <td>0</td>\n",
              "    </tr>\n",
              "  </tbody>\n",
              "</table>\n",
              "<p>1997 rows × 5 columns</p>\n",
              "</div>\n",
              "    <div class=\"colab-df-buttons\">\n",
              "\n",
              "  <div class=\"colab-df-container\">\n",
              "    <button class=\"colab-df-convert\" onclick=\"convertToInteractive('df-873160a4-affa-448f-93df-8bed46448574')\"\n",
              "            title=\"Convert this dataframe to an interactive table.\"\n",
              "            style=\"display:none;\">\n",
              "\n",
              "  <svg xmlns=\"http://www.w3.org/2000/svg\" height=\"24px\" viewBox=\"0 -960 960 960\">\n",
              "    <path d=\"M120-120v-720h720v720H120Zm60-500h600v-160H180v160Zm220 220h160v-160H400v160Zm0 220h160v-160H400v160ZM180-400h160v-160H180v160Zm440 0h160v-160H620v160ZM180-180h160v-160H180v160Zm440 0h160v-160H620v160Z\"/>\n",
              "  </svg>\n",
              "    </button>\n",
              "\n",
              "  <style>\n",
              "    .colab-df-container {\n",
              "      display:flex;\n",
              "      gap: 12px;\n",
              "    }\n",
              "\n",
              "    .colab-df-convert {\n",
              "      background-color: #E8F0FE;\n",
              "      border: none;\n",
              "      border-radius: 50%;\n",
              "      cursor: pointer;\n",
              "      display: none;\n",
              "      fill: #1967D2;\n",
              "      height: 32px;\n",
              "      padding: 0 0 0 0;\n",
              "      width: 32px;\n",
              "    }\n",
              "\n",
              "    .colab-df-convert:hover {\n",
              "      background-color: #E2EBFA;\n",
              "      box-shadow: 0px 1px 2px rgba(60, 64, 67, 0.3), 0px 1px 3px 1px rgba(60, 64, 67, 0.15);\n",
              "      fill: #174EA6;\n",
              "    }\n",
              "\n",
              "    .colab-df-buttons div {\n",
              "      margin-bottom: 4px;\n",
              "    }\n",
              "\n",
              "    [theme=dark] .colab-df-convert {\n",
              "      background-color: #3B4455;\n",
              "      fill: #D2E3FC;\n",
              "    }\n",
              "\n",
              "    [theme=dark] .colab-df-convert:hover {\n",
              "      background-color: #434B5C;\n",
              "      box-shadow: 0px 1px 3px 1px rgba(0, 0, 0, 0.15);\n",
              "      filter: drop-shadow(0px 1px 2px rgba(0, 0, 0, 0.3));\n",
              "      fill: #FFFFFF;\n",
              "    }\n",
              "  </style>\n",
              "\n",
              "    <script>\n",
              "      const buttonEl =\n",
              "        document.querySelector('#df-873160a4-affa-448f-93df-8bed46448574 button.colab-df-convert');\n",
              "      buttonEl.style.display =\n",
              "        google.colab.kernel.accessAllowed ? 'block' : 'none';\n",
              "\n",
              "      async function convertToInteractive(key) {\n",
              "        const element = document.querySelector('#df-873160a4-affa-448f-93df-8bed46448574');\n",
              "        const dataTable =\n",
              "          await google.colab.kernel.invokeFunction('convertToInteractive',\n",
              "                                                    [key], {});\n",
              "        if (!dataTable) return;\n",
              "\n",
              "        const docLinkHtml = 'Like what you see? Visit the ' +\n",
              "          '<a target=\"_blank\" href=https://colab.research.google.com/notebooks/data_table.ipynb>data table notebook</a>'\n",
              "          + ' to learn more about interactive tables.';\n",
              "        element.innerHTML = '';\n",
              "        dataTable['output_type'] = 'display_data';\n",
              "        await google.colab.output.renderOutput(dataTable, element);\n",
              "        const docLink = document.createElement('div');\n",
              "        docLink.innerHTML = docLinkHtml;\n",
              "        element.appendChild(docLink);\n",
              "      }\n",
              "    </script>\n",
              "  </div>\n",
              "\n",
              "\n",
              "    <div id=\"df-43fa1df5-7d14-451b-8c7f-45f78046eb3f\">\n",
              "      <button class=\"colab-df-quickchart\" onclick=\"quickchart('df-43fa1df5-7d14-451b-8c7f-45f78046eb3f')\"\n",
              "                title=\"Suggest charts\"\n",
              "                style=\"display:none;\">\n",
              "\n",
              "<svg xmlns=\"http://www.w3.org/2000/svg\" height=\"24px\"viewBox=\"0 0 24 24\"\n",
              "     width=\"24px\">\n",
              "    <g>\n",
              "        <path d=\"M19 3H5c-1.1 0-2 .9-2 2v14c0 1.1.9 2 2 2h14c1.1 0 2-.9 2-2V5c0-1.1-.9-2-2-2zM9 17H7v-7h2v7zm4 0h-2V7h2v10zm4 0h-2v-4h2v4z\"/>\n",
              "    </g>\n",
              "</svg>\n",
              "      </button>\n",
              "\n",
              "<style>\n",
              "  .colab-df-quickchart {\n",
              "      --bg-color: #E8F0FE;\n",
              "      --fill-color: #1967D2;\n",
              "      --hover-bg-color: #E2EBFA;\n",
              "      --hover-fill-color: #174EA6;\n",
              "      --disabled-fill-color: #AAA;\n",
              "      --disabled-bg-color: #DDD;\n",
              "  }\n",
              "\n",
              "  [theme=dark] .colab-df-quickchart {\n",
              "      --bg-color: #3B4455;\n",
              "      --fill-color: #D2E3FC;\n",
              "      --hover-bg-color: #434B5C;\n",
              "      --hover-fill-color: #FFFFFF;\n",
              "      --disabled-bg-color: #3B4455;\n",
              "      --disabled-fill-color: #666;\n",
              "  }\n",
              "\n",
              "  .colab-df-quickchart {\n",
              "    background-color: var(--bg-color);\n",
              "    border: none;\n",
              "    border-radius: 50%;\n",
              "    cursor: pointer;\n",
              "    display: none;\n",
              "    fill: var(--fill-color);\n",
              "    height: 32px;\n",
              "    padding: 0;\n",
              "    width: 32px;\n",
              "  }\n",
              "\n",
              "  .colab-df-quickchart:hover {\n",
              "    background-color: var(--hover-bg-color);\n",
              "    box-shadow: 0 1px 2px rgba(60, 64, 67, 0.3), 0 1px 3px 1px rgba(60, 64, 67, 0.15);\n",
              "    fill: var(--button-hover-fill-color);\n",
              "  }\n",
              "\n",
              "  .colab-df-quickchart-complete:disabled,\n",
              "  .colab-df-quickchart-complete:disabled:hover {\n",
              "    background-color: var(--disabled-bg-color);\n",
              "    fill: var(--disabled-fill-color);\n",
              "    box-shadow: none;\n",
              "  }\n",
              "\n",
              "  .colab-df-spinner {\n",
              "    border: 2px solid var(--fill-color);\n",
              "    border-color: transparent;\n",
              "    border-bottom-color: var(--fill-color);\n",
              "    animation:\n",
              "      spin 1s steps(1) infinite;\n",
              "  }\n",
              "\n",
              "  @keyframes spin {\n",
              "    0% {\n",
              "      border-color: transparent;\n",
              "      border-bottom-color: var(--fill-color);\n",
              "      border-left-color: var(--fill-color);\n",
              "    }\n",
              "    20% {\n",
              "      border-color: transparent;\n",
              "      border-left-color: var(--fill-color);\n",
              "      border-top-color: var(--fill-color);\n",
              "    }\n",
              "    30% {\n",
              "      border-color: transparent;\n",
              "      border-left-color: var(--fill-color);\n",
              "      border-top-color: var(--fill-color);\n",
              "      border-right-color: var(--fill-color);\n",
              "    }\n",
              "    40% {\n",
              "      border-color: transparent;\n",
              "      border-right-color: var(--fill-color);\n",
              "      border-top-color: var(--fill-color);\n",
              "    }\n",
              "    60% {\n",
              "      border-color: transparent;\n",
              "      border-right-color: var(--fill-color);\n",
              "    }\n",
              "    80% {\n",
              "      border-color: transparent;\n",
              "      border-right-color: var(--fill-color);\n",
              "      border-bottom-color: var(--fill-color);\n",
              "    }\n",
              "    90% {\n",
              "      border-color: transparent;\n",
              "      border-bottom-color: var(--fill-color);\n",
              "    }\n",
              "  }\n",
              "</style>\n",
              "\n",
              "      <script>\n",
              "        async function quickchart(key) {\n",
              "          const quickchartButtonEl =\n",
              "            document.querySelector('#' + key + ' button');\n",
              "          quickchartButtonEl.disabled = true;  // To prevent multiple clicks.\n",
              "          quickchartButtonEl.classList.add('colab-df-spinner');\n",
              "          try {\n",
              "            const charts = await google.colab.kernel.invokeFunction(\n",
              "                'suggestCharts', [key], {});\n",
              "          } catch (error) {\n",
              "            console.error('Error during call to suggestCharts:', error);\n",
              "          }\n",
              "          quickchartButtonEl.classList.remove('colab-df-spinner');\n",
              "          quickchartButtonEl.classList.add('colab-df-quickchart-complete');\n",
              "        }\n",
              "        (() => {\n",
              "          let quickchartButtonEl =\n",
              "            document.querySelector('#df-43fa1df5-7d14-451b-8c7f-45f78046eb3f button');\n",
              "          quickchartButtonEl.style.display =\n",
              "            google.colab.kernel.accessAllowed ? 'block' : 'none';\n",
              "        })();\n",
              "      </script>\n",
              "    </div>\n",
              "\n",
              "  <div id=\"id_116c2c1c-e8d7-484e-bb8c-93bd87de381c\">\n",
              "    <style>\n",
              "      .colab-df-generate {\n",
              "        background-color: #E8F0FE;\n",
              "        border: none;\n",
              "        border-radius: 50%;\n",
              "        cursor: pointer;\n",
              "        display: none;\n",
              "        fill: #1967D2;\n",
              "        height: 32px;\n",
              "        padding: 0 0 0 0;\n",
              "        width: 32px;\n",
              "      }\n",
              "\n",
              "      .colab-df-generate:hover {\n",
              "        background-color: #E2EBFA;\n",
              "        box-shadow: 0px 1px 2px rgba(60, 64, 67, 0.3), 0px 1px 3px 1px rgba(60, 64, 67, 0.15);\n",
              "        fill: #174EA6;\n",
              "      }\n",
              "\n",
              "      [theme=dark] .colab-df-generate {\n",
              "        background-color: #3B4455;\n",
              "        fill: #D2E3FC;\n",
              "      }\n",
              "\n",
              "      [theme=dark] .colab-df-generate:hover {\n",
              "        background-color: #434B5C;\n",
              "        box-shadow: 0px 1px 3px 1px rgba(0, 0, 0, 0.15);\n",
              "        filter: drop-shadow(0px 1px 2px rgba(0, 0, 0, 0.3));\n",
              "        fill: #FFFFFF;\n",
              "      }\n",
              "    </style>\n",
              "    <button class=\"colab-df-generate\" onclick=\"generateWithVariable('base_credit3')\"\n",
              "            title=\"Generate code using this dataframe.\"\n",
              "            style=\"display:none;\">\n",
              "\n",
              "  <svg xmlns=\"http://www.w3.org/2000/svg\" height=\"24px\"viewBox=\"0 0 24 24\"\n",
              "       width=\"24px\">\n",
              "    <path d=\"M7,19H8.4L18.45,9,17,7.55,7,17.6ZM5,21V16.75L18.45,3.32a2,2,0,0,1,2.83,0l1.4,1.43a1.91,1.91,0,0,1,.58,1.4,1.91,1.91,0,0,1-.58,1.4L9.25,21ZM18.45,9,17,7.55Zm-12,3A5.31,5.31,0,0,0,4.9,8.1,5.31,5.31,0,0,0,1,6.5,5.31,5.31,0,0,0,4.9,4.9,5.31,5.31,0,0,0,6.5,1,5.31,5.31,0,0,0,8.1,4.9,5.31,5.31,0,0,0,12,6.5,5.46,5.46,0,0,0,6.5,12Z\"/>\n",
              "  </svg>\n",
              "    </button>\n",
              "    <script>\n",
              "      (() => {\n",
              "      const buttonEl =\n",
              "        document.querySelector('#id_116c2c1c-e8d7-484e-bb8c-93bd87de381c button.colab-df-generate');\n",
              "      buttonEl.style.display =\n",
              "        google.colab.kernel.accessAllowed ? 'block' : 'none';\n",
              "\n",
              "      buttonEl.onclick = () => {\n",
              "        google.colab.notebook.generateWithVariable('base_credit3');\n",
              "      }\n",
              "      })();\n",
              "    </script>\n",
              "  </div>\n",
              "\n",
              "    </div>\n",
              "  </div>\n"
            ],
            "application/vnd.google.colaboratory.intrinsic+json": {
              "type": "dataframe",
              "variable_name": "base_credit3",
              "summary": "{\n  \"name\": \"base_credit3\",\n  \"rows\": 1997,\n  \"fields\": [\n    {\n      \"column\": \"clientid\",\n      \"properties\": {\n        \"dtype\": \"number\",\n        \"std\": 576,\n        \"min\": 1,\n        \"max\": 2000,\n        \"num_unique_values\": 1997,\n        \"samples\": [\n          260,\n          356,\n          302\n        ],\n        \"semantic_type\": \"\",\n        \"description\": \"\"\n      }\n    },\n    {\n      \"column\": \"income\",\n      \"properties\": {\n        \"dtype\": \"number\",\n        \"std\": 14327.971549729073,\n        \"min\": 20014.4894700497,\n        \"max\": 69995.6855783239,\n        \"num_unique_values\": 1997,\n        \"samples\": [\n          28199.601632077203,\n          60778.7650241517,\n          43677.6292207651\n        ],\n        \"semantic_type\": \"\",\n        \"description\": \"\"\n      }\n    },\n    {\n      \"column\": \"age\",\n      \"properties\": {\n        \"dtype\": \"number\",\n        \"std\": 13.271802383260692,\n        \"min\": 18.055188510566897,\n        \"max\": 63.971795841120205,\n        \"num_unique_values\": 1994,\n        \"samples\": [\n          36.6745834872127,\n          55.5069526312873,\n          40.9114946299233\n        ],\n        \"semantic_type\": \"\",\n        \"description\": \"\"\n      }\n    },\n    {\n      \"column\": \"loan\",\n      \"properties\": {\n        \"dtype\": \"number\",\n        \"std\": 3045.494192394,\n        \"min\": 1.37762959325451,\n        \"max\": 13766.0512393337,\n        \"num_unique_values\": 1997,\n        \"samples\": [\n          3871.688901934071,\n          10021.0492234587,\n          6739.8585984927895\n        ],\n        \"semantic_type\": \"\",\n        \"description\": \"\"\n      }\n    },\n    {\n      \"column\": \"default\",\n      \"properties\": {\n        \"dtype\": \"number\",\n        \"std\": 0,\n        \"min\": 0,\n        \"max\": 1,\n        \"num_unique_values\": 2,\n        \"samples\": [\n          1,\n          0\n        ],\n        \"semantic_type\": \"\",\n        \"description\": \"\"\n      }\n    }\n  ]\n}"
            }
          },
          "metadata": {},
          "execution_count": 21
        }
      ]
    },
    {
      "cell_type": "code",
      "source": [
        "base_credit3.loc[base_credit3['age'] < 0]"
      ],
      "metadata": {
        "colab": {
          "base_uri": "https://localhost:8080/",
          "height": 53
        },
        "id": "O1hx3cAv0ImE",
        "outputId": "64cda066-2d1f-4822-90b2-5b58edaad3f3"
      },
      "execution_count": 22,
      "outputs": [
        {
          "output_type": "execute_result",
          "data": {
            "text/plain": [
              "Empty DataFrame\n",
              "Columns: [clientid, income, age, loan, default]\n",
              "Index: []"
            ],
            "text/html": [
              "\n",
              "  <div id=\"df-753f3741-b86f-499e-bb1c-db96fab0d5f8\" class=\"colab-df-container\">\n",
              "    <div>\n",
              "<style scoped>\n",
              "    .dataframe tbody tr th:only-of-type {\n",
              "        vertical-align: middle;\n",
              "    }\n",
              "\n",
              "    .dataframe tbody tr th {\n",
              "        vertical-align: top;\n",
              "    }\n",
              "\n",
              "    .dataframe thead th {\n",
              "        text-align: right;\n",
              "    }\n",
              "</style>\n",
              "<table border=\"1\" class=\"dataframe\">\n",
              "  <thead>\n",
              "    <tr style=\"text-align: right;\">\n",
              "      <th></th>\n",
              "      <th>clientid</th>\n",
              "      <th>income</th>\n",
              "      <th>age</th>\n",
              "      <th>loan</th>\n",
              "      <th>default</th>\n",
              "    </tr>\n",
              "  </thead>\n",
              "  <tbody>\n",
              "  </tbody>\n",
              "</table>\n",
              "</div>\n",
              "    <div class=\"colab-df-buttons\">\n",
              "\n",
              "  <div class=\"colab-df-container\">\n",
              "    <button class=\"colab-df-convert\" onclick=\"convertToInteractive('df-753f3741-b86f-499e-bb1c-db96fab0d5f8')\"\n",
              "            title=\"Convert this dataframe to an interactive table.\"\n",
              "            style=\"display:none;\">\n",
              "\n",
              "  <svg xmlns=\"http://www.w3.org/2000/svg\" height=\"24px\" viewBox=\"0 -960 960 960\">\n",
              "    <path d=\"M120-120v-720h720v720H120Zm60-500h600v-160H180v160Zm220 220h160v-160H400v160Zm0 220h160v-160H400v160ZM180-400h160v-160H180v160Zm440 0h160v-160H620v160ZM180-180h160v-160H180v160Zm440 0h160v-160H620v160Z\"/>\n",
              "  </svg>\n",
              "    </button>\n",
              "\n",
              "  <style>\n",
              "    .colab-df-container {\n",
              "      display:flex;\n",
              "      gap: 12px;\n",
              "    }\n",
              "\n",
              "    .colab-df-convert {\n",
              "      background-color: #E8F0FE;\n",
              "      border: none;\n",
              "      border-radius: 50%;\n",
              "      cursor: pointer;\n",
              "      display: none;\n",
              "      fill: #1967D2;\n",
              "      height: 32px;\n",
              "      padding: 0 0 0 0;\n",
              "      width: 32px;\n",
              "    }\n",
              "\n",
              "    .colab-df-convert:hover {\n",
              "      background-color: #E2EBFA;\n",
              "      box-shadow: 0px 1px 2px rgba(60, 64, 67, 0.3), 0px 1px 3px 1px rgba(60, 64, 67, 0.15);\n",
              "      fill: #174EA6;\n",
              "    }\n",
              "\n",
              "    .colab-df-buttons div {\n",
              "      margin-bottom: 4px;\n",
              "    }\n",
              "\n",
              "    [theme=dark] .colab-df-convert {\n",
              "      background-color: #3B4455;\n",
              "      fill: #D2E3FC;\n",
              "    }\n",
              "\n",
              "    [theme=dark] .colab-df-convert:hover {\n",
              "      background-color: #434B5C;\n",
              "      box-shadow: 0px 1px 3px 1px rgba(0, 0, 0, 0.15);\n",
              "      filter: drop-shadow(0px 1px 2px rgba(0, 0, 0, 0.3));\n",
              "      fill: #FFFFFF;\n",
              "    }\n",
              "  </style>\n",
              "\n",
              "    <script>\n",
              "      const buttonEl =\n",
              "        document.querySelector('#df-753f3741-b86f-499e-bb1c-db96fab0d5f8 button.colab-df-convert');\n",
              "      buttonEl.style.display =\n",
              "        google.colab.kernel.accessAllowed ? 'block' : 'none';\n",
              "\n",
              "      async function convertToInteractive(key) {\n",
              "        const element = document.querySelector('#df-753f3741-b86f-499e-bb1c-db96fab0d5f8');\n",
              "        const dataTable =\n",
              "          await google.colab.kernel.invokeFunction('convertToInteractive',\n",
              "                                                    [key], {});\n",
              "        if (!dataTable) return;\n",
              "\n",
              "        const docLinkHtml = 'Like what you see? Visit the ' +\n",
              "          '<a target=\"_blank\" href=https://colab.research.google.com/notebooks/data_table.ipynb>data table notebook</a>'\n",
              "          + ' to learn more about interactive tables.';\n",
              "        element.innerHTML = '';\n",
              "        dataTable['output_type'] = 'display_data';\n",
              "        await google.colab.output.renderOutput(dataTable, element);\n",
              "        const docLink = document.createElement('div');\n",
              "        docLink.innerHTML = docLinkHtml;\n",
              "        element.appendChild(docLink);\n",
              "      }\n",
              "    </script>\n",
              "  </div>\n",
              "\n",
              "\n",
              "    </div>\n",
              "  </div>\n"
            ],
            "application/vnd.google.colaboratory.intrinsic+json": {
              "type": "dataframe",
              "summary": "{\n  \"name\": \"base_credit3\",\n  \"rows\": 0,\n  \"fields\": [\n    {\n      \"column\": \"clientid\",\n      \"properties\": {\n        \"dtype\": \"number\",\n        \"std\": null,\n        \"min\": null,\n        \"max\": null,\n        \"num_unique_values\": 0,\n        \"samples\": [],\n        \"semantic_type\": \"\",\n        \"description\": \"\"\n      }\n    },\n    {\n      \"column\": \"income\",\n      \"properties\": {\n        \"dtype\": \"number\",\n        \"std\": null,\n        \"min\": null,\n        \"max\": null,\n        \"num_unique_values\": 0,\n        \"samples\": [],\n        \"semantic_type\": \"\",\n        \"description\": \"\"\n      }\n    },\n    {\n      \"column\": \"age\",\n      \"properties\": {\n        \"dtype\": \"number\",\n        \"std\": null,\n        \"min\": null,\n        \"max\": null,\n        \"num_unique_values\": 0,\n        \"samples\": [],\n        \"semantic_type\": \"\",\n        \"description\": \"\"\n      }\n    },\n    {\n      \"column\": \"loan\",\n      \"properties\": {\n        \"dtype\": \"number\",\n        \"std\": null,\n        \"min\": null,\n        \"max\": null,\n        \"num_unique_values\": 0,\n        \"samples\": [],\n        \"semantic_type\": \"\",\n        \"description\": \"\"\n      }\n    },\n    {\n      \"column\": \"default\",\n      \"properties\": {\n        \"dtype\": \"number\",\n        \"std\": null,\n        \"min\": null,\n        \"max\": null,\n        \"num_unique_values\": 0,\n        \"samples\": [],\n        \"semantic_type\": \"\",\n        \"description\": \"\"\n      }\n    }\n  ]\n}"
            }
          },
          "metadata": {},
          "execution_count": 22
        }
      ]
    },
    {
      "cell_type": "code",
      "source": [
        "# Preencher os valores inconsistente manualmente"
      ],
      "metadata": {
        "id": "XuCVCQBs13i3"
      },
      "execution_count": 23,
      "outputs": []
    },
    {
      "cell_type": "code",
      "source": [
        "# Preencher a média"
      ],
      "metadata": {
        "id": "Ch_v9i1319-H"
      },
      "execution_count": 24,
      "outputs": []
    },
    {
      "cell_type": "code",
      "source": [
        "base_credit.mean()"
      ],
      "metadata": {
        "colab": {
          "base_uri": "https://localhost:8080/",
          "height": 241
        },
        "id": "A3IgP0dF2CYO",
        "outputId": "99d3bb1a-987b-4eac-e652-b32a293c6342"
      },
      "execution_count": 25,
      "outputs": [
        {
          "output_type": "execute_result",
          "data": {
            "text/plain": [
              "clientid     1000.500000\n",
              "income      45331.600018\n",
              "age            40.807559\n",
              "loan         4444.369695\n",
              "default         0.141500\n",
              "dtype: float64"
            ],
            "text/html": [
              "<div>\n",
              "<style scoped>\n",
              "    .dataframe tbody tr th:only-of-type {\n",
              "        vertical-align: middle;\n",
              "    }\n",
              "\n",
              "    .dataframe tbody tr th {\n",
              "        vertical-align: top;\n",
              "    }\n",
              "\n",
              "    .dataframe thead th {\n",
              "        text-align: right;\n",
              "    }\n",
              "</style>\n",
              "<table border=\"1\" class=\"dataframe\">\n",
              "  <thead>\n",
              "    <tr style=\"text-align: right;\">\n",
              "      <th></th>\n",
              "      <th>0</th>\n",
              "    </tr>\n",
              "  </thead>\n",
              "  <tbody>\n",
              "    <tr>\n",
              "      <th>clientid</th>\n",
              "      <td>1000.500000</td>\n",
              "    </tr>\n",
              "    <tr>\n",
              "      <th>income</th>\n",
              "      <td>45331.600018</td>\n",
              "    </tr>\n",
              "    <tr>\n",
              "      <th>age</th>\n",
              "      <td>40.807559</td>\n",
              "    </tr>\n",
              "    <tr>\n",
              "      <th>loan</th>\n",
              "      <td>4444.369695</td>\n",
              "    </tr>\n",
              "    <tr>\n",
              "      <th>default</th>\n",
              "      <td>0.141500</td>\n",
              "    </tr>\n",
              "  </tbody>\n",
              "</table>\n",
              "</div><br><label><b>dtype:</b> float64</label>"
            ]
          },
          "metadata": {},
          "execution_count": 25
        }
      ]
    },
    {
      "cell_type": "code",
      "source": [
        "base_credit['age'].mean()"
      ],
      "metadata": {
        "colab": {
          "base_uri": "https://localhost:8080/"
        },
        "id": "yOJN2omO2LJD",
        "outputId": "107f3526-a668-4c0a-89e7-7d26424352d3"
      },
      "execution_count": 26,
      "outputs": [
        {
          "output_type": "execute_result",
          "data": {
            "text/plain": [
              "np.float64(40.80755937840458)"
            ]
          },
          "metadata": {},
          "execution_count": 26
        }
      ]
    },
    {
      "cell_type": "code",
      "source": [
        "base_credit['age'][base_credit['age'] > 0].mean()"
      ],
      "metadata": {
        "colab": {
          "base_uri": "https://localhost:8080/"
        },
        "id": "njUscxT22O2s",
        "outputId": "d9b3efe5-eeae-4a61-f233-ae3bb47afe2d"
      },
      "execution_count": 27,
      "outputs": [
        {
          "output_type": "execute_result",
          "data": {
            "text/plain": [
              "np.float64(40.92770044906149)"
            ]
          },
          "metadata": {},
          "execution_count": 27
        }
      ]
    },
    {
      "cell_type": "code",
      "source": [
        "base_credit.loc[base_credit['age'] < 0, 'age'] = 40.92"
      ],
      "metadata": {
        "id": "1RWED7UX2hhg"
      },
      "execution_count": 28,
      "outputs": []
    },
    {
      "cell_type": "code",
      "source": [
        "base_credit.loc[base_credit['age'] < 0]"
      ],
      "metadata": {
        "colab": {
          "base_uri": "https://localhost:8080/",
          "height": 53
        },
        "id": "nuwQIEwV3Axf",
        "outputId": "96431383-c24c-473d-b773-3389e32f74b9"
      },
      "execution_count": 29,
      "outputs": [
        {
          "output_type": "execute_result",
          "data": {
            "text/plain": [
              "Empty DataFrame\n",
              "Columns: [clientid, income, age, loan, default]\n",
              "Index: []"
            ],
            "text/html": [
              "\n",
              "  <div id=\"df-fd1087ae-a05a-466f-8249-f061dbbc8169\" class=\"colab-df-container\">\n",
              "    <div>\n",
              "<style scoped>\n",
              "    .dataframe tbody tr th:only-of-type {\n",
              "        vertical-align: middle;\n",
              "    }\n",
              "\n",
              "    .dataframe tbody tr th {\n",
              "        vertical-align: top;\n",
              "    }\n",
              "\n",
              "    .dataframe thead th {\n",
              "        text-align: right;\n",
              "    }\n",
              "</style>\n",
              "<table border=\"1\" class=\"dataframe\">\n",
              "  <thead>\n",
              "    <tr style=\"text-align: right;\">\n",
              "      <th></th>\n",
              "      <th>clientid</th>\n",
              "      <th>income</th>\n",
              "      <th>age</th>\n",
              "      <th>loan</th>\n",
              "      <th>default</th>\n",
              "    </tr>\n",
              "  </thead>\n",
              "  <tbody>\n",
              "  </tbody>\n",
              "</table>\n",
              "</div>\n",
              "    <div class=\"colab-df-buttons\">\n",
              "\n",
              "  <div class=\"colab-df-container\">\n",
              "    <button class=\"colab-df-convert\" onclick=\"convertToInteractive('df-fd1087ae-a05a-466f-8249-f061dbbc8169')\"\n",
              "            title=\"Convert this dataframe to an interactive table.\"\n",
              "            style=\"display:none;\">\n",
              "\n",
              "  <svg xmlns=\"http://www.w3.org/2000/svg\" height=\"24px\" viewBox=\"0 -960 960 960\">\n",
              "    <path d=\"M120-120v-720h720v720H120Zm60-500h600v-160H180v160Zm220 220h160v-160H400v160Zm0 220h160v-160H400v160ZM180-400h160v-160H180v160Zm440 0h160v-160H620v160ZM180-180h160v-160H180v160Zm440 0h160v-160H620v160Z\"/>\n",
              "  </svg>\n",
              "    </button>\n",
              "\n",
              "  <style>\n",
              "    .colab-df-container {\n",
              "      display:flex;\n",
              "      gap: 12px;\n",
              "    }\n",
              "\n",
              "    .colab-df-convert {\n",
              "      background-color: #E8F0FE;\n",
              "      border: none;\n",
              "      border-radius: 50%;\n",
              "      cursor: pointer;\n",
              "      display: none;\n",
              "      fill: #1967D2;\n",
              "      height: 32px;\n",
              "      padding: 0 0 0 0;\n",
              "      width: 32px;\n",
              "    }\n",
              "\n",
              "    .colab-df-convert:hover {\n",
              "      background-color: #E2EBFA;\n",
              "      box-shadow: 0px 1px 2px rgba(60, 64, 67, 0.3), 0px 1px 3px 1px rgba(60, 64, 67, 0.15);\n",
              "      fill: #174EA6;\n",
              "    }\n",
              "\n",
              "    .colab-df-buttons div {\n",
              "      margin-bottom: 4px;\n",
              "    }\n",
              "\n",
              "    [theme=dark] .colab-df-convert {\n",
              "      background-color: #3B4455;\n",
              "      fill: #D2E3FC;\n",
              "    }\n",
              "\n",
              "    [theme=dark] .colab-df-convert:hover {\n",
              "      background-color: #434B5C;\n",
              "      box-shadow: 0px 1px 3px 1px rgba(0, 0, 0, 0.15);\n",
              "      filter: drop-shadow(0px 1px 2px rgba(0, 0, 0, 0.3));\n",
              "      fill: #FFFFFF;\n",
              "    }\n",
              "  </style>\n",
              "\n",
              "    <script>\n",
              "      const buttonEl =\n",
              "        document.querySelector('#df-fd1087ae-a05a-466f-8249-f061dbbc8169 button.colab-df-convert');\n",
              "      buttonEl.style.display =\n",
              "        google.colab.kernel.accessAllowed ? 'block' : 'none';\n",
              "\n",
              "      async function convertToInteractive(key) {\n",
              "        const element = document.querySelector('#df-fd1087ae-a05a-466f-8249-f061dbbc8169');\n",
              "        const dataTable =\n",
              "          await google.colab.kernel.invokeFunction('convertToInteractive',\n",
              "                                                    [key], {});\n",
              "        if (!dataTable) return;\n",
              "\n",
              "        const docLinkHtml = 'Like what you see? Visit the ' +\n",
              "          '<a target=\"_blank\" href=https://colab.research.google.com/notebooks/data_table.ipynb>data table notebook</a>'\n",
              "          + ' to learn more about interactive tables.';\n",
              "        element.innerHTML = '';\n",
              "        dataTable['output_type'] = 'display_data';\n",
              "        await google.colab.output.renderOutput(dataTable, element);\n",
              "        const docLink = document.createElement('div');\n",
              "        docLink.innerHTML = docLinkHtml;\n",
              "        element.appendChild(docLink);\n",
              "      }\n",
              "    </script>\n",
              "  </div>\n",
              "\n",
              "\n",
              "    </div>\n",
              "  </div>\n"
            ],
            "application/vnd.google.colaboratory.intrinsic+json": {
              "type": "dataframe",
              "summary": "{\n  \"name\": \"base_credit\",\n  \"rows\": 0,\n  \"fields\": [\n    {\n      \"column\": \"clientid\",\n      \"properties\": {\n        \"dtype\": \"number\",\n        \"std\": null,\n        \"min\": null,\n        \"max\": null,\n        \"num_unique_values\": 0,\n        \"samples\": [],\n        \"semantic_type\": \"\",\n        \"description\": \"\"\n      }\n    },\n    {\n      \"column\": \"income\",\n      \"properties\": {\n        \"dtype\": \"number\",\n        \"std\": null,\n        \"min\": null,\n        \"max\": null,\n        \"num_unique_values\": 0,\n        \"samples\": [],\n        \"semantic_type\": \"\",\n        \"description\": \"\"\n      }\n    },\n    {\n      \"column\": \"age\",\n      \"properties\": {\n        \"dtype\": \"number\",\n        \"std\": null,\n        \"min\": null,\n        \"max\": null,\n        \"num_unique_values\": 0,\n        \"samples\": [],\n        \"semantic_type\": \"\",\n        \"description\": \"\"\n      }\n    },\n    {\n      \"column\": \"loan\",\n      \"properties\": {\n        \"dtype\": \"number\",\n        \"std\": null,\n        \"min\": null,\n        \"max\": null,\n        \"num_unique_values\": 0,\n        \"samples\": [],\n        \"semantic_type\": \"\",\n        \"description\": \"\"\n      }\n    },\n    {\n      \"column\": \"default\",\n      \"properties\": {\n        \"dtype\": \"number\",\n        \"std\": null,\n        \"min\": null,\n        \"max\": null,\n        \"num_unique_values\": 0,\n        \"samples\": [],\n        \"semantic_type\": \"\",\n        \"description\": \"\"\n      }\n    }\n  ]\n}"
            }
          },
          "metadata": {},
          "execution_count": 29
        }
      ]
    },
    {
      "cell_type": "code",
      "source": [
        "base_credit.head(27)"
      ],
      "metadata": {
        "colab": {
          "base_uri": "https://localhost:8080/",
          "height": 896
        },
        "id": "oXEDBEcq3VMy",
        "outputId": "aa80a2a8-b9fa-4aac-e9b4-45e5b3fd99c3"
      },
      "execution_count": 30,
      "outputs": [
        {
          "output_type": "execute_result",
          "data": {
            "text/plain": [
              "    clientid        income        age         loan  default\n",
              "0          1  66155.925095  59.017015  8106.532131        0\n",
              "1          2  34415.153966  48.117153  6564.745018        0\n",
              "2          3  57317.170063  63.108049  8020.953296        0\n",
              "3          4  42709.534201  45.751972  6103.642260        0\n",
              "4          5  66952.688845  18.584336  8770.099235        1\n",
              "5          6  24904.064140  57.471607    15.498598        0\n",
              "6          7  48430.359613  26.809132  5722.581981        0\n",
              "7          8  24500.141984  32.897548  2971.003310        1\n",
              "8          9  40654.892537  55.496853  4755.825280        0\n",
              "9         10  25075.872771  39.776378  1409.230371        0\n",
              "10        11  64131.415372  25.679575  4351.028971        0\n",
              "11        12  59436.847123  60.471936  9254.244538        0\n",
              "12        13  61050.346079  26.355044  5893.264659        0\n",
              "13        14  27267.995458  61.576776  4759.787581        0\n",
              "14        15  63061.960174  39.201553  1850.369377        0\n",
              "15        16  50501.726689  40.920000  3977.287432        0\n",
              "16        17  43548.654711  39.574530  3935.544453        0\n",
              "17        18  43378.175194  60.848318  3277.737553        0\n",
              "18        19  20542.365073  61.690571  3157.442290        0\n",
              "19        20  58887.357549  26.076093  4965.516066        0\n",
              "20        21  23000.784002  31.761354  1148.118057        0\n",
              "21        22  32197.620701  40.920000  4244.057136        0\n",
              "22        23  23329.319414  48.576975   222.622299        0\n",
              "23        24  27845.800894  51.970624  4959.921226        0\n",
              "24        25  65301.984029  48.840922  5465.267886        0\n",
              "25        26  47451.630123  27.031741  5361.282716        0\n",
              "26        27  63287.038908  40.920000  9595.286289        0"
            ],
            "text/html": [
              "\n",
              "  <div id=\"df-f092108e-e985-4cca-bbc5-2f6ba73be646\" class=\"colab-df-container\">\n",
              "    <div>\n",
              "<style scoped>\n",
              "    .dataframe tbody tr th:only-of-type {\n",
              "        vertical-align: middle;\n",
              "    }\n",
              "\n",
              "    .dataframe tbody tr th {\n",
              "        vertical-align: top;\n",
              "    }\n",
              "\n",
              "    .dataframe thead th {\n",
              "        text-align: right;\n",
              "    }\n",
              "</style>\n",
              "<table border=\"1\" class=\"dataframe\">\n",
              "  <thead>\n",
              "    <tr style=\"text-align: right;\">\n",
              "      <th></th>\n",
              "      <th>clientid</th>\n",
              "      <th>income</th>\n",
              "      <th>age</th>\n",
              "      <th>loan</th>\n",
              "      <th>default</th>\n",
              "    </tr>\n",
              "  </thead>\n",
              "  <tbody>\n",
              "    <tr>\n",
              "      <th>0</th>\n",
              "      <td>1</td>\n",
              "      <td>66155.925095</td>\n",
              "      <td>59.017015</td>\n",
              "      <td>8106.532131</td>\n",
              "      <td>0</td>\n",
              "    </tr>\n",
              "    <tr>\n",
              "      <th>1</th>\n",
              "      <td>2</td>\n",
              "      <td>34415.153966</td>\n",
              "      <td>48.117153</td>\n",
              "      <td>6564.745018</td>\n",
              "      <td>0</td>\n",
              "    </tr>\n",
              "    <tr>\n",
              "      <th>2</th>\n",
              "      <td>3</td>\n",
              "      <td>57317.170063</td>\n",
              "      <td>63.108049</td>\n",
              "      <td>8020.953296</td>\n",
              "      <td>0</td>\n",
              "    </tr>\n",
              "    <tr>\n",
              "      <th>3</th>\n",
              "      <td>4</td>\n",
              "      <td>42709.534201</td>\n",
              "      <td>45.751972</td>\n",
              "      <td>6103.642260</td>\n",
              "      <td>0</td>\n",
              "    </tr>\n",
              "    <tr>\n",
              "      <th>4</th>\n",
              "      <td>5</td>\n",
              "      <td>66952.688845</td>\n",
              "      <td>18.584336</td>\n",
              "      <td>8770.099235</td>\n",
              "      <td>1</td>\n",
              "    </tr>\n",
              "    <tr>\n",
              "      <th>5</th>\n",
              "      <td>6</td>\n",
              "      <td>24904.064140</td>\n",
              "      <td>57.471607</td>\n",
              "      <td>15.498598</td>\n",
              "      <td>0</td>\n",
              "    </tr>\n",
              "    <tr>\n",
              "      <th>6</th>\n",
              "      <td>7</td>\n",
              "      <td>48430.359613</td>\n",
              "      <td>26.809132</td>\n",
              "      <td>5722.581981</td>\n",
              "      <td>0</td>\n",
              "    </tr>\n",
              "    <tr>\n",
              "      <th>7</th>\n",
              "      <td>8</td>\n",
              "      <td>24500.141984</td>\n",
              "      <td>32.897548</td>\n",
              "      <td>2971.003310</td>\n",
              "      <td>1</td>\n",
              "    </tr>\n",
              "    <tr>\n",
              "      <th>8</th>\n",
              "      <td>9</td>\n",
              "      <td>40654.892537</td>\n",
              "      <td>55.496853</td>\n",
              "      <td>4755.825280</td>\n",
              "      <td>0</td>\n",
              "    </tr>\n",
              "    <tr>\n",
              "      <th>9</th>\n",
              "      <td>10</td>\n",
              "      <td>25075.872771</td>\n",
              "      <td>39.776378</td>\n",
              "      <td>1409.230371</td>\n",
              "      <td>0</td>\n",
              "    </tr>\n",
              "    <tr>\n",
              "      <th>10</th>\n",
              "      <td>11</td>\n",
              "      <td>64131.415372</td>\n",
              "      <td>25.679575</td>\n",
              "      <td>4351.028971</td>\n",
              "      <td>0</td>\n",
              "    </tr>\n",
              "    <tr>\n",
              "      <th>11</th>\n",
              "      <td>12</td>\n",
              "      <td>59436.847123</td>\n",
              "      <td>60.471936</td>\n",
              "      <td>9254.244538</td>\n",
              "      <td>0</td>\n",
              "    </tr>\n",
              "    <tr>\n",
              "      <th>12</th>\n",
              "      <td>13</td>\n",
              "      <td>61050.346079</td>\n",
              "      <td>26.355044</td>\n",
              "      <td>5893.264659</td>\n",
              "      <td>0</td>\n",
              "    </tr>\n",
              "    <tr>\n",
              "      <th>13</th>\n",
              "      <td>14</td>\n",
              "      <td>27267.995458</td>\n",
              "      <td>61.576776</td>\n",
              "      <td>4759.787581</td>\n",
              "      <td>0</td>\n",
              "    </tr>\n",
              "    <tr>\n",
              "      <th>14</th>\n",
              "      <td>15</td>\n",
              "      <td>63061.960174</td>\n",
              "      <td>39.201553</td>\n",
              "      <td>1850.369377</td>\n",
              "      <td>0</td>\n",
              "    </tr>\n",
              "    <tr>\n",
              "      <th>15</th>\n",
              "      <td>16</td>\n",
              "      <td>50501.726689</td>\n",
              "      <td>40.920000</td>\n",
              "      <td>3977.287432</td>\n",
              "      <td>0</td>\n",
              "    </tr>\n",
              "    <tr>\n",
              "      <th>16</th>\n",
              "      <td>17</td>\n",
              "      <td>43548.654711</td>\n",
              "      <td>39.574530</td>\n",
              "      <td>3935.544453</td>\n",
              "      <td>0</td>\n",
              "    </tr>\n",
              "    <tr>\n",
              "      <th>17</th>\n",
              "      <td>18</td>\n",
              "      <td>43378.175194</td>\n",
              "      <td>60.848318</td>\n",
              "      <td>3277.737553</td>\n",
              "      <td>0</td>\n",
              "    </tr>\n",
              "    <tr>\n",
              "      <th>18</th>\n",
              "      <td>19</td>\n",
              "      <td>20542.365073</td>\n",
              "      <td>61.690571</td>\n",
              "      <td>3157.442290</td>\n",
              "      <td>0</td>\n",
              "    </tr>\n",
              "    <tr>\n",
              "      <th>19</th>\n",
              "      <td>20</td>\n",
              "      <td>58887.357549</td>\n",
              "      <td>26.076093</td>\n",
              "      <td>4965.516066</td>\n",
              "      <td>0</td>\n",
              "    </tr>\n",
              "    <tr>\n",
              "      <th>20</th>\n",
              "      <td>21</td>\n",
              "      <td>23000.784002</td>\n",
              "      <td>31.761354</td>\n",
              "      <td>1148.118057</td>\n",
              "      <td>0</td>\n",
              "    </tr>\n",
              "    <tr>\n",
              "      <th>21</th>\n",
              "      <td>22</td>\n",
              "      <td>32197.620701</td>\n",
              "      <td>40.920000</td>\n",
              "      <td>4244.057136</td>\n",
              "      <td>0</td>\n",
              "    </tr>\n",
              "    <tr>\n",
              "      <th>22</th>\n",
              "      <td>23</td>\n",
              "      <td>23329.319414</td>\n",
              "      <td>48.576975</td>\n",
              "      <td>222.622299</td>\n",
              "      <td>0</td>\n",
              "    </tr>\n",
              "    <tr>\n",
              "      <th>23</th>\n",
              "      <td>24</td>\n",
              "      <td>27845.800894</td>\n",
              "      <td>51.970624</td>\n",
              "      <td>4959.921226</td>\n",
              "      <td>0</td>\n",
              "    </tr>\n",
              "    <tr>\n",
              "      <th>24</th>\n",
              "      <td>25</td>\n",
              "      <td>65301.984029</td>\n",
              "      <td>48.840922</td>\n",
              "      <td>5465.267886</td>\n",
              "      <td>0</td>\n",
              "    </tr>\n",
              "    <tr>\n",
              "      <th>25</th>\n",
              "      <td>26</td>\n",
              "      <td>47451.630123</td>\n",
              "      <td>27.031741</td>\n",
              "      <td>5361.282716</td>\n",
              "      <td>0</td>\n",
              "    </tr>\n",
              "    <tr>\n",
              "      <th>26</th>\n",
              "      <td>27</td>\n",
              "      <td>63287.038908</td>\n",
              "      <td>40.920000</td>\n",
              "      <td>9595.286289</td>\n",
              "      <td>0</td>\n",
              "    </tr>\n",
              "  </tbody>\n",
              "</table>\n",
              "</div>\n",
              "    <div class=\"colab-df-buttons\">\n",
              "\n",
              "  <div class=\"colab-df-container\">\n",
              "    <button class=\"colab-df-convert\" onclick=\"convertToInteractive('df-f092108e-e985-4cca-bbc5-2f6ba73be646')\"\n",
              "            title=\"Convert this dataframe to an interactive table.\"\n",
              "            style=\"display:none;\">\n",
              "\n",
              "  <svg xmlns=\"http://www.w3.org/2000/svg\" height=\"24px\" viewBox=\"0 -960 960 960\">\n",
              "    <path d=\"M120-120v-720h720v720H120Zm60-500h600v-160H180v160Zm220 220h160v-160H400v160Zm0 220h160v-160H400v160ZM180-400h160v-160H180v160Zm440 0h160v-160H620v160ZM180-180h160v-160H180v160Zm440 0h160v-160H620v160Z\"/>\n",
              "  </svg>\n",
              "    </button>\n",
              "\n",
              "  <style>\n",
              "    .colab-df-container {\n",
              "      display:flex;\n",
              "      gap: 12px;\n",
              "    }\n",
              "\n",
              "    .colab-df-convert {\n",
              "      background-color: #E8F0FE;\n",
              "      border: none;\n",
              "      border-radius: 50%;\n",
              "      cursor: pointer;\n",
              "      display: none;\n",
              "      fill: #1967D2;\n",
              "      height: 32px;\n",
              "      padding: 0 0 0 0;\n",
              "      width: 32px;\n",
              "    }\n",
              "\n",
              "    .colab-df-convert:hover {\n",
              "      background-color: #E2EBFA;\n",
              "      box-shadow: 0px 1px 2px rgba(60, 64, 67, 0.3), 0px 1px 3px 1px rgba(60, 64, 67, 0.15);\n",
              "      fill: #174EA6;\n",
              "    }\n",
              "\n",
              "    .colab-df-buttons div {\n",
              "      margin-bottom: 4px;\n",
              "    }\n",
              "\n",
              "    [theme=dark] .colab-df-convert {\n",
              "      background-color: #3B4455;\n",
              "      fill: #D2E3FC;\n",
              "    }\n",
              "\n",
              "    [theme=dark] .colab-df-convert:hover {\n",
              "      background-color: #434B5C;\n",
              "      box-shadow: 0px 1px 3px 1px rgba(0, 0, 0, 0.15);\n",
              "      filter: drop-shadow(0px 1px 2px rgba(0, 0, 0, 0.3));\n",
              "      fill: #FFFFFF;\n",
              "    }\n",
              "  </style>\n",
              "\n",
              "    <script>\n",
              "      const buttonEl =\n",
              "        document.querySelector('#df-f092108e-e985-4cca-bbc5-2f6ba73be646 button.colab-df-convert');\n",
              "      buttonEl.style.display =\n",
              "        google.colab.kernel.accessAllowed ? 'block' : 'none';\n",
              "\n",
              "      async function convertToInteractive(key) {\n",
              "        const element = document.querySelector('#df-f092108e-e985-4cca-bbc5-2f6ba73be646');\n",
              "        const dataTable =\n",
              "          await google.colab.kernel.invokeFunction('convertToInteractive',\n",
              "                                                    [key], {});\n",
              "        if (!dataTable) return;\n",
              "\n",
              "        const docLinkHtml = 'Like what you see? Visit the ' +\n",
              "          '<a target=\"_blank\" href=https://colab.research.google.com/notebooks/data_table.ipynb>data table notebook</a>'\n",
              "          + ' to learn more about interactive tables.';\n",
              "        element.innerHTML = '';\n",
              "        dataTable['output_type'] = 'display_data';\n",
              "        await google.colab.output.renderOutput(dataTable, element);\n",
              "        const docLink = document.createElement('div');\n",
              "        docLink.innerHTML = docLinkHtml;\n",
              "        element.appendChild(docLink);\n",
              "      }\n",
              "    </script>\n",
              "  </div>\n",
              "\n",
              "\n",
              "    <div id=\"df-b12bde00-ffc7-4ffa-bdd7-81c522efda3a\">\n",
              "      <button class=\"colab-df-quickchart\" onclick=\"quickchart('df-b12bde00-ffc7-4ffa-bdd7-81c522efda3a')\"\n",
              "                title=\"Suggest charts\"\n",
              "                style=\"display:none;\">\n",
              "\n",
              "<svg xmlns=\"http://www.w3.org/2000/svg\" height=\"24px\"viewBox=\"0 0 24 24\"\n",
              "     width=\"24px\">\n",
              "    <g>\n",
              "        <path d=\"M19 3H5c-1.1 0-2 .9-2 2v14c0 1.1.9 2 2 2h14c1.1 0 2-.9 2-2V5c0-1.1-.9-2-2-2zM9 17H7v-7h2v7zm4 0h-2V7h2v10zm4 0h-2v-4h2v4z\"/>\n",
              "    </g>\n",
              "</svg>\n",
              "      </button>\n",
              "\n",
              "<style>\n",
              "  .colab-df-quickchart {\n",
              "      --bg-color: #E8F0FE;\n",
              "      --fill-color: #1967D2;\n",
              "      --hover-bg-color: #E2EBFA;\n",
              "      --hover-fill-color: #174EA6;\n",
              "      --disabled-fill-color: #AAA;\n",
              "      --disabled-bg-color: #DDD;\n",
              "  }\n",
              "\n",
              "  [theme=dark] .colab-df-quickchart {\n",
              "      --bg-color: #3B4455;\n",
              "      --fill-color: #D2E3FC;\n",
              "      --hover-bg-color: #434B5C;\n",
              "      --hover-fill-color: #FFFFFF;\n",
              "      --disabled-bg-color: #3B4455;\n",
              "      --disabled-fill-color: #666;\n",
              "  }\n",
              "\n",
              "  .colab-df-quickchart {\n",
              "    background-color: var(--bg-color);\n",
              "    border: none;\n",
              "    border-radius: 50%;\n",
              "    cursor: pointer;\n",
              "    display: none;\n",
              "    fill: var(--fill-color);\n",
              "    height: 32px;\n",
              "    padding: 0;\n",
              "    width: 32px;\n",
              "  }\n",
              "\n",
              "  .colab-df-quickchart:hover {\n",
              "    background-color: var(--hover-bg-color);\n",
              "    box-shadow: 0 1px 2px rgba(60, 64, 67, 0.3), 0 1px 3px 1px rgba(60, 64, 67, 0.15);\n",
              "    fill: var(--button-hover-fill-color);\n",
              "  }\n",
              "\n",
              "  .colab-df-quickchart-complete:disabled,\n",
              "  .colab-df-quickchart-complete:disabled:hover {\n",
              "    background-color: var(--disabled-bg-color);\n",
              "    fill: var(--disabled-fill-color);\n",
              "    box-shadow: none;\n",
              "  }\n",
              "\n",
              "  .colab-df-spinner {\n",
              "    border: 2px solid var(--fill-color);\n",
              "    border-color: transparent;\n",
              "    border-bottom-color: var(--fill-color);\n",
              "    animation:\n",
              "      spin 1s steps(1) infinite;\n",
              "  }\n",
              "\n",
              "  @keyframes spin {\n",
              "    0% {\n",
              "      border-color: transparent;\n",
              "      border-bottom-color: var(--fill-color);\n",
              "      border-left-color: var(--fill-color);\n",
              "    }\n",
              "    20% {\n",
              "      border-color: transparent;\n",
              "      border-left-color: var(--fill-color);\n",
              "      border-top-color: var(--fill-color);\n",
              "    }\n",
              "    30% {\n",
              "      border-color: transparent;\n",
              "      border-left-color: var(--fill-color);\n",
              "      border-top-color: var(--fill-color);\n",
              "      border-right-color: var(--fill-color);\n",
              "    }\n",
              "    40% {\n",
              "      border-color: transparent;\n",
              "      border-right-color: var(--fill-color);\n",
              "      border-top-color: var(--fill-color);\n",
              "    }\n",
              "    60% {\n",
              "      border-color: transparent;\n",
              "      border-right-color: var(--fill-color);\n",
              "    }\n",
              "    80% {\n",
              "      border-color: transparent;\n",
              "      border-right-color: var(--fill-color);\n",
              "      border-bottom-color: var(--fill-color);\n",
              "    }\n",
              "    90% {\n",
              "      border-color: transparent;\n",
              "      border-bottom-color: var(--fill-color);\n",
              "    }\n",
              "  }\n",
              "</style>\n",
              "\n",
              "      <script>\n",
              "        async function quickchart(key) {\n",
              "          const quickchartButtonEl =\n",
              "            document.querySelector('#' + key + ' button');\n",
              "          quickchartButtonEl.disabled = true;  // To prevent multiple clicks.\n",
              "          quickchartButtonEl.classList.add('colab-df-spinner');\n",
              "          try {\n",
              "            const charts = await google.colab.kernel.invokeFunction(\n",
              "                'suggestCharts', [key], {});\n",
              "          } catch (error) {\n",
              "            console.error('Error during call to suggestCharts:', error);\n",
              "          }\n",
              "          quickchartButtonEl.classList.remove('colab-df-spinner');\n",
              "          quickchartButtonEl.classList.add('colab-df-quickchart-complete');\n",
              "        }\n",
              "        (() => {\n",
              "          let quickchartButtonEl =\n",
              "            document.querySelector('#df-b12bde00-ffc7-4ffa-bdd7-81c522efda3a button');\n",
              "          quickchartButtonEl.style.display =\n",
              "            google.colab.kernel.accessAllowed ? 'block' : 'none';\n",
              "        })();\n",
              "      </script>\n",
              "    </div>\n",
              "\n",
              "    </div>\n",
              "  </div>\n"
            ],
            "application/vnd.google.colaboratory.intrinsic+json": {
              "type": "dataframe",
              "variable_name": "base_credit",
              "summary": "{\n  \"name\": \"base_credit\",\n  \"rows\": 2000,\n  \"fields\": [\n    {\n      \"column\": \"clientid\",\n      \"properties\": {\n        \"dtype\": \"number\",\n        \"std\": 577,\n        \"min\": 1,\n        \"max\": 2000,\n        \"num_unique_values\": 2000,\n        \"samples\": [\n          1861,\n          354,\n          1334\n        ],\n        \"semantic_type\": \"\",\n        \"description\": \"\"\n      }\n    },\n    {\n      \"column\": \"income\",\n      \"properties\": {\n        \"dtype\": \"number\",\n        \"std\": 14326.32711885004,\n        \"min\": 20014.4894700497,\n        \"max\": 69995.6855783239,\n        \"num_unique_values\": 2000,\n        \"samples\": [\n          40240.7275559381,\n          46706.4588610083,\n          51211.6540386342\n        ],\n        \"semantic_type\": \"\",\n        \"description\": \"\"\n      }\n    },\n    {\n      \"column\": \"age\",\n      \"properties\": {\n        \"dtype\": \"number\",\n        \"std\": 13.261824836740447,\n        \"min\": 18.055188510566897,\n        \"max\": 63.971795841120205,\n        \"num_unique_values\": 1995,\n        \"samples\": [\n          63.4878736236133,\n          55.5069526312873,\n          43.9410412409343\n        ],\n        \"semantic_type\": \"\",\n        \"description\": \"\"\n      }\n    },\n    {\n      \"column\": \"loan\",\n      \"properties\": {\n        \"dtype\": \"number\",\n        \"std\": 3045.4100243915154,\n        \"min\": 1.37762959325451,\n        \"max\": 13766.0512393337,\n        \"num_unique_values\": 2000,\n        \"samples\": [\n          7498.630446855849,\n          7084.263509070559,\n          4093.360006036261\n        ],\n        \"semantic_type\": \"\",\n        \"description\": \"\"\n      }\n    },\n    {\n      \"column\": \"default\",\n      \"properties\": {\n        \"dtype\": \"number\",\n        \"std\": 0,\n        \"min\": 0,\n        \"max\": 1,\n        \"num_unique_values\": 2,\n        \"samples\": [\n          1,\n          0\n        ],\n        \"semantic_type\": \"\",\n        \"description\": \"\"\n      }\n    }\n  ]\n}"
            }
          },
          "metadata": {},
          "execution_count": 30
        }
      ]
    },
    {
      "cell_type": "markdown",
      "metadata": {
        "id": "JpDM1Er1obkO"
      },
      "source": [
        "### Tratamento de valores faltantes"
      ]
    },
    {
      "cell_type": "code",
      "source": [
        "base_credit.isnull()"
      ],
      "metadata": {
        "colab": {
          "base_uri": "https://localhost:8080/",
          "height": 424
        },
        "id": "zF7RyFGHBTCI",
        "outputId": "6185fe7c-d593-40d0-ef84-78bfedff5e23"
      },
      "execution_count": 31,
      "outputs": [
        {
          "output_type": "execute_result",
          "data": {
            "text/plain": [
              "      clientid  income    age   loan  default\n",
              "0        False   False  False  False    False\n",
              "1        False   False  False  False    False\n",
              "2        False   False  False  False    False\n",
              "3        False   False  False  False    False\n",
              "4        False   False  False  False    False\n",
              "...        ...     ...    ...    ...      ...\n",
              "1995     False   False  False  False    False\n",
              "1996     False   False  False  False    False\n",
              "1997     False   False  False  False    False\n",
              "1998     False   False  False  False    False\n",
              "1999     False   False  False  False    False\n",
              "\n",
              "[2000 rows x 5 columns]"
            ],
            "text/html": [
              "\n",
              "  <div id=\"df-e249ed00-59f8-4463-8dfd-3b3f3d3d463f\" class=\"colab-df-container\">\n",
              "    <div>\n",
              "<style scoped>\n",
              "    .dataframe tbody tr th:only-of-type {\n",
              "        vertical-align: middle;\n",
              "    }\n",
              "\n",
              "    .dataframe tbody tr th {\n",
              "        vertical-align: top;\n",
              "    }\n",
              "\n",
              "    .dataframe thead th {\n",
              "        text-align: right;\n",
              "    }\n",
              "</style>\n",
              "<table border=\"1\" class=\"dataframe\">\n",
              "  <thead>\n",
              "    <tr style=\"text-align: right;\">\n",
              "      <th></th>\n",
              "      <th>clientid</th>\n",
              "      <th>income</th>\n",
              "      <th>age</th>\n",
              "      <th>loan</th>\n",
              "      <th>default</th>\n",
              "    </tr>\n",
              "  </thead>\n",
              "  <tbody>\n",
              "    <tr>\n",
              "      <th>0</th>\n",
              "      <td>False</td>\n",
              "      <td>False</td>\n",
              "      <td>False</td>\n",
              "      <td>False</td>\n",
              "      <td>False</td>\n",
              "    </tr>\n",
              "    <tr>\n",
              "      <th>1</th>\n",
              "      <td>False</td>\n",
              "      <td>False</td>\n",
              "      <td>False</td>\n",
              "      <td>False</td>\n",
              "      <td>False</td>\n",
              "    </tr>\n",
              "    <tr>\n",
              "      <th>2</th>\n",
              "      <td>False</td>\n",
              "      <td>False</td>\n",
              "      <td>False</td>\n",
              "      <td>False</td>\n",
              "      <td>False</td>\n",
              "    </tr>\n",
              "    <tr>\n",
              "      <th>3</th>\n",
              "      <td>False</td>\n",
              "      <td>False</td>\n",
              "      <td>False</td>\n",
              "      <td>False</td>\n",
              "      <td>False</td>\n",
              "    </tr>\n",
              "    <tr>\n",
              "      <th>4</th>\n",
              "      <td>False</td>\n",
              "      <td>False</td>\n",
              "      <td>False</td>\n",
              "      <td>False</td>\n",
              "      <td>False</td>\n",
              "    </tr>\n",
              "    <tr>\n",
              "      <th>...</th>\n",
              "      <td>...</td>\n",
              "      <td>...</td>\n",
              "      <td>...</td>\n",
              "      <td>...</td>\n",
              "      <td>...</td>\n",
              "    </tr>\n",
              "    <tr>\n",
              "      <th>1995</th>\n",
              "      <td>False</td>\n",
              "      <td>False</td>\n",
              "      <td>False</td>\n",
              "      <td>False</td>\n",
              "      <td>False</td>\n",
              "    </tr>\n",
              "    <tr>\n",
              "      <th>1996</th>\n",
              "      <td>False</td>\n",
              "      <td>False</td>\n",
              "      <td>False</td>\n",
              "      <td>False</td>\n",
              "      <td>False</td>\n",
              "    </tr>\n",
              "    <tr>\n",
              "      <th>1997</th>\n",
              "      <td>False</td>\n",
              "      <td>False</td>\n",
              "      <td>False</td>\n",
              "      <td>False</td>\n",
              "      <td>False</td>\n",
              "    </tr>\n",
              "    <tr>\n",
              "      <th>1998</th>\n",
              "      <td>False</td>\n",
              "      <td>False</td>\n",
              "      <td>False</td>\n",
              "      <td>False</td>\n",
              "      <td>False</td>\n",
              "    </tr>\n",
              "    <tr>\n",
              "      <th>1999</th>\n",
              "      <td>False</td>\n",
              "      <td>False</td>\n",
              "      <td>False</td>\n",
              "      <td>False</td>\n",
              "      <td>False</td>\n",
              "    </tr>\n",
              "  </tbody>\n",
              "</table>\n",
              "<p>2000 rows × 5 columns</p>\n",
              "</div>\n",
              "    <div class=\"colab-df-buttons\">\n",
              "\n",
              "  <div class=\"colab-df-container\">\n",
              "    <button class=\"colab-df-convert\" onclick=\"convertToInteractive('df-e249ed00-59f8-4463-8dfd-3b3f3d3d463f')\"\n",
              "            title=\"Convert this dataframe to an interactive table.\"\n",
              "            style=\"display:none;\">\n",
              "\n",
              "  <svg xmlns=\"http://www.w3.org/2000/svg\" height=\"24px\" viewBox=\"0 -960 960 960\">\n",
              "    <path d=\"M120-120v-720h720v720H120Zm60-500h600v-160H180v160Zm220 220h160v-160H400v160Zm0 220h160v-160H400v160ZM180-400h160v-160H180v160Zm440 0h160v-160H620v160ZM180-180h160v-160H180v160Zm440 0h160v-160H620v160Z\"/>\n",
              "  </svg>\n",
              "    </button>\n",
              "\n",
              "  <style>\n",
              "    .colab-df-container {\n",
              "      display:flex;\n",
              "      gap: 12px;\n",
              "    }\n",
              "\n",
              "    .colab-df-convert {\n",
              "      background-color: #E8F0FE;\n",
              "      border: none;\n",
              "      border-radius: 50%;\n",
              "      cursor: pointer;\n",
              "      display: none;\n",
              "      fill: #1967D2;\n",
              "      height: 32px;\n",
              "      padding: 0 0 0 0;\n",
              "      width: 32px;\n",
              "    }\n",
              "\n",
              "    .colab-df-convert:hover {\n",
              "      background-color: #E2EBFA;\n",
              "      box-shadow: 0px 1px 2px rgba(60, 64, 67, 0.3), 0px 1px 3px 1px rgba(60, 64, 67, 0.15);\n",
              "      fill: #174EA6;\n",
              "    }\n",
              "\n",
              "    .colab-df-buttons div {\n",
              "      margin-bottom: 4px;\n",
              "    }\n",
              "\n",
              "    [theme=dark] .colab-df-convert {\n",
              "      background-color: #3B4455;\n",
              "      fill: #D2E3FC;\n",
              "    }\n",
              "\n",
              "    [theme=dark] .colab-df-convert:hover {\n",
              "      background-color: #434B5C;\n",
              "      box-shadow: 0px 1px 3px 1px rgba(0, 0, 0, 0.15);\n",
              "      filter: drop-shadow(0px 1px 2px rgba(0, 0, 0, 0.3));\n",
              "      fill: #FFFFFF;\n",
              "    }\n",
              "  </style>\n",
              "\n",
              "    <script>\n",
              "      const buttonEl =\n",
              "        document.querySelector('#df-e249ed00-59f8-4463-8dfd-3b3f3d3d463f button.colab-df-convert');\n",
              "      buttonEl.style.display =\n",
              "        google.colab.kernel.accessAllowed ? 'block' : 'none';\n",
              "\n",
              "      async function convertToInteractive(key) {\n",
              "        const element = document.querySelector('#df-e249ed00-59f8-4463-8dfd-3b3f3d3d463f');\n",
              "        const dataTable =\n",
              "          await google.colab.kernel.invokeFunction('convertToInteractive',\n",
              "                                                    [key], {});\n",
              "        if (!dataTable) return;\n",
              "\n",
              "        const docLinkHtml = 'Like what you see? Visit the ' +\n",
              "          '<a target=\"_blank\" href=https://colab.research.google.com/notebooks/data_table.ipynb>data table notebook</a>'\n",
              "          + ' to learn more about interactive tables.';\n",
              "        element.innerHTML = '';\n",
              "        dataTable['output_type'] = 'display_data';\n",
              "        await google.colab.output.renderOutput(dataTable, element);\n",
              "        const docLink = document.createElement('div');\n",
              "        docLink.innerHTML = docLinkHtml;\n",
              "        element.appendChild(docLink);\n",
              "      }\n",
              "    </script>\n",
              "  </div>\n",
              "\n",
              "\n",
              "    <div id=\"df-a9e0a636-0b79-47ba-8046-7850e9e39592\">\n",
              "      <button class=\"colab-df-quickchart\" onclick=\"quickchart('df-a9e0a636-0b79-47ba-8046-7850e9e39592')\"\n",
              "                title=\"Suggest charts\"\n",
              "                style=\"display:none;\">\n",
              "\n",
              "<svg xmlns=\"http://www.w3.org/2000/svg\" height=\"24px\"viewBox=\"0 0 24 24\"\n",
              "     width=\"24px\">\n",
              "    <g>\n",
              "        <path d=\"M19 3H5c-1.1 0-2 .9-2 2v14c0 1.1.9 2 2 2h14c1.1 0 2-.9 2-2V5c0-1.1-.9-2-2-2zM9 17H7v-7h2v7zm4 0h-2V7h2v10zm4 0h-2v-4h2v4z\"/>\n",
              "    </g>\n",
              "</svg>\n",
              "      </button>\n",
              "\n",
              "<style>\n",
              "  .colab-df-quickchart {\n",
              "      --bg-color: #E8F0FE;\n",
              "      --fill-color: #1967D2;\n",
              "      --hover-bg-color: #E2EBFA;\n",
              "      --hover-fill-color: #174EA6;\n",
              "      --disabled-fill-color: #AAA;\n",
              "      --disabled-bg-color: #DDD;\n",
              "  }\n",
              "\n",
              "  [theme=dark] .colab-df-quickchart {\n",
              "      --bg-color: #3B4455;\n",
              "      --fill-color: #D2E3FC;\n",
              "      --hover-bg-color: #434B5C;\n",
              "      --hover-fill-color: #FFFFFF;\n",
              "      --disabled-bg-color: #3B4455;\n",
              "      --disabled-fill-color: #666;\n",
              "  }\n",
              "\n",
              "  .colab-df-quickchart {\n",
              "    background-color: var(--bg-color);\n",
              "    border: none;\n",
              "    border-radius: 50%;\n",
              "    cursor: pointer;\n",
              "    display: none;\n",
              "    fill: var(--fill-color);\n",
              "    height: 32px;\n",
              "    padding: 0;\n",
              "    width: 32px;\n",
              "  }\n",
              "\n",
              "  .colab-df-quickchart:hover {\n",
              "    background-color: var(--hover-bg-color);\n",
              "    box-shadow: 0 1px 2px rgba(60, 64, 67, 0.3), 0 1px 3px 1px rgba(60, 64, 67, 0.15);\n",
              "    fill: var(--button-hover-fill-color);\n",
              "  }\n",
              "\n",
              "  .colab-df-quickchart-complete:disabled,\n",
              "  .colab-df-quickchart-complete:disabled:hover {\n",
              "    background-color: var(--disabled-bg-color);\n",
              "    fill: var(--disabled-fill-color);\n",
              "    box-shadow: none;\n",
              "  }\n",
              "\n",
              "  .colab-df-spinner {\n",
              "    border: 2px solid var(--fill-color);\n",
              "    border-color: transparent;\n",
              "    border-bottom-color: var(--fill-color);\n",
              "    animation:\n",
              "      spin 1s steps(1) infinite;\n",
              "  }\n",
              "\n",
              "  @keyframes spin {\n",
              "    0% {\n",
              "      border-color: transparent;\n",
              "      border-bottom-color: var(--fill-color);\n",
              "      border-left-color: var(--fill-color);\n",
              "    }\n",
              "    20% {\n",
              "      border-color: transparent;\n",
              "      border-left-color: var(--fill-color);\n",
              "      border-top-color: var(--fill-color);\n",
              "    }\n",
              "    30% {\n",
              "      border-color: transparent;\n",
              "      border-left-color: var(--fill-color);\n",
              "      border-top-color: var(--fill-color);\n",
              "      border-right-color: var(--fill-color);\n",
              "    }\n",
              "    40% {\n",
              "      border-color: transparent;\n",
              "      border-right-color: var(--fill-color);\n",
              "      border-top-color: var(--fill-color);\n",
              "    }\n",
              "    60% {\n",
              "      border-color: transparent;\n",
              "      border-right-color: var(--fill-color);\n",
              "    }\n",
              "    80% {\n",
              "      border-color: transparent;\n",
              "      border-right-color: var(--fill-color);\n",
              "      border-bottom-color: var(--fill-color);\n",
              "    }\n",
              "    90% {\n",
              "      border-color: transparent;\n",
              "      border-bottom-color: var(--fill-color);\n",
              "    }\n",
              "  }\n",
              "</style>\n",
              "\n",
              "      <script>\n",
              "        async function quickchart(key) {\n",
              "          const quickchartButtonEl =\n",
              "            document.querySelector('#' + key + ' button');\n",
              "          quickchartButtonEl.disabled = true;  // To prevent multiple clicks.\n",
              "          quickchartButtonEl.classList.add('colab-df-spinner');\n",
              "          try {\n",
              "            const charts = await google.colab.kernel.invokeFunction(\n",
              "                'suggestCharts', [key], {});\n",
              "          } catch (error) {\n",
              "            console.error('Error during call to suggestCharts:', error);\n",
              "          }\n",
              "          quickchartButtonEl.classList.remove('colab-df-spinner');\n",
              "          quickchartButtonEl.classList.add('colab-df-quickchart-complete');\n",
              "        }\n",
              "        (() => {\n",
              "          let quickchartButtonEl =\n",
              "            document.querySelector('#df-a9e0a636-0b79-47ba-8046-7850e9e39592 button');\n",
              "          quickchartButtonEl.style.display =\n",
              "            google.colab.kernel.accessAllowed ? 'block' : 'none';\n",
              "        })();\n",
              "      </script>\n",
              "    </div>\n",
              "\n",
              "    </div>\n",
              "  </div>\n"
            ],
            "application/vnd.google.colaboratory.intrinsic+json": {
              "type": "dataframe",
              "summary": "{\n  \"name\": \"base_credit\",\n  \"rows\": 2000,\n  \"fields\": [\n    {\n      \"column\": \"clientid\",\n      \"properties\": {\n        \"dtype\": \"boolean\",\n        \"num_unique_values\": 1,\n        \"samples\": [\n          false\n        ],\n        \"semantic_type\": \"\",\n        \"description\": \"\"\n      }\n    },\n    {\n      \"column\": \"income\",\n      \"properties\": {\n        \"dtype\": \"boolean\",\n        \"num_unique_values\": 1,\n        \"samples\": [\n          false\n        ],\n        \"semantic_type\": \"\",\n        \"description\": \"\"\n      }\n    },\n    {\n      \"column\": \"age\",\n      \"properties\": {\n        \"dtype\": \"boolean\",\n        \"num_unique_values\": 2,\n        \"samples\": [\n          true\n        ],\n        \"semantic_type\": \"\",\n        \"description\": \"\"\n      }\n    },\n    {\n      \"column\": \"loan\",\n      \"properties\": {\n        \"dtype\": \"boolean\",\n        \"num_unique_values\": 1,\n        \"samples\": [\n          false\n        ],\n        \"semantic_type\": \"\",\n        \"description\": \"\"\n      }\n    },\n    {\n      \"column\": \"default\",\n      \"properties\": {\n        \"dtype\": \"boolean\",\n        \"num_unique_values\": 1,\n        \"samples\": [\n          false\n        ],\n        \"semantic_type\": \"\",\n        \"description\": \"\"\n      }\n    }\n  ]\n}"
            }
          },
          "metadata": {},
          "execution_count": 31
        }
      ]
    },
    {
      "cell_type": "code",
      "source": [
        "base_credit.isnull().sum()"
      ],
      "metadata": {
        "id": "SMzYfFqkCMpv",
        "outputId": "3525285b-4e02-4d34-dfe4-5b62dcf992bd",
        "colab": {
          "base_uri": "https://localhost:8080/",
          "height": 241
        }
      },
      "execution_count": 32,
      "outputs": [
        {
          "output_type": "execute_result",
          "data": {
            "text/plain": [
              "clientid    0\n",
              "income      0\n",
              "age         3\n",
              "loan        0\n",
              "default     0\n",
              "dtype: int64"
            ],
            "text/html": [
              "<div>\n",
              "<style scoped>\n",
              "    .dataframe tbody tr th:only-of-type {\n",
              "        vertical-align: middle;\n",
              "    }\n",
              "\n",
              "    .dataframe tbody tr th {\n",
              "        vertical-align: top;\n",
              "    }\n",
              "\n",
              "    .dataframe thead th {\n",
              "        text-align: right;\n",
              "    }\n",
              "</style>\n",
              "<table border=\"1\" class=\"dataframe\">\n",
              "  <thead>\n",
              "    <tr style=\"text-align: right;\">\n",
              "      <th></th>\n",
              "      <th>0</th>\n",
              "    </tr>\n",
              "  </thead>\n",
              "  <tbody>\n",
              "    <tr>\n",
              "      <th>clientid</th>\n",
              "      <td>0</td>\n",
              "    </tr>\n",
              "    <tr>\n",
              "      <th>income</th>\n",
              "      <td>0</td>\n",
              "    </tr>\n",
              "    <tr>\n",
              "      <th>age</th>\n",
              "      <td>3</td>\n",
              "    </tr>\n",
              "    <tr>\n",
              "      <th>loan</th>\n",
              "      <td>0</td>\n",
              "    </tr>\n",
              "    <tr>\n",
              "      <th>default</th>\n",
              "      <td>0</td>\n",
              "    </tr>\n",
              "  </tbody>\n",
              "</table>\n",
              "</div><br><label><b>dtype:</b> int64</label>"
            ]
          },
          "metadata": {},
          "execution_count": 32
        }
      ]
    },
    {
      "cell_type": "code",
      "source": [
        "base_credit.loc[pd.isnull(base_credit['age'])]"
      ],
      "metadata": {
        "colab": {
          "base_uri": "https://localhost:8080/",
          "height": 143
        },
        "id": "UiiY_IOfBXRd",
        "outputId": "7e42c8b3-4b1f-4ede-ec6f-d7e8d00c8c56"
      },
      "execution_count": 33,
      "outputs": [
        {
          "output_type": "execute_result",
          "data": {
            "text/plain": [
              "    clientid        income  age         loan  default\n",
              "28        29  59417.805406  NaN  2082.625938        0\n",
              "30        31  48528.852796  NaN  6155.784670        0\n",
              "31        32  23526.302555  NaN  2862.010139        0"
            ],
            "text/html": [
              "\n",
              "  <div id=\"df-584547be-2642-4d6a-aa2b-c473b32c59d1\" class=\"colab-df-container\">\n",
              "    <div>\n",
              "<style scoped>\n",
              "    .dataframe tbody tr th:only-of-type {\n",
              "        vertical-align: middle;\n",
              "    }\n",
              "\n",
              "    .dataframe tbody tr th {\n",
              "        vertical-align: top;\n",
              "    }\n",
              "\n",
              "    .dataframe thead th {\n",
              "        text-align: right;\n",
              "    }\n",
              "</style>\n",
              "<table border=\"1\" class=\"dataframe\">\n",
              "  <thead>\n",
              "    <tr style=\"text-align: right;\">\n",
              "      <th></th>\n",
              "      <th>clientid</th>\n",
              "      <th>income</th>\n",
              "      <th>age</th>\n",
              "      <th>loan</th>\n",
              "      <th>default</th>\n",
              "    </tr>\n",
              "  </thead>\n",
              "  <tbody>\n",
              "    <tr>\n",
              "      <th>28</th>\n",
              "      <td>29</td>\n",
              "      <td>59417.805406</td>\n",
              "      <td>NaN</td>\n",
              "      <td>2082.625938</td>\n",
              "      <td>0</td>\n",
              "    </tr>\n",
              "    <tr>\n",
              "      <th>30</th>\n",
              "      <td>31</td>\n",
              "      <td>48528.852796</td>\n",
              "      <td>NaN</td>\n",
              "      <td>6155.784670</td>\n",
              "      <td>0</td>\n",
              "    </tr>\n",
              "    <tr>\n",
              "      <th>31</th>\n",
              "      <td>32</td>\n",
              "      <td>23526.302555</td>\n",
              "      <td>NaN</td>\n",
              "      <td>2862.010139</td>\n",
              "      <td>0</td>\n",
              "    </tr>\n",
              "  </tbody>\n",
              "</table>\n",
              "</div>\n",
              "    <div class=\"colab-df-buttons\">\n",
              "\n",
              "  <div class=\"colab-df-container\">\n",
              "    <button class=\"colab-df-convert\" onclick=\"convertToInteractive('df-584547be-2642-4d6a-aa2b-c473b32c59d1')\"\n",
              "            title=\"Convert this dataframe to an interactive table.\"\n",
              "            style=\"display:none;\">\n",
              "\n",
              "  <svg xmlns=\"http://www.w3.org/2000/svg\" height=\"24px\" viewBox=\"0 -960 960 960\">\n",
              "    <path d=\"M120-120v-720h720v720H120Zm60-500h600v-160H180v160Zm220 220h160v-160H400v160Zm0 220h160v-160H400v160ZM180-400h160v-160H180v160Zm440 0h160v-160H620v160ZM180-180h160v-160H180v160Zm440 0h160v-160H620v160Z\"/>\n",
              "  </svg>\n",
              "    </button>\n",
              "\n",
              "  <style>\n",
              "    .colab-df-container {\n",
              "      display:flex;\n",
              "      gap: 12px;\n",
              "    }\n",
              "\n",
              "    .colab-df-convert {\n",
              "      background-color: #E8F0FE;\n",
              "      border: none;\n",
              "      border-radius: 50%;\n",
              "      cursor: pointer;\n",
              "      display: none;\n",
              "      fill: #1967D2;\n",
              "      height: 32px;\n",
              "      padding: 0 0 0 0;\n",
              "      width: 32px;\n",
              "    }\n",
              "\n",
              "    .colab-df-convert:hover {\n",
              "      background-color: #E2EBFA;\n",
              "      box-shadow: 0px 1px 2px rgba(60, 64, 67, 0.3), 0px 1px 3px 1px rgba(60, 64, 67, 0.15);\n",
              "      fill: #174EA6;\n",
              "    }\n",
              "\n",
              "    .colab-df-buttons div {\n",
              "      margin-bottom: 4px;\n",
              "    }\n",
              "\n",
              "    [theme=dark] .colab-df-convert {\n",
              "      background-color: #3B4455;\n",
              "      fill: #D2E3FC;\n",
              "    }\n",
              "\n",
              "    [theme=dark] .colab-df-convert:hover {\n",
              "      background-color: #434B5C;\n",
              "      box-shadow: 0px 1px 3px 1px rgba(0, 0, 0, 0.15);\n",
              "      filter: drop-shadow(0px 1px 2px rgba(0, 0, 0, 0.3));\n",
              "      fill: #FFFFFF;\n",
              "    }\n",
              "  </style>\n",
              "\n",
              "    <script>\n",
              "      const buttonEl =\n",
              "        document.querySelector('#df-584547be-2642-4d6a-aa2b-c473b32c59d1 button.colab-df-convert');\n",
              "      buttonEl.style.display =\n",
              "        google.colab.kernel.accessAllowed ? 'block' : 'none';\n",
              "\n",
              "      async function convertToInteractive(key) {\n",
              "        const element = document.querySelector('#df-584547be-2642-4d6a-aa2b-c473b32c59d1');\n",
              "        const dataTable =\n",
              "          await google.colab.kernel.invokeFunction('convertToInteractive',\n",
              "                                                    [key], {});\n",
              "        if (!dataTable) return;\n",
              "\n",
              "        const docLinkHtml = 'Like what you see? Visit the ' +\n",
              "          '<a target=\"_blank\" href=https://colab.research.google.com/notebooks/data_table.ipynb>data table notebook</a>'\n",
              "          + ' to learn more about interactive tables.';\n",
              "        element.innerHTML = '';\n",
              "        dataTable['output_type'] = 'display_data';\n",
              "        await google.colab.output.renderOutput(dataTable, element);\n",
              "        const docLink = document.createElement('div');\n",
              "        docLink.innerHTML = docLinkHtml;\n",
              "        element.appendChild(docLink);\n",
              "      }\n",
              "    </script>\n",
              "  </div>\n",
              "\n",
              "\n",
              "    <div id=\"df-f006387e-3ea5-4861-a46a-f61d369ecde5\">\n",
              "      <button class=\"colab-df-quickchart\" onclick=\"quickchart('df-f006387e-3ea5-4861-a46a-f61d369ecde5')\"\n",
              "                title=\"Suggest charts\"\n",
              "                style=\"display:none;\">\n",
              "\n",
              "<svg xmlns=\"http://www.w3.org/2000/svg\" height=\"24px\"viewBox=\"0 0 24 24\"\n",
              "     width=\"24px\">\n",
              "    <g>\n",
              "        <path d=\"M19 3H5c-1.1 0-2 .9-2 2v14c0 1.1.9 2 2 2h14c1.1 0 2-.9 2-2V5c0-1.1-.9-2-2-2zM9 17H7v-7h2v7zm4 0h-2V7h2v10zm4 0h-2v-4h2v4z\"/>\n",
              "    </g>\n",
              "</svg>\n",
              "      </button>\n",
              "\n",
              "<style>\n",
              "  .colab-df-quickchart {\n",
              "      --bg-color: #E8F0FE;\n",
              "      --fill-color: #1967D2;\n",
              "      --hover-bg-color: #E2EBFA;\n",
              "      --hover-fill-color: #174EA6;\n",
              "      --disabled-fill-color: #AAA;\n",
              "      --disabled-bg-color: #DDD;\n",
              "  }\n",
              "\n",
              "  [theme=dark] .colab-df-quickchart {\n",
              "      --bg-color: #3B4455;\n",
              "      --fill-color: #D2E3FC;\n",
              "      --hover-bg-color: #434B5C;\n",
              "      --hover-fill-color: #FFFFFF;\n",
              "      --disabled-bg-color: #3B4455;\n",
              "      --disabled-fill-color: #666;\n",
              "  }\n",
              "\n",
              "  .colab-df-quickchart {\n",
              "    background-color: var(--bg-color);\n",
              "    border: none;\n",
              "    border-radius: 50%;\n",
              "    cursor: pointer;\n",
              "    display: none;\n",
              "    fill: var(--fill-color);\n",
              "    height: 32px;\n",
              "    padding: 0;\n",
              "    width: 32px;\n",
              "  }\n",
              "\n",
              "  .colab-df-quickchart:hover {\n",
              "    background-color: var(--hover-bg-color);\n",
              "    box-shadow: 0 1px 2px rgba(60, 64, 67, 0.3), 0 1px 3px 1px rgba(60, 64, 67, 0.15);\n",
              "    fill: var(--button-hover-fill-color);\n",
              "  }\n",
              "\n",
              "  .colab-df-quickchart-complete:disabled,\n",
              "  .colab-df-quickchart-complete:disabled:hover {\n",
              "    background-color: var(--disabled-bg-color);\n",
              "    fill: var(--disabled-fill-color);\n",
              "    box-shadow: none;\n",
              "  }\n",
              "\n",
              "  .colab-df-spinner {\n",
              "    border: 2px solid var(--fill-color);\n",
              "    border-color: transparent;\n",
              "    border-bottom-color: var(--fill-color);\n",
              "    animation:\n",
              "      spin 1s steps(1) infinite;\n",
              "  }\n",
              "\n",
              "  @keyframes spin {\n",
              "    0% {\n",
              "      border-color: transparent;\n",
              "      border-bottom-color: var(--fill-color);\n",
              "      border-left-color: var(--fill-color);\n",
              "    }\n",
              "    20% {\n",
              "      border-color: transparent;\n",
              "      border-left-color: var(--fill-color);\n",
              "      border-top-color: var(--fill-color);\n",
              "    }\n",
              "    30% {\n",
              "      border-color: transparent;\n",
              "      border-left-color: var(--fill-color);\n",
              "      border-top-color: var(--fill-color);\n",
              "      border-right-color: var(--fill-color);\n",
              "    }\n",
              "    40% {\n",
              "      border-color: transparent;\n",
              "      border-right-color: var(--fill-color);\n",
              "      border-top-color: var(--fill-color);\n",
              "    }\n",
              "    60% {\n",
              "      border-color: transparent;\n",
              "      border-right-color: var(--fill-color);\n",
              "    }\n",
              "    80% {\n",
              "      border-color: transparent;\n",
              "      border-right-color: var(--fill-color);\n",
              "      border-bottom-color: var(--fill-color);\n",
              "    }\n",
              "    90% {\n",
              "      border-color: transparent;\n",
              "      border-bottom-color: var(--fill-color);\n",
              "    }\n",
              "  }\n",
              "</style>\n",
              "\n",
              "      <script>\n",
              "        async function quickchart(key) {\n",
              "          const quickchartButtonEl =\n",
              "            document.querySelector('#' + key + ' button');\n",
              "          quickchartButtonEl.disabled = true;  // To prevent multiple clicks.\n",
              "          quickchartButtonEl.classList.add('colab-df-spinner');\n",
              "          try {\n",
              "            const charts = await google.colab.kernel.invokeFunction(\n",
              "                'suggestCharts', [key], {});\n",
              "          } catch (error) {\n",
              "            console.error('Error during call to suggestCharts:', error);\n",
              "          }\n",
              "          quickchartButtonEl.classList.remove('colab-df-spinner');\n",
              "          quickchartButtonEl.classList.add('colab-df-quickchart-complete');\n",
              "        }\n",
              "        (() => {\n",
              "          let quickchartButtonEl =\n",
              "            document.querySelector('#df-f006387e-3ea5-4861-a46a-f61d369ecde5 button');\n",
              "          quickchartButtonEl.style.display =\n",
              "            google.colab.kernel.accessAllowed ? 'block' : 'none';\n",
              "        })();\n",
              "      </script>\n",
              "    </div>\n",
              "\n",
              "    </div>\n",
              "  </div>\n"
            ],
            "application/vnd.google.colaboratory.intrinsic+json": {
              "type": "dataframe",
              "summary": "{\n  \"name\": \"base_credit\",\n  \"rows\": 3,\n  \"fields\": [\n    {\n      \"column\": \"clientid\",\n      \"properties\": {\n        \"dtype\": \"number\",\n        \"std\": 1,\n        \"min\": 29,\n        \"max\": 32,\n        \"num_unique_values\": 3,\n        \"samples\": [\n          29,\n          31,\n          32\n        ],\n        \"semantic_type\": \"\",\n        \"description\": \"\"\n      }\n    },\n    {\n      \"column\": \"income\",\n      \"properties\": {\n        \"dtype\": \"number\",\n        \"std\": 18402.430928200996,\n        \"min\": 23526.3025551103,\n        \"max\": 59417.805406265,\n        \"num_unique_values\": 3,\n        \"samples\": [\n          59417.805406265,\n          48528.8527957164,\n          23526.3025551103\n        ],\n        \"semantic_type\": \"\",\n        \"description\": \"\"\n      }\n    },\n    {\n      \"column\": \"age\",\n      \"properties\": {\n        \"dtype\": \"number\",\n        \"std\": null,\n        \"min\": null,\n        \"max\": null,\n        \"num_unique_values\": 0,\n        \"samples\": [],\n        \"semantic_type\": \"\",\n        \"description\": \"\"\n      }\n    },\n    {\n      \"column\": \"loan\",\n      \"properties\": {\n        \"dtype\": \"number\",\n        \"std\": 2162.0596836405384,\n        \"min\": 2082.62593812344,\n        \"max\": 6155.78467025544,\n        \"num_unique_values\": 3,\n        \"samples\": [],\n        \"semantic_type\": \"\",\n        \"description\": \"\"\n      }\n    },\n    {\n      \"column\": \"default\",\n      \"properties\": {\n        \"dtype\": \"number\",\n        \"std\": 0,\n        \"min\": 0,\n        \"max\": 0,\n        \"num_unique_values\": 1,\n        \"samples\": [],\n        \"semantic_type\": \"\",\n        \"description\": \"\"\n      }\n    }\n  ]\n}"
            }
          },
          "metadata": {},
          "execution_count": 33
        }
      ]
    },
    {
      "cell_type": "code",
      "source": [
        "base_credit['age'].fillna(base_credit['age'].mean(), inplace = True)"
      ],
      "metadata": {
        "colab": {
          "base_uri": "https://localhost:8080/"
        },
        "id": "RaB8Hdn4Bm7P",
        "outputId": "c26aa22c-332e-4e6e-b91e-19795fdbc99b"
      },
      "execution_count": 35,
      "outputs": [
        {
          "output_type": "stream",
          "name": "stderr",
          "text": [
            "/tmp/ipython-input-1787667511.py:1: FutureWarning:\n",
            "\n",
            "A value is trying to be set on a copy of a DataFrame or Series through chained assignment using an inplace method.\n",
            "The behavior will change in pandas 3.0. This inplace method will never work because the intermediate object on which we are setting values always behaves as a copy.\n",
            "\n",
            "For example, when doing 'df[col].method(value, inplace=True)', try using 'df.method({col: value}, inplace=True)' or df[col] = df[col].method(value) instead, to perform the operation inplace on the original object.\n",
            "\n",
            "\n",
            "\n"
          ]
        }
      ]
    },
    {
      "cell_type": "code",
      "source": [
        "base_credit.loc[pd.isnull(base_credit['age'])]"
      ],
      "metadata": {
        "colab": {
          "base_uri": "https://localhost:8080/",
          "height": 53
        },
        "id": "9wUsQSkPCDTB",
        "outputId": "cbe07e11-0502-4a6f-dfab-2778bfda76fa"
      },
      "execution_count": 36,
      "outputs": [
        {
          "output_type": "execute_result",
          "data": {
            "text/plain": [
              "Empty DataFrame\n",
              "Columns: [clientid, income, age, loan, default]\n",
              "Index: []"
            ],
            "text/html": [
              "\n",
              "  <div id=\"df-e260afa1-81a6-408d-a1dd-847e3ba8c29c\" class=\"colab-df-container\">\n",
              "    <div>\n",
              "<style scoped>\n",
              "    .dataframe tbody tr th:only-of-type {\n",
              "        vertical-align: middle;\n",
              "    }\n",
              "\n",
              "    .dataframe tbody tr th {\n",
              "        vertical-align: top;\n",
              "    }\n",
              "\n",
              "    .dataframe thead th {\n",
              "        text-align: right;\n",
              "    }\n",
              "</style>\n",
              "<table border=\"1\" class=\"dataframe\">\n",
              "  <thead>\n",
              "    <tr style=\"text-align: right;\">\n",
              "      <th></th>\n",
              "      <th>clientid</th>\n",
              "      <th>income</th>\n",
              "      <th>age</th>\n",
              "      <th>loan</th>\n",
              "      <th>default</th>\n",
              "    </tr>\n",
              "  </thead>\n",
              "  <tbody>\n",
              "  </tbody>\n",
              "</table>\n",
              "</div>\n",
              "    <div class=\"colab-df-buttons\">\n",
              "\n",
              "  <div class=\"colab-df-container\">\n",
              "    <button class=\"colab-df-convert\" onclick=\"convertToInteractive('df-e260afa1-81a6-408d-a1dd-847e3ba8c29c')\"\n",
              "            title=\"Convert this dataframe to an interactive table.\"\n",
              "            style=\"display:none;\">\n",
              "\n",
              "  <svg xmlns=\"http://www.w3.org/2000/svg\" height=\"24px\" viewBox=\"0 -960 960 960\">\n",
              "    <path d=\"M120-120v-720h720v720H120Zm60-500h600v-160H180v160Zm220 220h160v-160H400v160Zm0 220h160v-160H400v160ZM180-400h160v-160H180v160Zm440 0h160v-160H620v160ZM180-180h160v-160H180v160Zm440 0h160v-160H620v160Z\"/>\n",
              "  </svg>\n",
              "    </button>\n",
              "\n",
              "  <style>\n",
              "    .colab-df-container {\n",
              "      display:flex;\n",
              "      gap: 12px;\n",
              "    }\n",
              "\n",
              "    .colab-df-convert {\n",
              "      background-color: #E8F0FE;\n",
              "      border: none;\n",
              "      border-radius: 50%;\n",
              "      cursor: pointer;\n",
              "      display: none;\n",
              "      fill: #1967D2;\n",
              "      height: 32px;\n",
              "      padding: 0 0 0 0;\n",
              "      width: 32px;\n",
              "    }\n",
              "\n",
              "    .colab-df-convert:hover {\n",
              "      background-color: #E2EBFA;\n",
              "      box-shadow: 0px 1px 2px rgba(60, 64, 67, 0.3), 0px 1px 3px 1px rgba(60, 64, 67, 0.15);\n",
              "      fill: #174EA6;\n",
              "    }\n",
              "\n",
              "    .colab-df-buttons div {\n",
              "      margin-bottom: 4px;\n",
              "    }\n",
              "\n",
              "    [theme=dark] .colab-df-convert {\n",
              "      background-color: #3B4455;\n",
              "      fill: #D2E3FC;\n",
              "    }\n",
              "\n",
              "    [theme=dark] .colab-df-convert:hover {\n",
              "      background-color: #434B5C;\n",
              "      box-shadow: 0px 1px 3px 1px rgba(0, 0, 0, 0.15);\n",
              "      filter: drop-shadow(0px 1px 2px rgba(0, 0, 0, 0.3));\n",
              "      fill: #FFFFFF;\n",
              "    }\n",
              "  </style>\n",
              "\n",
              "    <script>\n",
              "      const buttonEl =\n",
              "        document.querySelector('#df-e260afa1-81a6-408d-a1dd-847e3ba8c29c button.colab-df-convert');\n",
              "      buttonEl.style.display =\n",
              "        google.colab.kernel.accessAllowed ? 'block' : 'none';\n",
              "\n",
              "      async function convertToInteractive(key) {\n",
              "        const element = document.querySelector('#df-e260afa1-81a6-408d-a1dd-847e3ba8c29c');\n",
              "        const dataTable =\n",
              "          await google.colab.kernel.invokeFunction('convertToInteractive',\n",
              "                                                    [key], {});\n",
              "        if (!dataTable) return;\n",
              "\n",
              "        const docLinkHtml = 'Like what you see? Visit the ' +\n",
              "          '<a target=\"_blank\" href=https://colab.research.google.com/notebooks/data_table.ipynb>data table notebook</a>'\n",
              "          + ' to learn more about interactive tables.';\n",
              "        element.innerHTML = '';\n",
              "        dataTable['output_type'] = 'display_data';\n",
              "        await google.colab.output.renderOutput(dataTable, element);\n",
              "        const docLink = document.createElement('div');\n",
              "        docLink.innerHTML = docLinkHtml;\n",
              "        element.appendChild(docLink);\n",
              "      }\n",
              "    </script>\n",
              "  </div>\n",
              "\n",
              "\n",
              "    </div>\n",
              "  </div>\n"
            ],
            "application/vnd.google.colaboratory.intrinsic+json": {
              "type": "dataframe",
              "summary": "{\n  \"name\": \"base_credit\",\n  \"rows\": 0,\n  \"fields\": [\n    {\n      \"column\": \"clientid\",\n      \"properties\": {\n        \"dtype\": \"number\",\n        \"std\": null,\n        \"min\": null,\n        \"max\": null,\n        \"num_unique_values\": 0,\n        \"samples\": [],\n        \"semantic_type\": \"\",\n        \"description\": \"\"\n      }\n    },\n    {\n      \"column\": \"income\",\n      \"properties\": {\n        \"dtype\": \"number\",\n        \"std\": null,\n        \"min\": null,\n        \"max\": null,\n        \"num_unique_values\": 0,\n        \"samples\": [],\n        \"semantic_type\": \"\",\n        \"description\": \"\"\n      }\n    },\n    {\n      \"column\": \"age\",\n      \"properties\": {\n        \"dtype\": \"number\",\n        \"std\": null,\n        \"min\": null,\n        \"max\": null,\n        \"num_unique_values\": 0,\n        \"samples\": [],\n        \"semantic_type\": \"\",\n        \"description\": \"\"\n      }\n    },\n    {\n      \"column\": \"loan\",\n      \"properties\": {\n        \"dtype\": \"number\",\n        \"std\": null,\n        \"min\": null,\n        \"max\": null,\n        \"num_unique_values\": 0,\n        \"samples\": [],\n        \"semantic_type\": \"\",\n        \"description\": \"\"\n      }\n    },\n    {\n      \"column\": \"default\",\n      \"properties\": {\n        \"dtype\": \"number\",\n        \"std\": null,\n        \"min\": null,\n        \"max\": null,\n        \"num_unique_values\": 0,\n        \"samples\": [],\n        \"semantic_type\": \"\",\n        \"description\": \"\"\n      }\n    }\n  ]\n}"
            }
          },
          "metadata": {},
          "execution_count": 36
        }
      ]
    },
    {
      "cell_type": "code",
      "source": [
        "base_credit.loc[(base_credit['clientid'] == 29) | (base_credit['clientid'] == 31) | (base_credit['clientid'] == 32)]"
      ],
      "metadata": {
        "colab": {
          "base_uri": "https://localhost:8080/",
          "height": 143
        },
        "id": "pIZ_OMBNC7PV",
        "outputId": "11b53fde-9344-4afb-8feb-241650ee02d9"
      },
      "execution_count": 37,
      "outputs": [
        {
          "output_type": "execute_result",
          "data": {
            "text/plain": [
              "    clientid        income        age         loan  default\n",
              "28        29  59417.805406  40.927689  2082.625938        0\n",
              "30        31  48528.852796  40.927689  6155.784670        0\n",
              "31        32  23526.302555  40.927689  2862.010139        0"
            ],
            "text/html": [
              "\n",
              "  <div id=\"df-f2571e7e-3222-4b16-8db0-3eff34f6535c\" class=\"colab-df-container\">\n",
              "    <div>\n",
              "<style scoped>\n",
              "    .dataframe tbody tr th:only-of-type {\n",
              "        vertical-align: middle;\n",
              "    }\n",
              "\n",
              "    .dataframe tbody tr th {\n",
              "        vertical-align: top;\n",
              "    }\n",
              "\n",
              "    .dataframe thead th {\n",
              "        text-align: right;\n",
              "    }\n",
              "</style>\n",
              "<table border=\"1\" class=\"dataframe\">\n",
              "  <thead>\n",
              "    <tr style=\"text-align: right;\">\n",
              "      <th></th>\n",
              "      <th>clientid</th>\n",
              "      <th>income</th>\n",
              "      <th>age</th>\n",
              "      <th>loan</th>\n",
              "      <th>default</th>\n",
              "    </tr>\n",
              "  </thead>\n",
              "  <tbody>\n",
              "    <tr>\n",
              "      <th>28</th>\n",
              "      <td>29</td>\n",
              "      <td>59417.805406</td>\n",
              "      <td>40.927689</td>\n",
              "      <td>2082.625938</td>\n",
              "      <td>0</td>\n",
              "    </tr>\n",
              "    <tr>\n",
              "      <th>30</th>\n",
              "      <td>31</td>\n",
              "      <td>48528.852796</td>\n",
              "      <td>40.927689</td>\n",
              "      <td>6155.784670</td>\n",
              "      <td>0</td>\n",
              "    </tr>\n",
              "    <tr>\n",
              "      <th>31</th>\n",
              "      <td>32</td>\n",
              "      <td>23526.302555</td>\n",
              "      <td>40.927689</td>\n",
              "      <td>2862.010139</td>\n",
              "      <td>0</td>\n",
              "    </tr>\n",
              "  </tbody>\n",
              "</table>\n",
              "</div>\n",
              "    <div class=\"colab-df-buttons\">\n",
              "\n",
              "  <div class=\"colab-df-container\">\n",
              "    <button class=\"colab-df-convert\" onclick=\"convertToInteractive('df-f2571e7e-3222-4b16-8db0-3eff34f6535c')\"\n",
              "            title=\"Convert this dataframe to an interactive table.\"\n",
              "            style=\"display:none;\">\n",
              "\n",
              "  <svg xmlns=\"http://www.w3.org/2000/svg\" height=\"24px\" viewBox=\"0 -960 960 960\">\n",
              "    <path d=\"M120-120v-720h720v720H120Zm60-500h600v-160H180v160Zm220 220h160v-160H400v160Zm0 220h160v-160H400v160ZM180-400h160v-160H180v160Zm440 0h160v-160H620v160ZM180-180h160v-160H180v160Zm440 0h160v-160H620v160Z\"/>\n",
              "  </svg>\n",
              "    </button>\n",
              "\n",
              "  <style>\n",
              "    .colab-df-container {\n",
              "      display:flex;\n",
              "      gap: 12px;\n",
              "    }\n",
              "\n",
              "    .colab-df-convert {\n",
              "      background-color: #E8F0FE;\n",
              "      border: none;\n",
              "      border-radius: 50%;\n",
              "      cursor: pointer;\n",
              "      display: none;\n",
              "      fill: #1967D2;\n",
              "      height: 32px;\n",
              "      padding: 0 0 0 0;\n",
              "      width: 32px;\n",
              "    }\n",
              "\n",
              "    .colab-df-convert:hover {\n",
              "      background-color: #E2EBFA;\n",
              "      box-shadow: 0px 1px 2px rgba(60, 64, 67, 0.3), 0px 1px 3px 1px rgba(60, 64, 67, 0.15);\n",
              "      fill: #174EA6;\n",
              "    }\n",
              "\n",
              "    .colab-df-buttons div {\n",
              "      margin-bottom: 4px;\n",
              "    }\n",
              "\n",
              "    [theme=dark] .colab-df-convert {\n",
              "      background-color: #3B4455;\n",
              "      fill: #D2E3FC;\n",
              "    }\n",
              "\n",
              "    [theme=dark] .colab-df-convert:hover {\n",
              "      background-color: #434B5C;\n",
              "      box-shadow: 0px 1px 3px 1px rgba(0, 0, 0, 0.15);\n",
              "      filter: drop-shadow(0px 1px 2px rgba(0, 0, 0, 0.3));\n",
              "      fill: #FFFFFF;\n",
              "    }\n",
              "  </style>\n",
              "\n",
              "    <script>\n",
              "      const buttonEl =\n",
              "        document.querySelector('#df-f2571e7e-3222-4b16-8db0-3eff34f6535c button.colab-df-convert');\n",
              "      buttonEl.style.display =\n",
              "        google.colab.kernel.accessAllowed ? 'block' : 'none';\n",
              "\n",
              "      async function convertToInteractive(key) {\n",
              "        const element = document.querySelector('#df-f2571e7e-3222-4b16-8db0-3eff34f6535c');\n",
              "        const dataTable =\n",
              "          await google.colab.kernel.invokeFunction('convertToInteractive',\n",
              "                                                    [key], {});\n",
              "        if (!dataTable) return;\n",
              "\n",
              "        const docLinkHtml = 'Like what you see? Visit the ' +\n",
              "          '<a target=\"_blank\" href=https://colab.research.google.com/notebooks/data_table.ipynb>data table notebook</a>'\n",
              "          + ' to learn more about interactive tables.';\n",
              "        element.innerHTML = '';\n",
              "        dataTable['output_type'] = 'display_data';\n",
              "        await google.colab.output.renderOutput(dataTable, element);\n",
              "        const docLink = document.createElement('div');\n",
              "        docLink.innerHTML = docLinkHtml;\n",
              "        element.appendChild(docLink);\n",
              "      }\n",
              "    </script>\n",
              "  </div>\n",
              "\n",
              "\n",
              "    <div id=\"df-7729fb1d-5bef-408c-aa0c-4d58b8194ed8\">\n",
              "      <button class=\"colab-df-quickchart\" onclick=\"quickchart('df-7729fb1d-5bef-408c-aa0c-4d58b8194ed8')\"\n",
              "                title=\"Suggest charts\"\n",
              "                style=\"display:none;\">\n",
              "\n",
              "<svg xmlns=\"http://www.w3.org/2000/svg\" height=\"24px\"viewBox=\"0 0 24 24\"\n",
              "     width=\"24px\">\n",
              "    <g>\n",
              "        <path d=\"M19 3H5c-1.1 0-2 .9-2 2v14c0 1.1.9 2 2 2h14c1.1 0 2-.9 2-2V5c0-1.1-.9-2-2-2zM9 17H7v-7h2v7zm4 0h-2V7h2v10zm4 0h-2v-4h2v4z\"/>\n",
              "    </g>\n",
              "</svg>\n",
              "      </button>\n",
              "\n",
              "<style>\n",
              "  .colab-df-quickchart {\n",
              "      --bg-color: #E8F0FE;\n",
              "      --fill-color: #1967D2;\n",
              "      --hover-bg-color: #E2EBFA;\n",
              "      --hover-fill-color: #174EA6;\n",
              "      --disabled-fill-color: #AAA;\n",
              "      --disabled-bg-color: #DDD;\n",
              "  }\n",
              "\n",
              "  [theme=dark] .colab-df-quickchart {\n",
              "      --bg-color: #3B4455;\n",
              "      --fill-color: #D2E3FC;\n",
              "      --hover-bg-color: #434B5C;\n",
              "      --hover-fill-color: #FFFFFF;\n",
              "      --disabled-bg-color: #3B4455;\n",
              "      --disabled-fill-color: #666;\n",
              "  }\n",
              "\n",
              "  .colab-df-quickchart {\n",
              "    background-color: var(--bg-color);\n",
              "    border: none;\n",
              "    border-radius: 50%;\n",
              "    cursor: pointer;\n",
              "    display: none;\n",
              "    fill: var(--fill-color);\n",
              "    height: 32px;\n",
              "    padding: 0;\n",
              "    width: 32px;\n",
              "  }\n",
              "\n",
              "  .colab-df-quickchart:hover {\n",
              "    background-color: var(--hover-bg-color);\n",
              "    box-shadow: 0 1px 2px rgba(60, 64, 67, 0.3), 0 1px 3px 1px rgba(60, 64, 67, 0.15);\n",
              "    fill: var(--button-hover-fill-color);\n",
              "  }\n",
              "\n",
              "  .colab-df-quickchart-complete:disabled,\n",
              "  .colab-df-quickchart-complete:disabled:hover {\n",
              "    background-color: var(--disabled-bg-color);\n",
              "    fill: var(--disabled-fill-color);\n",
              "    box-shadow: none;\n",
              "  }\n",
              "\n",
              "  .colab-df-spinner {\n",
              "    border: 2px solid var(--fill-color);\n",
              "    border-color: transparent;\n",
              "    border-bottom-color: var(--fill-color);\n",
              "    animation:\n",
              "      spin 1s steps(1) infinite;\n",
              "  }\n",
              "\n",
              "  @keyframes spin {\n",
              "    0% {\n",
              "      border-color: transparent;\n",
              "      border-bottom-color: var(--fill-color);\n",
              "      border-left-color: var(--fill-color);\n",
              "    }\n",
              "    20% {\n",
              "      border-color: transparent;\n",
              "      border-left-color: var(--fill-color);\n",
              "      border-top-color: var(--fill-color);\n",
              "    }\n",
              "    30% {\n",
              "      border-color: transparent;\n",
              "      border-left-color: var(--fill-color);\n",
              "      border-top-color: var(--fill-color);\n",
              "      border-right-color: var(--fill-color);\n",
              "    }\n",
              "    40% {\n",
              "      border-color: transparent;\n",
              "      border-right-color: var(--fill-color);\n",
              "      border-top-color: var(--fill-color);\n",
              "    }\n",
              "    60% {\n",
              "      border-color: transparent;\n",
              "      border-right-color: var(--fill-color);\n",
              "    }\n",
              "    80% {\n",
              "      border-color: transparent;\n",
              "      border-right-color: var(--fill-color);\n",
              "      border-bottom-color: var(--fill-color);\n",
              "    }\n",
              "    90% {\n",
              "      border-color: transparent;\n",
              "      border-bottom-color: var(--fill-color);\n",
              "    }\n",
              "  }\n",
              "</style>\n",
              "\n",
              "      <script>\n",
              "        async function quickchart(key) {\n",
              "          const quickchartButtonEl =\n",
              "            document.querySelector('#' + key + ' button');\n",
              "          quickchartButtonEl.disabled = true;  // To prevent multiple clicks.\n",
              "          quickchartButtonEl.classList.add('colab-df-spinner');\n",
              "          try {\n",
              "            const charts = await google.colab.kernel.invokeFunction(\n",
              "                'suggestCharts', [key], {});\n",
              "          } catch (error) {\n",
              "            console.error('Error during call to suggestCharts:', error);\n",
              "          }\n",
              "          quickchartButtonEl.classList.remove('colab-df-spinner');\n",
              "          quickchartButtonEl.classList.add('colab-df-quickchart-complete');\n",
              "        }\n",
              "        (() => {\n",
              "          let quickchartButtonEl =\n",
              "            document.querySelector('#df-7729fb1d-5bef-408c-aa0c-4d58b8194ed8 button');\n",
              "          quickchartButtonEl.style.display =\n",
              "            google.colab.kernel.accessAllowed ? 'block' : 'none';\n",
              "        })();\n",
              "      </script>\n",
              "    </div>\n",
              "\n",
              "    </div>\n",
              "  </div>\n"
            ],
            "application/vnd.google.colaboratory.intrinsic+json": {
              "type": "dataframe",
              "summary": "{\n  \"name\": \"base_credit\",\n  \"rows\": 3,\n  \"fields\": [\n    {\n      \"column\": \"clientid\",\n      \"properties\": {\n        \"dtype\": \"number\",\n        \"std\": 1,\n        \"min\": 29,\n        \"max\": 32,\n        \"num_unique_values\": 3,\n        \"samples\": [\n          29,\n          31,\n          32\n        ],\n        \"semantic_type\": \"\",\n        \"description\": \"\"\n      }\n    },\n    {\n      \"column\": \"income\",\n      \"properties\": {\n        \"dtype\": \"number\",\n        \"std\": 18402.430928200996,\n        \"min\": 23526.3025551103,\n        \"max\": 59417.805406265,\n        \"num_unique_values\": 3,\n        \"samples\": [\n          59417.805406265,\n          48528.8527957164,\n          23526.3025551103\n        ],\n        \"semantic_type\": \"\",\n        \"description\": \"\"\n      }\n    },\n    {\n      \"column\": \"age\",\n      \"properties\": {\n        \"dtype\": \"number\",\n        \"std\": 0.0,\n        \"min\": 40.92768888103586,\n        \"max\": 40.92768888103586,\n        \"num_unique_values\": 1,\n        \"samples\": [\n          40.92768888103586\n        ],\n        \"semantic_type\": \"\",\n        \"description\": \"\"\n      }\n    },\n    {\n      \"column\": \"loan\",\n      \"properties\": {\n        \"dtype\": \"number\",\n        \"std\": 2162.0596836405384,\n        \"min\": 2082.62593812344,\n        \"max\": 6155.78467025544,\n        \"num_unique_values\": 3,\n        \"samples\": [\n          2082.62593812344\n        ],\n        \"semantic_type\": \"\",\n        \"description\": \"\"\n      }\n    },\n    {\n      \"column\": \"default\",\n      \"properties\": {\n        \"dtype\": \"number\",\n        \"std\": 0,\n        \"min\": 0,\n        \"max\": 0,\n        \"num_unique_values\": 1,\n        \"samples\": [\n          0\n        ],\n        \"semantic_type\": \"\",\n        \"description\": \"\"\n      }\n    }\n  ]\n}"
            }
          },
          "metadata": {},
          "execution_count": 37
        }
      ]
    },
    {
      "cell_type": "code",
      "source": [
        "base_credit.loc[base_credit['clientid'].isin([29, 31, 32])]"
      ],
      "metadata": {
        "colab": {
          "base_uri": "https://localhost:8080/",
          "height": 143
        },
        "id": "xCubbBg-DVei",
        "outputId": "f25fd55b-7c24-4473-9ada-eb3f40d7bfb0"
      },
      "execution_count": 38,
      "outputs": [
        {
          "output_type": "execute_result",
          "data": {
            "text/plain": [
              "    clientid        income        age         loan  default\n",
              "28        29  59417.805406  40.927689  2082.625938        0\n",
              "30        31  48528.852796  40.927689  6155.784670        0\n",
              "31        32  23526.302555  40.927689  2862.010139        0"
            ],
            "text/html": [
              "\n",
              "  <div id=\"df-6b56be94-f3f4-4e2e-818e-76b1af5ec50f\" class=\"colab-df-container\">\n",
              "    <div>\n",
              "<style scoped>\n",
              "    .dataframe tbody tr th:only-of-type {\n",
              "        vertical-align: middle;\n",
              "    }\n",
              "\n",
              "    .dataframe tbody tr th {\n",
              "        vertical-align: top;\n",
              "    }\n",
              "\n",
              "    .dataframe thead th {\n",
              "        text-align: right;\n",
              "    }\n",
              "</style>\n",
              "<table border=\"1\" class=\"dataframe\">\n",
              "  <thead>\n",
              "    <tr style=\"text-align: right;\">\n",
              "      <th></th>\n",
              "      <th>clientid</th>\n",
              "      <th>income</th>\n",
              "      <th>age</th>\n",
              "      <th>loan</th>\n",
              "      <th>default</th>\n",
              "    </tr>\n",
              "  </thead>\n",
              "  <tbody>\n",
              "    <tr>\n",
              "      <th>28</th>\n",
              "      <td>29</td>\n",
              "      <td>59417.805406</td>\n",
              "      <td>40.927689</td>\n",
              "      <td>2082.625938</td>\n",
              "      <td>0</td>\n",
              "    </tr>\n",
              "    <tr>\n",
              "      <th>30</th>\n",
              "      <td>31</td>\n",
              "      <td>48528.852796</td>\n",
              "      <td>40.927689</td>\n",
              "      <td>6155.784670</td>\n",
              "      <td>0</td>\n",
              "    </tr>\n",
              "    <tr>\n",
              "      <th>31</th>\n",
              "      <td>32</td>\n",
              "      <td>23526.302555</td>\n",
              "      <td>40.927689</td>\n",
              "      <td>2862.010139</td>\n",
              "      <td>0</td>\n",
              "    </tr>\n",
              "  </tbody>\n",
              "</table>\n",
              "</div>\n",
              "    <div class=\"colab-df-buttons\">\n",
              "\n",
              "  <div class=\"colab-df-container\">\n",
              "    <button class=\"colab-df-convert\" onclick=\"convertToInteractive('df-6b56be94-f3f4-4e2e-818e-76b1af5ec50f')\"\n",
              "            title=\"Convert this dataframe to an interactive table.\"\n",
              "            style=\"display:none;\">\n",
              "\n",
              "  <svg xmlns=\"http://www.w3.org/2000/svg\" height=\"24px\" viewBox=\"0 -960 960 960\">\n",
              "    <path d=\"M120-120v-720h720v720H120Zm60-500h600v-160H180v160Zm220 220h160v-160H400v160Zm0 220h160v-160H400v160ZM180-400h160v-160H180v160Zm440 0h160v-160H620v160ZM180-180h160v-160H180v160Zm440 0h160v-160H620v160Z\"/>\n",
              "  </svg>\n",
              "    </button>\n",
              "\n",
              "  <style>\n",
              "    .colab-df-container {\n",
              "      display:flex;\n",
              "      gap: 12px;\n",
              "    }\n",
              "\n",
              "    .colab-df-convert {\n",
              "      background-color: #E8F0FE;\n",
              "      border: none;\n",
              "      border-radius: 50%;\n",
              "      cursor: pointer;\n",
              "      display: none;\n",
              "      fill: #1967D2;\n",
              "      height: 32px;\n",
              "      padding: 0 0 0 0;\n",
              "      width: 32px;\n",
              "    }\n",
              "\n",
              "    .colab-df-convert:hover {\n",
              "      background-color: #E2EBFA;\n",
              "      box-shadow: 0px 1px 2px rgba(60, 64, 67, 0.3), 0px 1px 3px 1px rgba(60, 64, 67, 0.15);\n",
              "      fill: #174EA6;\n",
              "    }\n",
              "\n",
              "    .colab-df-buttons div {\n",
              "      margin-bottom: 4px;\n",
              "    }\n",
              "\n",
              "    [theme=dark] .colab-df-convert {\n",
              "      background-color: #3B4455;\n",
              "      fill: #D2E3FC;\n",
              "    }\n",
              "\n",
              "    [theme=dark] .colab-df-convert:hover {\n",
              "      background-color: #434B5C;\n",
              "      box-shadow: 0px 1px 3px 1px rgba(0, 0, 0, 0.15);\n",
              "      filter: drop-shadow(0px 1px 2px rgba(0, 0, 0, 0.3));\n",
              "      fill: #FFFFFF;\n",
              "    }\n",
              "  </style>\n",
              "\n",
              "    <script>\n",
              "      const buttonEl =\n",
              "        document.querySelector('#df-6b56be94-f3f4-4e2e-818e-76b1af5ec50f button.colab-df-convert');\n",
              "      buttonEl.style.display =\n",
              "        google.colab.kernel.accessAllowed ? 'block' : 'none';\n",
              "\n",
              "      async function convertToInteractive(key) {\n",
              "        const element = document.querySelector('#df-6b56be94-f3f4-4e2e-818e-76b1af5ec50f');\n",
              "        const dataTable =\n",
              "          await google.colab.kernel.invokeFunction('convertToInteractive',\n",
              "                                                    [key], {});\n",
              "        if (!dataTable) return;\n",
              "\n",
              "        const docLinkHtml = 'Like what you see? Visit the ' +\n",
              "          '<a target=\"_blank\" href=https://colab.research.google.com/notebooks/data_table.ipynb>data table notebook</a>'\n",
              "          + ' to learn more about interactive tables.';\n",
              "        element.innerHTML = '';\n",
              "        dataTable['output_type'] = 'display_data';\n",
              "        await google.colab.output.renderOutput(dataTable, element);\n",
              "        const docLink = document.createElement('div');\n",
              "        docLink.innerHTML = docLinkHtml;\n",
              "        element.appendChild(docLink);\n",
              "      }\n",
              "    </script>\n",
              "  </div>\n",
              "\n",
              "\n",
              "    <div id=\"df-17438885-e2fb-450b-a60e-4afe2e549d30\">\n",
              "      <button class=\"colab-df-quickchart\" onclick=\"quickchart('df-17438885-e2fb-450b-a60e-4afe2e549d30')\"\n",
              "                title=\"Suggest charts\"\n",
              "                style=\"display:none;\">\n",
              "\n",
              "<svg xmlns=\"http://www.w3.org/2000/svg\" height=\"24px\"viewBox=\"0 0 24 24\"\n",
              "     width=\"24px\">\n",
              "    <g>\n",
              "        <path d=\"M19 3H5c-1.1 0-2 .9-2 2v14c0 1.1.9 2 2 2h14c1.1 0 2-.9 2-2V5c0-1.1-.9-2-2-2zM9 17H7v-7h2v7zm4 0h-2V7h2v10zm4 0h-2v-4h2v4z\"/>\n",
              "    </g>\n",
              "</svg>\n",
              "      </button>\n",
              "\n",
              "<style>\n",
              "  .colab-df-quickchart {\n",
              "      --bg-color: #E8F0FE;\n",
              "      --fill-color: #1967D2;\n",
              "      --hover-bg-color: #E2EBFA;\n",
              "      --hover-fill-color: #174EA6;\n",
              "      --disabled-fill-color: #AAA;\n",
              "      --disabled-bg-color: #DDD;\n",
              "  }\n",
              "\n",
              "  [theme=dark] .colab-df-quickchart {\n",
              "      --bg-color: #3B4455;\n",
              "      --fill-color: #D2E3FC;\n",
              "      --hover-bg-color: #434B5C;\n",
              "      --hover-fill-color: #FFFFFF;\n",
              "      --disabled-bg-color: #3B4455;\n",
              "      --disabled-fill-color: #666;\n",
              "  }\n",
              "\n",
              "  .colab-df-quickchart {\n",
              "    background-color: var(--bg-color);\n",
              "    border: none;\n",
              "    border-radius: 50%;\n",
              "    cursor: pointer;\n",
              "    display: none;\n",
              "    fill: var(--fill-color);\n",
              "    height: 32px;\n",
              "    padding: 0;\n",
              "    width: 32px;\n",
              "  }\n",
              "\n",
              "  .colab-df-quickchart:hover {\n",
              "    background-color: var(--hover-bg-color);\n",
              "    box-shadow: 0 1px 2px rgba(60, 64, 67, 0.3), 0 1px 3px 1px rgba(60, 64, 67, 0.15);\n",
              "    fill: var(--button-hover-fill-color);\n",
              "  }\n",
              "\n",
              "  .colab-df-quickchart-complete:disabled,\n",
              "  .colab-df-quickchart-complete:disabled:hover {\n",
              "    background-color: var(--disabled-bg-color);\n",
              "    fill: var(--disabled-fill-color);\n",
              "    box-shadow: none;\n",
              "  }\n",
              "\n",
              "  .colab-df-spinner {\n",
              "    border: 2px solid var(--fill-color);\n",
              "    border-color: transparent;\n",
              "    border-bottom-color: var(--fill-color);\n",
              "    animation:\n",
              "      spin 1s steps(1) infinite;\n",
              "  }\n",
              "\n",
              "  @keyframes spin {\n",
              "    0% {\n",
              "      border-color: transparent;\n",
              "      border-bottom-color: var(--fill-color);\n",
              "      border-left-color: var(--fill-color);\n",
              "    }\n",
              "    20% {\n",
              "      border-color: transparent;\n",
              "      border-left-color: var(--fill-color);\n",
              "      border-top-color: var(--fill-color);\n",
              "    }\n",
              "    30% {\n",
              "      border-color: transparent;\n",
              "      border-left-color: var(--fill-color);\n",
              "      border-top-color: var(--fill-color);\n",
              "      border-right-color: var(--fill-color);\n",
              "    }\n",
              "    40% {\n",
              "      border-color: transparent;\n",
              "      border-right-color: var(--fill-color);\n",
              "      border-top-color: var(--fill-color);\n",
              "    }\n",
              "    60% {\n",
              "      border-color: transparent;\n",
              "      border-right-color: var(--fill-color);\n",
              "    }\n",
              "    80% {\n",
              "      border-color: transparent;\n",
              "      border-right-color: var(--fill-color);\n",
              "      border-bottom-color: var(--fill-color);\n",
              "    }\n",
              "    90% {\n",
              "      border-color: transparent;\n",
              "      border-bottom-color: var(--fill-color);\n",
              "    }\n",
              "  }\n",
              "</style>\n",
              "\n",
              "      <script>\n",
              "        async function quickchart(key) {\n",
              "          const quickchartButtonEl =\n",
              "            document.querySelector('#' + key + ' button');\n",
              "          quickchartButtonEl.disabled = true;  // To prevent multiple clicks.\n",
              "          quickchartButtonEl.classList.add('colab-df-spinner');\n",
              "          try {\n",
              "            const charts = await google.colab.kernel.invokeFunction(\n",
              "                'suggestCharts', [key], {});\n",
              "          } catch (error) {\n",
              "            console.error('Error during call to suggestCharts:', error);\n",
              "          }\n",
              "          quickchartButtonEl.classList.remove('colab-df-spinner');\n",
              "          quickchartButtonEl.classList.add('colab-df-quickchart-complete');\n",
              "        }\n",
              "        (() => {\n",
              "          let quickchartButtonEl =\n",
              "            document.querySelector('#df-17438885-e2fb-450b-a60e-4afe2e549d30 button');\n",
              "          quickchartButtonEl.style.display =\n",
              "            google.colab.kernel.accessAllowed ? 'block' : 'none';\n",
              "        })();\n",
              "      </script>\n",
              "    </div>\n",
              "\n",
              "    </div>\n",
              "  </div>\n"
            ],
            "application/vnd.google.colaboratory.intrinsic+json": {
              "type": "dataframe",
              "summary": "{\n  \"name\": \"base_credit\",\n  \"rows\": 3,\n  \"fields\": [\n    {\n      \"column\": \"clientid\",\n      \"properties\": {\n        \"dtype\": \"number\",\n        \"std\": 1,\n        \"min\": 29,\n        \"max\": 32,\n        \"num_unique_values\": 3,\n        \"samples\": [\n          29,\n          31,\n          32\n        ],\n        \"semantic_type\": \"\",\n        \"description\": \"\"\n      }\n    },\n    {\n      \"column\": \"income\",\n      \"properties\": {\n        \"dtype\": \"number\",\n        \"std\": 18402.430928200996,\n        \"min\": 23526.3025551103,\n        \"max\": 59417.805406265,\n        \"num_unique_values\": 3,\n        \"samples\": [\n          59417.805406265,\n          48528.8527957164,\n          23526.3025551103\n        ],\n        \"semantic_type\": \"\",\n        \"description\": \"\"\n      }\n    },\n    {\n      \"column\": \"age\",\n      \"properties\": {\n        \"dtype\": \"number\",\n        \"std\": 0.0,\n        \"min\": 40.92768888103586,\n        \"max\": 40.92768888103586,\n        \"num_unique_values\": 1,\n        \"samples\": [\n          40.92768888103586\n        ],\n        \"semantic_type\": \"\",\n        \"description\": \"\"\n      }\n    },\n    {\n      \"column\": \"loan\",\n      \"properties\": {\n        \"dtype\": \"number\",\n        \"std\": 2162.0596836405384,\n        \"min\": 2082.62593812344,\n        \"max\": 6155.78467025544,\n        \"num_unique_values\": 3,\n        \"samples\": [\n          2082.62593812344\n        ],\n        \"semantic_type\": \"\",\n        \"description\": \"\"\n      }\n    },\n    {\n      \"column\": \"default\",\n      \"properties\": {\n        \"dtype\": \"number\",\n        \"std\": 0,\n        \"min\": 0,\n        \"max\": 0,\n        \"num_unique_values\": 1,\n        \"samples\": [\n          0\n        ],\n        \"semantic_type\": \"\",\n        \"description\": \"\"\n      }\n    }\n  ]\n}"
            }
          },
          "metadata": {},
          "execution_count": 38
        }
      ]
    },
    {
      "cell_type": "markdown",
      "source": [
        "<h1>-------------- Parei aqui -----------------</h1>"
      ],
      "metadata": {
        "id": "yJDE5E6IEqjf"
      }
    },
    {
      "cell_type": "markdown",
      "metadata": {
        "id": "cOSLRdDEsWFx"
      },
      "source": [
        "### Divisão entre previsores e classe"
      ]
    },
    {
      "cell_type": "code",
      "execution_count": null,
      "metadata": {
        "id": "ReMHYZlvC1tt"
      },
      "outputs": [],
      "source": [
        "type(base_credit)"
      ]
    },
    {
      "cell_type": "code",
      "execution_count": null,
      "metadata": {
        "id": "JeE1xaPHB_vo"
      },
      "outputs": [],
      "source": [
        "X_credit = base_credit.iloc[:, 1:4].values"
      ]
    },
    {
      "cell_type": "code",
      "execution_count": null,
      "metadata": {
        "id": "INAZxMaDCr20"
      },
      "outputs": [],
      "source": [
        "X_credit"
      ]
    },
    {
      "cell_type": "code",
      "execution_count": null,
      "metadata": {
        "id": "TM48eNGdCy1k"
      },
      "outputs": [],
      "source": [
        "type(X_credit)"
      ]
    },
    {
      "cell_type": "code",
      "execution_count": null,
      "metadata": {
        "id": "usDHmfBTC64Y"
      },
      "outputs": [],
      "source": [
        "y_credit = base_credit.iloc[:, 4].values"
      ]
    },
    {
      "cell_type": "code",
      "execution_count": null,
      "metadata": {
        "id": "2_XXNWDVDDRE"
      },
      "outputs": [],
      "source": [
        "y_credit"
      ]
    },
    {
      "cell_type": "code",
      "execution_count": null,
      "metadata": {
        "id": "0h552IwQDG14"
      },
      "outputs": [],
      "source": [
        "type(y_credit)"
      ]
    },
    {
      "cell_type": "markdown",
      "metadata": {
        "id": "S_jbxLwqu4fQ"
      },
      "source": [
        "### Escalonamento dos valores"
      ]
    },
    {
      "cell_type": "code",
      "execution_count": null,
      "metadata": {
        "id": "EM6wEXhQFP4u"
      },
      "outputs": [],
      "source": [
        "X_credit"
      ]
    },
    {
      "cell_type": "code",
      "execution_count": null,
      "metadata": {
        "id": "Hg3f5RV6FZwl"
      },
      "outputs": [],
      "source": [
        "X_credit[:,0].min(), X_credit[:,1].min(), X_credit[:,2].min()"
      ]
    },
    {
      "cell_type": "code",
      "execution_count": null,
      "metadata": {
        "id": "GCaRQEI6Fj65"
      },
      "outputs": [],
      "source": [
        "X_credit[:,0].max(), X_credit[:,1].max(), X_credit[:,2].max()"
      ]
    },
    {
      "cell_type": "code",
      "execution_count": null,
      "metadata": {
        "id": "kIwl_pfBHAOX"
      },
      "outputs": [],
      "source": [
        "from sklearn.preprocessing import StandardScaler\n",
        "scaler_credit = StandardScaler()\n",
        "X_credit = scaler_credit.fit_transform(X_credit)"
      ]
    },
    {
      "cell_type": "code",
      "execution_count": null,
      "metadata": {
        "id": "UrCwoukQHS8L"
      },
      "outputs": [],
      "source": [
        "X_credit[:,0].min(), X_credit[:,1].min(), X_credit[:,2].min()"
      ]
    },
    {
      "cell_type": "code",
      "execution_count": null,
      "metadata": {
        "id": "w8IGh3S-HdDi"
      },
      "outputs": [],
      "source": [
        "X_credit[:,0].max(), X_credit[:,1].max(), X_credit[:,2].max()"
      ]
    },
    {
      "cell_type": "code",
      "execution_count": null,
      "metadata": {
        "id": "4VyQztFtHlYa"
      },
      "outputs": [],
      "source": [
        "X_credit"
      ]
    },
    {
      "cell_type": "markdown",
      "metadata": {
        "id": "uObPYCYDkBAV"
      },
      "source": [
        "# Base de dados do censo\n",
        "\n",
        "- Fonte: https://archive.ics.uci.edu/ml/datasets/adult"
      ]
    },
    {
      "cell_type": "markdown",
      "metadata": {
        "id": "g-23aN-nkDQ7"
      },
      "source": [
        "## Exploração dos dados"
      ]
    },
    {
      "cell_type": "markdown",
      "metadata": {
        "id": "zr9S1fZXRQhg"
      },
      "source": [
        "## Visualização dos dados"
      ]
    },
    {
      "cell_type": "markdown",
      "metadata": {
        "id": "2GpcvTQauTVx"
      },
      "source": [
        "## Divisão entre previsores e classe"
      ]
    },
    {
      "cell_type": "code",
      "execution_count": null,
      "metadata": {
        "id": "wk80GiKlVdzE"
      },
      "outputs": [],
      "source": [
        "base_census.columns"
      ]
    },
    {
      "cell_type": "code",
      "execution_count": null,
      "metadata": {
        "id": "w9uiN9W7VNMc"
      },
      "outputs": [],
      "source": [
        "X_census = base_census.iloc[:, 0:14].values"
      ]
    },
    {
      "cell_type": "code",
      "execution_count": null,
      "metadata": {
        "id": "-BEc3zBGVrQy"
      },
      "outputs": [],
      "source": [
        "X_census"
      ]
    },
    {
      "cell_type": "code",
      "execution_count": null,
      "metadata": {
        "id": "z52eLwVrVuDX"
      },
      "outputs": [],
      "source": [
        "X_census[0]"
      ]
    },
    {
      "cell_type": "code",
      "execution_count": null,
      "metadata": {
        "id": "h91x3FK8Vxry"
      },
      "outputs": [],
      "source": [
        "y_census = base_census.iloc[:, 14].values"
      ]
    },
    {
      "cell_type": "code",
      "execution_count": null,
      "metadata": {
        "id": "eyu-A862V5GE"
      },
      "outputs": [],
      "source": [
        "y_census"
      ]
    },
    {
      "cell_type": "markdown",
      "metadata": {
        "id": "QGapZ37jkPAn"
      },
      "source": [
        "## Tratamento de atributos categóricos"
      ]
    },
    {
      "cell_type": "markdown",
      "metadata": {
        "id": "K2K3Wu8Q4e0E"
      },
      "source": [
        "### LabelEncoder"
      ]
    },
    {
      "cell_type": "code",
      "execution_count": null,
      "metadata": {
        "id": "oGz8K4uwWdGO"
      },
      "outputs": [],
      "source": [
        "from sklearn.preprocessing import LabelEncoder"
      ]
    },
    {
      "cell_type": "code",
      "execution_count": null,
      "metadata": {
        "id": "noIEel20WyqJ"
      },
      "outputs": [],
      "source": [
        "label_encoder_teste = LabelEncoder()"
      ]
    },
    {
      "cell_type": "code",
      "execution_count": null,
      "metadata": {
        "id": "1Ref4otRW9S_"
      },
      "outputs": [],
      "source": [
        "X_census[:,1]"
      ]
    },
    {
      "cell_type": "code",
      "execution_count": null,
      "metadata": {
        "id": "ZtggZJBsW32I"
      },
      "outputs": [],
      "source": [
        "teste = label_encoder_teste.fit_transform(X_census[:,1])"
      ]
    },
    {
      "cell_type": "code",
      "execution_count": null,
      "metadata": {
        "id": "N7Nu-KNeXFan"
      },
      "outputs": [],
      "source": [
        "teste"
      ]
    },
    {
      "cell_type": "code",
      "execution_count": null,
      "metadata": {
        "id": "GF26IL93XWx4"
      },
      "outputs": [],
      "source": [
        "X_census[0]"
      ]
    },
    {
      "cell_type": "code",
      "execution_count": null,
      "metadata": {
        "id": "vobcD-wHXiKD"
      },
      "outputs": [],
      "source": [
        "label_encoder_workclass = LabelEncoder()\n",
        "label_encoder_education = LabelEncoder()\n",
        "label_encoder_marital = LabelEncoder()\n",
        "label_encoder_occupation = LabelEncoder()\n",
        "label_encoder_relationship = LabelEncoder()\n",
        "label_encoder_race = LabelEncoder()\n",
        "label_encoder_sex = LabelEncoder()\n",
        "label_encoder_country = LabelEncoder()"
      ]
    },
    {
      "cell_type": "code",
      "execution_count": null,
      "metadata": {
        "id": "bSUY6xUhXukh"
      },
      "outputs": [],
      "source": [
        "X_census[:,1] = label_encoder_workclass.fit_transform(X_census[:,1])\n",
        "X_census[:,3] = label_encoder_education.fit_transform(X_census[:,3])\n",
        "X_census[:,5] = label_encoder_marital.fit_transform(X_census[:,5])\n",
        "X_census[:,6] = label_encoder_occupation.fit_transform(X_census[:,6])\n",
        "X_census[:,7] = label_encoder_relationship.fit_transform(X_census[:,7])\n",
        "X_census[:,8] = label_encoder_race.fit_transform(X_census[:,8])\n",
        "X_census[:,9] = label_encoder_sex.fit_transform(X_census[:,9])\n",
        "X_census[:,13] = label_encoder_country.fit_transform(X_census[:,13])"
      ]
    },
    {
      "cell_type": "code",
      "execution_count": null,
      "metadata": {
        "id": "Y7Ez17WpYO6_"
      },
      "outputs": [],
      "source": [
        "X_census[0]"
      ]
    },
    {
      "cell_type": "code",
      "execution_count": null,
      "metadata": {
        "id": "zzDHWOGwYUl4"
      },
      "outputs": [],
      "source": [
        "X_census"
      ]
    },
    {
      "cell_type": "markdown",
      "metadata": {
        "id": "mHg2BXJR4hpi"
      },
      "source": [
        "### OneHotEncoder"
      ]
    },
    {
      "cell_type": "code",
      "execution_count": null,
      "metadata": {
        "id": "lZh-2yOMZxfQ"
      },
      "outputs": [],
      "source": [
        "# Carro\n",
        "\n",
        "# Gol Pálio Uno\n",
        "#   1     2   3\n",
        "\n",
        "# Gol   1 0 0\n",
        "# Pálio 0 1 0\n",
        "# Uno   0 0 1 # encode"
      ]
    },
    {
      "cell_type": "code",
      "execution_count": null,
      "metadata": {
        "id": "XEFKLGiPa4dP"
      },
      "outputs": [],
      "source": [
        "len(np.unique(base_census['workclass'])) # 1 0 0 0 0 0 0 0, 0 0 0 0 1 0 0 0 0"
      ]
    },
    {
      "cell_type": "code",
      "execution_count": null,
      "metadata": {
        "id": "AoLB7CP9bOA3"
      },
      "outputs": [],
      "source": [
        "len(np.unique(base_census['occupation']))"
      ]
    },
    {
      "cell_type": "code",
      "execution_count": null,
      "metadata": {
        "id": "Z3l27yYXbTRq"
      },
      "outputs": [],
      "source": [
        "from sklearn.preprocessing import OneHotEncoder\n",
        "from sklearn.compose import ColumnTransformer"
      ]
    },
    {
      "cell_type": "code",
      "execution_count": null,
      "metadata": {
        "id": "OW_FkaXdbcwI"
      },
      "outputs": [],
      "source": [
        "onehotencoder_census = ColumnTransformer(transformers=[('OneHot', OneHotEncoder(), [1,3,5,6,7,8,9,13])], remainder='passthrough')"
      ]
    },
    {
      "cell_type": "code",
      "execution_count": null,
      "metadata": {
        "id": "QXnfaYTCb6yM"
      },
      "outputs": [],
      "source": [
        "X_census = onehotencoder_census.fit_transform(X_census).toarray()"
      ]
    },
    {
      "cell_type": "code",
      "execution_count": null,
      "metadata": {
        "id": "tYlAkc1mcB7z"
      },
      "outputs": [],
      "source": [
        "X_census"
      ]
    },
    {
      "cell_type": "code",
      "execution_count": null,
      "metadata": {
        "id": "7T2BdrjDcExe"
      },
      "outputs": [],
      "source": [
        "X_census[0]"
      ]
    },
    {
      "cell_type": "code",
      "execution_count": null,
      "metadata": {
        "id": "YWik7RsUcK7V"
      },
      "outputs": [],
      "source": [
        "X_census.shape"
      ]
    },
    {
      "cell_type": "markdown",
      "metadata": {
        "id": "bdNbsNLFkWop"
      },
      "source": [
        "## Escalonamento dos valores"
      ]
    },
    {
      "cell_type": "code",
      "execution_count": null,
      "metadata": {
        "id": "t58D0fU_c9_4"
      },
      "outputs": [],
      "source": [
        "from sklearn.preprocessing import StandardScaler\n",
        "scaler_census = StandardScaler()\n",
        "X_census = scaler_census.fit_transform(X_census)"
      ]
    },
    {
      "cell_type": "code",
      "execution_count": null,
      "metadata": {
        "id": "S8zI8mHJdZ1L"
      },
      "outputs": [],
      "source": [
        "X_census[0]"
      ]
    },
    {
      "cell_type": "markdown",
      "metadata": {
        "id": "NBXkHsxg6tcI"
      },
      "source": [
        "# Divisão das bases em treinamento e teste"
      ]
    },
    {
      "cell_type": "code",
      "execution_count": null,
      "metadata": {
        "id": "0HPHvvv-eRAK"
      },
      "outputs": [],
      "source": [
        "from sklearn.model_selection import train_test_split"
      ]
    },
    {
      "cell_type": "markdown",
      "metadata": {
        "id": "q_KOjDv47-IV"
      },
      "source": [
        "## Credit data"
      ]
    },
    {
      "cell_type": "code",
      "execution_count": null,
      "metadata": {
        "id": "YglWGPdjeXb1"
      },
      "outputs": [],
      "source": [
        "X_credit_treinamento, X_credit_teste, y_credit_treinamento, y_credit_teste = train_test_split(X_credit, y_credit, test_size = 0.25, random_state = 0)"
      ]
    },
    {
      "cell_type": "code",
      "execution_count": null,
      "metadata": {
        "id": "OcUWH-xTfAC3"
      },
      "outputs": [],
      "source": [
        "X_credit_treinamento.shape"
      ]
    },
    {
      "cell_type": "code",
      "execution_count": null,
      "metadata": {
        "id": "7v1NiPemfL4g"
      },
      "outputs": [],
      "source": [
        "y_credit_treinamento.shape"
      ]
    },
    {
      "cell_type": "code",
      "execution_count": null,
      "metadata": {
        "id": "iuf-gKIvfR2f"
      },
      "outputs": [],
      "source": [
        "X_credit_teste.shape, y_credit_teste.shape"
      ]
    },
    {
      "cell_type": "markdown",
      "metadata": {
        "id": "zAecbXOi8AzA"
      },
      "source": [
        "## Census"
      ]
    },
    {
      "cell_type": "code",
      "execution_count": null,
      "metadata": {
        "id": "9bfZjhaeffX6"
      },
      "outputs": [],
      "source": [
        "X_census_treinamento, X_census_teste, y_census_treinamento, y_census_teste = train_test_split(X_census, y_census, test_size = 0.15, random_state = 0)"
      ]
    },
    {
      "cell_type": "code",
      "execution_count": null,
      "metadata": {
        "id": "uMjiPLA5fvuG"
      },
      "outputs": [],
      "source": [
        "X_census_treinamento.shape, y_census_treinamento.shape"
      ]
    },
    {
      "cell_type": "code",
      "execution_count": null,
      "metadata": {
        "id": "y9jOKp2pf2l_"
      },
      "outputs": [],
      "source": [
        "X_census_teste.shape, y_census_teste.shape"
      ]
    },
    {
      "cell_type": "markdown",
      "metadata": {
        "id": "Oi9qbert8aMv"
      },
      "source": [
        "## Salvar as variáveis"
      ]
    },
    {
      "cell_type": "code",
      "execution_count": null,
      "metadata": {
        "id": "Vn6R_DKHhG0u"
      },
      "outputs": [],
      "source": [
        "import pickle"
      ]
    },
    {
      "cell_type": "code",
      "execution_count": null,
      "metadata": {
        "id": "7bcjVkwqhLpY"
      },
      "outputs": [],
      "source": [
        "with open('credit.pkl', mode = 'wb') as f:\n",
        "  pickle.dump([X_credit_treinamento, y_credit_treinamento, X_credit_teste, y_credit_teste], f)"
      ]
    },
    {
      "cell_type": "code",
      "execution_count": null,
      "metadata": {
        "id": "iA6n26E8hjeR"
      },
      "outputs": [],
      "source": [
        "with open('census.pkl', mode = 'wb') as f:\n",
        "  pickle.dump([X_census_treinamento, y_census_treinamento, X_census_teste, y_census_teste], f)"
      ]
    },
    {
      "cell_type": "markdown",
      "metadata": {
        "id": "zX-Vgf6TnLnc"
      },
      "source": [
        "# Naïve Bayes"
      ]
    },
    {
      "cell_type": "code",
      "execution_count": null,
      "metadata": {
        "id": "U-BlxVMDqflF"
      },
      "outputs": [],
      "source": [
        "from sklearn.naive_bayes import GaussianNB"
      ]
    },
    {
      "cell_type": "markdown",
      "metadata": {
        "id": "L0FGtQLrnN-0"
      },
      "source": [
        "## Base risco de crédito"
      ]
    },
    {
      "cell_type": "code",
      "execution_count": null,
      "metadata": {
        "id": "I4P2zsoKoNUU"
      },
      "outputs": [],
      "source": [
        "base_risco_credito = pd.read_csv('/content/risco_credito.csv')"
      ]
    },
    {
      "cell_type": "code",
      "execution_count": null,
      "metadata": {
        "id": "LTabRMD0ohDK"
      },
      "outputs": [],
      "source": [
        "base_risco_credito"
      ]
    },
    {
      "cell_type": "code",
      "execution_count": null,
      "metadata": {
        "id": "N6IVA-f8orh0"
      },
      "outputs": [],
      "source": [
        "X_risco_credito = base_risco_credito.iloc[:, 0:4].values\n",
        "X_risco_credito"
      ]
    },
    {
      "cell_type": "code",
      "execution_count": null,
      "metadata": {
        "id": "ErUm7cNoo9E8"
      },
      "outputs": [],
      "source": [
        "y_risco_credito = base_risco_credito.iloc[:, 4].values\n",
        "y_risco_credito"
      ]
    },
    {
      "cell_type": "code",
      "execution_count": null,
      "metadata": {
        "id": "a4ExR7UOpbwV"
      },
      "outputs": [],
      "source": [
        "from sklearn.preprocessing import LabelEncoder\n",
        "label_encoder_historia = LabelEncoder()\n",
        "label_encoder_divida = LabelEncoder()\n",
        "label_encoder_garantia = LabelEncoder()\n",
        "label_encoder_renda = LabelEncoder()"
      ]
    },
    {
      "cell_type": "code",
      "execution_count": null,
      "metadata": {
        "id": "qf3pWv3MpqOX"
      },
      "outputs": [],
      "source": [
        "X_risco_credito[:,0] = label_encoder_historia.fit_transform(X_risco_credito[:,0])\n",
        "X_risco_credito[:,1] = label_encoder_divida.fit_transform(X_risco_credito[:,1])\n",
        "X_risco_credito[:,2] = label_encoder_garantia.fit_transform(X_risco_credito[:,2])\n",
        "X_risco_credito[:,3] = label_encoder_renda.fit_transform(X_risco_credito[:,3])"
      ]
    },
    {
      "cell_type": "code",
      "execution_count": null,
      "metadata": {
        "id": "96KPRRHYp5Kn"
      },
      "outputs": [],
      "source": [
        "X_risco_credito"
      ]
    },
    {
      "cell_type": "code",
      "execution_count": null,
      "metadata": {
        "id": "Z866ig_dqGjd"
      },
      "outputs": [],
      "source": [
        "import pickle\n",
        "with open('risco_credito.pkl', 'wb') as f:\n",
        "  pickle.dump([X_risco_credito, y_risco_credito], f)"
      ]
    },
    {
      "cell_type": "code",
      "execution_count": null,
      "metadata": {
        "id": "ToxRilluqZtK"
      },
      "outputs": [],
      "source": [
        "naive_risco_credito = GaussianNB()\n",
        "naive_risco_credito.fit(X_risco_credito, y_risco_credito)"
      ]
    },
    {
      "cell_type": "code",
      "execution_count": null,
      "metadata": {
        "id": "F-RDd2zirCQZ"
      },
      "outputs": [],
      "source": [
        "# história boa (0), dívida alta (0), garantias nenhuma (1), renda > 35 (2)\n",
        "# história ruim (2), dívida alta (0), garantias adequada (0), renda < 15 (0)\n",
        "previsao = naive_risco_credito.predict([[0,0,1,2], [2,0,0,0]])"
      ]
    },
    {
      "cell_type": "code",
      "execution_count": null,
      "metadata": {
        "id": "BdRCfngutCF3"
      },
      "outputs": [],
      "source": [
        "previsao"
      ]
    },
    {
      "cell_type": "code",
      "execution_count": null,
      "metadata": {
        "id": "9CXosG4ytf-2"
      },
      "outputs": [],
      "source": [
        "naive_risco_credito.classes_"
      ]
    },
    {
      "cell_type": "code",
      "execution_count": null,
      "metadata": {
        "id": "YFWamfFCtkBe"
      },
      "outputs": [],
      "source": [
        "naive_risco_credito.class_count_"
      ]
    },
    {
      "cell_type": "code",
      "execution_count": null,
      "metadata": {
        "id": "VKTVsslMtzX4"
      },
      "outputs": [],
      "source": [
        "naive_risco_credito.class_prior_"
      ]
    },
    {
      "cell_type": "markdown",
      "metadata": {
        "id": "lmXN77tcnP2v"
      },
      "source": [
        "## Base credit data - 93.80%"
      ]
    },
    {
      "cell_type": "code",
      "execution_count": null,
      "metadata": {
        "id": "WpYGgi24vDZx"
      },
      "outputs": [],
      "source": [
        "import pickle\n",
        "with open('/content/census.pkl', 'rb') as f:\n",
        "  X_credit_treinamento, y_credit_treinamento, X_credit_teste, y_credit_teste = pickle.load(f)"
      ]
    },
    {
      "cell_type": "code",
      "execution_count": null,
      "metadata": {
        "id": "qcNidp70vfdu"
      },
      "outputs": [],
      "source": [
        "X_credit_treinamento.shape, y_credit_treinamento.shape"
      ]
    },
    {
      "cell_type": "code",
      "execution_count": null,
      "metadata": {
        "id": "1ybZU83Jvncs"
      },
      "outputs": [],
      "source": [
        "X_credit_teste.shape, y_credit_teste.shape"
      ]
    },
    {
      "cell_type": "code",
      "execution_count": null,
      "metadata": {
        "id": "ScyZYrIPvxww"
      },
      "outputs": [],
      "source": [
        "naive_credit_data = GaussianNB()\n",
        "naive_credit_data.fit(X_credit_treinamento, y_credit_treinamento)"
      ]
    },
    {
      "cell_type": "code",
      "execution_count": null,
      "metadata": {
        "id": "LdI1aUA8v_mI"
      },
      "outputs": [],
      "source": [
        "previsoes = naive_credit_data.predict(X_credit_teste)"
      ]
    },
    {
      "cell_type": "code",
      "execution_count": null,
      "metadata": {
        "id": "c1QTeR2vwNbh"
      },
      "outputs": [],
      "source": [
        "previsoes"
      ]
    },
    {
      "cell_type": "code",
      "execution_count": null,
      "metadata": {
        "id": "BwvLLFDTwVPd"
      },
      "outputs": [],
      "source": [
        "y_credit_teste"
      ]
    },
    {
      "cell_type": "code",
      "execution_count": null,
      "metadata": {
        "id": "2Dc8GMkowxw7"
      },
      "outputs": [],
      "source": [
        "from sklearn.metrics import accuracy_score, confusion_matrix, classification_report"
      ]
    },
    {
      "cell_type": "code",
      "execution_count": null,
      "metadata": {
        "id": "FcjG72Pqw4Nk"
      },
      "outputs": [],
      "source": [
        "accuracy_score(y_credit_teste, previsoes)"
      ]
    },
    {
      "cell_type": "code",
      "execution_count": null,
      "metadata": {
        "id": "SjmjYP-sxHUV"
      },
      "outputs": [],
      "source": [
        "confusion_matrix(y_credit_teste, previsoes)"
      ]
    },
    {
      "cell_type": "code",
      "execution_count": null,
      "metadata": {
        "id": "AIlIQpoOxmR1"
      },
      "outputs": [],
      "source": [
        "from yellowbrick.classifier import ConfusionMatrix"
      ]
    },
    {
      "cell_type": "code",
      "execution_count": null,
      "metadata": {
        "id": "nR99mSzDxtN3"
      },
      "outputs": [],
      "source": [
        "cm = ConfusionMatrix(naive_credit_data)\n",
        "cm.fit(X_credit_treinamento, y_credit_treinamento)\n",
        "cm.score(X_credit_teste, y_credit_teste)"
      ]
    },
    {
      "cell_type": "code",
      "execution_count": null,
      "metadata": {
        "id": "CVWcUg5QyS9a"
      },
      "outputs": [],
      "source": [
        "print(classification_report(y_credit_teste, previsoes))"
      ]
    },
    {
      "cell_type": "markdown",
      "metadata": {
        "id": "lnC-s4bLnRmt"
      },
      "source": [
        "## Base census - 47.67%"
      ]
    },
    {
      "cell_type": "code",
      "execution_count": null,
      "metadata": {
        "id": "TU2GJRlU0And"
      },
      "outputs": [],
      "source": [
        "with open('census.pkl', 'rb') as f:\n",
        "  X_census_treinamento, y_census_treinamento, X_census_teste, y_census_teste = pickle.load(f)"
      ]
    },
    {
      "cell_type": "code",
      "execution_count": null,
      "metadata": {
        "id": "11c886Pf1kwf"
      },
      "outputs": [],
      "source": [
        "X_census_treinamento.shape, y_census_treinamento.shape"
      ]
    },
    {
      "cell_type": "code",
      "execution_count": null,
      "metadata": {
        "id": "cD_tACqD1v6Y"
      },
      "outputs": [],
      "source": [
        "X_census_teste.shape, y_census_teste.shape"
      ]
    },
    {
      "cell_type": "code",
      "execution_count": null,
      "metadata": {
        "id": "gnU8BRlr15uT"
      },
      "outputs": [],
      "source": [
        "naive_census = GaussianNB()\n",
        "naive_census.fit(X_census_treinamento, y_census_treinamento)\n",
        "previsoes = naive_census.predict(X_census_teste)\n",
        "previsoes"
      ]
    },
    {
      "cell_type": "code",
      "execution_count": null,
      "metadata": {
        "id": "_TonV1b32RoP"
      },
      "outputs": [],
      "source": [
        "y_census_teste"
      ]
    },
    {
      "cell_type": "code",
      "execution_count": null,
      "metadata": {
        "id": "_JAtM61v2eiA"
      },
      "outputs": [],
      "source": [
        "accuracy_score(y_census_teste, previsoes) # não executar o escalonamento"
      ]
    },
    {
      "cell_type": "code",
      "execution_count": null,
      "metadata": {
        "id": "L0K6x5C-3B3e"
      },
      "outputs": [],
      "source": [
        "cm = ConfusionMatrix(naive_census)\n",
        "cm.fit(X_census_treinamento, y_census_treinamento)\n",
        "cm.score(X_census_teste, y_census_teste)"
      ]
    },
    {
      "cell_type": "code",
      "execution_count": null,
      "metadata": {
        "id": "73BnWAg83fkr"
      },
      "outputs": [],
      "source": [
        "print(classification_report(y_census_teste, previsoes))"
      ]
    },
    {
      "cell_type": "markdown",
      "metadata": {
        "id": "DjUu9ktyU4__"
      },
      "source": [
        "# Árvores de decisão"
      ]
    },
    {
      "cell_type": "code",
      "execution_count": null,
      "metadata": {
        "id": "9WB3PZAfYmJr"
      },
      "outputs": [],
      "source": [
        "from sklearn.tree import DecisionTreeClassifier"
      ]
    },
    {
      "cell_type": "markdown",
      "metadata": {
        "id": "PfnUWv8SU7ST"
      },
      "source": [
        "## Base risco de crédito"
      ]
    },
    {
      "cell_type": "code",
      "execution_count": null,
      "metadata": {
        "id": "ly9B-EiDYyXL"
      },
      "outputs": [],
      "source": [
        "import pickle\n",
        "with open('risco_credito.pkl', 'rb') as f:\n",
        "  X_risco_credito, y_risco_credito = pickle.load(f)"
      ]
    },
    {
      "cell_type": "code",
      "execution_count": null,
      "metadata": {
        "id": "5I3snhO0ZLwA"
      },
      "outputs": [],
      "source": [
        "X_risco_credito"
      ]
    },
    {
      "cell_type": "code",
      "execution_count": null,
      "metadata": {
        "id": "_DpHqDH3ZRo8"
      },
      "outputs": [],
      "source": [
        "y_risco_credito"
      ]
    },
    {
      "cell_type": "code",
      "execution_count": null,
      "metadata": {
        "id": "icU__5boZVKl"
      },
      "outputs": [],
      "source": [
        "arvore_risco_credito = DecisionTreeClassifier(criterion='entropy')\n",
        "arvore_risco_credito.fit(X_risco_credito, y_risco_credito)"
      ]
    },
    {
      "cell_type": "code",
      "execution_count": null,
      "metadata": {
        "id": "aKQXYAs_Z0Uh"
      },
      "outputs": [],
      "source": [
        "arvore_risco_credito.feature_importances_"
      ]
    },
    {
      "cell_type": "code",
      "execution_count": null,
      "metadata": {
        "id": "BbOiQy7zbByE"
      },
      "outputs": [],
      "source": [
        "arvore_risco_credito.classes_"
      ]
    },
    {
      "cell_type": "code",
      "execution_count": null,
      "metadata": {
        "id": "RDybElkVaIvA"
      },
      "outputs": [],
      "source": [
        "from sklearn import tree\n",
        "previsores = ['história', 'dívida', 'garantias', 'renda']\n",
        "figura, eixos = plt.subplots(nrows=1, ncols=1, figsize=(10,10))\n",
        "tree.plot_tree(arvore_risco_credito, feature_names=previsores, class_names = arvore_risco_credito.classes_, filled=True);"
      ]
    },
    {
      "cell_type": "code",
      "execution_count": null,
      "metadata": {
        "id": "-eoPV-YDbbl6"
      },
      "outputs": [],
      "source": [
        "# história boa, dívida alta, garantias nenhuma, renda > 35\n",
        "# história ruim, dívida alta, garantias adequada, renda < 15\n",
        "previsoes = arvore_risco_credito.predict([[0,0,1,2],[2,0,0,0]])\n",
        "previsoes"
      ]
    },
    {
      "cell_type": "markdown",
      "metadata": {
        "id": "TOCiDpHFU90w"
      },
      "source": [
        "## Base credit data - 98.20%"
      ]
    },
    {
      "cell_type": "code",
      "execution_count": null,
      "metadata": {
        "id": "2VDXesvpcpTi"
      },
      "outputs": [],
      "source": [
        "with open('credit.pkl', 'rb') as f:\n",
        "  X_credit_treinamento, y_credit_treinamento, X_credit_teste, y_credit_teste = pickle.load(f)"
      ]
    },
    {
      "cell_type": "code",
      "execution_count": null,
      "metadata": {
        "id": "CTU0tRB3c9aU"
      },
      "outputs": [],
      "source": [
        "X_credit_treinamento.shape, y_credit_treinamento.shape"
      ]
    },
    {
      "cell_type": "code",
      "execution_count": null,
      "metadata": {
        "id": "XOMt__xNdC_A"
      },
      "outputs": [],
      "source": [
        "X_credit_teste.shape, y_credit_teste.shape"
      ]
    },
    {
      "cell_type": "code",
      "execution_count": null,
      "metadata": {
        "id": "eplNbMEcdHap"
      },
      "outputs": [],
      "source": [
        "arvore_credit = DecisionTreeClassifier(criterion='entropy', random_state = 0)\n",
        "arvore_credit.fit(X_credit_treinamento, y_credit_treinamento)"
      ]
    },
    {
      "cell_type": "code",
      "execution_count": null,
      "metadata": {
        "id": "acB3m58gdZ95"
      },
      "outputs": [],
      "source": [
        "previsoes = arvore_credit.predict(X_credit_teste)\n",
        "previsoes"
      ]
    },
    {
      "cell_type": "code",
      "execution_count": null,
      "metadata": {
        "id": "_b7lIf-Xdh3-"
      },
      "outputs": [],
      "source": [
        "y_credit_teste"
      ]
    },
    {
      "cell_type": "code",
      "execution_count": null,
      "metadata": {
        "id": "XYWVMw3WdvRJ"
      },
      "outputs": [],
      "source": [
        "from sklearn.metrics import accuracy_score, classification_report"
      ]
    },
    {
      "cell_type": "code",
      "execution_count": null,
      "metadata": {
        "id": "uxVZTYeVdyln"
      },
      "outputs": [],
      "source": [
        "accuracy_score(y_credit_teste, previsoes)"
      ]
    },
    {
      "cell_type": "code",
      "execution_count": null,
      "metadata": {
        "id": "KyxnMFFcd-dV"
      },
      "outputs": [],
      "source": [
        "from yellowbrick.classifier import ConfusionMatrix\n",
        "cm = ConfusionMatrix(arvore_credit)\n",
        "cm.fit(X_credit_treinamento, y_credit_treinamento)\n",
        "cm.score(X_credit_teste, y_credit_teste)"
      ]
    },
    {
      "cell_type": "code",
      "execution_count": null,
      "metadata": {
        "id": "TOKN0sCQejMA"
      },
      "outputs": [],
      "source": [
        "print(classification_report(y_credit_teste, previsoes))"
      ]
    },
    {
      "cell_type": "code",
      "execution_count": null,
      "metadata": {
        "id": "qbIHsNpWfU9F"
      },
      "outputs": [],
      "source": [
        "arvore_credit.classes_"
      ]
    },
    {
      "cell_type": "code",
      "execution_count": null,
      "metadata": {
        "id": "OaEECZFwfM5A"
      },
      "outputs": [],
      "source": [
        "from sklearn import tree\n",
        "previsores = ['income', 'age', 'loan']\n",
        "fig, axes = plt.subplots(nrows = 1,ncols = 1,figsize = (20,20))\n",
        "tree.plot_tree(arvore_credit, feature_names=previsores, class_names=['0','1'], filled=True);\n",
        "fig.savefig('arvore_credit.png')"
      ]
    },
    {
      "cell_type": "markdown",
      "metadata": {
        "id": "sISIfqL0U_ss"
      },
      "source": [
        "## Base census - 81.04%"
      ]
    },
    {
      "cell_type": "code",
      "execution_count": null,
      "metadata": {
        "id": "jWdMniOCgVO4"
      },
      "outputs": [],
      "source": [
        "with open('census.pkl', 'rb') as f:\n",
        "  X_census_treinamento, y_census_treinamento, X_census_teste, y_census_teste = pickle.load(f)"
      ]
    },
    {
      "cell_type": "code",
      "execution_count": null,
      "metadata": {
        "id": "vlWneR9agXHN"
      },
      "outputs": [],
      "source": [
        "X_census_treinamento.shape, y_census_treinamento.shape"
      ]
    },
    {
      "cell_type": "code",
      "execution_count": null,
      "metadata": {
        "id": "hP_sOEabgZDR"
      },
      "outputs": [],
      "source": [
        "X_census_teste.shape, y_census_teste.shape"
      ]
    },
    {
      "cell_type": "code",
      "execution_count": null,
      "metadata": {
        "id": "WyxQwJcuhZxX"
      },
      "outputs": [],
      "source": [
        "arvore_census = DecisionTreeClassifier(criterion='entropy', random_state=0)\n",
        "arvore_census.fit(X_census_treinamento, y_census_treinamento)"
      ]
    },
    {
      "cell_type": "code",
      "execution_count": null,
      "metadata": {
        "id": "0PDMBzgchlZR"
      },
      "outputs": [],
      "source": [
        "previsoes = arvore_census.predict(X_census_teste)\n",
        "previsoes"
      ]
    },
    {
      "cell_type": "code",
      "execution_count": null,
      "metadata": {
        "id": "t19kME60hsZE"
      },
      "outputs": [],
      "source": [
        "y_census_teste"
      ]
    },
    {
      "cell_type": "code",
      "execution_count": null,
      "metadata": {
        "id": "BsAeZIpyhzVy"
      },
      "outputs": [],
      "source": [
        "accuracy_score(y_census_teste, previsoes)"
      ]
    },
    {
      "cell_type": "code",
      "execution_count": null,
      "metadata": {
        "id": "sN0Zkh2jR_m-"
      },
      "outputs": [],
      "source": [
        "from yellowbrick.classifier import ConfusionMatrix"
      ]
    },
    {
      "cell_type": "code",
      "execution_count": null,
      "metadata": {
        "id": "6sD6YJEqiC8_"
      },
      "outputs": [],
      "source": [
        "from yellowbrick.classifier import ConfusionMatrix\n",
        "#cm = ConfusionMatrix(arvore_credit) corrigido 10/04/2021\n",
        "cm = ConfusionMatrix(arvore_census)\n",
        "cm.fit(X_census_treinamento, y_census_treinamento)\n",
        "cm.score(X_census_teste, y_census_teste)"
      ]
    },
    {
      "cell_type": "code",
      "execution_count": null,
      "metadata": {
        "id": "T1MTOe3ziZ4B"
      },
      "outputs": [],
      "source": [
        "print(classification_report(y_census_teste, previsoes))"
      ]
    },
    {
      "cell_type": "markdown",
      "metadata": {
        "id": "BOPQLz28jDi7"
      },
      "source": [
        "# Random Forest"
      ]
    },
    {
      "cell_type": "code",
      "execution_count": null,
      "metadata": {
        "id": "4WvAs54_jVEF"
      },
      "outputs": [],
      "source": [
        "from sklearn.ensemble import RandomForestClassifier"
      ]
    },
    {
      "cell_type": "markdown",
      "metadata": {
        "id": "ZO-c0InojFK5"
      },
      "source": [
        "## Base credit data - 98.40%"
      ]
    },
    {
      "cell_type": "code",
      "execution_count": null,
      "metadata": {
        "id": "5TKwplJyjgQL"
      },
      "outputs": [],
      "source": [
        "import pickle\n",
        "with open('credit.pkl', 'rb') as f:\n",
        "  X_credit_treinamento, y_credit_treinamento, X_credit_teste, y_credit_teste = pickle.load(f)"
      ]
    },
    {
      "cell_type": "code",
      "execution_count": null,
      "metadata": {
        "id": "HYMUmxRcjoHA"
      },
      "outputs": [],
      "source": [
        "X_credit_treinamento.shape, y_credit_treinamento.shape"
      ]
    },
    {
      "cell_type": "code",
      "execution_count": null,
      "metadata": {
        "id": "AHCwA7CfjsiX"
      },
      "outputs": [],
      "source": [
        "X_credit_teste.shape, y_credit_teste.shape"
      ]
    },
    {
      "cell_type": "code",
      "execution_count": null,
      "metadata": {
        "id": "TERGTyNwju4t"
      },
      "outputs": [],
      "source": [
        "random_forest_credit = RandomForestClassifier(n_estimators=40, criterion='entropy', random_state = 0)\n",
        "random_forest_credit.fit(X_credit_treinamento, y_credit_treinamento)"
      ]
    },
    {
      "cell_type": "code",
      "execution_count": null,
      "metadata": {
        "id": "oxJBpA5rkO7o"
      },
      "outputs": [],
      "source": [
        "previsoes = random_forest_credit.predict(X_credit_teste)\n",
        "previsoes"
      ]
    },
    {
      "cell_type": "code",
      "execution_count": null,
      "metadata": {
        "id": "luiG5NigkX2R"
      },
      "outputs": [],
      "source": [
        "y_credit_teste"
      ]
    },
    {
      "cell_type": "code",
      "execution_count": null,
      "metadata": {
        "id": "nzWIt3WikfcF"
      },
      "outputs": [],
      "source": [
        "from sklearn.metrics import accuracy_score, classification_report\n",
        "accuracy_score(y_credit_teste, previsoes)"
      ]
    },
    {
      "cell_type": "code",
      "execution_count": null,
      "metadata": {
        "id": "PZXPd4lklYLP"
      },
      "outputs": [],
      "source": [
        "from yellowbrick.classifier import ConfusionMatrix\n",
        "cm = ConfusionMatrix(random_forest_credit)\n",
        "cm.fit(X_credit_treinamento, y_credit_treinamento)\n",
        "cm.score(X_credit_teste, y_credit_teste)"
      ]
    },
    {
      "cell_type": "code",
      "execution_count": null,
      "metadata": {
        "id": "3pf7Mx6OloBa"
      },
      "outputs": [],
      "source": [
        "print(classification_report(y_credit_teste, previsoes))"
      ]
    },
    {
      "cell_type": "markdown",
      "metadata": {
        "id": "0bLyVMFrjGzm"
      },
      "source": [
        "## Base census - 85.07%"
      ]
    },
    {
      "cell_type": "code",
      "execution_count": null,
      "metadata": {
        "id": "k5WuCHm4mTy7"
      },
      "outputs": [],
      "source": [
        "with open('census.pkl', 'rb') as f:\n",
        "  X_census_treinamento, y_census_treinamento, X_census_teste, y_census_teste = pickle.load(f)"
      ]
    },
    {
      "cell_type": "code",
      "execution_count": null,
      "metadata": {
        "id": "sH45U424mWeZ"
      },
      "outputs": [],
      "source": [
        "X_census_treinamento.shape, y_census_treinamento.shape"
      ]
    },
    {
      "cell_type": "code",
      "execution_count": null,
      "metadata": {
        "id": "NyZdB0tbmYNj"
      },
      "outputs": [],
      "source": [
        "X_census_teste.shape, y_census_teste.shape"
      ]
    },
    {
      "cell_type": "code",
      "execution_count": null,
      "metadata": {
        "id": "G_G_r_jlmayp"
      },
      "outputs": [],
      "source": [
        "y_census_treinamento"
      ]
    },
    {
      "cell_type": "code",
      "execution_count": null,
      "metadata": {
        "id": "mkJ7hNQ5nJ5c"
      },
      "outputs": [],
      "source": [
        "random_forest_census = RandomForestClassifier(n_estimators=100, criterion='entropy', random_state = 0)\n",
        "random_forest_census.fit(X_census_treinamento, y_census_treinamento)"
      ]
    },
    {
      "cell_type": "code",
      "execution_count": null,
      "metadata": {
        "id": "igHeOOPnnZ0m"
      },
      "outputs": [],
      "source": [
        "previsoes = random_forest_census.predict(X_census_teste)\n",
        "previsoes"
      ]
    },
    {
      "cell_type": "code",
      "execution_count": null,
      "metadata": {
        "id": "zlTjLf5KngZi"
      },
      "outputs": [],
      "source": [
        "y_census_teste"
      ]
    },
    {
      "cell_type": "code",
      "execution_count": null,
      "metadata": {
        "id": "wY55Wq1Hn2QB"
      },
      "outputs": [],
      "source": [
        "from sklearn.metrics import accuracy_score, classification_report\n",
        "accuracy_score(y_census_teste, previsoes)"
      ]
    },
    {
      "cell_type": "code",
      "execution_count": null,
      "metadata": {
        "id": "Sd0ikS5noa1e"
      },
      "outputs": [],
      "source": [
        "from yellowbrick.classifier import ConfusionMatrix\n",
        "cm = ConfusionMatrix(random_forest_census)\n",
        "cm.fit(X_census_treinamento, y_census_treinamento)\n",
        "cm.score(X_census_teste, y_census_teste)"
      ]
    },
    {
      "cell_type": "code",
      "execution_count": null,
      "metadata": {
        "id": "M2gTO24Qoj9G"
      },
      "outputs": [],
      "source": [
        "print(classification_report(y_census_teste, previsoes))"
      ]
    },
    {
      "cell_type": "markdown",
      "metadata": {
        "id": "h8ZVuJ-VDE8h"
      },
      "source": [
        "# Regras"
      ]
    },
    {
      "cell_type": "code",
      "execution_count": null,
      "metadata": {
        "id": "6FeVctGQEhYg"
      },
      "outputs": [],
      "source": [
        "# ATUALIZAÇÃO MAI-2025: é preciso explicitar a versão do Orange durante a instalação, conforme abaixo.\n",
        "# Depois de rodar esta célula, o Colab vai sugerir reiniciar o ambiente de execução, mas não é necessário.\n",
        "!pip install Orange3==3.36.2"
      ]
    },
    {
      "cell_type": "code",
      "execution_count": null,
      "metadata": {
        "id": "cVoUs1jvExRJ"
      },
      "outputs": [],
      "source": [
        "import Orange"
      ]
    },
    {
      "cell_type": "markdown",
      "metadata": {
        "id": "4gUvxQ_wDGt4"
      },
      "source": [
        "## Base risco de crédito"
      ]
    },
    {
      "cell_type": "code",
      "execution_count": null,
      "metadata": {
        "id": "JotbvF6BE2HC"
      },
      "outputs": [],
      "source": [
        "base_risco_credito = Orange.data.Table('risco_credito_regras.csv')"
      ]
    },
    {
      "cell_type": "code",
      "execution_count": null,
      "metadata": {
        "id": "NFP_btyJFjrt"
      },
      "outputs": [],
      "source": [
        "base_risco_credito"
      ]
    },
    {
      "cell_type": "code",
      "execution_count": null,
      "metadata": {
        "id": "S6fpfEpvFtgl"
      },
      "outputs": [],
      "source": [
        "base_risco_credito.domain"
      ]
    },
    {
      "cell_type": "code",
      "execution_count": null,
      "metadata": {
        "id": "Kz0nmdA1Fy67"
      },
      "outputs": [],
      "source": [
        "cn2 = Orange.classification.rules.CN2Learner()\n",
        "regras_risco_credito = cn2(base_risco_credito)"
      ]
    },
    {
      "cell_type": "code",
      "execution_count": null,
      "metadata": {
        "id": "5k6XhEgSGK4i"
      },
      "outputs": [],
      "source": [
        "for regras in regras_risco_credito.rule_list:\n",
        "  print(regras)"
      ]
    },
    {
      "cell_type": "code",
      "execution_count": null,
      "metadata": {
        "id": "zCvmpF6QGd6b"
      },
      "outputs": [],
      "source": [
        "# história boa, dívida alta, garantias nenhuma, renda > 35\n",
        "# história ruim, dívida alta, garantias adequada, renda < 15\n",
        "previsoes = regras_risco_credito([['boa', 'alta', 'nenhuma', 'acima_35'], ['ruim', 'alta', 'adequada', '0_15']])\n",
        "previsoes"
      ]
    },
    {
      "cell_type": "code",
      "execution_count": null,
      "metadata": {
        "id": "GrdBdDmpG7tR"
      },
      "outputs": [],
      "source": [
        "base_risco_credito.domain.class_var.values"
      ]
    },
    {
      "cell_type": "code",
      "execution_count": null,
      "metadata": {
        "id": "UP6orLokHKIc"
      },
      "outputs": [],
      "source": [
        "for i in previsoes:\n",
        "  #print(i)\n",
        "  print(base_risco_credito.domain.class_var.values[i])"
      ]
    },
    {
      "cell_type": "markdown",
      "metadata": {
        "id": "SN9q4qQiDIsi"
      },
      "source": [
        "## Base credit data - 97.40%"
      ]
    },
    {
      "cell_type": "code",
      "execution_count": null,
      "metadata": {
        "id": "QuSE07tsIuKc"
      },
      "outputs": [],
      "source": [
        "base_credit = Orange.data.Table('/content/credit_data_regras.csv')"
      ]
    },
    {
      "cell_type": "code",
      "execution_count": null,
      "metadata": {
        "id": "dobXFvYAJHSV"
      },
      "outputs": [],
      "source": [
        "base_credit.domain"
      ]
    },
    {
      "cell_type": "code",
      "execution_count": null,
      "metadata": {
        "id": "SkJKeptJJTFp"
      },
      "outputs": [],
      "source": [
        "base_dividida = Orange.evaluation.testing.sample(base_credit, n = 0.25)"
      ]
    },
    {
      "cell_type": "code",
      "execution_count": null,
      "metadata": {
        "id": "woLF8PBXJc88"
      },
      "outputs": [],
      "source": [
        "base_dividida"
      ]
    },
    {
      "cell_type": "code",
      "execution_count": null,
      "metadata": {
        "id": "q5Nhh6j4JjZw"
      },
      "outputs": [],
      "source": [
        "base_dividida[0]"
      ]
    },
    {
      "cell_type": "code",
      "execution_count": null,
      "metadata": {
        "id": "hqZ62jxpJmUo"
      },
      "outputs": [],
      "source": [
        "base_dividida[1]"
      ]
    },
    {
      "cell_type": "code",
      "execution_count": null,
      "metadata": {
        "id": "UiDXtlkfJpvt"
      },
      "outputs": [],
      "source": [
        "base_treinamento = base_dividida[1]\n",
        "base_teste = base_dividida[0]"
      ]
    },
    {
      "cell_type": "code",
      "execution_count": null,
      "metadata": {
        "id": "vy3NAF4FJyb6"
      },
      "outputs": [],
      "source": [
        "len(base_treinamento), len(base_teste)"
      ]
    },
    {
      "cell_type": "code",
      "execution_count": null,
      "metadata": {
        "id": "yX98QMQTJ4OB"
      },
      "outputs": [],
      "source": [
        "cn2 = Orange.classification.rules.CN2Learner()\n",
        "regras_credit = cn2(base_treinamento)"
      ]
    },
    {
      "cell_type": "code",
      "execution_count": null,
      "metadata": {
        "id": "cAyvYmKVKBax"
      },
      "outputs": [],
      "source": [
        "for regras in regras_credit.rule_list:\n",
        "  print(regras)"
      ]
    },
    {
      "cell_type": "code",
      "execution_count": null,
      "metadata": {
        "id": "yl6zfDdlKZU8"
      },
      "outputs": [],
      "source": [
        "previsoes = Orange.evaluation.testing.TestOnTestData(base_treinamento, base_teste, [lambda testdata: regras_credit])"
      ]
    },
    {
      "cell_type": "code",
      "execution_count": null,
      "metadata": {
        "id": "PT0mtQHRKqzJ"
      },
      "outputs": [],
      "source": [
        "previsoes"
      ]
    },
    {
      "cell_type": "code",
      "execution_count": null,
      "metadata": {
        "id": "cBo2fgbsKvUo"
      },
      "outputs": [],
      "source": [
        "Orange.evaluation.CA(previsoes)"
      ]
    },
    {
      "cell_type": "markdown",
      "metadata": {
        "id": "E2S9lDBTDKE6"
      },
      "source": [
        "## Base census - 78.90% (executado na interface gráfica do Orange)"
      ]
    },
    {
      "cell_type": "markdown",
      "metadata": {
        "id": "0v5iHxzcNPNK"
      },
      "source": [
        "# Classificador base - Majority learner"
      ]
    },
    {
      "cell_type": "markdown",
      "metadata": {
        "id": "TWW4JhkLNS0t"
      },
      "source": [
        "## Base credit data - 85.85%"
      ]
    },
    {
      "cell_type": "code",
      "execution_count": null,
      "metadata": {
        "id": "W0jSC1J5OJU4"
      },
      "outputs": [],
      "source": [
        "base_credit = Orange.data.Table('credit_data_regras.csv')"
      ]
    },
    {
      "cell_type": "code",
      "execution_count": null,
      "metadata": {
        "id": "MBUnH2VHOaTD"
      },
      "outputs": [],
      "source": [
        "base_credit.domain"
      ]
    },
    {
      "cell_type": "code",
      "execution_count": null,
      "metadata": {
        "id": "s8ptBHrFOd5u"
      },
      "outputs": [],
      "source": [
        "majority = Orange.classification.MajorityLearner()"
      ]
    },
    {
      "cell_type": "code",
      "execution_count": null,
      "metadata": {
        "id": "0vyKSrmtOiL1"
      },
      "outputs": [],
      "source": [
        "previsoes = Orange.evaluation.testing.TestOnTestData(base_credit, base_credit, [majority])"
      ]
    },
    {
      "cell_type": "code",
      "execution_count": null,
      "metadata": {
        "id": "cEjSSc1GOuk-"
      },
      "outputs": [],
      "source": [
        "Orange.evaluation.CA(previsoes)"
      ]
    },
    {
      "cell_type": "code",
      "execution_count": null,
      "metadata": {
        "id": "qPuqn8mkO1Bl"
      },
      "outputs": [],
      "source": [
        "for registro in base_credit:\n",
        "  print(registro.get_class())"
      ]
    },
    {
      "cell_type": "code",
      "execution_count": null,
      "metadata": {
        "id": "P-YpGhWKPCiv"
      },
      "outputs": [],
      "source": [
        "from collections import Counter\n",
        "Counter(str(registro.get_class()) for registro in base_credit)"
      ]
    },
    {
      "cell_type": "code",
      "execution_count": null,
      "metadata": {
        "id": "13NUGhhTPVqn"
      },
      "outputs": [],
      "source": [
        "1717 / 2000"
      ]
    },
    {
      "cell_type": "markdown",
      "metadata": {
        "id": "e6tDYDLUNUWH"
      },
      "source": [
        "## Base census - 75.91%"
      ]
    },
    {
      "cell_type": "code",
      "execution_count": null,
      "metadata": {
        "id": "9SVmh75gQqRH"
      },
      "outputs": [],
      "source": [
        "base_census = Orange.data.Table('census_regras.csv')"
      ]
    },
    {
      "cell_type": "code",
      "execution_count": null,
      "metadata": {
        "id": "OaLq4sn-Q2Ul"
      },
      "outputs": [],
      "source": [
        "base_census.domain"
      ]
    },
    {
      "cell_type": "code",
      "execution_count": null,
      "metadata": {
        "id": "upiW6xtQQ_T4"
      },
      "outputs": [],
      "source": [
        "majority = Orange.classification.MajorityLearner()\n",
        "previsoes = Orange.evaluation.testing.TestOnTestData(base_census, base_census, [majority])\n",
        "Orange.evaluation.CA(previsoes)"
      ]
    },
    {
      "cell_type": "code",
      "execution_count": null,
      "metadata": {
        "id": "DtiCx4oLRwDS"
      },
      "outputs": [],
      "source": [
        "Counter(str(registro.get_class()) for registro in base_census)"
      ]
    },
    {
      "cell_type": "code",
      "execution_count": null,
      "metadata": {
        "id": "O6880j0IR4dV"
      },
      "outputs": [],
      "source": [
        "24720 / (24720 + 7841)"
      ]
    },
    {
      "cell_type": "markdown",
      "metadata": {
        "id": "_lPLnCYVTQGk"
      },
      "source": [
        "# Aprendizagem baseada em instâncias - knn"
      ]
    },
    {
      "cell_type": "code",
      "execution_count": null,
      "metadata": {
        "id": "0vfqZ5eEXpFz"
      },
      "outputs": [],
      "source": [
        "from sklearn.neighbors import KNeighborsClassifier"
      ]
    },
    {
      "cell_type": "markdown",
      "metadata": {
        "id": "oVZ33-HhTUcV"
      },
      "source": [
        "## Base credit data - 98.60%"
      ]
    },
    {
      "cell_type": "code",
      "execution_count": null,
      "metadata": {
        "id": "Wrwt0OWwW2oM"
      },
      "outputs": [],
      "source": [
        "import pickle\n",
        "with open('credit.pkl', 'rb') as f:\n",
        "  X_credit_treinamento, y_credit_treinamento, X_credit_teste, y_credit_teste = pickle.load(f)"
      ]
    },
    {
      "cell_type": "code",
      "execution_count": null,
      "metadata": {
        "id": "7oVZ2h01W41G"
      },
      "outputs": [],
      "source": [
        "X_credit_treinamento.shape, y_credit_treinamento.shape"
      ]
    },
    {
      "cell_type": "code",
      "execution_count": null,
      "metadata": {
        "id": "AKtVPiIfW6x6"
      },
      "outputs": [],
      "source": [
        "X_credit_teste.shape, y_credit_teste.shape"
      ]
    },
    {
      "cell_type": "code",
      "execution_count": null,
      "metadata": {
        "id": "xkC1VdFmXvcz"
      },
      "outputs": [],
      "source": [
        "knn_credit = KNeighborsClassifier(n_neighbors=5, metric='minkowski', p = 2)\n",
        "knn_credit.fit(X_credit_treinamento, y_credit_treinamento)"
      ]
    },
    {
      "cell_type": "code",
      "execution_count": null,
      "metadata": {
        "id": "sSCtq6WKYlFx"
      },
      "outputs": [],
      "source": [
        "previsoes = knn_credit.predict(X_credit_teste)\n",
        "previsoes"
      ]
    },
    {
      "cell_type": "code",
      "execution_count": null,
      "metadata": {
        "id": "MeEsIvG6Yq2o"
      },
      "outputs": [],
      "source": [
        "y_credit_teste"
      ]
    },
    {
      "cell_type": "code",
      "execution_count": null,
      "metadata": {
        "id": "vFRKQkgwYx64"
      },
      "outputs": [],
      "source": [
        "from sklearn.metrics import accuracy_score, classification_report\n",
        "accuracy_score(y_credit_teste, previsoes) # padronização"
      ]
    },
    {
      "cell_type": "code",
      "execution_count": null,
      "metadata": {
        "id": "N3L_y8P4ZN2Q"
      },
      "outputs": [],
      "source": [
        "from yellowbrick.classifier import ConfusionMatrix\n",
        "cm = ConfusionMatrix(knn_credit)\n",
        "cm.fit(X_credit_treinamento, y_credit_treinamento)\n",
        "cm.score(X_credit_teste, y_credit_teste)"
      ]
    },
    {
      "cell_type": "code",
      "execution_count": null,
      "metadata": {
        "id": "L8yIkbWtZYpG"
      },
      "outputs": [],
      "source": [
        "print(classification_report(y_credit_teste, previsoes))"
      ]
    },
    {
      "cell_type": "markdown",
      "metadata": {
        "id": "y5tg1RPDTWPu"
      },
      "source": [
        "## Base census - 82.90%"
      ]
    },
    {
      "cell_type": "code",
      "execution_count": null,
      "metadata": {
        "id": "iFLBmnKgaVvV"
      },
      "outputs": [],
      "source": [
        "with open('census.pkl', 'rb') as f:\n",
        "  X_census_treinamento, y_census_treinamento, X_census_teste, y_census_teste = pickle.load(f)"
      ]
    },
    {
      "cell_type": "code",
      "execution_count": null,
      "metadata": {
        "id": "i2KGOmg8aXm9"
      },
      "outputs": [],
      "source": [
        "X_census_treinamento.shape, y_census_treinamento.shape"
      ]
    },
    {
      "cell_type": "code",
      "execution_count": null,
      "metadata": {
        "id": "H8lNrkBeaZgx"
      },
      "outputs": [],
      "source": [
        "X_census_teste.shape, y_census_teste.shape"
      ]
    },
    {
      "cell_type": "code",
      "execution_count": null,
      "metadata": {
        "id": "pkIK4syMbXbg"
      },
      "outputs": [],
      "source": [
        "knn_census = KNeighborsClassifier(n_neighbors=10)\n",
        "knn_census.fit(X_census_treinamento, y_census_treinamento)"
      ]
    },
    {
      "cell_type": "code",
      "execution_count": null,
      "metadata": {
        "id": "lVaWXMBYbsPx"
      },
      "outputs": [],
      "source": [
        "previsoes = knn_census.predict(X_census_teste)\n",
        "previsoes"
      ]
    },
    {
      "cell_type": "code",
      "execution_count": null,
      "metadata": {
        "id": "OAx9NscccA8r"
      },
      "outputs": [],
      "source": [
        "y_census_teste"
      ]
    },
    {
      "cell_type": "code",
      "execution_count": null,
      "metadata": {
        "id": "9cRPQbCecLUR"
      },
      "outputs": [],
      "source": [
        "from sklearn.metrics import accuracy_score, classification_report\n",
        "accuracy_score(y_census_teste, previsoes)"
      ]
    },
    {
      "cell_type": "code",
      "execution_count": null,
      "metadata": {
        "id": "ppyL0VtmdlHV"
      },
      "outputs": [],
      "source": [
        "from yellowbrick.classifier import ConfusionMatrix\n",
        "cm = ConfusionMatrix(knn_census)\n",
        "cm.fit(X_census_treinamento, y_census_treinamento)\n",
        "cm.score(X_census_teste, y_census_teste)"
      ]
    },
    {
      "cell_type": "code",
      "execution_count": null,
      "metadata": {
        "id": "HXeviFQJd-TG"
      },
      "outputs": [],
      "source": [
        "print(classification_report(y_census_teste, previsoes))"
      ]
    },
    {
      "cell_type": "markdown",
      "metadata": {
        "id": "7q-aePyAQIcY"
      },
      "source": [
        "# Regressão logística"
      ]
    },
    {
      "cell_type": "code",
      "execution_count": null,
      "metadata": {
        "id": "woh5hyXwR_Rf"
      },
      "outputs": [],
      "source": [
        "from sklearn.linear_model import LogisticRegression"
      ]
    },
    {
      "cell_type": "markdown",
      "metadata": {
        "id": "wfNpnNK8QKut"
      },
      "source": [
        "## Base risco de crédito"
      ]
    },
    {
      "cell_type": "code",
      "execution_count": null,
      "metadata": {
        "id": "gE66NDabQrkY"
      },
      "outputs": [],
      "source": [
        "import pickle\n",
        "with open('risco_credito.pkl', 'rb') as f:\n",
        "  X_risco_credito, y_risco_credito = pickle.load(f)"
      ]
    },
    {
      "cell_type": "code",
      "execution_count": null,
      "metadata": {
        "id": "UDGIKrEpQsv0"
      },
      "outputs": [],
      "source": [
        "X_risco_credito"
      ]
    },
    {
      "cell_type": "code",
      "execution_count": null,
      "metadata": {
        "id": "AFq67U1JQuBj"
      },
      "outputs": [],
      "source": [
        "y_risco_credito # 2, 7, 11"
      ]
    },
    {
      "cell_type": "code",
      "execution_count": null,
      "metadata": {
        "id": "MrvB77XcRnfd"
      },
      "outputs": [],
      "source": [
        "X_risco_credito = np.delete(X_risco_credito, [2, 7, 11], axis = 0)\n",
        "y_risco_credito = np.delete(y_risco_credito, [2, 7, 11], axis = 0)"
      ]
    },
    {
      "cell_type": "code",
      "execution_count": null,
      "metadata": {
        "id": "7wFGPDVYR211"
      },
      "outputs": [],
      "source": [
        "X_risco_credito"
      ]
    },
    {
      "cell_type": "code",
      "execution_count": null,
      "metadata": {
        "id": "vMa60MSKR65S"
      },
      "outputs": [],
      "source": [
        "y_risco_credito"
      ]
    },
    {
      "cell_type": "code",
      "execution_count": null,
      "metadata": {
        "id": "u1qa7kuOSEcV"
      },
      "outputs": [],
      "source": [
        "logistic_risco_credito = LogisticRegression(random_state = 1)\n",
        "logistic_risco_credito.fit(X_risco_credito, y_risco_credito)"
      ]
    },
    {
      "cell_type": "code",
      "execution_count": null,
      "metadata": {
        "id": "h2jo-P-2SymX"
      },
      "outputs": [],
      "source": [
        "logistic_risco_credito.intercept_"
      ]
    },
    {
      "cell_type": "code",
      "execution_count": null,
      "metadata": {
        "id": "UESnWXG_TZAq"
      },
      "outputs": [],
      "source": [
        "logistic_risco_credito.coef_"
      ]
    },
    {
      "cell_type": "code",
      "execution_count": null,
      "metadata": {
        "id": "ssgOJ3t1TkuL"
      },
      "outputs": [],
      "source": [
        "# história boa, dívida alta, garantias nenhuma, renda > 35\n",
        "# história ruim, dívida alta, garantias adequada, renda < 15\n",
        "previsoes1 = logistic_risco_credito.predict([[0,0,1,2], [2,0,0,0]])\n",
        "previsoes1"
      ]
    },
    {
      "cell_type": "markdown",
      "metadata": {
        "id": "v4BNXREgQM5G"
      },
      "source": [
        "## Base credit data - 94.60%"
      ]
    },
    {
      "cell_type": "code",
      "execution_count": null,
      "metadata": {
        "id": "tG_yfN_TVclB"
      },
      "outputs": [],
      "source": [
        "import pickle\n",
        "with open('credit.pkl', 'rb') as f:\n",
        "  X_credit_treinamento, y_credit_treinamento, X_credit_teste, y_credit_teste = pickle.load(f)"
      ]
    },
    {
      "cell_type": "code",
      "execution_count": null,
      "metadata": {
        "id": "l6hNNTM1VeUm"
      },
      "outputs": [],
      "source": [
        "X_credit_treinamento.shape, y_credit_treinamento.shape"
      ]
    },
    {
      "cell_type": "code",
      "execution_count": null,
      "metadata": {
        "id": "yKCldnZzVgQy"
      },
      "outputs": [],
      "source": [
        "X_credit_teste.shape, y_credit_teste.shape"
      ]
    },
    {
      "cell_type": "code",
      "execution_count": null,
      "metadata": {
        "id": "f_RnL43VV9Yc"
      },
      "outputs": [],
      "source": [
        "logistic_credit = LogisticRegression(random_state=1)\n",
        "logistic_credit.fit(X_credit_treinamento, y_credit_treinamento)"
      ]
    },
    {
      "cell_type": "code",
      "execution_count": null,
      "metadata": {
        "id": "I7EqQihmWIQG"
      },
      "outputs": [],
      "source": [
        "logistic_credit.intercept_"
      ]
    },
    {
      "cell_type": "code",
      "execution_count": null,
      "metadata": {
        "id": "6BS-aVjsWK_0"
      },
      "outputs": [],
      "source": [
        "logistic_credit.coef_"
      ]
    },
    {
      "cell_type": "code",
      "execution_count": null,
      "metadata": {
        "id": "zKlba1wBWX1O"
      },
      "outputs": [],
      "source": [
        "previsoes = logistic_credit.predict(X_credit_teste)\n",
        "previsoes"
      ]
    },
    {
      "cell_type": "code",
      "execution_count": null,
      "metadata": {
        "id": "2PvIEOUQWe5V"
      },
      "outputs": [],
      "source": [
        "y_credit_teste"
      ]
    },
    {
      "cell_type": "code",
      "execution_count": null,
      "metadata": {
        "id": "rZ1koXmXWl0G"
      },
      "outputs": [],
      "source": [
        "from sklearn.metrics import accuracy_score, classification_report\n",
        "accuracy_score(y_credit_teste, previsoes)"
      ]
    },
    {
      "cell_type": "code",
      "execution_count": null,
      "metadata": {
        "id": "FOCsTLpmWy7C"
      },
      "outputs": [],
      "source": [
        "from yellowbrick.classifier import ConfusionMatrix\n",
        "cm = ConfusionMatrix(logistic_credit)\n",
        "cm.fit(X_credit_treinamento, y_credit_treinamento)\n",
        "cm.score(X_credit_teste, y_credit_teste)"
      ]
    },
    {
      "cell_type": "code",
      "execution_count": null,
      "metadata": {
        "id": "eDmg-WNLW_tW"
      },
      "outputs": [],
      "source": [
        "print(classification_report(y_credit_teste, previsoes))"
      ]
    },
    {
      "cell_type": "markdown",
      "metadata": {
        "id": "HsYao96MQOd0"
      },
      "source": [
        "## Base census - 84.95%"
      ]
    },
    {
      "cell_type": "code",
      "execution_count": null,
      "metadata": {
        "id": "HXvqV1mAXk5F"
      },
      "outputs": [],
      "source": [
        "with open('census.pkl', 'rb') as f:\n",
        "  X_census_treinamento, y_census_treinamento, X_census_teste, y_census_teste = pickle.load(f)"
      ]
    },
    {
      "cell_type": "code",
      "execution_count": null,
      "metadata": {
        "id": "16rj4fjwXvtz"
      },
      "outputs": [],
      "source": [
        "X_census_treinamento.shape, y_census_treinamento.shape"
      ]
    },
    {
      "cell_type": "code",
      "execution_count": null,
      "metadata": {
        "id": "bcGxftVtXxne"
      },
      "outputs": [],
      "source": [
        "X_census_teste.shape, y_census_teste.shape"
      ]
    },
    {
      "cell_type": "code",
      "execution_count": null,
      "metadata": {
        "id": "UB2z7IASYEVp"
      },
      "outputs": [],
      "source": [
        "logistic_census = LogisticRegression(random_state = 1)\n",
        "logistic_census.fit(X_census_treinamento, y_census_treinamento)"
      ]
    },
    {
      "cell_type": "code",
      "execution_count": null,
      "metadata": {
        "id": "FatYKw0qYQs0"
      },
      "outputs": [],
      "source": [
        "previsoes = logistic_census.predict(X_census_teste)\n",
        "previsoes"
      ]
    },
    {
      "cell_type": "code",
      "execution_count": null,
      "metadata": {
        "id": "F1k6Kf8fYXXh"
      },
      "outputs": [],
      "source": [
        "y_census_teste"
      ]
    },
    {
      "cell_type": "code",
      "execution_count": null,
      "metadata": {
        "id": "Pl4nR6NYYecM"
      },
      "outputs": [],
      "source": [
        "from sklearn.metrics import accuracy_score, classification_report\n",
        "accuracy_score(y_census_teste, previsoes)"
      ]
    },
    {
      "cell_type": "code",
      "execution_count": null,
      "metadata": {
        "id": "PVYBlwDJYvvW"
      },
      "outputs": [],
      "source": [
        "from yellowbrick.classifier import ConfusionMatrix\n",
        "cm = ConfusionMatrix(logistic_census)\n",
        "cm.fit(X_census_treinamento, y_census_treinamento)\n",
        "cm.score(X_census_teste, y_census_teste)"
      ]
    },
    {
      "cell_type": "code",
      "execution_count": null,
      "metadata": {
        "id": "JWqMkmImY6ax"
      },
      "outputs": [],
      "source": [
        "print(classification_report(y_census_teste, previsoes))"
      ]
    },
    {
      "cell_type": "markdown",
      "metadata": {
        "id": "IMKqPBZ0ZXHc"
      },
      "source": [
        "# SVM"
      ]
    },
    {
      "cell_type": "code",
      "execution_count": null,
      "metadata": {
        "id": "HMcADIZNamRz"
      },
      "outputs": [],
      "source": [
        "from sklearn.svm import SVC"
      ]
    },
    {
      "cell_type": "markdown",
      "metadata": {
        "id": "_l47QkKfZYYX"
      },
      "source": [
        "## Base credit data - 98.80%"
      ]
    },
    {
      "cell_type": "code",
      "execution_count": null,
      "metadata": {
        "id": "a6XhbXCwauoW"
      },
      "outputs": [],
      "source": [
        "import pickle\n",
        "with open('credit.pkl', 'rb') as f:\n",
        "  X_credit_treinamento, y_credit_treinamento, X_credit_teste, y_credit_teste = pickle.load(f)"
      ]
    },
    {
      "cell_type": "code",
      "execution_count": null,
      "metadata": {
        "id": "fh_-t966a2oT"
      },
      "outputs": [],
      "source": [
        "X_credit_treinamento.shape, y_credit_treinamento.shape"
      ]
    },
    {
      "cell_type": "code",
      "execution_count": null,
      "metadata": {
        "id": "VM1Zcbv-a8DH"
      },
      "outputs": [],
      "source": [
        "X_credit_teste.shape, y_credit_teste.shape"
      ]
    },
    {
      "cell_type": "code",
      "execution_count": null,
      "metadata": {
        "id": "P7xKKTCabAab"
      },
      "outputs": [],
      "source": [
        "svm_credit = SVC(kernel='rbf', random_state=1, C = 2.0) # 2 -> 4\n",
        "svm_credit.fit(X_credit_treinamento, y_credit_treinamento)"
      ]
    },
    {
      "cell_type": "code",
      "execution_count": null,
      "metadata": {
        "id": "VjKeaHKrbicN"
      },
      "outputs": [],
      "source": [
        "previsoes = svm_credit.predict(X_credit_teste)\n",
        "previsoes"
      ]
    },
    {
      "cell_type": "code",
      "execution_count": null,
      "metadata": {
        "id": "kspqvp3Obn-C"
      },
      "outputs": [],
      "source": [
        "y_credit_teste"
      ]
    },
    {
      "cell_type": "code",
      "execution_count": null,
      "metadata": {
        "id": "uxLpKFI6bzNF"
      },
      "outputs": [],
      "source": [
        "from sklearn.metrics import accuracy_score, classification_report\n",
        "accuracy_score(y_credit_teste, previsoes)"
      ]
    },
    {
      "cell_type": "code",
      "execution_count": null,
      "metadata": {
        "id": "etgwtCInc-5k"
      },
      "outputs": [],
      "source": [
        "from yellowbrick.classifier import ConfusionMatrix\n",
        "cm = ConfusionMatrix(svm_credit)\n",
        "cm.fit(X_credit_treinamento, y_credit_treinamento)\n",
        "cm.score(X_credit_teste, y_credit_teste)"
      ]
    },
    {
      "cell_type": "code",
      "execution_count": null,
      "metadata": {
        "id": "4-PQpA45dH1f"
      },
      "outputs": [],
      "source": [
        "print(classification_report(y_credit_teste, previsoes))"
      ]
    },
    {
      "cell_type": "markdown",
      "metadata": {
        "id": "IDcs56b6ZZ-o"
      },
      "source": [
        "## Base census - 85.07%"
      ]
    },
    {
      "cell_type": "code",
      "execution_count": null,
      "metadata": {
        "id": "iAw7ATyieJOD"
      },
      "outputs": [],
      "source": [
        "with open('census.pkl', 'rb') as f:\n",
        "  X_census_treinamento, y_census_treinamento, X_census_teste, y_census_teste = pickle.load(f)"
      ]
    },
    {
      "cell_type": "code",
      "execution_count": null,
      "metadata": {
        "id": "nFI2riYmeLJ7"
      },
      "outputs": [],
      "source": [
        "X_census_treinamento.shape, y_census_treinamento.shape"
      ]
    },
    {
      "cell_type": "code",
      "execution_count": null,
      "metadata": {
        "id": "tIsy_6LyeNGJ"
      },
      "outputs": [],
      "source": [
        "X_census_teste.shape, y_census_teste.shape"
      ]
    },
    {
      "cell_type": "code",
      "execution_count": null,
      "metadata": {
        "id": "pdDpiTHBeyzG"
      },
      "outputs": [],
      "source": [
        "svm_census = SVC(kernel='linear', random_state=1)\n",
        "svm_census.fit(X_census_treinamento, y_census_treinamento)"
      ]
    },
    {
      "cell_type": "code",
      "execution_count": null,
      "metadata": {
        "id": "cxmKRXMIfuDH"
      },
      "outputs": [],
      "source": [
        "previsoes = svm_census.predict(X_census_teste)\n",
        "previsoes"
      ]
    },
    {
      "cell_type": "code",
      "execution_count": null,
      "metadata": {
        "id": "rpZFVVGFf1RR"
      },
      "outputs": [],
      "source": [
        "y_census_teste"
      ]
    },
    {
      "cell_type": "code",
      "execution_count": null,
      "metadata": {
        "id": "vyhcvmiLf7sG"
      },
      "outputs": [],
      "source": [
        "from sklearn.metrics import accuracy_score, classification_report\n",
        "accuracy_score(y_census_teste, previsoes)"
      ]
    },
    {
      "cell_type": "code",
      "execution_count": null,
      "metadata": {
        "id": "CqWeWHmWgO5x"
      },
      "outputs": [],
      "source": [
        "from yellowbrick.classifier import ConfusionMatrix\n",
        "cm = ConfusionMatrix(svm_census)\n",
        "cm.fit(X_census_treinamento, y_census_treinamento)\n",
        "cm.score(X_census_teste, y_census_teste)"
      ]
    },
    {
      "cell_type": "code",
      "execution_count": null,
      "metadata": {
        "id": "T4DbQ4Reg81I"
      },
      "outputs": [],
      "source": [
        "print(classification_report(y_census_teste, previsoes))"
      ]
    },
    {
      "cell_type": "markdown",
      "metadata": {
        "id": "fSNUSSeOhqAd"
      },
      "source": [
        "# Redes neurais artificiais"
      ]
    },
    {
      "cell_type": "code",
      "execution_count": null,
      "metadata": {
        "id": "FvdcLLQLnFIW"
      },
      "outputs": [],
      "source": [
        "from sklearn.neural_network import MLPClassifier"
      ]
    },
    {
      "cell_type": "markdown",
      "metadata": {
        "id": "foQGPam1hrwG"
      },
      "source": [
        "## Base credit data - 99.80%"
      ]
    },
    {
      "cell_type": "code",
      "execution_count": null,
      "metadata": {
        "id": "C6uL7hyzm8Dd"
      },
      "outputs": [],
      "source": [
        "import pickle\n",
        "with open('credit.pkl', 'rb') as f:\n",
        "  X_credit_treinamento, y_credit_treinamento, X_credit_teste, y_credit_teste = pickle.load(f)"
      ]
    },
    {
      "cell_type": "code",
      "execution_count": null,
      "metadata": {
        "id": "SIVKNjPom-Dr"
      },
      "outputs": [],
      "source": [
        "X_credit_treinamento.shape, y_credit_treinamento.shape"
      ]
    },
    {
      "cell_type": "code",
      "execution_count": null,
      "metadata": {
        "id": "Df5EfDyjnAB6"
      },
      "outputs": [],
      "source": [
        "X_credit_teste.shape, y_credit_teste.shape"
      ]
    },
    {
      "cell_type": "code",
      "execution_count": null,
      "metadata": {
        "id": "0c7fjRs-qePa"
      },
      "outputs": [],
      "source": [
        "(3 + 1) / 2"
      ]
    },
    {
      "cell_type": "code",
      "execution_count": null,
      "metadata": {
        "id": "BCGNa_d8nYOf"
      },
      "outputs": [],
      "source": [
        "# 3 -> 100 -> 100 -> 1\n",
        "# 3 -> 2 -> 2 -> 1\n",
        "rede_neural_credit = MLPClassifier(max_iter=1500, verbose=True, tol=0.0000100,\n",
        "                                   solver = 'adam', activation = 'relu',\n",
        "                                   hidden_layer_sizes = (20,20))\n",
        "rede_neural_credit.fit(X_credit_treinamento, y_credit_treinamento)"
      ]
    },
    {
      "cell_type": "code",
      "execution_count": null,
      "metadata": {
        "id": "Bmn64K7vqzx1"
      },
      "outputs": [],
      "source": [
        "previsoes = rede_neural_credit.predict(X_credit_teste)\n",
        "previsoes"
      ]
    },
    {
      "cell_type": "code",
      "execution_count": null,
      "metadata": {
        "id": "AzFRj9riq9gc"
      },
      "outputs": [],
      "source": [
        "y_credit_teste"
      ]
    },
    {
      "cell_type": "code",
      "execution_count": null,
      "metadata": {
        "id": "4vRZgbSerBNW"
      },
      "outputs": [],
      "source": [
        "from sklearn.metrics import accuracy_score, classification_report\n",
        "accuracy_score(y_credit_teste, previsoes)"
      ]
    },
    {
      "cell_type": "code",
      "execution_count": null,
      "metadata": {
        "id": "XwtALw-Mronz"
      },
      "outputs": [],
      "source": [
        "from yellowbrick.classifier import ConfusionMatrix\n",
        "cm = ConfusionMatrix(rede_neural_credit)\n",
        "cm.fit(X_credit_treinamento, y_credit_treinamento)\n",
        "cm.score(X_credit_teste, y_credit_teste)"
      ]
    },
    {
      "cell_type": "code",
      "execution_count": null,
      "metadata": {
        "id": "rWj1N8ANsYrI"
      },
      "outputs": [],
      "source": [
        "print(classification_report(y_credit_teste, previsoes))"
      ]
    },
    {
      "cell_type": "markdown",
      "metadata": {
        "id": "wBeiHfvihtMZ"
      },
      "source": [
        "## Base census - 81.53%"
      ]
    },
    {
      "cell_type": "code",
      "execution_count": null,
      "metadata": {
        "id": "CV0uo4LFs-GU"
      },
      "outputs": [],
      "source": [
        "with open('census.pkl', 'rb') as f:\n",
        "  X_census_treinamento, y_census_treinamento, X_census_teste, y_census_teste = pickle.load(f)"
      ]
    },
    {
      "cell_type": "code",
      "execution_count": null,
      "metadata": {
        "id": "e8Xnk0tztAWw"
      },
      "outputs": [],
      "source": [
        "X_census_treinamento.shape, y_census_treinamento.shape"
      ]
    },
    {
      "cell_type": "code",
      "execution_count": null,
      "metadata": {
        "id": "fWPc6R6NtCyf"
      },
      "outputs": [],
      "source": [
        "X_census_teste.shape, y_census_teste.shape"
      ]
    },
    {
      "cell_type": "code",
      "execution_count": null,
      "metadata": {
        "id": "QIhQjIv-thWw"
      },
      "outputs": [],
      "source": [
        "(108 + 1) / 2"
      ]
    },
    {
      "cell_type": "code",
      "execution_count": null,
      "metadata": {
        "id": "ewuPX3oNtSgX"
      },
      "outputs": [],
      "source": [
        "# 108 -> 55 -> 55 -> 1\n",
        "rede_neural_census = MLPClassifier(verbose=True, max_iter = 1000, tol=0.000010,\n",
        "                                  hidden_layer_sizes = (55,55))\n",
        "rede_neural_census.fit(X_census_treinamento, y_census_treinamento)"
      ]
    },
    {
      "cell_type": "code",
      "execution_count": null,
      "metadata": {
        "id": "pvpRABIruivw"
      },
      "outputs": [],
      "source": [
        "previsoes = rede_neural_census.predict(X_census_teste)\n",
        "previsoes"
      ]
    },
    {
      "cell_type": "code",
      "execution_count": null,
      "metadata": {
        "id": "uDjNigIBuo-q"
      },
      "outputs": [],
      "source": [
        "y_census_teste"
      ]
    },
    {
      "cell_type": "code",
      "execution_count": null,
      "metadata": {
        "id": "b5tVNTyWuu__"
      },
      "outputs": [],
      "source": [
        "from sklearn.metrics import accuracy_score, classification_report\n",
        "accuracy_score(y_census_teste, previsoes)"
      ]
    },
    {
      "cell_type": "code",
      "execution_count": null,
      "metadata": {
        "id": "X4B5vm_rvCcb"
      },
      "outputs": [],
      "source": [
        "from yellowbrick.classifier import ConfusionMatrix\n",
        "cm = ConfusionMatrix(rede_neural_census)\n",
        "cm.fit(X_census_treinamento, y_census_treinamento)\n",
        "cm.score(X_census_teste, y_census_teste)"
      ]
    },
    {
      "cell_type": "code",
      "execution_count": null,
      "metadata": {
        "id": "rw-WFDUpv2xe"
      },
      "outputs": [],
      "source": [
        "print(classification_report(y_census_teste, previsoes))"
      ]
    },
    {
      "cell_type": "markdown",
      "metadata": {
        "id": "hzQjXv11xXiV"
      },
      "source": [
        "# Avaliação dos algoritmos\n",
        "\n",
        "- Naïve Bayes: 93.80\n",
        "- Árvore de decisão: 98.20\n",
        "- Random forest: 98.40\n",
        "- Regras: 97.40\n",
        "- Knn: 98.60\n",
        "- Regressão logística: 94.60\n",
        "- SVM: 98.80\n",
        "- Redes neurais: 99.60"
      ]
    },
    {
      "cell_type": "markdown",
      "metadata": {
        "id": "xZ7xQAHIxbYS"
      },
      "source": [
        "## Tuning dos parâmetros com GridSearch"
      ]
    },
    {
      "cell_type": "markdown",
      "metadata": {
        "id": "ccUPFWrYxemd"
      },
      "source": [
        "### Preparação dos dados"
      ]
    },
    {
      "cell_type": "code",
      "execution_count": null,
      "metadata": {
        "id": "MylAn7hn1FNf"
      },
      "outputs": [],
      "source": [
        "from sklearn.model_selection import GridSearchCV\n",
        "from sklearn.tree import DecisionTreeClassifier\n",
        "from sklearn.ensemble import RandomForestClassifier\n",
        "from sklearn.neighbors import KNeighborsClassifier\n",
        "from sklearn.linear_model import LogisticRegression\n",
        "from sklearn.svm import SVC\n",
        "from sklearn.neural_network import MLPClassifier"
      ]
    },
    {
      "cell_type": "code",
      "execution_count": null,
      "metadata": {
        "id": "EDT6WDGD1pDH"
      },
      "outputs": [],
      "source": [
        "import pickle\n",
        "with open('credit.pkl', 'rb') as f:\n",
        "  X_credit_treinamento, y_credit_treinamento, X_credit_teste, y_credit_teste = pickle.load(f)"
      ]
    },
    {
      "cell_type": "code",
      "execution_count": null,
      "metadata": {
        "id": "y-CIO79O11M5"
      },
      "outputs": [],
      "source": [
        "X_credit_treinamento.shape, y_credit_treinamento.shape"
      ]
    },
    {
      "cell_type": "code",
      "execution_count": null,
      "metadata": {
        "id": "CwkW7PJj18Fs"
      },
      "outputs": [],
      "source": [
        "X_credit_teste.shape, y_credit_teste.shape"
      ]
    },
    {
      "cell_type": "code",
      "execution_count": null,
      "metadata": {
        "id": "5sVj51hj2Gex"
      },
      "outputs": [],
      "source": [
        "X_credit = np.concatenate((X_credit_treinamento, X_credit_teste), axis = 0)\n",
        "X_credit.shape"
      ]
    },
    {
      "cell_type": "code",
      "execution_count": null,
      "metadata": {
        "id": "z-_tknm82UPP"
      },
      "outputs": [],
      "source": [
        "X_credit"
      ]
    },
    {
      "cell_type": "code",
      "execution_count": null,
      "metadata": {
        "id": "Dxh_pqJT2YQR"
      },
      "outputs": [],
      "source": [
        "y_credit = np.concatenate((y_credit_treinamento, y_credit_teste), axis = 0)\n",
        "y_credit.shape"
      ]
    },
    {
      "cell_type": "code",
      "execution_count": null,
      "metadata": {
        "id": "G4lE4MbE2geE"
      },
      "outputs": [],
      "source": [
        "y_credit"
      ]
    },
    {
      "cell_type": "markdown",
      "metadata": {
        "id": "TEC2nX_Bxgxb"
      },
      "source": [
        "### Árvore de decisão"
      ]
    },
    {
      "cell_type": "code",
      "execution_count": null,
      "metadata": {
        "id": "W0UqqFoY4Yh9"
      },
      "outputs": [],
      "source": [
        "parametros = {'criterion': ['gini', 'entropy'],\n",
        "              'splitter': ['best', 'random'],\n",
        "              'min_samples_split': [2, 5, 10],\n",
        "              'min_samples_leaf': [1, 5, 10]}"
      ]
    },
    {
      "cell_type": "code",
      "execution_count": null,
      "metadata": {
        "id": "guqdajYG35W_"
      },
      "outputs": [],
      "source": [
        "grid_search = GridSearchCV(estimator=DecisionTreeClassifier(), param_grid=parametros)\n",
        "grid_search.fit(X_credit, y_credit)\n",
        "melhores_parametros = grid_search.best_params_\n",
        "melhor_resultado = grid_search.best_score_\n",
        "print(melhores_parametros)\n",
        "print(melhor_resultado)"
      ]
    },
    {
      "cell_type": "markdown",
      "metadata": {
        "id": "iDFqhYqqxi0a"
      },
      "source": [
        "### Random forest"
      ]
    },
    {
      "cell_type": "code",
      "execution_count": null,
      "metadata": {
        "id": "idYueU9xAF9F"
      },
      "outputs": [],
      "source": [
        "parametros = {'criterion': ['gini', 'entropy'],\n",
        "              'n_estimators': [10, 40, 100, 150],\n",
        "              'min_samples_split': [2, 5, 10],\n",
        "              'min_samples_leaf': [1, 5, 10]}"
      ]
    },
    {
      "cell_type": "code",
      "execution_count": null,
      "metadata": {
        "id": "0yIa1BHx_7nm"
      },
      "outputs": [],
      "source": [
        "grid_search = GridSearchCV(estimator=RandomForestClassifier(), param_grid=parametros)\n",
        "grid_search.fit(X_credit, y_credit)\n",
        "melhores_parametros = grid_search.best_params_\n",
        "melhor_resultado = grid_search.best_score_\n",
        "print(melhores_parametros)\n",
        "print(melhor_resultado)"
      ]
    },
    {
      "cell_type": "markdown",
      "metadata": {
        "id": "V2ukErzdxkYV"
      },
      "source": [
        "### Knn"
      ]
    },
    {
      "cell_type": "code",
      "execution_count": null,
      "metadata": {
        "id": "w1gIzTTWBQsW"
      },
      "outputs": [],
      "source": [
        "parametros = {'n_neighbors': [3, 5, 10, 20],\n",
        "              'p': [1, 2]}"
      ]
    },
    {
      "cell_type": "code",
      "execution_count": null,
      "metadata": {
        "id": "XVetFmg-BGe9"
      },
      "outputs": [],
      "source": [
        "grid_search = GridSearchCV(estimator=KNeighborsClassifier(), param_grid=parametros)\n",
        "grid_search.fit(X_credit, y_credit)\n",
        "melhores_parametros = grid_search.best_params_\n",
        "melhor_resultado = grid_search.best_score_\n",
        "print(melhores_parametros)\n",
        "print(melhor_resultado)"
      ]
    },
    {
      "cell_type": "markdown",
      "metadata": {
        "id": "Sg1nw3UtxleM"
      },
      "source": [
        "### Regressão logística"
      ]
    },
    {
      "cell_type": "code",
      "execution_count": null,
      "metadata": {
        "id": "l0ob3vpVCOM1"
      },
      "outputs": [],
      "source": [
        "parametros = {'tol': [0.0001, 0.00001, 0.000001],\n",
        "              'C': [1.0, 1.5, 2.0],\n",
        "              'solver': ['lbfgs', 'sag', 'saga']}"
      ]
    },
    {
      "cell_type": "code",
      "execution_count": null,
      "metadata": {
        "id": "cnnVFidNB3Jo"
      },
      "outputs": [],
      "source": [
        "grid_search = GridSearchCV(estimator=LogisticRegression(), param_grid=parametros)\n",
        "grid_search.fit(X_credit, y_credit)\n",
        "melhores_parametros = grid_search.best_params_\n",
        "melhor_resultado = grid_search.best_score_\n",
        "print(melhores_parametros)\n",
        "print(melhor_resultado)"
      ]
    },
    {
      "cell_type": "markdown",
      "metadata": {
        "id": "Y25eVjAqCtUh"
      },
      "source": [
        "### SVM"
      ]
    },
    {
      "cell_type": "code",
      "execution_count": null,
      "metadata": {
        "id": "G0jMbKs8C0ol"
      },
      "outputs": [],
      "source": [
        "parametros = {'tol': [0.001, 0.0001, 0.00001],\n",
        "              'C': [1.0, 1.5, 2.0],\n",
        "              'kernel': ['rbf', 'linear', 'poly', 'sigmoid']}"
      ]
    },
    {
      "cell_type": "code",
      "execution_count": null,
      "metadata": {
        "id": "RArcu8ORCvCW"
      },
      "outputs": [],
      "source": [
        "grid_search = GridSearchCV(estimator=SVC(), param_grid=parametros)\n",
        "grid_search.fit(X_credit, y_credit)\n",
        "melhores_parametros = grid_search.best_params_\n",
        "melhor_resultado = grid_search.best_score_\n",
        "print(melhores_parametros)\n",
        "print(melhor_resultado)"
      ]
    },
    {
      "cell_type": "markdown",
      "metadata": {
        "id": "iQZ2TUjHxn3V"
      },
      "source": [
        "### Redes neurais"
      ]
    },
    {
      "cell_type": "code",
      "execution_count": null,
      "metadata": {
        "id": "sqUo4Rx3DgeR"
      },
      "outputs": [],
      "source": [
        "parametros = {'activation': ['relu', 'logistic', 'tahn'],\n",
        "              'solver': ['adam', 'sgd'],\n",
        "              'batch_size': [10, 56]}"
      ]
    },
    {
      "cell_type": "code",
      "execution_count": null,
      "metadata": {
        "id": "zwIabuVYDRNR"
      },
      "outputs": [],
      "source": [
        "grid_search = GridSearchCV(estimator=MLPClassifier(), param_grid=parametros)\n",
        "grid_search.fit(X_credit, y_credit)\n",
        "melhores_parametros = grid_search.best_params_\n",
        "melhor_resultado = grid_search.best_score_"
      ]
    },
    {
      "cell_type": "code",
      "execution_count": null,
      "metadata": {
        "id": "ZIHD2j_6EraC"
      },
      "outputs": [],
      "source": [
        "print(melhores_parametros)\n",
        "print(melhor_resultado)"
      ]
    },
    {
      "cell_type": "markdown",
      "metadata": {
        "id": "cNZmpXyaxpsE"
      },
      "source": [
        "## Validação cruzada"
      ]
    },
    {
      "cell_type": "code",
      "execution_count": null,
      "metadata": {
        "id": "Jm7jKlKEGoej"
      },
      "outputs": [],
      "source": [
        "from sklearn.model_selection import cross_val_score, KFold"
      ]
    },
    {
      "cell_type": "code",
      "execution_count": null,
      "metadata": {
        "id": "ua2D1ryYG5Bl"
      },
      "outputs": [],
      "source": [
        "10 * 30"
      ]
    },
    {
      "cell_type": "code",
      "execution_count": null,
      "metadata": {
        "id": "66ygU7TdGvHg"
      },
      "outputs": [],
      "source": [
        "resultados_arvore = []\n",
        "resultados_random_forest = []\n",
        "resultados_knn = []\n",
        "resultados_logistica = []\n",
        "resultados_svm = []\n",
        "resultados_rede_neural = []\n",
        "\n",
        "for i in range(30):\n",
        "  print(i)\n",
        "  kfold = KFold(n_splits=10, shuffle=True, random_state=i)\n",
        "\n",
        "  arvore = DecisionTreeClassifier(criterion='entropy', min_samples_leaf=1, min_samples_split=5, splitter='best')\n",
        "  scores = cross_val_score(arvore, X_credit, y_credit, cv = kfold)\n",
        "  #print(scores)\n",
        "  #print(scores.mean())\n",
        "  resultados_arvore.append(scores.mean())\n",
        "\n",
        "  random_forest = RandomForestClassifier(criterion = 'entropy', min_samples_leaf = 1, min_samples_split=5, n_estimators = 10)\n",
        "  scores = cross_val_score(random_forest, X_credit, y_credit, cv = kfold)\n",
        "  resultados_random_forest.append(scores.mean())\n",
        "\n",
        "  knn = KNeighborsClassifier()\n",
        "  scores = cross_val_score(knn, X_credit, y_credit, cv = kfold)\n",
        "  resultados_knn.append(scores.mean())\n",
        "\n",
        "  logistica = LogisticRegression(C = 1.0, solver = 'lbfgs', tol = 0.0001)\n",
        "  scores = cross_val_score(logistica, X_credit, y_credit, cv = kfold)\n",
        "  resultados_logistica.append(scores.mean())\n",
        "\n",
        "  svm = SVC(kernel = 'rbf', C = 2.0)\n",
        "  scores = cross_val_score(svm, X_credit, y_credit, cv = kfold)\n",
        "  resultados_svm.append(scores.mean())\n",
        "\n",
        "  rede_neural = MLPClassifier(activation = 'relu', batch_size = 56, solver = 'adam')\n",
        "  scores = cross_val_score(rede_neural, X_credit, y_credit, cv = kfold)\n",
        "  resultados_rede_neural.append(scores.mean())\n"
      ]
    },
    {
      "cell_type": "code",
      "execution_count": null,
      "metadata": {
        "id": "btjG56PZOH6I"
      },
      "outputs": [],
      "source": [
        "resultados = pd.DataFrame({'Arvore': resultados_arvore, 'Random forest': resultados_random_forest,\n",
        "                           'KNN': resultados_knn, 'Logistica': resultados_logistica,\n",
        "                           'SVM': resultados_svm, 'Rede neural': resultados_rede_neural})\n",
        "resultados"
      ]
    },
    {
      "cell_type": "code",
      "execution_count": null,
      "metadata": {
        "id": "yTII0b6oOm69"
      },
      "outputs": [],
      "source": [
        "resultados.describe()"
      ]
    },
    {
      "cell_type": "code",
      "execution_count": null,
      "metadata": {
        "id": "j5vKQMOAQAqd"
      },
      "outputs": [],
      "source": [
        "resultados.var()"
      ]
    },
    {
      "cell_type": "code",
      "execution_count": null,
      "metadata": {
        "id": "Qqd7sGQuQJA1"
      },
      "outputs": [],
      "source": [
        "(resultados.std() / resultados.mean()) * 100"
      ]
    },
    {
      "cell_type": "markdown",
      "metadata": {
        "id": "64STDoeYxrx8"
      },
      "source": [
        "## Teste de normalidade nos resultados\n",
        "\n",
        "- Shapiro: https://en.wikipedia.org/wiki/Shapiro%E2%80%93Wilk_test"
      ]
    },
    {
      "cell_type": "code",
      "execution_count": null,
      "metadata": {
        "id": "ndH2AhnqR3RH"
      },
      "outputs": [],
      "source": [
        "alpha = 0.05"
      ]
    },
    {
      "cell_type": "code",
      "execution_count": null,
      "metadata": {
        "id": "gyL_8kqZSFWi"
      },
      "outputs": [],
      "source": [
        "from scipy.stats import shapiro"
      ]
    },
    {
      "cell_type": "code",
      "execution_count": null,
      "metadata": {
        "id": "WAwEoVkXSK_m"
      },
      "outputs": [],
      "source": [
        "shapiro(resultados_arvore), shapiro(resultados_random_forest), shapiro(resultados_knn), shapiro(resultados_logistica), shapiro(resultados_svm), shapiro(resultados_rede_neural)"
      ]
    },
    {
      "cell_type": "code",
      "execution_count": null,
      "metadata": {
        "id": "15p59hhhTgci"
      },
      "outputs": [],
      "source": [
        "sns.displot(resultados_arvore, kind = 'kde');"
      ]
    },
    {
      "cell_type": "code",
      "execution_count": null,
      "metadata": {
        "id": "JwSC5VmITvEw"
      },
      "outputs": [],
      "source": [
        "sns.displot(resultados_random_forest, kind = 'kde');"
      ]
    },
    {
      "cell_type": "code",
      "execution_count": null,
      "metadata": {
        "id": "Yec-WoV1TzFk"
      },
      "outputs": [],
      "source": [
        "sns.displot(resultados_knn, kind = 'kde');"
      ]
    },
    {
      "cell_type": "code",
      "execution_count": null,
      "metadata": {
        "id": "7ushmp5-T2mP"
      },
      "outputs": [],
      "source": [
        "sns.displot(resultados_logistica, kind = 'kde');"
      ]
    },
    {
      "cell_type": "code",
      "execution_count": null,
      "metadata": {
        "id": "mW41p3yAT5_j"
      },
      "outputs": [],
      "source": [
        "sns.displot(resultados_svm, kind = 'kde');"
      ]
    },
    {
      "cell_type": "code",
      "execution_count": null,
      "metadata": {
        "id": "_EJeyfg2T94u"
      },
      "outputs": [],
      "source": [
        "sns.displot(resultados_rede_neural, kind = 'kde');"
      ]
    },
    {
      "cell_type": "markdown",
      "metadata": {
        "id": "YKu3nItjxuy-"
      },
      "source": [
        "## Teste de hipótese com ANOVA e Tukey"
      ]
    },
    {
      "cell_type": "code",
      "execution_count": null,
      "metadata": {
        "id": "xFi7ejvWXMT0"
      },
      "outputs": [],
      "source": [
        "from scipy.stats import f_oneway"
      ]
    },
    {
      "cell_type": "code",
      "execution_count": null,
      "metadata": {
        "id": "NsEQKnDkXWIu"
      },
      "outputs": [],
      "source": [
        "_, p = f_oneway(resultados_arvore, resultados_random_forest, resultados_knn, resultados_logistica, resultados_svm, resultados_rede_neural)\n",
        "p"
      ]
    },
    {
      "cell_type": "code",
      "execution_count": null,
      "metadata": {
        "id": "ciTegskUXl8v"
      },
      "outputs": [],
      "source": [
        "alpha = 0.05\n",
        "if p <= alpha:\n",
        "  print('Hipótese nula rejeitada. Dados são diferentes')\n",
        "else:\n",
        "  print('Hipótese alternativa rejeitada. Resultados são iguais')"
      ]
    },
    {
      "cell_type": "code",
      "execution_count": null,
      "metadata": {
        "id": "fnmQk_wXYH6P"
      },
      "outputs": [],
      "source": [
        "resultados_algoritmos = {'accuracy': np.concatenate([resultados_arvore, resultados_random_forest, resultados_knn, resultados_logistica, resultados_svm, resultados_rede_neural]),\n",
        "                         'algoritmo': ['arvore','arvore','arvore','arvore','arvore','arvore','arvore','arvore','arvore','arvore','arvore','arvore','arvore','arvore','arvore','arvore','arvore','arvore','arvore','arvore','arvore','arvore','arvore','arvore','arvore','arvore','arvore','arvore','arvore','arvore',\n",
        "                          'random_forest','random_forest','random_forest','random_forest','random_forest','random_forest','random_forest','random_forest','random_forest','random_forest','random_forest','random_forest','random_forest','random_forest','random_forest','random_forest','random_forest','random_forest','random_forest','random_forest','random_forest','random_forest','random_forest','random_forest','random_forest','random_forest','random_forest','random_forest','random_forest','random_forest',\n",
        "                          'knn','knn','knn','knn','knn','knn','knn','knn','knn','knn','knn','knn','knn','knn','knn','knn','knn','knn','knn','knn','knn','knn','knn','knn','knn','knn','knn','knn','knn','knn',\n",
        "                          'logistica','logistica','logistica','logistica','logistica','logistica','logistica','logistica','logistica','logistica','logistica','logistica','logistica','logistica','logistica','logistica','logistica','logistica','logistica','logistica','logistica','logistica','logistica','logistica','logistica','logistica','logistica','logistica','logistica','logistica',\n",
        "                          'svm','svm','svm','svm','svm','svm','svm','svm','svm','svm','svm','svm','svm','svm','svm','svm','svm','svm','svm','svm','svm','svm','svm','svm','svm','svm','svm','svm','svm','svm',\n",
        "                          'rede_neural','rede_neural','rede_neural','rede_neural','rede_neural','rede_neural','rede_neural','rede_neural','rede_neural','rede_neural','rede_neural','rede_neural','rede_neural','rede_neural','rede_neural','rede_neural','rede_neural','rede_neural','rede_neural','rede_neural','rede_neural','rede_neural','rede_neural','rede_neural','rede_neural','rede_neural','rede_neural','rede_neural','rede_neural','rede_neural']}"
      ]
    },
    {
      "cell_type": "code",
      "execution_count": null,
      "metadata": {
        "id": "q3sAt4n1ax3P"
      },
      "outputs": [],
      "source": [
        "resultados_df = pd.DataFrame(resultados_algoritmos)\n",
        "resultados_df"
      ]
    },
    {
      "cell_type": "code",
      "execution_count": null,
      "metadata": {
        "id": "pnF-r3pxbJZP"
      },
      "outputs": [],
      "source": [
        "from statsmodels.stats.multicomp import MultiComparison"
      ]
    },
    {
      "cell_type": "code",
      "execution_count": null,
      "metadata": {
        "id": "epc6TluwbRZ-"
      },
      "outputs": [],
      "source": [
        "compara_algoritmos = MultiComparison(resultados_df['accuracy'], resultados_df['algoritmo'])"
      ]
    },
    {
      "cell_type": "code",
      "execution_count": null,
      "metadata": {
        "id": "jR-8z3UWbZJ5"
      },
      "outputs": [],
      "source": [
        "teste_estatistico = compara_algoritmos.tukeyhsd()\n",
        "print(teste_estatistico)"
      ]
    },
    {
      "cell_type": "code",
      "execution_count": null,
      "metadata": {
        "id": "L-q17IREb68X"
      },
      "outputs": [],
      "source": [
        "resultados.mean()"
      ]
    },
    {
      "cell_type": "code",
      "execution_count": null,
      "metadata": {
        "id": "PsSepwzAclT9"
      },
      "outputs": [],
      "source": [
        "teste_estatistico.plot_simultaneous();"
      ]
    },
    {
      "cell_type": "markdown",
      "metadata": {
        "id": "wo_FnyqZdSHP"
      },
      "source": [
        "# Salvar um classificador já treinado"
      ]
    },
    {
      "cell_type": "code",
      "execution_count": null,
      "metadata": {
        "id": "z6IYwDGldXxK"
      },
      "outputs": [],
      "source": [
        "with open('credit.pkl', 'rb') as f:\n",
        "  X_credit_treinamento, y_credit_treinamento, X_credit_teste, y_credit_teste = pickle.load(f)"
      ]
    },
    {
      "cell_type": "code",
      "execution_count": null,
      "metadata": {
        "id": "tAr2Qn4bdcE_"
      },
      "outputs": [],
      "source": [
        "X_credit = np.concatenate((X_credit_treinamento, X_credit_teste), axis = 0)\n",
        "y_credit = np.concatenate((y_credit_treinamento, y_credit_teste), axis = 0)"
      ]
    },
    {
      "cell_type": "code",
      "execution_count": null,
      "metadata": {
        "id": "G2cSwOUgde_L"
      },
      "outputs": [],
      "source": [
        "X_credit.shape, y_credit.shape"
      ]
    },
    {
      "cell_type": "code",
      "execution_count": null,
      "metadata": {
        "id": "QRE_jkw-gtOw"
      },
      "outputs": [],
      "source": [
        "from sklearn.neural_network import MLPClassifier\n",
        "from sklearn.tree import DecisionTreeClassifier\n",
        "from sklearn.svm import SVC"
      ]
    },
    {
      "cell_type": "code",
      "execution_count": null,
      "metadata": {
        "id": "pGNIuf7ng4Vu"
      },
      "outputs": [],
      "source": [
        "classificador_rede_neural = MLPClassifier(activation='relu', batch_size = 56, solver='adam')\n",
        "classificador_rede_neural.fit(X_credit, y_credit)"
      ]
    },
    {
      "cell_type": "code",
      "execution_count": null,
      "metadata": {
        "id": "3Df8-kTQhOyf"
      },
      "outputs": [],
      "source": [
        "classificador_arvore = DecisionTreeClassifier(criterion='entropy', min_samples_leaf=1, min_samples_split=5, splitter='best')\n",
        "classificador_arvore.fit(X_credit, y_credit)"
      ]
    },
    {
      "cell_type": "code",
      "execution_count": null,
      "metadata": {
        "id": "_AevOaE1hf6c"
      },
      "outputs": [],
      "source": [
        "classificador_svm = SVC(C = 2.0, kernel='rbf', probability=True)\n",
        "classificador_svm.fit(X_credit, y_credit)"
      ]
    },
    {
      "cell_type": "code",
      "execution_count": null,
      "metadata": {
        "id": "UQOyP8ZqhrQ6"
      },
      "outputs": [],
      "source": [
        "import pickle\n",
        "pickle.dump(classificador_rede_neural, open('rede_neural_finalizado.sav', 'wb'))\n",
        "pickle.dump(classificador_arvore, open('arvore_finalizado.sav', 'wb'))\n",
        "pickle.dump(classificador_svm, open('svm_finalizado.sav', 'wb'))"
      ]
    },
    {
      "cell_type": "markdown",
      "metadata": {
        "id": "IE2LDIuAdVf2"
      },
      "source": [
        "# Carregar um classificador já treinado"
      ]
    },
    {
      "cell_type": "code",
      "execution_count": null,
      "metadata": {
        "id": "jFS52QjkkLEP"
      },
      "outputs": [],
      "source": [
        "rede_neural = pickle.load(open('rede_neural_finalizado.sav', 'rb'))\n",
        "arvore = pickle.load(open('arvore_finalizado.sav', 'rb'))\n",
        "svm = pickle.load(open('svm_finalizado.sav', 'rb'))"
      ]
    },
    {
      "cell_type": "code",
      "execution_count": null,
      "metadata": {
        "id": "ZhRtIsh_kn4B"
      },
      "outputs": [],
      "source": [
        "novo_registro = X_credit[1999]\n",
        "novo_registro"
      ]
    },
    {
      "cell_type": "code",
      "execution_count": null,
      "metadata": {
        "id": "y02JAV9WkyEx"
      },
      "outputs": [],
      "source": [
        "novo_registro.shape"
      ]
    },
    {
      "cell_type": "code",
      "execution_count": null,
      "metadata": {
        "id": "NdJ7vai0k-Nl"
      },
      "outputs": [],
      "source": [
        "novo_registro = novo_registro.reshape(1, -1)\n",
        "novo_registro.shape"
      ]
    },
    {
      "cell_type": "code",
      "execution_count": null,
      "metadata": {
        "id": "DUw8747mlG5L"
      },
      "outputs": [],
      "source": [
        "novo_registro"
      ]
    },
    {
      "cell_type": "code",
      "execution_count": null,
      "metadata": {
        "id": "VkIrzIRxk2GG"
      },
      "outputs": [],
      "source": [
        "rede_neural.predict(novo_registro)"
      ]
    },
    {
      "cell_type": "code",
      "execution_count": null,
      "metadata": {
        "id": "S-anyC6dlMWH"
      },
      "outputs": [],
      "source": [
        "arvore.predict(novo_registro)"
      ]
    },
    {
      "cell_type": "code",
      "execution_count": null,
      "metadata": {
        "id": "_h1sPgiIlQ5a"
      },
      "outputs": [],
      "source": [
        "svm.predict(novo_registro)"
      ]
    },
    {
      "cell_type": "markdown",
      "metadata": {
        "id": "D8SRPAsJmEs3"
      },
      "source": [
        "# Combinação de classificadores"
      ]
    },
    {
      "cell_type": "code",
      "execution_count": null,
      "metadata": {
        "id": "FQL_bn8NmK2P"
      },
      "outputs": [],
      "source": [
        "novo_registro = X_credit[1999]\n",
        "novo_registro = novo_registro.reshape(1, -1)\n",
        "novo_registro, novo_registro.shape"
      ]
    },
    {
      "cell_type": "code",
      "execution_count": null,
      "metadata": {
        "id": "kerWrM_zmQvP"
      },
      "outputs": [],
      "source": [
        "resposta_rede_neural = rede_neural.predict(novo_registro)\n",
        "resposta_arvore = arvore.predict(novo_registro)\n",
        "resposta_svm = svm.predict(novo_registro)"
      ]
    },
    {
      "cell_type": "code",
      "execution_count": null,
      "metadata": {
        "id": "SouSNSBbnA7T"
      },
      "outputs": [],
      "source": [
        "resposta_rede_neural[0], resposta_arvore[0], resposta_svm[0]"
      ]
    },
    {
      "cell_type": "code",
      "execution_count": null,
      "metadata": {
        "id": "eJoktf-XnLdM"
      },
      "outputs": [],
      "source": [
        "paga = 0\n",
        "nao_paga = 0\n",
        "\n",
        "if resposta_rede_neural[0] == 1:\n",
        "  nao_paga += 1\n",
        "else:\n",
        "  paga += 1\n",
        "\n",
        "if resposta_arvore[0] == 1:\n",
        "  nao_paga += 1\n",
        "else:\n",
        "  paga += 1\n",
        "\n",
        "if resposta_svm[0] == 1:\n",
        "  nao_paga += 1\n",
        "else:\n",
        "  paga += 1\n",
        "\n",
        "if paga > nao_paga:\n",
        "  print('Cliente pagará o empréstimo')\n",
        "elif paga == nao_paga:\n",
        "  print('Empate')\n",
        "else:\n",
        "  print('Cliente não pagará o empréstimo')"
      ]
    },
    {
      "cell_type": "markdown",
      "metadata": {
        "id": "P3OWvpIvmIDH"
      },
      "source": [
        "# Rejeição de classificadores"
      ]
    },
    {
      "cell_type": "code",
      "execution_count": null,
      "metadata": {
        "id": "qWctOdKjpDWf"
      },
      "outputs": [],
      "source": [
        "novo_registro = X_credit[1999]\n",
        "novo_registro = novo_registro.reshape(1, -1)\n",
        "novo_registro, novo_registro.shape"
      ]
    },
    {
      "cell_type": "code",
      "execution_count": null,
      "metadata": {
        "id": "SA23SCvapLPB"
      },
      "outputs": [],
      "source": [
        "resposta_rede_neural = rede_neural.predict(novo_registro)\n",
        "resposta_arvore = arvore.predict(novo_registro)\n",
        "resposta_svm = svm.predict(novo_registro)"
      ]
    },
    {
      "cell_type": "code",
      "execution_count": null,
      "metadata": {
        "id": "roB4WLMqpPFN"
      },
      "outputs": [],
      "source": [
        "resposta_rede_neural[0], resposta_arvore[0], resposta_svm[0]"
      ]
    },
    {
      "cell_type": "code",
      "execution_count": null,
      "metadata": {
        "id": "A5pTxq8apoM4"
      },
      "outputs": [],
      "source": [
        "probabilidade_rede_neural = rede_neural.predict_proba(novo_registro)\n",
        "probabilidade_rede_neural"
      ]
    },
    {
      "cell_type": "code",
      "execution_count": null,
      "metadata": {
        "id": "wStt8iSIp_yc"
      },
      "outputs": [],
      "source": [
        "confianca_rede_neural = probabilidade_rede_neural.max()\n",
        "confianca_rede_neural"
      ]
    },
    {
      "cell_type": "code",
      "execution_count": null,
      "metadata": {
        "id": "S1mgc0duqMa9"
      },
      "outputs": [],
      "source": [
        "probabilidade_arvore = arvore.predict_proba(novo_registro)\n",
        "confianca_arvore = probabilidade_arvore.max()\n",
        "confianca_arvore"
      ]
    },
    {
      "cell_type": "code",
      "execution_count": null,
      "metadata": {
        "id": "ehUJYI79qX6D"
      },
      "outputs": [],
      "source": [
        "probabilidade_svm = svm.predict_proba(novo_registro)\n",
        "confianca_svm = probabilidade_svm.max()\n",
        "confianca_svm"
      ]
    },
    {
      "cell_type": "code",
      "execution_count": null,
      "metadata": {
        "id": "r7Jn8d8uq2rN"
      },
      "outputs": [],
      "source": [
        "paga = 0\n",
        "nao_paga = 0\n",
        "confianca_minima = 0.999999\n",
        "algoritmos = 0\n",
        "\n",
        "if confianca_rede_neural >= confianca_minima:\n",
        "  algoritmos += 1\n",
        "  if resposta_rede_neural[0] == 1:\n",
        "    nao_paga += 1\n",
        "  else:\n",
        "    paga += 1\n",
        "\n",
        "if confianca_arvore >= confianca_minima:\n",
        "  algoritmos += 1\n",
        "  if resposta_arvore[0] == 1:\n",
        "    nao_paga += 1\n",
        "  else:\n",
        "    paga += 1\n",
        "\n",
        "if confianca_svm >= confianca_minima:\n",
        "  algoritmos += 1\n",
        "  if resposta_svm[0] == 1:\n",
        "    nao_paga += 1\n",
        "  else:\n",
        "    paga += 1\n",
        "\n",
        "if paga > nao_paga:\n",
        "  print('Cliente pagará o empréstimo, baseado em {} algoritmos'.format(algoritmos))\n",
        "elif paga == nao_paga:\n",
        "  print('Empate, baseado em {} algoritmos'.format(algoritmos))\n",
        "else:\n",
        "  print('Cliente não pagará o empréstimo, baseado em {} algoritmos'.format(algoritmos))"
      ]
    },
    {
      "cell_type": "markdown",
      "metadata": {
        "id": "b0PwlVawUlYk"
      },
      "source": [
        "# Redução de dimensionalidade"
      ]
    },
    {
      "cell_type": "markdown",
      "metadata": {
        "id": "5B4KH9_YVrmQ"
      },
      "source": [
        "## Preparacão da base de dados"
      ]
    },
    {
      "cell_type": "code",
      "execution_count": null,
      "metadata": {
        "id": "DsluTWi5V_FP"
      },
      "outputs": [],
      "source": [
        "base_census = pd.read_csv('/content/census.csv')\n",
        "base_census"
      ]
    },
    {
      "cell_type": "code",
      "execution_count": null,
      "metadata": {
        "id": "94tqbsz9WAMt"
      },
      "outputs": [],
      "source": [
        "X_census = base_census.iloc[:, 0:14].values\n",
        "X_census"
      ]
    },
    {
      "cell_type": "code",
      "execution_count": null,
      "metadata": {
        "id": "x1USYftaWDOe"
      },
      "outputs": [],
      "source": [
        "y_census = base_census.iloc[:, 14].values\n",
        "y_census"
      ]
    },
    {
      "cell_type": "code",
      "execution_count": null,
      "metadata": {
        "id": "qXgP6ZIPWFzb"
      },
      "outputs": [],
      "source": [
        "from sklearn.preprocessing import LabelEncoder\n",
        "label_encoder_workclass = LabelEncoder()\n",
        "label_encoder_education = LabelEncoder()\n",
        "label_encoder_marital = LabelEncoder()\n",
        "label_encoder_occupation = LabelEncoder()\n",
        "label_encoder_relationship = LabelEncoder()\n",
        "label_encoder_race = LabelEncoder()\n",
        "label_encoder_sex = LabelEncoder()\n",
        "label_encoder_country = LabelEncoder()"
      ]
    },
    {
      "cell_type": "code",
      "execution_count": null,
      "metadata": {
        "id": "1LqaQSdxWIq6"
      },
      "outputs": [],
      "source": [
        "X_census[:,1] = label_encoder_workclass.fit_transform(X_census[:,1])\n",
        "X_census[:,3] = label_encoder_education.fit_transform(X_census[:,3])\n",
        "X_census[:,5] = label_encoder_marital.fit_transform(X_census[:,5])\n",
        "X_census[:,6] = label_encoder_occupation.fit_transform(X_census[:,6])\n",
        "X_census[:,7] = label_encoder_relationship.fit_transform(X_census[:,7])\n",
        "X_census[:,8] = label_encoder_race.fit_transform(X_census[:,8])\n",
        "X_census[:,9] = label_encoder_sex.fit_transform(X_census[:,9])\n",
        "X_census[:,13] = label_encoder_country.fit_transform(X_census[:,13])"
      ]
    },
    {
      "cell_type": "code",
      "execution_count": null,
      "metadata": {
        "id": "nMLSl29ZWLN6"
      },
      "outputs": [],
      "source": [
        "X_census[0]"
      ]
    },
    {
      "cell_type": "code",
      "execution_count": null,
      "metadata": {
        "id": "ZffnFfa3WNy0"
      },
      "outputs": [],
      "source": [
        "from sklearn.preprocessing import StandardScaler\n",
        "scaler_census = StandardScaler()\n",
        "X_census = scaler_census.fit_transform(X_census)"
      ]
    },
    {
      "cell_type": "code",
      "execution_count": null,
      "metadata": {
        "id": "UxEUaDREWQE0"
      },
      "outputs": [],
      "source": [
        "X_census"
      ]
    },
    {
      "cell_type": "code",
      "execution_count": null,
      "metadata": {
        "id": "-RUHnOxRWSt6"
      },
      "outputs": [],
      "source": [
        "from sklearn.model_selection import train_test_split\n",
        "X_census_treinamento, X_census_teste, y_census_treinamento, y_census_teste = train_test_split(X_census, y_census, test_size=0.15, random_state=0)"
      ]
    },
    {
      "cell_type": "code",
      "execution_count": null,
      "metadata": {
        "id": "uJ-D02-PWVke"
      },
      "outputs": [],
      "source": [
        "X_census_treinamento.shape, X_census_teste.shape"
      ]
    },
    {
      "cell_type": "markdown",
      "metadata": {
        "id": "6OurC4GyUoak"
      },
      "source": [
        "## PCA (Principal component analysis)"
      ]
    },
    {
      "cell_type": "code",
      "execution_count": null,
      "metadata": {
        "id": "j2adDUMyX3d2"
      },
      "outputs": [],
      "source": [
        "from sklearn.decomposition import PCA"
      ]
    },
    {
      "cell_type": "code",
      "execution_count": null,
      "metadata": {
        "id": "ZmpO8urpX8kz"
      },
      "outputs": [],
      "source": [
        "pca = PCA(n_components=8)"
      ]
    },
    {
      "cell_type": "code",
      "execution_count": null,
      "metadata": {
        "id": "zVHnZ8rYYOeL"
      },
      "outputs": [],
      "source": [
        "X_census_treinamento_pca = pca.fit_transform(X_census_treinamento)\n",
        "X_census_testes_pca = pca.transform(X_census_teste)"
      ]
    },
    {
      "cell_type": "code",
      "execution_count": null,
      "metadata": {
        "id": "5Ouz2wdFYkJh"
      },
      "outputs": [],
      "source": [
        "X_census_treinamento_pca.shape, X_census_testes_pca.shape"
      ]
    },
    {
      "cell_type": "code",
      "execution_count": null,
      "metadata": {
        "id": "i06cyMBkYubR"
      },
      "outputs": [],
      "source": [
        "X_census_treinamento"
      ]
    },
    {
      "cell_type": "code",
      "execution_count": null,
      "metadata": {
        "id": "hdBAi-piY28x"
      },
      "outputs": [],
      "source": [
        "pca.explained_variance_ratio_"
      ]
    },
    {
      "cell_type": "code",
      "execution_count": null,
      "metadata": {
        "id": "lBxPFP0VZR1I"
      },
      "outputs": [],
      "source": [
        "pca.explained_variance_ratio_.sum()"
      ]
    },
    {
      "cell_type": "code",
      "execution_count": null,
      "metadata": {
        "id": "D9wUd_b9aBmY"
      },
      "outputs": [],
      "source": [
        "from sklearn.ensemble import RandomForestClassifier"
      ]
    },
    {
      "cell_type": "code",
      "execution_count": null,
      "metadata": {
        "id": "icbXkzMbaNu0"
      },
      "outputs": [],
      "source": [
        "random_forest_census_pca = RandomForestClassifier(n_estimators=40, random_state=0, criterion = 'entropy')\n",
        "random_forest_census_pca.fit(X_census_treinamento_pca, y_census_treinamento)"
      ]
    },
    {
      "cell_type": "code",
      "execution_count": null,
      "metadata": {
        "id": "B4b0SxRvacc1"
      },
      "outputs": [],
      "source": [
        "previsoes = random_forest_census_pca.predict(X_census_testes_pca)\n",
        "previsoes"
      ]
    },
    {
      "cell_type": "code",
      "execution_count": null,
      "metadata": {
        "id": "L8TTOcS0ai60"
      },
      "outputs": [],
      "source": [
        "y_census_teste"
      ]
    },
    {
      "cell_type": "code",
      "execution_count": null,
      "metadata": {
        "id": "p585sPd2aoXI"
      },
      "outputs": [],
      "source": [
        "from sklearn.metrics import accuracy_score\n",
        "accuracy_score(y_census_teste, previsoes)"
      ]
    },
    {
      "cell_type": "markdown",
      "metadata": {
        "id": "2UhdSgBmUtJ6"
      },
      "source": [
        "## Kernel PCA"
      ]
    },
    {
      "cell_type": "code",
      "execution_count": null,
      "metadata": {
        "id": "z4ATtNXscFq2"
      },
      "outputs": [],
      "source": [
        "from sklearn.decomposition import KernelPCA"
      ]
    },
    {
      "cell_type": "code",
      "execution_count": null,
      "metadata": {
        "id": "8kB6ZCIvcNb1"
      },
      "outputs": [],
      "source": [
        "kpca = KernelPCA(n_components=8, kernel='rbf')\n",
        "X_census_treinamento_kpca = kpca.fit_transform(X_census_treinamento)\n",
        "X_census_teste_kpca = kpca.transform(X_census_teste)"
      ]
    },
    {
      "cell_type": "code",
      "execution_count": null,
      "metadata": {
        "id": "tswhvRYtdMvr"
      },
      "outputs": [],
      "source": [
        "X_census_treinamento_kpca.shape, X_census_teste_kpca.shape"
      ]
    },
    {
      "cell_type": "code",
      "execution_count": null,
      "metadata": {
        "id": "age1iPvsdZg-"
      },
      "outputs": [],
      "source": [
        "X_census_treinamento_kpca"
      ]
    },
    {
      "cell_type": "code",
      "execution_count": null,
      "metadata": {
        "id": "zVvpcAI1dh07"
      },
      "outputs": [],
      "source": [
        "from sklearn.ensemble import RandomForestClassifier\n",
        "random_forest_census_kpca = RandomForestClassifier(n_estimators = 40, criterion = 'entropy', random_state = 0)\n",
        "random_forest_census_kpca.fit(X_census_treinamento_kpca, y_census_treinamento)"
      ]
    },
    {
      "cell_type": "code",
      "execution_count": null,
      "metadata": {
        "id": "urFlIGbZdy8T"
      },
      "outputs": [],
      "source": [
        "previsoes = random_forest_census_kpca.predict(X_census_teste_kpca)\n",
        "previsoes"
      ]
    },
    {
      "cell_type": "code",
      "execution_count": null,
      "metadata": {
        "id": "vbez-J1hd5jX"
      },
      "outputs": [],
      "source": [
        "y_census_teste"
      ]
    },
    {
      "cell_type": "code",
      "execution_count": null,
      "metadata": {
        "id": "3zGsGiqPd96e"
      },
      "outputs": [],
      "source": [
        "from sklearn.metrics import accuracy_score\n",
        "accuracy_score(y_census_teste, previsoes)"
      ]
    },
    {
      "cell_type": "markdown",
      "metadata": {
        "id": "EGBZZwK2UyK7"
      },
      "source": [
        "## LDA (Linear discriminant analysis)"
      ]
    },
    {
      "cell_type": "code",
      "execution_count": null,
      "metadata": {
        "id": "3RRYZemLenmT"
      },
      "outputs": [],
      "source": [
        "from sklearn.discriminant_analysis import LinearDiscriminantAnalysis\n",
        "lda = LinearDiscriminantAnalysis(n_components = 8)"
      ]
    },
    {
      "cell_type": "code",
      "execution_count": null,
      "metadata": {
        "id": "onA-GJZafCLU"
      },
      "outputs": [],
      "source": [
        "X_census_treinamento_lda = lda.fit_transform(X_census_treinamento, y_census_treinamento)\n",
        "X_census_teste_lda = lda.transform(X_census_teste)"
      ]
    },
    {
      "cell_type": "code",
      "execution_count": null,
      "metadata": {
        "id": "FtE9VvATgUp0"
      },
      "outputs": [],
      "source": [
        "X_census_treinamento_lda.shape, X_census_teste_lda.shape"
      ]
    },
    {
      "cell_type": "code",
      "execution_count": null,
      "metadata": {
        "id": "897lMASDgg5B"
      },
      "outputs": [],
      "source": [
        "X_census_treinamento_lda"
      ]
    },
    {
      "cell_type": "code",
      "execution_count": null,
      "metadata": {
        "id": "0PZNwpOMgnKF"
      },
      "outputs": [],
      "source": [
        "from sklearn.ensemble import RandomForestClassifier\n",
        "random_forest_census_lda = RandomForestClassifier(n_estimators = 40, criterion = 'entropy', random_state = 0)\n",
        "random_forest_census_lda.fit(X_census_treinamento_lda, y_census_treinamento)"
      ]
    },
    {
      "cell_type": "code",
      "execution_count": null,
      "metadata": {
        "id": "j5OlqOPQgtEY"
      },
      "outputs": [],
      "source": [
        "previsoes = random_forest_census_lda.predict(X_census_teste_lda)\n",
        "previsoes"
      ]
    },
    {
      "cell_type": "code",
      "execution_count": null,
      "metadata": {
        "id": "hdgWZxZrgvfj"
      },
      "outputs": [],
      "source": [
        "y_census_teste"
      ]
    },
    {
      "cell_type": "code",
      "execution_count": null,
      "metadata": {
        "id": "cVo2uNwpg4BY"
      },
      "outputs": [],
      "source": [
        "from sklearn.metrics import accuracy_score\n",
        "accuracy_score(y_census_teste, previsoes)"
      ]
    },
    {
      "cell_type": "markdown",
      "metadata": {
        "id": "lAN9s6MVGCcV"
      },
      "source": [
        "# Detecção de outliers"
      ]
    },
    {
      "cell_type": "markdown",
      "metadata": {
        "id": "N7LsjcpzGFpq"
      },
      "source": [
        "## Boxplot"
      ]
    },
    {
      "cell_type": "code",
      "execution_count": null,
      "metadata": {
        "id": "q574sF9YHwqz"
      },
      "outputs": [],
      "source": [
        "base_credit = pd.read_csv('credit_data.csv')\n",
        "base_credit"
      ]
    },
    {
      "cell_type": "code",
      "execution_count": null,
      "metadata": {
        "id": "qkOWG78PH9R8"
      },
      "outputs": [],
      "source": [
        "base_credit.isnull().sum()"
      ]
    },
    {
      "cell_type": "code",
      "execution_count": null,
      "metadata": {
        "id": "24w7M5eFIERf"
      },
      "outputs": [],
      "source": [
        "base_credit.dropna(inplace=True)"
      ]
    },
    {
      "cell_type": "code",
      "execution_count": null,
      "metadata": {
        "id": "_3_ehJfTILFq"
      },
      "outputs": [],
      "source": [
        "base_credit.isnull().sum()"
      ]
    },
    {
      "cell_type": "code",
      "execution_count": null,
      "metadata": {
        "id": "ZApwZVBDIqlk"
      },
      "outputs": [],
      "source": [
        "1997 / 2"
      ]
    },
    {
      "cell_type": "code",
      "execution_count": null,
      "metadata": {
        "id": "0X5P08jPIOom"
      },
      "outputs": [],
      "source": [
        "# Outliers idade\n",
        "grafico = px.box(base_credit, y = 'age')\n",
        "grafico.show()"
      ]
    },
    {
      "cell_type": "code",
      "execution_count": null,
      "metadata": {
        "id": "5fajWlCZJGaI"
      },
      "outputs": [],
      "source": [
        "outliers_age = base_credit[base_credit['age'] < 0]\n",
        "outliers_age"
      ]
    },
    {
      "cell_type": "code",
      "execution_count": null,
      "metadata": {
        "id": "tsyikChNJcFr"
      },
      "outputs": [],
      "source": [
        "# Outliers loan\n",
        "grafico = px.box(base_credit, y='loan')\n",
        "grafico.show()"
      ]
    },
    {
      "cell_type": "code",
      "execution_count": null,
      "metadata": {
        "id": "H_TPDmRXJ2C-"
      },
      "outputs": [],
      "source": [
        "outliers_loan = base_credit[base_credit['loan'] > 13300]\n",
        "outliers_loan"
      ]
    },
    {
      "cell_type": "markdown",
      "metadata": {
        "id": "PM7UI73tGHjP"
      },
      "source": [
        "## Gráfico de dispersão"
      ]
    },
    {
      "cell_type": "code",
      "execution_count": null,
      "metadata": {
        "id": "qtPN5XrYKkvo"
      },
      "outputs": [],
      "source": [
        "# Income x age\n",
        "grafico = px.scatter(x = base_credit['income'], y = base_credit['age'])\n",
        "grafico.show()"
      ]
    },
    {
      "cell_type": "code",
      "execution_count": null,
      "metadata": {
        "id": "u9JyT3mbLCcw"
      },
      "outputs": [],
      "source": [
        "# Income x loan\n",
        "grafico = px.scatter(x = base_credit['income'], y = base_credit['loan'])\n",
        "grafico.show()"
      ]
    },
    {
      "cell_type": "code",
      "execution_count": null,
      "metadata": {
        "id": "cDkWWfJJLXjo"
      },
      "outputs": [],
      "source": [
        "# Age x loan\n",
        "grafico = px.scatter(x = base_credit['age'], y = base_credit['loan'])\n",
        "grafico.show()"
      ]
    },
    {
      "cell_type": "code",
      "execution_count": null,
      "metadata": {
        "id": "4UjrdFLQLgNO"
      },
      "outputs": [],
      "source": [
        "base_census = pd.read_csv('census.csv')\n",
        "base_census"
      ]
    },
    {
      "cell_type": "code",
      "execution_count": null,
      "metadata": {
        "id": "hJ-giwr5LyB7"
      },
      "outputs": [],
      "source": [
        "# Age x final weight\n",
        "grafico = px.scatter(x = base_census['age'], y = base_census['final-weight'])\n",
        "grafico.show()"
      ]
    },
    {
      "cell_type": "markdown",
      "metadata": {
        "id": "wsy_nrrGGKu9"
      },
      "source": [
        "## Biblioteca PyOD\n",
        "\n",
        "- Documentação: https://pyod.readthedocs.io/en/latest/#"
      ]
    },
    {
      "cell_type": "code",
      "execution_count": null,
      "metadata": {
        "id": "o2lZY_j4N56a"
      },
      "outputs": [],
      "source": [
        "!pip install pyod"
      ]
    },
    {
      "cell_type": "code",
      "execution_count": null,
      "metadata": {
        "id": "Yoqk1mtYN_bL"
      },
      "outputs": [],
      "source": [
        "from pyod.models.knn import KNN"
      ]
    },
    {
      "cell_type": "code",
      "execution_count": null,
      "metadata": {
        "id": "rjOmqIMqOITF"
      },
      "outputs": [],
      "source": [
        "base_credit.head(1)"
      ]
    },
    {
      "cell_type": "code",
      "execution_count": null,
      "metadata": {
        "id": "6l8BfXocON9m"
      },
      "outputs": [],
      "source": [
        "detector = KNN()\n",
        "detector.fit(base_credit.iloc[:,1:4])"
      ]
    },
    {
      "cell_type": "code",
      "execution_count": null,
      "metadata": {
        "id": "iy3XL367Osfg"
      },
      "outputs": [],
      "source": [
        "previsoes = detector.labels_\n",
        "previsoes"
      ]
    },
    {
      "cell_type": "code",
      "execution_count": null,
      "metadata": {
        "id": "bMjlDCGJO26w"
      },
      "outputs": [],
      "source": [
        "np.unique(previsoes, return_counts=True)"
      ]
    },
    {
      "cell_type": "code",
      "execution_count": null,
      "metadata": {
        "id": "H1Pj8enEPDr-"
      },
      "outputs": [],
      "source": [
        "confianca_previsoes = detector.decision_scores_\n",
        "confianca_previsoes"
      ]
    },
    {
      "cell_type": "code",
      "execution_count": null,
      "metadata": {
        "id": "T0XnT_AuPUAT"
      },
      "outputs": [],
      "source": [
        "outliers = []\n",
        "for i in range(len(previsoes)):\n",
        "  #print(i)\n",
        "  if previsoes[i] == 1:\n",
        "    outliers.append(i)"
      ]
    },
    {
      "cell_type": "code",
      "execution_count": null,
      "metadata": {
        "id": "kWpwp2GiPqSr"
      },
      "outputs": [],
      "source": [
        "print(outliers)"
      ]
    },
    {
      "cell_type": "code",
      "execution_count": null,
      "metadata": {
        "id": "Ex9RW1LsPvEg"
      },
      "outputs": [],
      "source": [
        "lista_outliers = base_credit.iloc[outliers,:]\n",
        "lista_outliers"
      ]
    }
  ],
  "metadata": {
    "colab": {
      "collapsed_sections": [
        "JpDM1Er1obkO",
        "cOSLRdDEsWFx",
        "S_jbxLwqu4fQ",
        "g-23aN-nkDQ7",
        "zr9S1fZXRQhg",
        "2GpcvTQauTVx",
        "QGapZ37jkPAn",
        "K2K3Wu8Q4e0E",
        "mHg2BXJR4hpi",
        "bdNbsNLFkWop",
        "q_KOjDv47-IV",
        "zAecbXOi8AzA",
        "Oi9qbert8aMv",
        "L0FGtQLrnN-0",
        "lmXN77tcnP2v",
        "lnC-s4bLnRmt",
        "PfnUWv8SU7ST",
        "TOCiDpHFU90w",
        "ZO-c0InojFK5",
        "0bLyVMFrjGzm",
        "SN9q4qQiDIsi",
        "0v5iHxzcNPNK",
        "e6tDYDLUNUWH"
      ],
      "provenance": []
    },
    "kernelspec": {
      "display_name": "Python 3",
      "name": "python3"
    },
    "language_info": {
      "name": "python"
    }
  },
  "nbformat": 4,
  "nbformat_minor": 0
}