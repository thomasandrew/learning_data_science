{
  "nbformat": 4,
  "nbformat_minor": 0,
  "metadata": {
    "colab": {
      "provenance": []
    },
    "kernelspec": {
      "name": "python3",
      "display_name": "Python 3"
    },
    "language_info": {
      "name": "python"
    }
  },
  "cells": [
    {
      "cell_type": "code",
      "execution_count": null,
      "metadata": {
        "id": "Qus1wgiYlSKj"
      },
      "outputs": [],
      "source": [
        "import numpy as np"
      ]
    },
    {
      "cell_type": "markdown",
      "source": [
        "#1. Create:"
      ],
      "metadata": {
        "id": "8RNjbF_glWOY"
      }
    },
    {
      "cell_type": "code",
      "source": [
        "data = np.random.rand(2,3,4) # Create an array with random numbers\n",
        "zeros = np.zeros((2,2,2)) # Create an array only with zero values\n",
        "full = np.full((2,2,2), 7) # Create an array only with numbers that we can choose\n",
        "ones = np.ones((2,2,2)) # Create an array only with one values"
      ],
      "metadata": {
        "id": "ckm3DTlglT4C"
      },
      "execution_count": null,
      "outputs": []
    },
    {
      "cell_type": "code",
      "source": [
        "data"
      ],
      "metadata": {
        "colab": {
          "base_uri": "https://localhost:8080/"
        },
        "id": "uIc16LC4lVv4",
        "outputId": "e2f29938-e45c-46b1-d764-7100c02cf901"
      },
      "execution_count": null,
      "outputs": [
        {
          "output_type": "execute_result",
          "data": {
            "text/plain": [
              "array([[[0.68806807, 0.60297696, 0.41925235, 0.25002332],\n",
              "        [0.15814926, 0.64909329, 0.43201163, 0.4617894 ],\n",
              "        [0.83245378, 0.4056968 , 0.77881527, 0.68393391]],\n",
              "\n",
              "       [[0.47559482, 0.55778569, 0.75724184, 0.41796304],\n",
              "        [0.90163361, 0.33949593, 0.9273789 , 0.92303246],\n",
              "        [0.66549549, 0.64566282, 0.40880388, 0.97176897]]])"
            ]
          },
          "metadata": {},
          "execution_count": 3
        }
      ]
    },
    {
      "cell_type": "code",
      "source": [
        "zeros"
      ],
      "metadata": {
        "colab": {
          "base_uri": "https://localhost:8080/"
        },
        "id": "6mPGQzP_lbde",
        "outputId": "09b2ba34-3e53-4b69-e95f-acd2360730f6"
      },
      "execution_count": null,
      "outputs": [
        {
          "output_type": "execute_result",
          "data": {
            "text/plain": [
              "array([[[0., 0.],\n",
              "        [0., 0.]],\n",
              "\n",
              "       [[0., 0.],\n",
              "        [0., 0.]]])"
            ]
          },
          "metadata": {},
          "execution_count": 4
        }
      ]
    },
    {
      "cell_type": "code",
      "source": [
        "full"
      ],
      "metadata": {
        "colab": {
          "base_uri": "https://localhost:8080/"
        },
        "id": "yx7bhkB-ldIT",
        "outputId": "fac54c02-fb32-480a-8d31-534e0dc4db96"
      },
      "execution_count": null,
      "outputs": [
        {
          "output_type": "execute_result",
          "data": {
            "text/plain": [
              "array([[[7, 7],\n",
              "        [7, 7]],\n",
              "\n",
              "       [[7, 7],\n",
              "        [7, 7]]])"
            ]
          },
          "metadata": {},
          "execution_count": 5
        }
      ]
    },
    {
      "cell_type": "code",
      "source": [
        "ones"
      ],
      "metadata": {
        "colab": {
          "base_uri": "https://localhost:8080/"
        },
        "id": "6feoVHCfler1",
        "outputId": "b96c1dcd-d37a-4dc7-c274-46a834d1570c"
      },
      "execution_count": null,
      "outputs": [
        {
          "output_type": "execute_result",
          "data": {
            "text/plain": [
              "array([[[1., 1.],\n",
              "        [1., 1.]],\n",
              "\n",
              "       [[1., 1.],\n",
              "        [1., 1.]]])"
            ]
          },
          "metadata": {},
          "execution_count": 6
        }
      ]
    },
    {
      "cell_type": "code",
      "source": [
        "arr = np.array([[1,2,3,4], [1,2,3,4]])\n",
        "arr"
      ],
      "metadata": {
        "colab": {
          "base_uri": "https://localhost:8080/"
        },
        "id": "JaVrWdXwlgVZ",
        "outputId": "50ebcfa1-6be3-4fe0-815b-d13ff98c06d2"
      },
      "execution_count": null,
      "outputs": [
        {
          "output_type": "execute_result",
          "data": {
            "text/plain": [
              "array([[1, 2, 3, 4],\n",
              "       [1, 2, 3, 4]])"
            ]
          },
          "metadata": {},
          "execution_count": 7
        }
      ]
    },
    {
      "cell_type": "code",
      "source": [
        "type(arr)"
      ],
      "metadata": {
        "colab": {
          "base_uri": "https://localhost:8080/"
        },
        "id": "PdZSarWxliSp",
        "outputId": "48736ba0-bed1-4dba-9ab5-8eec043a0348"
      },
      "execution_count": null,
      "outputs": [
        {
          "output_type": "execute_result",
          "data": {
            "text/plain": [
              "numpy.ndarray"
            ]
          },
          "metadata": {},
          "execution_count": 8
        }
      ]
    },
    {
      "cell_type": "markdown",
      "source": [
        "#2. Read:"
      ],
      "metadata": {
        "id": "H-v8bnZ3lmJX"
      }
    },
    {
      "cell_type": "code",
      "source": [
        "# Attributes\n",
        "shape = data.shape\n",
        "size = data.size\n",
        "types = data.dtype"
      ],
      "metadata": {
        "id": "hs-wuWIflkXL"
      },
      "execution_count": null,
      "outputs": []
    },
    {
      "cell_type": "code",
      "source": [
        "shape"
      ],
      "metadata": {
        "colab": {
          "base_uri": "https://localhost:8080/"
        },
        "id": "q3iGz4dSlo1t",
        "outputId": "091483e2-a550-4319-a94d-68b594a54889"
      },
      "execution_count": null,
      "outputs": [
        {
          "output_type": "execute_result",
          "data": {
            "text/plain": [
              "(2, 3, 4)"
            ]
          },
          "metadata": {},
          "execution_count": 10
        }
      ]
    },
    {
      "cell_type": "code",
      "source": [
        "size"
      ],
      "metadata": {
        "colab": {
          "base_uri": "https://localhost:8080/"
        },
        "id": "DHRZncEzlqC2",
        "outputId": "7bf4607f-5ea3-413d-b23c-3c783f05a735"
      },
      "execution_count": null,
      "outputs": [
        {
          "output_type": "execute_result",
          "data": {
            "text/plain": [
              "24"
            ]
          },
          "metadata": {},
          "execution_count": 11
        }
      ]
    },
    {
      "cell_type": "code",
      "source": [
        "types"
      ],
      "metadata": {
        "colab": {
          "base_uri": "https://localhost:8080/"
        },
        "id": "ApoHPNCGlrnX",
        "outputId": "d4d5bc4d-4881-4986-d89f-eff78da74df0"
      },
      "execution_count": null,
      "outputs": [
        {
          "output_type": "execute_result",
          "data": {
            "text/plain": [
              "dtype('float64')"
            ]
          },
          "metadata": {},
          "execution_count": 12
        }
      ]
    },
    {
      "cell_type": "code",
      "source": [
        "# Slicing\n",
        "arr = data[0] # Show the first array\n",
        "#slicer = data[0:2] # Slice the array a little bit\n",
        "slicer = data[0][0:2] # Slice the array to show just only the first array\n",
        "reverse = data[-1] # Show only the last array\n",
        "singleval = data[0][0][0] # Showing a single array value"
      ],
      "metadata": {
        "id": "tJHPQlVbltFg"
      },
      "execution_count": null,
      "outputs": []
    },
    {
      "cell_type": "code",
      "source": [
        "arr"
      ],
      "metadata": {
        "colab": {
          "base_uri": "https://localhost:8080/"
        },
        "id": "-ICkmhfOlukS",
        "outputId": "7ac8990a-5587-4f32-b164-0822c66801cc"
      },
      "execution_count": null,
      "outputs": [
        {
          "output_type": "execute_result",
          "data": {
            "text/plain": [
              "array([[0.68806807, 0.60297696, 0.41925235, 0.25002332],\n",
              "       [0.15814926, 0.64909329, 0.43201163, 0.4617894 ],\n",
              "       [0.83245378, 0.4056968 , 0.77881527, 0.68393391]])"
            ]
          },
          "metadata": {},
          "execution_count": 14
        }
      ]
    },
    {
      "cell_type": "code",
      "source": [
        "slicer"
      ],
      "metadata": {
        "colab": {
          "base_uri": "https://localhost:8080/"
        },
        "id": "_4paYce_lwm9",
        "outputId": "8b13b90c-c753-4b25-b383-6ae840cc3cc4"
      },
      "execution_count": null,
      "outputs": [
        {
          "output_type": "execute_result",
          "data": {
            "text/plain": [
              "array([[0.68806807, 0.60297696, 0.41925235, 0.25002332],\n",
              "       [0.15814926, 0.64909329, 0.43201163, 0.4617894 ]])"
            ]
          },
          "metadata": {},
          "execution_count": 15
        }
      ]
    },
    {
      "cell_type": "code",
      "source": [
        "reverse"
      ],
      "metadata": {
        "colab": {
          "base_uri": "https://localhost:8080/"
        },
        "id": "vzyHZWbglxzp",
        "outputId": "daabbbe8-55b4-407c-b5f7-28581ede4552"
      },
      "execution_count": null,
      "outputs": [
        {
          "output_type": "execute_result",
          "data": {
            "text/plain": [
              "array([[0.47559482, 0.55778569, 0.75724184, 0.41796304],\n",
              "       [0.90163361, 0.33949593, 0.9273789 , 0.92303246],\n",
              "       [0.66549549, 0.64566282, 0.40880388, 0.97176897]])"
            ]
          },
          "metadata": {},
          "execution_count": 16
        }
      ]
    },
    {
      "cell_type": "code",
      "source": [
        "singleval"
      ],
      "metadata": {
        "colab": {
          "base_uri": "https://localhost:8080/"
        },
        "id": "m6aSJPLYlzPa",
        "outputId": "e4ff8cdb-aa24-422a-9e0b-8908c7d0693d"
      },
      "execution_count": null,
      "outputs": [
        {
          "output_type": "execute_result",
          "data": {
            "text/plain": [
              "0.6880680672912438"
            ]
          },
          "metadata": {},
          "execution_count": 17
        }
      ]
    },
    {
      "cell_type": "markdown",
      "source": [
        "#3. Update:"
      ],
      "metadata": {
        "id": "EiJSC7Itl214"
      }
    },
    {
      "cell_type": "code",
      "source": [
        "list1 = np.random.rand(10)\n",
        "list2 = np.random.rand(10)"
      ],
      "metadata": {
        "id": "cbT45ofll0ap"
      },
      "execution_count": null,
      "outputs": []
    },
    {
      "cell_type": "code",
      "source": [
        "list1"
      ],
      "metadata": {
        "colab": {
          "base_uri": "https://localhost:8080/"
        },
        "id": "tRZ2SXazl5pH",
        "outputId": "cbb9f420-bd97-497a-cadc-61d952e0902f"
      },
      "execution_count": null,
      "outputs": [
        {
          "output_type": "execute_result",
          "data": {
            "text/plain": [
              "array([0.72035806, 0.14503088, 0.13960705, 0.96589686, 0.16909952,\n",
              "       0.61517378, 0.95092311, 0.88338819, 0.79627936, 0.57978678])"
            ]
          },
          "metadata": {},
          "execution_count": 19
        }
      ]
    },
    {
      "cell_type": "code",
      "source": [
        "list2"
      ],
      "metadata": {
        "colab": {
          "base_uri": "https://localhost:8080/"
        },
        "id": "H5RRq0Zgl7Ei",
        "outputId": "b0307ff0-4d9a-4f80-d4b4-7c1db24ee8e2"
      },
      "execution_count": null,
      "outputs": [
        {
          "output_type": "execute_result",
          "data": {
            "text/plain": [
              "array([0.1391733 , 0.41551266, 0.91456231, 0.96815191, 0.34925028,\n",
              "       0.7366808 , 0.30902384, 0.01996675, 0.62124302, 0.7681046 ])"
            ]
          },
          "metadata": {},
          "execution_count": 20
        }
      ]
    },
    {
      "cell_type": "code",
      "source": [
        "# Basic Math\n",
        "\n",
        "add = np.add(list1, list2)\n",
        "sub = np.subtract(list1, list2)\n",
        "div = np.divide(list1, list2)\n",
        "mult = np.multiply(list1, list2)\n",
        "dot = np.dot(list1, list2) # Multiply everything all together"
      ],
      "metadata": {
        "id": "Yv1K7gnrl8mz"
      },
      "execution_count": null,
      "outputs": []
    },
    {
      "cell_type": "code",
      "source": [
        "add"
      ],
      "metadata": {
        "colab": {
          "base_uri": "https://localhost:8080/"
        },
        "id": "sPKVffFxl96K",
        "outputId": "36fc923b-0819-4101-9f73-9537846bc50a"
      },
      "execution_count": null,
      "outputs": [
        {
          "output_type": "execute_result",
          "data": {
            "text/plain": [
              "array([0.85953136, 0.56054355, 1.05416936, 1.93404877, 0.5183498 ,\n",
              "       1.35185458, 1.25994695, 0.90335494, 1.41752238, 1.34789138])"
            ]
          },
          "metadata": {},
          "execution_count": 22
        }
      ]
    },
    {
      "cell_type": "code",
      "source": [
        "sub"
      ],
      "metadata": {
        "colab": {
          "base_uri": "https://localhost:8080/"
        },
        "id": "15psJDStl_YV",
        "outputId": "d500a34a-8138-4ec6-86d9-41952eb7de37"
      },
      "execution_count": null,
      "outputs": [
        {
          "output_type": "execute_result",
          "data": {
            "text/plain": [
              "array([ 0.58118476, -0.27048178, -0.77495526, -0.00225504, -0.18015076,\n",
              "       -0.12150702,  0.64189927,  0.86342145,  0.17503634, -0.18831781])"
            ]
          },
          "metadata": {},
          "execution_count": 23
        }
      ]
    },
    {
      "cell_type": "code",
      "source": [
        "div"
      ],
      "metadata": {
        "colab": {
          "base_uri": "https://localhost:8080/"
        },
        "id": "j68NeA63mA12",
        "outputId": "136ba013-0e0d-4a18-f90b-7c9351622d90"
      },
      "execution_count": null,
      "outputs": [
        {
          "output_type": "execute_result",
          "data": {
            "text/plain": [
              "array([ 5.17597891,  0.34904083,  0.15264903,  0.99767077,  0.48417863,\n",
              "        0.83506151,  3.07718366, 44.24297431,  1.28175179,  0.7548279 ])"
            ]
          },
          "metadata": {},
          "execution_count": 24
        }
      ]
    },
    {
      "cell_type": "code",
      "source": [
        "mult"
      ],
      "metadata": {
        "colab": {
          "base_uri": "https://localhost:8080/"
        },
        "id": "AkPzPAkSmCC3",
        "outputId": "fca2c8ce-94d7-405c-cec7-9d6ba2d57ca7"
      },
      "execution_count": null,
      "outputs": [
        {
          "output_type": "execute_result",
          "data": {
            "text/plain": [
              "array([0.10025461, 0.06026217, 0.12767935, 0.93513489, 0.05905805,\n",
              "       0.45318671, 0.29385791, 0.01763839, 0.49468299, 0.44533689])"
            ]
          },
          "metadata": {},
          "execution_count": 25
        }
      ]
    },
    {
      "cell_type": "code",
      "source": [
        "dot"
      ],
      "metadata": {
        "colab": {
          "base_uri": "https://localhost:8080/"
        },
        "id": "2dwgr3fCmDPO",
        "outputId": "52808ce4-2c0f-47c4-efcc-16f30f93c59d"
      },
      "execution_count": null,
      "outputs": [
        {
          "output_type": "execute_result",
          "data": {
            "text/plain": [
              "2.9870919596124925"
            ]
          },
          "metadata": {},
          "execution_count": 26
        }
      ]
    },
    {
      "cell_type": "code",
      "source": [
        "# Stat functions\n",
        "\n",
        "sqtr = np.sqrt(25)\n",
        "ab = np.abs(-2)\n",
        "power = np.power(2,7)\n",
        "log = np.log(25)\n",
        "exp = np.exp([2,3])\n",
        "mins = np.min(list1)\n",
        "maxs = np.max(list1)"
      ],
      "metadata": {
        "id": "itYXoOKcmEUn"
      },
      "execution_count": null,
      "outputs": []
    },
    {
      "cell_type": "code",
      "source": [
        "sqtr"
      ],
      "metadata": {
        "colab": {
          "base_uri": "https://localhost:8080/"
        },
        "id": "qPn0cJddmFgB",
        "outputId": "6984eba8-9961-449a-ea93-d730c096f241"
      },
      "execution_count": null,
      "outputs": [
        {
          "output_type": "execute_result",
          "data": {
            "text/plain": [
              "5.0"
            ]
          },
          "metadata": {},
          "execution_count": 28
        }
      ]
    },
    {
      "cell_type": "code",
      "source": [
        "ab"
      ],
      "metadata": {
        "colab": {
          "base_uri": "https://localhost:8080/"
        },
        "id": "c4vBLPW9mGvG",
        "outputId": "dcc0bd5a-cfa1-4f89-985e-9b9e63c5a0ef"
      },
      "execution_count": null,
      "outputs": [
        {
          "output_type": "execute_result",
          "data": {
            "text/plain": [
              "2"
            ]
          },
          "metadata": {},
          "execution_count": 29
        }
      ]
    },
    {
      "cell_type": "code",
      "source": [
        "power"
      ],
      "metadata": {
        "colab": {
          "base_uri": "https://localhost:8080/"
        },
        "id": "HC81VYG_mIO-",
        "outputId": "a96d249f-ab66-4aba-e3b1-c596a5110a12"
      },
      "execution_count": null,
      "outputs": [
        {
          "output_type": "execute_result",
          "data": {
            "text/plain": [
              "128"
            ]
          },
          "metadata": {},
          "execution_count": 30
        }
      ]
    },
    {
      "cell_type": "code",
      "source": [
        "log"
      ],
      "metadata": {
        "colab": {
          "base_uri": "https://localhost:8080/"
        },
        "id": "99LZ69vxmJP8",
        "outputId": "54077977-0cbf-4d2e-f8a8-ee2b60d57ee3"
      },
      "execution_count": null,
      "outputs": [
        {
          "output_type": "execute_result",
          "data": {
            "text/plain": [
              "3.2188758248682006"
            ]
          },
          "metadata": {},
          "execution_count": 31
        }
      ]
    },
    {
      "cell_type": "code",
      "source": [
        "exp"
      ],
      "metadata": {
        "colab": {
          "base_uri": "https://localhost:8080/"
        },
        "id": "ZYZ_hR1vmK0n",
        "outputId": "7176d2e6-e25a-4827-d08e-9b1cd3887429"
      },
      "execution_count": null,
      "outputs": [
        {
          "output_type": "execute_result",
          "data": {
            "text/plain": [
              "array([ 7.3890561 , 20.08553692])"
            ]
          },
          "metadata": {},
          "execution_count": 32
        }
      ]
    },
    {
      "cell_type": "code",
      "source": [
        "mins"
      ],
      "metadata": {
        "colab": {
          "base_uri": "https://localhost:8080/"
        },
        "id": "gkw0pa5nmL9C",
        "outputId": "fb413f91-bf6d-4b81-b767-22b8526bbcf0"
      },
      "execution_count": null,
      "outputs": [
        {
          "output_type": "execute_result",
          "data": {
            "text/plain": [
              "0.13960705324363198"
            ]
          },
          "metadata": {},
          "execution_count": 33
        }
      ]
    },
    {
      "cell_type": "code",
      "source": [
        "max"
      ],
      "metadata": {
        "colab": {
          "base_uri": "https://localhost:8080/"
        },
        "id": "dyIvUr5bmNH0",
        "outputId": "fd40fc80-2bd0-4661-e15f-f2e23da80507"
      },
      "execution_count": null,
      "outputs": [
        {
          "output_type": "execute_result",
          "data": {
            "text/plain": [
              "<function max>"
            ]
          },
          "metadata": {},
          "execution_count": 34
        }
      ]
    },
    {
      "cell_type": "code",
      "source": [
        "# Updating the value\n",
        "data[0][0][0] = 700\n",
        "data"
      ],
      "metadata": {
        "colab": {
          "base_uri": "https://localhost:8080/"
        },
        "id": "BY7wdx2cmPCb",
        "outputId": "ad8a2352-caef-48ac-8859-0384f89823e3"
      },
      "execution_count": null,
      "outputs": [
        {
          "output_type": "execute_result",
          "data": {
            "text/plain": [
              "array([[[7.00000000e+02, 6.02976960e-01, 4.19252353e-01, 2.50023315e-01],\n",
              "        [1.58149262e-01, 6.49093294e-01, 4.32011633e-01, 4.61789400e-01],\n",
              "        [8.32453776e-01, 4.05696805e-01, 7.78815267e-01, 6.83933905e-01]],\n",
              "\n",
              "       [[4.75594825e-01, 5.57785689e-01, 7.57241837e-01, 4.17963045e-01],\n",
              "        [9.01633609e-01, 3.39495931e-01, 9.27378900e-01, 9.23032460e-01],\n",
              "        [6.65495487e-01, 6.45662821e-01, 4.08803875e-01, 9.71768972e-01]]])"
            ]
          },
          "metadata": {},
          "execution_count": 35
        }
      ]
    },
    {
      "cell_type": "code",
      "source": [
        "data.sort()\n",
        "data"
      ],
      "metadata": {
        "colab": {
          "base_uri": "https://localhost:8080/"
        },
        "id": "psCLEVZOmRO-",
        "outputId": "d9ad656a-d431-4cd8-bbdd-3ad833405ed3"
      },
      "execution_count": null,
      "outputs": [
        {
          "output_type": "execute_result",
          "data": {
            "text/plain": [
              "array([[[2.50023315e-01, 4.19252353e-01, 6.02976960e-01, 7.00000000e+02],\n",
              "        [1.58149262e-01, 4.32011633e-01, 4.61789400e-01, 6.49093294e-01],\n",
              "        [4.05696805e-01, 6.83933905e-01, 7.78815267e-01, 8.32453776e-01]],\n",
              "\n",
              "       [[4.17963045e-01, 4.75594825e-01, 5.57785689e-01, 7.57241837e-01],\n",
              "        [3.39495931e-01, 9.01633609e-01, 9.23032460e-01, 9.27378900e-01],\n",
              "        [4.08803875e-01, 6.45662821e-01, 6.65495487e-01, 9.71768972e-01]]])"
            ]
          },
          "metadata": {},
          "execution_count": 36
        }
      ]
    },
    {
      "cell_type": "code",
      "source": [
        "# Reshape the array\n",
        "data = data.reshape((2,2,-1)) # -1 means that we don't care what the last value is going to be\n",
        "data.shape"
      ],
      "metadata": {
        "colab": {
          "base_uri": "https://localhost:8080/"
        },
        "id": "wU2uVxZlmShu",
        "outputId": "c4e10909-0e7f-44b4-f9ea-1d613ee129bc"
      },
      "execution_count": null,
      "outputs": [
        {
          "output_type": "execute_result",
          "data": {
            "text/plain": [
              "(2, 2, 6)"
            ]
          },
          "metadata": {},
          "execution_count": 37
        }
      ]
    },
    {
      "cell_type": "code",
      "source": [
        "zeroes = np.zeros((8))\n",
        "print(zeroes)\n",
        "zeroes = np.append(zeroes, [3, 4]) # Append will insert the value in the end of the array\n",
        "print(zeroes)"
      ],
      "metadata": {
        "colab": {
          "base_uri": "https://localhost:8080/"
        },
        "id": "7Szfs1vSmT22",
        "outputId": "b4e8e1f1-a33c-4321-fd57-0e30f70f32ab"
      },
      "execution_count": null,
      "outputs": [
        {
          "output_type": "stream",
          "name": "stdout",
          "text": [
            "[0. 0. 0. 0. 0. 0. 0. 0.]\n",
            "[0. 0. 0. 0. 0. 0. 0. 0. 3. 4.]\n"
          ]
        }
      ]
    },
    {
      "cell_type": "code",
      "source": [
        "zeroes = np.insert(zeroes, 2, 1) # Insert the value where we want it to be\n",
        "print(zeroes)"
      ],
      "metadata": {
        "colab": {
          "base_uri": "https://localhost:8080/"
        },
        "id": "858oZYKbmU_H",
        "outputId": "54fb6bbe-df87-4892-e8fb-878b33bf3875"
      },
      "execution_count": null,
      "outputs": [
        {
          "output_type": "stream",
          "name": "stdout",
          "text": [
            "[0. 0. 1. 0. 0. 0. 0. 0. 0. 3. 4.]\n"
          ]
        }
      ]
    },
    {
      "cell_type": "markdown",
      "source": [
        "#4. Delete"
      ],
      "metadata": {
        "id": "IVppnKnPmYeW"
      }
    },
    {
      "cell_type": "code",
      "source": [
        "data"
      ],
      "metadata": {
        "colab": {
          "base_uri": "https://localhost:8080/"
        },
        "id": "OOtBCnhZmWPd",
        "outputId": "0166d983-47de-43d8-8a43-654ed8f95b2a"
      },
      "execution_count": null,
      "outputs": [
        {
          "output_type": "execute_result",
          "data": {
            "text/plain": [
              "array([[[2.50023315e-01, 4.19252353e-01, 6.02976960e-01, 7.00000000e+02,\n",
              "         1.58149262e-01, 4.32011633e-01],\n",
              "        [4.61789400e-01, 6.49093294e-01, 4.05696805e-01, 6.83933905e-01,\n",
              "         7.78815267e-01, 8.32453776e-01]],\n",
              "\n",
              "       [[4.17963045e-01, 4.75594825e-01, 5.57785689e-01, 7.57241837e-01,\n",
              "         3.39495931e-01, 9.01633609e-01],\n",
              "        [9.23032460e-01, 9.27378900e-01, 4.08803875e-01, 6.45662821e-01,\n",
              "         6.65495487e-01, 9.71768972e-01]]])"
            ]
          },
          "metadata": {},
          "execution_count": 40
        }
      ]
    },
    {
      "cell_type": "code",
      "source": [
        "np.delete(data, 0, axis=1) # Delete a row o a column in the array."
      ],
      "metadata": {
        "colab": {
          "base_uri": "https://localhost:8080/"
        },
        "id": "ncsHjj4kmaP4",
        "outputId": "4f70a871-0b8e-4fcc-93dc-67c3e4185777"
      },
      "execution_count": null,
      "outputs": [
        {
          "output_type": "execute_result",
          "data": {
            "text/plain": [
              "array([[[0.4617894 , 0.64909329, 0.4056968 , 0.68393391, 0.77881527,\n",
              "         0.83245378]],\n",
              "\n",
              "       [[0.92303246, 0.9273789 , 0.40880388, 0.64566282, 0.66549549,\n",
              "         0.97176897]]])"
            ]
          },
          "metadata": {},
          "execution_count": 41
        }
      ]
    },
    {
      "cell_type": "code",
      "source": [
        "np.save(\"New array\", data) # Save the array"
      ],
      "metadata": {
        "id": "7s-epZw2mbdg"
      },
      "execution_count": null,
      "outputs": []
    },
    {
      "cell_type": "code",
      "source": [
        "test = np.load(\"New array.npy\") # Load the data"
      ],
      "metadata": {
        "id": "UkbGyct5mdIE"
      },
      "execution_count": null,
      "outputs": []
    },
    {
      "cell_type": "code",
      "source": [
        "test"
      ],
      "metadata": {
        "colab": {
          "base_uri": "https://localhost:8080/"
        },
        "id": "bvNd7MRdmeWD",
        "outputId": "b043105c-f0ba-4deb-e634-aa40c7bc15bc"
      },
      "execution_count": null,
      "outputs": [
        {
          "output_type": "execute_result",
          "data": {
            "text/plain": [
              "array([[[2.50023315e-01, 4.19252353e-01, 6.02976960e-01, 7.00000000e+02,\n",
              "         1.58149262e-01, 4.32011633e-01],\n",
              "        [4.61789400e-01, 6.49093294e-01, 4.05696805e-01, 6.83933905e-01,\n",
              "         7.78815267e-01, 8.32453776e-01]],\n",
              "\n",
              "       [[4.17963045e-01, 4.75594825e-01, 5.57785689e-01, 7.57241837e-01,\n",
              "         3.39495931e-01, 9.01633609e-01],\n",
              "        [9.23032460e-01, 9.27378900e-01, 4.08803875e-01, 6.45662821e-01,\n",
              "         6.65495487e-01, 9.71768972e-01]]])"
            ]
          },
          "metadata": {},
          "execution_count": 44
        }
      ]
    }
  ]
}